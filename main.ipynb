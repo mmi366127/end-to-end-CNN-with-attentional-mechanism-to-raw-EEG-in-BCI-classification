{
 "cells": [
  {
   "cell_type": "markdown",
   "metadata": {},
   "source": [
    "# Load dataset"
   ]
  },
  {
   "cell_type": "code",
   "execution_count": 1,
   "metadata": {},
   "outputs": [
    {
     "name": "stderr",
     "output_type": "stream",
     "text": [
      "Training Epoch 01/100: 100%|██████████| 36/36 [00:13<00:00,  2.68batch/s, accuracy=25, loss=0.0115]  \n"
     ]
    },
    {
     "name": "stdout",
     "output_type": "stream",
     "text": [
      "current loss: 0.005048740241262648, current accuracy: 0.2361111111111111\n"
     ]
    },
    {
     "name": "stderr",
     "output_type": "stream",
     "text": [
      "Training Epoch 02/100: 100%|██████████| 36/36 [00:05<00:00,  6.10batch/s, accuracy=28.1, loss=0.0108]\n"
     ]
    },
    {
     "name": "stdout",
     "output_type": "stream",
     "text": [
      "current loss: 0.004822484321064419, current accuracy: 0.2604166666666667\n"
     ]
    },
    {
     "name": "stderr",
     "output_type": "stream",
     "text": [
      "Training Epoch 03/100: 100%|██████████| 36/36 [00:05<00:00,  6.14batch/s, accuracy=23.4, loss=0.0109]\n"
     ]
    },
    {
     "name": "stdout",
     "output_type": "stream",
     "text": [
      "current loss: 0.004810354775852627, current accuracy: 0.2534722222222222\n"
     ]
    },
    {
     "name": "stderr",
     "output_type": "stream",
     "text": [
      "Training Epoch 04/100: 100%|██████████| 36/36 [00:05<00:00,  6.15batch/s, accuracy=22.7, loss=0.0109]\n"
     ]
    },
    {
     "name": "stdout",
     "output_type": "stream",
     "text": [
      "current loss: 0.004851582149664561, current accuracy: 0.22569444444444445\n"
     ]
    },
    {
     "name": "stderr",
     "output_type": "stream",
     "text": [
      "Training Epoch 05/100: 100%|██████████| 36/36 [00:05<00:00,  6.17batch/s, accuracy=31.2, loss=0.0108]\n"
     ]
    },
    {
     "name": "stdout",
     "output_type": "stream",
     "text": [
      "current loss: 0.004815084652768241, current accuracy: 0.2534722222222222\n"
     ]
    },
    {
     "name": "stderr",
     "output_type": "stream",
     "text": [
      "Training Epoch 06/100: 100%|██████████| 36/36 [00:05<00:00,  6.20batch/s, accuracy=28.9, loss=0.0108]\n"
     ]
    },
    {
     "name": "stdout",
     "output_type": "stream",
     "text": [
      "current loss: 0.004813262157970005, current accuracy: 0.2916666666666667\n"
     ]
    },
    {
     "name": "stderr",
     "output_type": "stream",
     "text": [
      "Training Epoch 07/100: 100%|██████████| 36/36 [00:05<00:00,  6.22batch/s, accuracy=25, loss=0.0108]  \n"
     ]
    },
    {
     "name": "stdout",
     "output_type": "stream",
     "text": [
      "current loss: 0.004813520858685176, current accuracy: 0.25\n"
     ]
    },
    {
     "name": "stderr",
     "output_type": "stream",
     "text": [
      "Training Epoch 08/100: 100%|██████████| 36/36 [00:05<00:00,  6.14batch/s, accuracy=25, loss=0.0108]  \n"
     ]
    },
    {
     "name": "stdout",
     "output_type": "stream",
     "text": [
      "current loss: 0.004813522928290897, current accuracy: 0.25\n"
     ]
    },
    {
     "name": "stderr",
     "output_type": "stream",
     "text": [
      "Training Epoch 09/100: 100%|██████████| 36/36 [00:05<00:00,  6.12batch/s, accuracy=25, loss=0.0108]  \n"
     ]
    },
    {
     "name": "stdout",
     "output_type": "stream",
     "text": [
      "current loss: 0.004813522514369752, current accuracy: 0.25\n"
     ]
    },
    {
     "name": "stderr",
     "output_type": "stream",
     "text": [
      "Training Epoch 10/100: 100%|██████████| 36/36 [00:05<00:00,  6.06batch/s, accuracy=25, loss=0.0108]  \n"
     ]
    },
    {
     "name": "stdout",
     "output_type": "stream",
     "text": [
      "current loss: 0.004813523342212041, current accuracy: 0.25\n"
     ]
    },
    {
     "name": "stderr",
     "output_type": "stream",
     "text": [
      "Training Epoch 11/100: 100%|██████████| 36/36 [00:05<00:00,  6.14batch/s, accuracy=25, loss=0.0108]  \n"
     ]
    },
    {
     "name": "stdout",
     "output_type": "stream",
     "text": [
      "current loss: 0.004813522100448608, current accuracy: 0.25\n"
     ]
    },
    {
     "name": "stderr",
     "output_type": "stream",
     "text": [
      "Training Epoch 12/100: 100%|██████████| 36/36 [00:06<00:00,  5.97batch/s, accuracy=25, loss=0.0108]  \n"
     ]
    },
    {
     "name": "stdout",
     "output_type": "stream",
     "text": [
      "current loss: 0.004813522514369752, current accuracy: 0.25\n"
     ]
    },
    {
     "name": "stderr",
     "output_type": "stream",
     "text": [
      "Training Epoch 13/100: 100%|██████████| 36/36 [00:05<00:00,  6.09batch/s, accuracy=25, loss=0.0108]  \n"
     ]
    },
    {
     "name": "stdout",
     "output_type": "stream",
     "text": [
      "current loss: 0.004813522100448608, current accuracy: 0.25\n"
     ]
    },
    {
     "name": "stderr",
     "output_type": "stream",
     "text": [
      "Training Epoch 14/100: 100%|██████████| 36/36 [00:05<00:00,  6.21batch/s, accuracy=25, loss=0.0108]  \n"
     ]
    },
    {
     "name": "stdout",
     "output_type": "stream",
     "text": [
      "current loss: 0.004813522100448608, current accuracy: 0.25\n"
     ]
    },
    {
     "name": "stderr",
     "output_type": "stream",
     "text": [
      "Training Epoch 15/100: 100%|██████████| 36/36 [00:05<00:00,  6.27batch/s, accuracy=25, loss=0.0108]  \n"
     ]
    },
    {
     "name": "stdout",
     "output_type": "stream",
     "text": [
      "current loss: 0.0048135216865274645, current accuracy: 0.25\n"
     ]
    },
    {
     "name": "stderr",
     "output_type": "stream",
     "text": [
      "Training Epoch 16/100: 100%|██████████| 36/36 [00:05<00:00,  6.22batch/s, accuracy=25, loss=0.0108]  \n"
     ]
    },
    {
     "name": "stdout",
     "output_type": "stream",
     "text": [
      "current loss: 0.004813522100448608, current accuracy: 0.25\n"
     ]
    },
    {
     "name": "stderr",
     "output_type": "stream",
     "text": [
      "Training Epoch 17/100: 100%|██████████| 36/36 [00:05<00:00,  6.12batch/s, accuracy=25, loss=0.0108]  \n"
     ]
    },
    {
     "name": "stdout",
     "output_type": "stream",
     "text": [
      "current loss: 0.0048135216865274645, current accuracy: 0.25\n"
     ]
    },
    {
     "name": "stderr",
     "output_type": "stream",
     "text": [
      "Training Epoch 18/100: 100%|██████████| 36/36 [00:05<00:00,  6.37batch/s, accuracy=25, loss=0.0108]  \n"
     ]
    },
    {
     "name": "stdout",
     "output_type": "stream",
     "text": [
      "current loss: 0.004813522514369752, current accuracy: 0.25\n"
     ]
    },
    {
     "name": "stderr",
     "output_type": "stream",
     "text": [
      "Training Epoch 19/100: 100%|██████████| 36/36 [00:05<00:00,  6.39batch/s, accuracy=25, loss=0.0108]  \n"
     ]
    },
    {
     "name": "stdout",
     "output_type": "stream",
     "text": [
      "current loss: 0.004813522928290897, current accuracy: 0.25\n"
     ]
    },
    {
     "name": "stderr",
     "output_type": "stream",
     "text": [
      "Training Epoch 20/100: 100%|██████████| 36/36 [00:05<00:00,  6.11batch/s, accuracy=25, loss=0.0108]  \n"
     ]
    },
    {
     "name": "stdout",
     "output_type": "stream",
     "text": [
      "current loss: 0.004813522100448608, current accuracy: 0.25\n"
     ]
    },
    {
     "name": "stderr",
     "output_type": "stream",
     "text": [
      "Training Epoch 21/100: 100%|██████████| 36/36 [00:05<00:00,  6.12batch/s, accuracy=25, loss=0.0108]  \n"
     ]
    },
    {
     "name": "stdout",
     "output_type": "stream",
     "text": [
      "current loss: 0.004813522928290897, current accuracy: 0.25\n"
     ]
    },
    {
     "name": "stderr",
     "output_type": "stream",
     "text": [
      "Training Epoch 22/100: 100%|██████████| 36/36 [00:05<00:00,  6.31batch/s, accuracy=25, loss=0.0108]  \n"
     ]
    },
    {
     "name": "stdout",
     "output_type": "stream",
     "text": [
      "current loss: 0.004813522514369752, current accuracy: 0.25\n"
     ]
    },
    {
     "name": "stderr",
     "output_type": "stream",
     "text": [
      "Training Epoch 23/100: 100%|██████████| 36/36 [00:05<00:00,  6.31batch/s, accuracy=25, loss=0.0108]  \n"
     ]
    },
    {
     "name": "stdout",
     "output_type": "stream",
     "text": [
      "current loss: 0.004813522100448608, current accuracy: 0.25\n"
     ]
    },
    {
     "name": "stderr",
     "output_type": "stream",
     "text": [
      "Training Epoch 24/100: 100%|██████████| 36/36 [00:05<00:00,  6.32batch/s, accuracy=25, loss=0.0108]  \n"
     ]
    },
    {
     "name": "stdout",
     "output_type": "stream",
     "text": [
      "current loss: 0.004813522100448608, current accuracy: 0.25\n"
     ]
    },
    {
     "name": "stderr",
     "output_type": "stream",
     "text": [
      "Training Epoch 25/100: 100%|██████████| 36/36 [00:05<00:00,  6.22batch/s, accuracy=25, loss=0.0108]  \n"
     ]
    },
    {
     "name": "stdout",
     "output_type": "stream",
     "text": [
      "current loss: 0.004813522100448608, current accuracy: 0.25\n"
     ]
    },
    {
     "name": "stderr",
     "output_type": "stream",
     "text": [
      "Training Epoch 26/100: 100%|██████████| 36/36 [00:05<00:00,  6.18batch/s, accuracy=25, loss=0.0108]  \n"
     ]
    },
    {
     "name": "stdout",
     "output_type": "stream",
     "text": [
      "current loss: 0.004813522100448608, current accuracy: 0.25\n"
     ]
    },
    {
     "name": "stderr",
     "output_type": "stream",
     "text": [
      "Training Epoch 27/100: 100%|██████████| 36/36 [00:05<00:00,  6.10batch/s, accuracy=25, loss=0.0108]  \n"
     ]
    },
    {
     "name": "stdout",
     "output_type": "stream",
     "text": [
      "current loss: 0.004813522514369752, current accuracy: 0.25\n"
     ]
    },
    {
     "name": "stderr",
     "output_type": "stream",
     "text": [
      "Training Epoch 28/100: 100%|██████████| 36/36 [00:05<00:00,  6.11batch/s, accuracy=25, loss=0.0108]  \n"
     ]
    },
    {
     "name": "stdout",
     "output_type": "stream",
     "text": [
      "current loss: 0.004813522100448608, current accuracy: 0.25\n"
     ]
    },
    {
     "name": "stderr",
     "output_type": "stream",
     "text": [
      "Training Epoch 29/100: 100%|██████████| 36/36 [00:05<00:00,  6.08batch/s, accuracy=25, loss=0.0108]  \n"
     ]
    },
    {
     "name": "stdout",
     "output_type": "stream",
     "text": [
      "current loss: 0.0048135216865274645, current accuracy: 0.25\n"
     ]
    },
    {
     "name": "stderr",
     "output_type": "stream",
     "text": [
      "Training Epoch 30/100: 100%|██████████| 36/36 [00:05<00:00,  6.13batch/s, accuracy=25, loss=0.0108]  \n"
     ]
    },
    {
     "name": "stdout",
     "output_type": "stream",
     "text": [
      "current loss: 0.004813522928290897, current accuracy: 0.25\n"
     ]
    },
    {
     "name": "stderr",
     "output_type": "stream",
     "text": [
      "Training Epoch 31/100: 100%|██████████| 36/36 [00:05<00:00,  6.19batch/s, accuracy=25, loss=0.0108]  \n"
     ]
    },
    {
     "name": "stdout",
     "output_type": "stream",
     "text": [
      "current loss: 0.004813522100448608, current accuracy: 0.25\n"
     ]
    },
    {
     "name": "stderr",
     "output_type": "stream",
     "text": [
      "Training Epoch 32/100: 100%|██████████| 36/36 [00:05<00:00,  6.40batch/s, accuracy=25, loss=0.0108]  \n"
     ]
    },
    {
     "name": "stdout",
     "output_type": "stream",
     "text": [
      "current loss: 0.004813522928290897, current accuracy: 0.25\n"
     ]
    },
    {
     "name": "stderr",
     "output_type": "stream",
     "text": [
      "Training Epoch 33/100: 100%|██████████| 36/36 [00:05<00:00,  6.27batch/s, accuracy=25, loss=0.0108]  \n"
     ]
    },
    {
     "name": "stdout",
     "output_type": "stream",
     "text": [
      "current loss: 0.004813522928290897, current accuracy: 0.25\n"
     ]
    },
    {
     "name": "stderr",
     "output_type": "stream",
     "text": [
      "Training Epoch 34/100: 100%|██████████| 36/36 [00:05<00:00,  6.28batch/s, accuracy=25, loss=0.0108]  \n"
     ]
    },
    {
     "name": "stdout",
     "output_type": "stream",
     "text": [
      "current loss: 0.004813522928290897, current accuracy: 0.25\n"
     ]
    },
    {
     "name": "stderr",
     "output_type": "stream",
     "text": [
      "Training Epoch 35/100: 100%|██████████| 36/36 [00:05<00:00,  6.08batch/s, accuracy=25, loss=0.0108]  \n"
     ]
    },
    {
     "name": "stdout",
     "output_type": "stream",
     "text": [
      "current loss: 0.004813522514369752, current accuracy: 0.25\n"
     ]
    },
    {
     "name": "stderr",
     "output_type": "stream",
     "text": [
      "Training Epoch 36/100: 100%|██████████| 36/36 [00:05<00:00,  6.13batch/s, accuracy=25, loss=0.0108]  \n"
     ]
    },
    {
     "name": "stdout",
     "output_type": "stream",
     "text": [
      "current loss: 0.004813522514369752, current accuracy: 0.25\n"
     ]
    },
    {
     "name": "stderr",
     "output_type": "stream",
     "text": [
      "Training Epoch 37/100: 100%|██████████| 36/36 [00:05<00:00,  6.07batch/s, accuracy=25, loss=0.0108]  \n"
     ]
    },
    {
     "name": "stdout",
     "output_type": "stream",
     "text": [
      "current loss: 0.00481352127260632, current accuracy: 0.25\n"
     ]
    },
    {
     "name": "stderr",
     "output_type": "stream",
     "text": [
      "Training Epoch 38/100: 100%|██████████| 36/36 [00:05<00:00,  6.11batch/s, accuracy=25, loss=0.0108]  \n"
     ]
    },
    {
     "name": "stdout",
     "output_type": "stream",
     "text": [
      "current loss: 0.004813522928290897, current accuracy: 0.25\n"
     ]
    },
    {
     "name": "stderr",
     "output_type": "stream",
     "text": [
      "Training Epoch 39/100: 100%|██████████| 36/36 [00:05<00:00,  6.28batch/s, accuracy=25, loss=0.0108]  \n"
     ]
    },
    {
     "name": "stdout",
     "output_type": "stream",
     "text": [
      "current loss: 0.004813522100448608, current accuracy: 0.25\n"
     ]
    },
    {
     "name": "stderr",
     "output_type": "stream",
     "text": [
      "Training Epoch 40/100: 100%|██████████| 36/36 [00:05<00:00,  6.17batch/s, accuracy=25, loss=0.0108]  \n"
     ]
    },
    {
     "name": "stdout",
     "output_type": "stream",
     "text": [
      "current loss: 0.004813522514369752, current accuracy: 0.25\n"
     ]
    },
    {
     "name": "stderr",
     "output_type": "stream",
     "text": [
      "Training Epoch 41/100: 100%|██████████| 36/36 [00:05<00:00,  6.22batch/s, accuracy=25, loss=0.0108]  \n"
     ]
    },
    {
     "name": "stdout",
     "output_type": "stream",
     "text": [
      "current loss: 0.004813522514369752, current accuracy: 0.25\n"
     ]
    },
    {
     "name": "stderr",
     "output_type": "stream",
     "text": [
      "Training Epoch 42/100: 100%|██████████| 36/36 [00:05<00:00,  6.28batch/s, accuracy=25, loss=0.0108]  \n"
     ]
    },
    {
     "name": "stdout",
     "output_type": "stream",
     "text": [
      "current loss: 0.0048135216865274645, current accuracy: 0.25\n"
     ]
    },
    {
     "name": "stderr",
     "output_type": "stream",
     "text": [
      "Training Epoch 43/100: 100%|██████████| 36/36 [00:05<00:00,  6.31batch/s, accuracy=25, loss=0.0108]  \n"
     ]
    },
    {
     "name": "stdout",
     "output_type": "stream",
     "text": [
      "current loss: 0.004813522928290897, current accuracy: 0.25\n"
     ]
    },
    {
     "name": "stderr",
     "output_type": "stream",
     "text": [
      "Training Epoch 44/100: 100%|██████████| 36/36 [00:05<00:00,  6.30batch/s, accuracy=25, loss=0.0108]  \n"
     ]
    },
    {
     "name": "stdout",
     "output_type": "stream",
     "text": [
      "current loss: 0.0048135216865274645, current accuracy: 0.25\n"
     ]
    },
    {
     "name": "stderr",
     "output_type": "stream",
     "text": [
      "Training Epoch 45/100: 100%|██████████| 36/36 [00:05<00:00,  6.27batch/s, accuracy=25, loss=0.0108]  \n"
     ]
    },
    {
     "name": "stdout",
     "output_type": "stream",
     "text": [
      "current loss: 0.004813522514369752, current accuracy: 0.25\n"
     ]
    },
    {
     "name": "stderr",
     "output_type": "stream",
     "text": [
      "Training Epoch 46/100: 100%|██████████| 36/36 [00:05<00:00,  6.31batch/s, accuracy=25, loss=0.0108]  \n"
     ]
    },
    {
     "name": "stdout",
     "output_type": "stream",
     "text": [
      "current loss: 0.004813522100448608, current accuracy: 0.25\n"
     ]
    },
    {
     "name": "stderr",
     "output_type": "stream",
     "text": [
      "Training Epoch 47/100: 100%|██████████| 36/36 [00:05<00:00,  6.28batch/s, accuracy=25, loss=0.0108]  \n"
     ]
    },
    {
     "name": "stdout",
     "output_type": "stream",
     "text": [
      "current loss: 0.004813522100448608, current accuracy: 0.25\n"
     ]
    },
    {
     "name": "stderr",
     "output_type": "stream",
     "text": [
      "Training Epoch 48/100: 100%|██████████| 36/36 [00:05<00:00,  6.32batch/s, accuracy=25, loss=0.0108]  \n"
     ]
    },
    {
     "name": "stdout",
     "output_type": "stream",
     "text": [
      "current loss: 0.004813522100448608, current accuracy: 0.25\n"
     ]
    },
    {
     "name": "stderr",
     "output_type": "stream",
     "text": [
      "Training Epoch 49/100: 100%|██████████| 36/36 [00:05<00:00,  6.29batch/s, accuracy=25, loss=0.0108]  \n"
     ]
    },
    {
     "name": "stdout",
     "output_type": "stream",
     "text": [
      "current loss: 0.004813522514369752, current accuracy: 0.25\n"
     ]
    },
    {
     "name": "stderr",
     "output_type": "stream",
     "text": [
      "Training Epoch 50/100: 100%|██████████| 36/36 [00:05<00:00,  6.28batch/s, accuracy=25, loss=0.0108]  \n"
     ]
    },
    {
     "name": "stdout",
     "output_type": "stream",
     "text": [
      "current loss: 0.004813522100448608, current accuracy: 0.25\n"
     ]
    },
    {
     "name": "stderr",
     "output_type": "stream",
     "text": [
      "Training Epoch 51/100: 100%|██████████| 36/36 [00:05<00:00,  6.30batch/s, accuracy=25, loss=0.0108]  \n"
     ]
    },
    {
     "name": "stdout",
     "output_type": "stream",
     "text": [
      "current loss: 0.004813522100448608, current accuracy: 0.25\n"
     ]
    },
    {
     "name": "stderr",
     "output_type": "stream",
     "text": [
      "Training Epoch 52/100: 100%|██████████| 36/36 [00:05<00:00,  6.29batch/s, accuracy=25, loss=0.0108]  \n"
     ]
    },
    {
     "name": "stdout",
     "output_type": "stream",
     "text": [
      "current loss: 0.004813522928290897, current accuracy: 0.25\n"
     ]
    },
    {
     "name": "stderr",
     "output_type": "stream",
     "text": [
      "Training Epoch 53/100: 100%|██████████| 36/36 [00:05<00:00,  6.31batch/s, accuracy=25, loss=0.0108]  \n"
     ]
    },
    {
     "name": "stdout",
     "output_type": "stream",
     "text": [
      "current loss: 0.004813522514369752, current accuracy: 0.25\n"
     ]
    },
    {
     "name": "stderr",
     "output_type": "stream",
     "text": [
      "Training Epoch 54/100: 100%|██████████| 36/36 [00:05<00:00,  6.22batch/s, accuracy=25, loss=0.0108]  \n"
     ]
    },
    {
     "name": "stdout",
     "output_type": "stream",
     "text": [
      "current loss: 0.004813520858685176, current accuracy: 0.25\n"
     ]
    },
    {
     "name": "stderr",
     "output_type": "stream",
     "text": [
      "Training Epoch 55/100: 100%|██████████| 36/36 [00:05<00:00,  6.30batch/s, accuracy=25, loss=0.0108]  \n"
     ]
    },
    {
     "name": "stdout",
     "output_type": "stream",
     "text": [
      "current loss: 0.004813522928290897, current accuracy: 0.25\n"
     ]
    },
    {
     "name": "stderr",
     "output_type": "stream",
     "text": [
      "Training Epoch 56/100: 100%|██████████| 36/36 [00:05<00:00,  6.29batch/s, accuracy=25, loss=0.0108]  \n"
     ]
    },
    {
     "name": "stdout",
     "output_type": "stream",
     "text": [
      "current loss: 0.004813522514369752, current accuracy: 0.25\n"
     ]
    },
    {
     "name": "stderr",
     "output_type": "stream",
     "text": [
      "Training Epoch 57/100: 100%|██████████| 36/36 [00:05<00:00,  6.32batch/s, accuracy=25, loss=0.0108]  \n"
     ]
    },
    {
     "name": "stdout",
     "output_type": "stream",
     "text": [
      "current loss: 0.0048135216865274645, current accuracy: 0.25\n"
     ]
    },
    {
     "name": "stderr",
     "output_type": "stream",
     "text": [
      "Training Epoch 58/100: 100%|██████████| 36/36 [00:05<00:00,  6.29batch/s, accuracy=25, loss=0.0108]  \n"
     ]
    },
    {
     "name": "stdout",
     "output_type": "stream",
     "text": [
      "current loss: 0.0048135216865274645, current accuracy: 0.25\n"
     ]
    },
    {
     "name": "stderr",
     "output_type": "stream",
     "text": [
      "Training Epoch 59/100: 100%|██████████| 36/36 [00:05<00:00,  6.28batch/s, accuracy=25, loss=0.0108]  \n"
     ]
    },
    {
     "name": "stdout",
     "output_type": "stream",
     "text": [
      "current loss: 0.004813522514369752, current accuracy: 0.25\n"
     ]
    },
    {
     "name": "stderr",
     "output_type": "stream",
     "text": [
      "Training Epoch 60/100: 100%|██████████| 36/36 [00:05<00:00,  6.28batch/s, accuracy=25, loss=0.0108]  \n"
     ]
    },
    {
     "name": "stdout",
     "output_type": "stream",
     "text": [
      "current loss: 0.004813522100448608, current accuracy: 0.25\n"
     ]
    },
    {
     "name": "stderr",
     "output_type": "stream",
     "text": [
      "Training Epoch 61/100: 100%|██████████| 36/36 [00:05<00:00,  6.28batch/s, accuracy=25, loss=0.0108]  \n"
     ]
    },
    {
     "name": "stdout",
     "output_type": "stream",
     "text": [
      "current loss: 0.004813522514369752, current accuracy: 0.25\n"
     ]
    },
    {
     "name": "stderr",
     "output_type": "stream",
     "text": [
      "Training Epoch 62/100: 100%|██████████| 36/36 [00:05<00:00,  6.29batch/s, accuracy=25, loss=0.0108]  \n"
     ]
    },
    {
     "name": "stdout",
     "output_type": "stream",
     "text": [
      "current loss: 0.004813522514369752, current accuracy: 0.25\n"
     ]
    },
    {
     "name": "stderr",
     "output_type": "stream",
     "text": [
      "Training Epoch 63/100: 100%|██████████| 36/36 [00:05<00:00,  6.23batch/s, accuracy=25, loss=0.0108]  \n"
     ]
    },
    {
     "name": "stdout",
     "output_type": "stream",
     "text": [
      "current loss: 0.004813522100448608, current accuracy: 0.25\n"
     ]
    },
    {
     "name": "stderr",
     "output_type": "stream",
     "text": [
      "Training Epoch 64/100: 100%|██████████| 36/36 [00:05<00:00,  6.28batch/s, accuracy=25, loss=0.0108]  \n"
     ]
    },
    {
     "name": "stdout",
     "output_type": "stream",
     "text": [
      "current loss: 0.0048135216865274645, current accuracy: 0.25\n"
     ]
    },
    {
     "name": "stderr",
     "output_type": "stream",
     "text": [
      "Training Epoch 65/100: 100%|██████████| 36/36 [00:05<00:00,  6.28batch/s, accuracy=25, loss=0.0108]  \n"
     ]
    },
    {
     "name": "stdout",
     "output_type": "stream",
     "text": [
      "current loss: 0.00481352127260632, current accuracy: 0.25\n"
     ]
    },
    {
     "name": "stderr",
     "output_type": "stream",
     "text": [
      "Training Epoch 66/100: 100%|██████████| 36/36 [00:05<00:00,  6.27batch/s, accuracy=25, loss=0.0108]  \n"
     ]
    },
    {
     "name": "stdout",
     "output_type": "stream",
     "text": [
      "current loss: 0.004813522928290897, current accuracy: 0.25\n"
     ]
    },
    {
     "name": "stderr",
     "output_type": "stream",
     "text": [
      "Training Epoch 67/100: 100%|██████████| 36/36 [00:05<00:00,  6.33batch/s, accuracy=25, loss=0.0108]  \n"
     ]
    },
    {
     "name": "stdout",
     "output_type": "stream",
     "text": [
      "current loss: 0.004813522928290897, current accuracy: 0.25\n"
     ]
    },
    {
     "name": "stderr",
     "output_type": "stream",
     "text": [
      "Training Epoch 68/100: 100%|██████████| 36/36 [00:05<00:00,  6.30batch/s, accuracy=25, loss=0.0108]  \n"
     ]
    },
    {
     "name": "stdout",
     "output_type": "stream",
     "text": [
      "current loss: 0.004813522514369752, current accuracy: 0.25\n"
     ]
    },
    {
     "name": "stderr",
     "output_type": "stream",
     "text": [
      "Training Epoch 69/100: 100%|██████████| 36/36 [00:05<00:00,  6.27batch/s, accuracy=25, loss=0.0108]  \n"
     ]
    },
    {
     "name": "stdout",
     "output_type": "stream",
     "text": [
      "current loss: 0.004813522100448608, current accuracy: 0.25\n"
     ]
    },
    {
     "name": "stderr",
     "output_type": "stream",
     "text": [
      "Training Epoch 70/100: 100%|██████████| 36/36 [00:05<00:00,  6.31batch/s, accuracy=25, loss=0.0108]  \n"
     ]
    },
    {
     "name": "stdout",
     "output_type": "stream",
     "text": [
      "current loss: 0.004813522514369752, current accuracy: 0.25\n"
     ]
    },
    {
     "name": "stderr",
     "output_type": "stream",
     "text": [
      "Training Epoch 71/100: 100%|██████████| 36/36 [00:05<00:00,  6.27batch/s, accuracy=25, loss=0.0108]  \n"
     ]
    },
    {
     "name": "stdout",
     "output_type": "stream",
     "text": [
      "current loss: 0.004813522100448608, current accuracy: 0.25\n"
     ]
    },
    {
     "name": "stderr",
     "output_type": "stream",
     "text": [
      "Training Epoch 72/100: 100%|██████████| 36/36 [00:05<00:00,  6.30batch/s, accuracy=25, loss=0.0108]  \n"
     ]
    },
    {
     "name": "stdout",
     "output_type": "stream",
     "text": [
      "current loss: 0.004813522928290897, current accuracy: 0.25\n"
     ]
    },
    {
     "name": "stderr",
     "output_type": "stream",
     "text": [
      "Training Epoch 73/100: 100%|██████████| 36/36 [00:05<00:00,  6.30batch/s, accuracy=25, loss=0.0108]  \n"
     ]
    },
    {
     "name": "stdout",
     "output_type": "stream",
     "text": [
      "current loss: 0.004813522514369752, current accuracy: 0.25\n"
     ]
    },
    {
     "name": "stderr",
     "output_type": "stream",
     "text": [
      "Training Epoch 74/100: 100%|██████████| 36/36 [00:05<00:00,  6.30batch/s, accuracy=25, loss=0.0108]  \n"
     ]
    },
    {
     "name": "stdout",
     "output_type": "stream",
     "text": [
      "current loss: 0.0048135216865274645, current accuracy: 0.25\n"
     ]
    },
    {
     "name": "stderr",
     "output_type": "stream",
     "text": [
      "Training Epoch 75/100: 100%|██████████| 36/36 [00:05<00:00,  6.29batch/s, accuracy=25, loss=0.0108]  \n"
     ]
    },
    {
     "name": "stdout",
     "output_type": "stream",
     "text": [
      "current loss: 0.004813523342212041, current accuracy: 0.25\n"
     ]
    },
    {
     "name": "stderr",
     "output_type": "stream",
     "text": [
      "Training Epoch 76/100: 100%|██████████| 36/36 [00:05<00:00,  6.32batch/s, accuracy=25, loss=0.0108]  \n"
     ]
    },
    {
     "name": "stdout",
     "output_type": "stream",
     "text": [
      "current loss: 0.004813522928290897, current accuracy: 0.25\n"
     ]
    },
    {
     "name": "stderr",
     "output_type": "stream",
     "text": [
      "Training Epoch 77/100: 100%|██████████| 36/36 [00:05<00:00,  6.31batch/s, accuracy=25.8, loss=0.0108]\n"
     ]
    },
    {
     "name": "stdout",
     "output_type": "stream",
     "text": [
      "current loss: 0.004813522514369752, current accuracy: 0.25\n"
     ]
    },
    {
     "name": "stderr",
     "output_type": "stream",
     "text": [
      "Training Epoch 78/100: 100%|██████████| 36/36 [00:05<00:00,  6.28batch/s, accuracy=25.8, loss=0.0108]\n"
     ]
    },
    {
     "name": "stdout",
     "output_type": "stream",
     "text": [
      "current loss: 0.004813522928290897, current accuracy: 0.25\n"
     ]
    },
    {
     "name": "stderr",
     "output_type": "stream",
     "text": [
      "Training Epoch 79/100: 100%|██████████| 36/36 [00:05<00:00,  6.31batch/s, accuracy=25.8, loss=0.0108]\n"
     ]
    },
    {
     "name": "stdout",
     "output_type": "stream",
     "text": [
      "current loss: 0.004813522100448608, current accuracy: 0.25\n"
     ]
    },
    {
     "name": "stderr",
     "output_type": "stream",
     "text": [
      "Training Epoch 80/100: 100%|██████████| 36/36 [00:05<00:00,  6.33batch/s, accuracy=25.8, loss=0.0108]\n"
     ]
    },
    {
     "name": "stdout",
     "output_type": "stream",
     "text": [
      "current loss: 0.004813522100448608, current accuracy: 0.25\n"
     ]
    },
    {
     "name": "stderr",
     "output_type": "stream",
     "text": [
      "Training Epoch 81/100: 100%|██████████| 36/36 [00:05<00:00,  6.30batch/s, accuracy=25.8, loss=0.0108]\n"
     ]
    },
    {
     "name": "stdout",
     "output_type": "stream",
     "text": [
      "current loss: 0.004813522100448608, current accuracy: 0.25\n"
     ]
    },
    {
     "name": "stderr",
     "output_type": "stream",
     "text": [
      "Training Epoch 82/100: 100%|██████████| 36/36 [00:05<00:00,  6.27batch/s, accuracy=25.8, loss=0.0108]\n"
     ]
    },
    {
     "name": "stdout",
     "output_type": "stream",
     "text": [
      "current loss: 0.004813523342212041, current accuracy: 0.25\n"
     ]
    },
    {
     "name": "stderr",
     "output_type": "stream",
     "text": [
      "Training Epoch 83/100: 100%|██████████| 36/36 [00:05<00:00,  6.29batch/s, accuracy=25.8, loss=0.0108]\n"
     ]
    },
    {
     "name": "stdout",
     "output_type": "stream",
     "text": [
      "current loss: 0.004813522514369752, current accuracy: 0.25\n"
     ]
    },
    {
     "name": "stderr",
     "output_type": "stream",
     "text": [
      "Training Epoch 84/100: 100%|██████████| 36/36 [00:05<00:00,  6.32batch/s, accuracy=25.8, loss=0.0108]\n"
     ]
    },
    {
     "name": "stdout",
     "output_type": "stream",
     "text": [
      "current loss: 0.004813522928290897, current accuracy: 0.25\n"
     ]
    },
    {
     "name": "stderr",
     "output_type": "stream",
     "text": [
      "Training Epoch 85/100: 100%|██████████| 36/36 [00:05<00:00,  6.32batch/s, accuracy=25.8, loss=0.0108]\n"
     ]
    },
    {
     "name": "stdout",
     "output_type": "stream",
     "text": [
      "current loss: 0.004813522100448608, current accuracy: 0.25\n"
     ]
    },
    {
     "name": "stderr",
     "output_type": "stream",
     "text": [
      "Training Epoch 86/100: 100%|██████████| 36/36 [00:05<00:00,  6.24batch/s, accuracy=25.8, loss=0.0108]\n"
     ]
    },
    {
     "name": "stdout",
     "output_type": "stream",
     "text": [
      "current loss: 0.004813523342212041, current accuracy: 0.25\n"
     ]
    },
    {
     "name": "stderr",
     "output_type": "stream",
     "text": [
      "Training Epoch 87/100: 100%|██████████| 36/36 [00:05<00:00,  6.30batch/s, accuracy=25.8, loss=0.0108]\n"
     ]
    },
    {
     "name": "stdout",
     "output_type": "stream",
     "text": [
      "current loss: 0.004813522928290897, current accuracy: 0.25\n"
     ]
    },
    {
     "name": "stderr",
     "output_type": "stream",
     "text": [
      "Training Epoch 88/100: 100%|██████████| 36/36 [00:05<00:00,  6.30batch/s, accuracy=25.8, loss=0.0108]\n"
     ]
    },
    {
     "name": "stdout",
     "output_type": "stream",
     "text": [
      "current loss: 0.0048135216865274645, current accuracy: 0.25\n"
     ]
    },
    {
     "name": "stderr",
     "output_type": "stream",
     "text": [
      "Training Epoch 89/100: 100%|██████████| 36/36 [00:05<00:00,  6.26batch/s, accuracy=25.8, loss=0.0108]\n"
     ]
    },
    {
     "name": "stdout",
     "output_type": "stream",
     "text": [
      "current loss: 0.004813522100448608, current accuracy: 0.25\n"
     ]
    },
    {
     "name": "stderr",
     "output_type": "stream",
     "text": [
      "Training Epoch 90/100: 100%|██████████| 36/36 [00:05<00:00,  6.32batch/s, accuracy=25.8, loss=0.0108]\n"
     ]
    },
    {
     "name": "stdout",
     "output_type": "stream",
     "text": [
      "current loss: 0.004813522928290897, current accuracy: 0.25\n"
     ]
    },
    {
     "name": "stderr",
     "output_type": "stream",
     "text": [
      "Training Epoch 91/100: 100%|██████████| 36/36 [00:05<00:00,  6.32batch/s, accuracy=25.8, loss=0.0108]\n"
     ]
    },
    {
     "name": "stdout",
     "output_type": "stream",
     "text": [
      "current loss: 0.004813523342212041, current accuracy: 0.25\n"
     ]
    },
    {
     "name": "stderr",
     "output_type": "stream",
     "text": [
      "Training Epoch 92/100: 100%|██████████| 36/36 [00:05<00:00,  6.33batch/s, accuracy=25.8, loss=0.0108]\n"
     ]
    },
    {
     "name": "stdout",
     "output_type": "stream",
     "text": [
      "current loss: 0.004813522514369752, current accuracy: 0.25\n"
     ]
    },
    {
     "name": "stderr",
     "output_type": "stream",
     "text": [
      "Training Epoch 93/100: 100%|██████████| 36/36 [00:05<00:00,  6.29batch/s, accuracy=25.8, loss=0.0108]\n"
     ]
    },
    {
     "name": "stdout",
     "output_type": "stream",
     "text": [
      "current loss: 0.004813522928290897, current accuracy: 0.25\n"
     ]
    },
    {
     "name": "stderr",
     "output_type": "stream",
     "text": [
      "Training Epoch 94/100: 100%|██████████| 36/36 [00:05<00:00,  6.30batch/s, accuracy=25.8, loss=0.0108]\n"
     ]
    },
    {
     "name": "stdout",
     "output_type": "stream",
     "text": [
      "current loss: 0.004813522928290897, current accuracy: 0.25\n"
     ]
    },
    {
     "name": "stderr",
     "output_type": "stream",
     "text": [
      "Training Epoch 95/100: 100%|██████████| 36/36 [00:05<00:00,  6.32batch/s, accuracy=25.8, loss=0.0108]\n"
     ]
    },
    {
     "name": "stdout",
     "output_type": "stream",
     "text": [
      "current loss: 0.00481352127260632, current accuracy: 0.25\n"
     ]
    },
    {
     "name": "stderr",
     "output_type": "stream",
     "text": [
      "Training Epoch 96/100: 100%|██████████| 36/36 [00:05<00:00,  6.30batch/s, accuracy=25.8, loss=0.0108]\n"
     ]
    },
    {
     "name": "stdout",
     "output_type": "stream",
     "text": [
      "current loss: 0.00481352127260632, current accuracy: 0.25\n"
     ]
    },
    {
     "name": "stderr",
     "output_type": "stream",
     "text": [
      "Training Epoch 97/100: 100%|██████████| 36/36 [00:05<00:00,  6.30batch/s, accuracy=25.8, loss=0.0108]\n"
     ]
    },
    {
     "name": "stdout",
     "output_type": "stream",
     "text": [
      "current loss: 0.004813522100448608, current accuracy: 0.25\n"
     ]
    },
    {
     "name": "stderr",
     "output_type": "stream",
     "text": [
      "Training Epoch 98/100: 100%|██████████| 36/36 [00:05<00:00,  6.30batch/s, accuracy=25.8, loss=0.0108]\n"
     ]
    },
    {
     "name": "stdout",
     "output_type": "stream",
     "text": [
      "current loss: 0.004813523342212041, current accuracy: 0.25\n"
     ]
    },
    {
     "name": "stderr",
     "output_type": "stream",
     "text": [
      "Training Epoch 99/100: 100%|██████████| 36/36 [00:05<00:00,  6.32batch/s, accuracy=25.8, loss=0.0108]\n"
     ]
    },
    {
     "name": "stdout",
     "output_type": "stream",
     "text": [
      "current loss: 0.0048135216865274645, current accuracy: 0.25\n"
     ]
    },
    {
     "name": "stderr",
     "output_type": "stream",
     "text": [
      "Training Epoch 100/100: 100%|██████████| 36/36 [00:05<00:00,  6.30batch/s, accuracy=25.8, loss=0.0108]\n"
     ]
    },
    {
     "name": "stdout",
     "output_type": "stream",
     "text": [
      "current loss: 0.004813522514369752, current accuracy: 0.25\n"
     ]
    }
   ],
   "source": [
    "from dataset.matDataset import SI_dataset\n",
    "from torch.utils.data import DataLoader\n",
    "import torch.optim as optim\n",
    "import torch.nn as nn\n",
    "import torch\n",
    "\n",
    "from models import *\n",
    "from trial import *\n",
    "\n",
    "\n",
    "model = AttentionNet(\n",
    "    input_size = (22, 562),\n",
    "    activate_func = nn.ELU,\n",
    "    dropout = 0.8,\n",
    "    kernel_size = 12,\n",
    "    dense_size = 128,\n",
    "    filter_number = 32\n",
    ")\n",
    "\n",
    "\n",
    "optimizer = optim.Adam(\n",
    "    model.parameters(),\n",
    "    lr = 0.01,\n",
    "    weight_decay = 0.1\n",
    ")\n",
    "\n",
    "train_dataset = SI_dataset()\n",
    "test_dataset = SI_dataset(train = False)\n",
    "\n",
    "train_loader = DataLoader(train_dataset, batch_size = 128)\n",
    "\n",
    "\n",
    "device = torch.device('cuda:0')\n",
    "\n",
    "model, loss_log, accuracy_log = train(model, device, nn.CrossEntropyLoss(), optimizer, 100, train_loader, test_dataset)\n",
    "\n"
   ]
  },
  {
   "cell_type": "code",
   "execution_count": 11,
   "metadata": {},
   "outputs": [
    {
     "data": {
      "image/png": "[encoded data removed]",
      "text/plain": [
       "<Figure size 432x288 with 2 Axes>"
      ]
     },
     "metadata": {
      "needs_background": "light"
     },
     "output_type": "display_data"
    },
    {
     "data": {
      "image/png": "[encoded data removed]",
      "text/plain": [
       "<Figure size 432x288 with 2 Axes>"
      ]
     },
     "metadata": {
      "needs_background": "light"
     },
     "output_type": "display_data"
    }
   ],
   "source": [
    "from importlib import reload\n",
    "import utils\n",
    "reload(utils)\n",
    "utils.plot_curve(loss_log, 'loss')\n",
    "utils.plot_curve(accuracy_log, 'accuracy')"
   ]
  }
 ],
 "metadata": {
  "interpreter": {
   "hash": "ad2bdc8ecc057115af97d19610ffacc2b4e99fae6737bb82f5d7fb13d2f2c186"
  },
  "kernelspec": {
   "display_name": "Python 3.9.7 ('base')",
   "language": "python",
   "name": "python3"
  },
  "language_info": {
   "codemirror_mode": {
    "name": "ipython",
    "version": 3
   },
   "file_extension": ".py",
   "mimetype": "text/x-python",
   "name": "python",
   "nbconvert_exporter": "python",
   "pygments_lexer": "ipython3",
   "version": "3.9.7"
  },
  "orig_nbformat": 4
 },
 "nbformat": 4,
 "nbformat_minor": 2
}
