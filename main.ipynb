{
 "cells": [
  {
   "cell_type": "markdown",
   "metadata": {},
   "source": [
    "# Test SI without DA"
   ]
  },
  {
   "cell_type": "code",
   "execution_count": 1,
   "metadata": {},
   "outputs": [
    {
     "name": "stderr",
     "output_type": "stream",
     "text": [
      "Training Epoch 01/400: 100%|██████████| 36/36 [00:11<00:00,  3.26batch/s, accuracy=25, loss=0.0124]  \n"
     ]
    },
    {
     "name": "stdout",
     "output_type": "stream",
     "text": [
      "current loss: 0.004831671714782715, current accuracy: 0.2465277777777778\n"
     ]
    },
    {
     "name": "stderr",
     "output_type": "stream",
     "text": [
      "Training Epoch 02/400: 100%|██████████| 36/36 [00:03<00:00, 10.22batch/s, accuracy=23.4, loss=0.0115]\n"
     ]
    },
    {
     "name": "stdout",
     "output_type": "stream",
     "text": [
      "current loss: 0.00483222140206231, current accuracy: 0.23958333333333334\n"
     ]
    },
    {
     "name": "stderr",
     "output_type": "stream",
     "text": [
      "Training Epoch 03/400: 100%|██████████| 36/36 [00:03<00:00, 10.48batch/s, accuracy=24.2, loss=0.0113]\n"
     ]
    },
    {
     "name": "stdout",
     "output_type": "stream",
     "text": [
      "current loss: 0.00483220111992624, current accuracy: 0.22569444444444445\n"
     ]
    },
    {
     "name": "stderr",
     "output_type": "stream",
     "text": [
      "Training Epoch 04/400: 100%|██████████| 36/36 [00:03<00:00, 10.42batch/s, accuracy=28.9, loss=0.0113]\n"
     ]
    },
    {
     "name": "stdout",
     "output_type": "stream",
     "text": [
      "current loss: 0.004831944488816791, current accuracy: 0.25\n"
     ]
    },
    {
     "name": "stderr",
     "output_type": "stream",
     "text": [
      "Training Epoch 05/400: 100%|██████████| 36/36 [00:03<00:00, 10.28batch/s, accuracy=32.8, loss=0.0107]\n"
     ]
    },
    {
     "name": "stdout",
     "output_type": "stream",
     "text": [
      "current loss: 0.004828971293237474, current accuracy: 0.2465277777777778\n"
     ]
    },
    {
     "name": "stderr",
     "output_type": "stream",
     "text": [
      "Training Epoch 06/400: 100%|██████████| 36/36 [00:03<00:00, 10.32batch/s, accuracy=24.2, loss=0.0111]\n"
     ]
    },
    {
     "name": "stdout",
     "output_type": "stream",
     "text": [
      "current loss: 0.004827985746992959, current accuracy: 0.2326388888888889\n"
     ]
    },
    {
     "name": "stderr",
     "output_type": "stream",
     "text": [
      "Training Epoch 07/400: 100%|██████████| 36/36 [00:03<00:00, 10.23batch/s, accuracy=26.6, loss=0.0109]\n"
     ]
    },
    {
     "name": "stdout",
     "output_type": "stream",
     "text": [
      "current loss: 0.004827253934409883, current accuracy: 0.25\n"
     ]
    },
    {
     "name": "stderr",
     "output_type": "stream",
     "text": [
      "Training Epoch 08/400: 100%|██████████| 36/36 [00:03<00:00, 10.46batch/s, accuracy=27.3, loss=0.0109]\n"
     ]
    },
    {
     "name": "stdout",
     "output_type": "stream",
     "text": [
      "current loss: 0.004827001856433021, current accuracy: 0.2534722222222222\n"
     ]
    },
    {
     "name": "stderr",
     "output_type": "stream",
     "text": [
      "Training Epoch 09/400: 100%|██████████| 36/36 [00:03<00:00, 10.29batch/s, accuracy=18.8, loss=0.0114]\n"
     ]
    },
    {
     "name": "stdout",
     "output_type": "stream",
     "text": [
      "current loss: 0.0048256926238536835, current accuracy: 0.25\n"
     ]
    },
    {
     "name": "stderr",
     "output_type": "stream",
     "text": [
      "Training Epoch 10/400: 100%|██████████| 36/36 [00:03<00:00, 10.38batch/s, accuracy=23.4, loss=0.011] \n"
     ]
    },
    {
     "name": "stdout",
     "output_type": "stream",
     "text": [
      "current loss: 0.004823487665918138, current accuracy: 0.25\n"
     ]
    },
    {
     "name": "stderr",
     "output_type": "stream",
     "text": [
      "Training Epoch 11/400: 100%|██████████| 36/36 [00:03<00:00, 10.35batch/s, accuracy=31.2, loss=0.0109]\n"
     ]
    },
    {
     "name": "stdout",
     "output_type": "stream",
     "text": [
      "current loss: 0.004823731051550971, current accuracy: 0.2569444444444444\n"
     ]
    },
    {
     "name": "stderr",
     "output_type": "stream",
     "text": [
      "Training Epoch 12/400: 100%|██████████| 36/36 [00:03<00:00, 10.31batch/s, accuracy=22.7, loss=0.0111]\n"
     ]
    },
    {
     "name": "stdout",
     "output_type": "stream",
     "text": [
      "current loss: 0.004822683831055959, current accuracy: 0.2638888888888889\n"
     ]
    },
    {
     "name": "stderr",
     "output_type": "stream",
     "text": [
      "Training Epoch 13/400: 100%|██████████| 36/36 [00:03<00:00, 10.70batch/s, accuracy=30.5, loss=0.0109]\n"
     ]
    },
    {
     "name": "stdout",
     "output_type": "stream",
     "text": [
      "current loss: 0.00482268010576566, current accuracy: 0.2534722222222222\n"
     ]
    },
    {
     "name": "stderr",
     "output_type": "stream",
     "text": [
      "Training Epoch 14/400: 100%|██████████| 36/36 [00:03<00:00, 10.84batch/s, accuracy=28.1, loss=0.0108]\n"
     ]
    },
    {
     "name": "stdout",
     "output_type": "stream",
     "text": [
      "current loss: 0.0048201729853947954, current accuracy: 0.2638888888888889\n"
     ]
    },
    {
     "name": "stderr",
     "output_type": "stream",
     "text": [
      "Training Epoch 15/400: 100%|██████████| 36/36 [00:03<00:00, 10.90batch/s, accuracy=31.2, loss=0.0108]\n"
     ]
    },
    {
     "name": "stdout",
     "output_type": "stream",
     "text": [
      "current loss: 0.004819603843821419, current accuracy: 0.2638888888888889\n"
     ]
    },
    {
     "name": "stderr",
     "output_type": "stream",
     "text": [
      "Training Epoch 16/400: 100%|██████████| 36/36 [00:03<00:00, 10.73batch/s, accuracy=28.1, loss=0.0108]\n"
     ]
    },
    {
     "name": "stdout",
     "output_type": "stream",
     "text": [
      "current loss: 0.004819659723175896, current accuracy: 0.25\n"
     ]
    },
    {
     "name": "stderr",
     "output_type": "stream",
     "text": [
      "Training Epoch 17/400: 100%|██████████| 36/36 [00:03<00:00, 10.81batch/s, accuracy=34.4, loss=0.0105]\n"
     ]
    },
    {
     "name": "stdout",
     "output_type": "stream",
     "text": [
      "current loss: 0.004817192753156026, current accuracy: 0.2673611111111111\n"
     ]
    },
    {
     "name": "stderr",
     "output_type": "stream",
     "text": [
      "Training Epoch 18/400: 100%|██████████| 36/36 [00:03<00:00, 10.78batch/s, accuracy=25.8, loss=0.0111]\n"
     ]
    },
    {
     "name": "stdout",
     "output_type": "stream",
     "text": [
      "current loss: 0.004818201892905765, current accuracy: 0.2708333333333333\n"
     ]
    },
    {
     "name": "stderr",
     "output_type": "stream",
     "text": [
      "Training Epoch 19/400: 100%|██████████| 36/36 [00:03<00:00, 10.63batch/s, accuracy=30.5, loss=0.0107]\n"
     ]
    },
    {
     "name": "stdout",
     "output_type": "stream",
     "text": [
      "current loss: 0.004818076060877906, current accuracy: 0.2638888888888889\n"
     ]
    },
    {
     "name": "stderr",
     "output_type": "stream",
     "text": [
      "Training Epoch 20/400: 100%|██████████| 36/36 [00:03<00:00, 10.35batch/s, accuracy=25, loss=0.011]   \n"
     ]
    },
    {
     "name": "stdout",
     "output_type": "stream",
     "text": [
      "current loss: 0.0048174986408816445, current accuracy: 0.2673611111111111\n"
     ]
    },
    {
     "name": "stderr",
     "output_type": "stream",
     "text": [
      "Training Epoch 21/400: 100%|██████████| 36/36 [00:03<00:00, 10.41batch/s, accuracy=30.5, loss=0.0107]\n"
     ]
    },
    {
     "name": "stdout",
     "output_type": "stream",
     "text": [
      "current loss: 0.004815840886698829, current accuracy: 0.25\n"
     ]
    },
    {
     "name": "stderr",
     "output_type": "stream",
     "text": [
      "Training Epoch 22/400: 100%|██████████| 36/36 [00:03<00:00, 10.38batch/s, accuracy=28.9, loss=0.0108]\n"
     ]
    },
    {
     "name": "stdout",
     "output_type": "stream",
     "text": [
      "current loss: 0.004816454731755787, current accuracy: 0.2708333333333333\n"
     ]
    },
    {
     "name": "stderr",
     "output_type": "stream",
     "text": [
      "Training Epoch 23/400: 100%|██████████| 36/36 [00:03<00:00, 10.27batch/s, accuracy=32, loss=0.0104]  \n"
     ]
    },
    {
     "name": "stdout",
     "output_type": "stream",
     "text": [
      "current loss: 0.0048151446713341605, current accuracy: 0.2708333333333333\n"
     ]
    },
    {
     "name": "stderr",
     "output_type": "stream",
     "text": [
      "Training Epoch 24/400: 100%|██████████| 36/36 [00:03<00:00, 10.57batch/s, accuracy=25.8, loss=0.0108]\n"
     ]
    },
    {
     "name": "stdout",
     "output_type": "stream",
     "text": [
      "current loss: 0.004813303964005576, current accuracy: 0.2534722222222222\n"
     ]
    },
    {
     "name": "stderr",
     "output_type": "stream",
     "text": [
      "Training Epoch 25/400: 100%|██████████| 36/36 [00:03<00:00, 10.68batch/s, accuracy=34.4, loss=0.0105]\n"
     ]
    },
    {
     "name": "stdout",
     "output_type": "stream",
     "text": [
      "current loss: 0.00481344966424836, current accuracy: 0.2743055555555556\n"
     ]
    },
    {
     "name": "stderr",
     "output_type": "stream",
     "text": [
      "Training Epoch 26/400: 100%|██████████| 36/36 [00:03<00:00, 10.58batch/s, accuracy=35.2, loss=0.0107]\n"
     ]
    },
    {
     "name": "stdout",
     "output_type": "stream",
     "text": [
      "current loss: 0.00481282588508394, current accuracy: 0.2638888888888889\n"
     ]
    },
    {
     "name": "stderr",
     "output_type": "stream",
     "text": [
      "Training Epoch 27/400: 100%|██████████| 36/36 [00:03<00:00, 10.33batch/s, accuracy=27.3, loss=0.0109]\n"
     ]
    },
    {
     "name": "stdout",
     "output_type": "stream",
     "text": [
      "current loss: 0.004812213281790416, current accuracy: 0.2638888888888889\n"
     ]
    },
    {
     "name": "stderr",
     "output_type": "stream",
     "text": [
      "Training Epoch 28/400: 100%|██████████| 36/36 [00:03<00:00, 10.35batch/s, accuracy=28.1, loss=0.0109]\n"
     ]
    },
    {
     "name": "stdout",
     "output_type": "stream",
     "text": [
      "current loss: 0.004811652832561069, current accuracy: 0.2638888888888889\n"
     ]
    },
    {
     "name": "stderr",
     "output_type": "stream",
     "text": [
      "Training Epoch 29/400: 100%|██████████| 36/36 [00:03<00:00, 10.31batch/s, accuracy=33.6, loss=0.0106]\n"
     ]
    },
    {
     "name": "stdout",
     "output_type": "stream",
     "text": [
      "current loss: 0.004810096489058601, current accuracy: 0.2604166666666667\n"
     ]
    },
    {
     "name": "stderr",
     "output_type": "stream",
     "text": [
      "Training Epoch 30/400: 100%|██████████| 36/36 [00:03<00:00, 10.67batch/s, accuracy=28.1, loss=0.0109]\n"
     ]
    },
    {
     "name": "stdout",
     "output_type": "stream",
     "text": [
      "current loss: 0.004809808399942186, current accuracy: 0.2638888888888889\n"
     ]
    },
    {
     "name": "stderr",
     "output_type": "stream",
     "text": [
      "Training Epoch 31/400: 100%|██████████| 36/36 [00:03<00:00, 10.42batch/s, accuracy=28.1, loss=0.0105]\n"
     ]
    },
    {
     "name": "stdout",
     "output_type": "stream",
     "text": [
      "current loss: 0.004807152681880527, current accuracy: 0.28125\n"
     ]
    },
    {
     "name": "stderr",
     "output_type": "stream",
     "text": [
      "Training Epoch 32/400: 100%|██████████| 36/36 [00:03<00:00, 10.43batch/s, accuracy=28.9, loss=0.0106]\n"
     ]
    },
    {
     "name": "stdout",
     "output_type": "stream",
     "text": [
      "current loss: 0.0048050615522596575, current accuracy: 0.2673611111111111\n"
     ]
    },
    {
     "name": "stderr",
     "output_type": "stream",
     "text": [
      "Training Epoch 33/400: 100%|██████████| 36/36 [00:03<00:00, 10.34batch/s, accuracy=31.2, loss=0.0107]\n"
     ]
    },
    {
     "name": "stdout",
     "output_type": "stream",
     "text": [
      "current loss: 0.0048023006982273525, current accuracy: 0.2638888888888889\n"
     ]
    },
    {
     "name": "stderr",
     "output_type": "stream",
     "text": [
      "Training Epoch 34/400: 100%|██████████| 36/36 [00:03<00:00, 10.41batch/s, accuracy=26.6, loss=0.0108]\n"
     ]
    },
    {
     "name": "stdout",
     "output_type": "stream",
     "text": [
      "current loss: 0.004804544978671604, current accuracy: 0.2465277777777778\n"
     ]
    },
    {
     "name": "stderr",
     "output_type": "stream",
     "text": [
      "Training Epoch 35/400: 100%|██████████| 36/36 [00:03<00:00, 10.40batch/s, accuracy=28.1, loss=0.0107]\n"
     ]
    },
    {
     "name": "stdout",
     "output_type": "stream",
     "text": [
      "current loss: 0.004806590576966603, current accuracy: 0.2569444444444444\n"
     ]
    },
    {
     "name": "stderr",
     "output_type": "stream",
     "text": [
      "Training Epoch 36/400: 100%|██████████| 36/36 [00:03<00:00, 10.50batch/s, accuracy=25.8, loss=0.0108]\n"
     ]
    },
    {
     "name": "stdout",
     "output_type": "stream",
     "text": [
      "current loss: 0.004804248611132304, current accuracy: 0.2673611111111111\n"
     ]
    },
    {
     "name": "stderr",
     "output_type": "stream",
     "text": [
      "Training Epoch 37/400: 100%|██████████| 36/36 [00:03<00:00, 10.30batch/s, accuracy=31.2, loss=0.0108]\n"
     ]
    },
    {
     "name": "stdout",
     "output_type": "stream",
     "text": [
      "current loss: 0.00480171541372935, current accuracy: 0.28125\n"
     ]
    },
    {
     "name": "stderr",
     "output_type": "stream",
     "text": [
      "Training Epoch 38/400: 100%|██████████| 36/36 [00:03<00:00, 10.44batch/s, accuracy=27.3, loss=0.011] \n"
     ]
    },
    {
     "name": "stdout",
     "output_type": "stream",
     "text": [
      "current loss: 0.004799477756023407, current accuracy: 0.2743055555555556\n"
     ]
    },
    {
     "name": "stderr",
     "output_type": "stream",
     "text": [
      "Training Epoch 39/400: 100%|██████████| 36/36 [00:03<00:00, 10.37batch/s, accuracy=37.5, loss=0.0104]\n"
     ]
    },
    {
     "name": "stdout",
     "output_type": "stream",
     "text": [
      "current loss: 0.0047999512818124555, current accuracy: 0.2569444444444444\n"
     ]
    },
    {
     "name": "stderr",
     "output_type": "stream",
     "text": [
      "Training Epoch 40/400: 100%|██████████| 36/36 [00:03<00:00, 10.33batch/s, accuracy=28.9, loss=0.0108]\n"
     ]
    },
    {
     "name": "stdout",
     "output_type": "stream",
     "text": [
      "current loss: 0.004802536219358444, current accuracy: 0.2743055555555556\n"
     ]
    },
    {
     "name": "stderr",
     "output_type": "stream",
     "text": [
      "Training Epoch 41/400: 100%|██████████| 36/36 [00:03<00:00, 10.43batch/s, accuracy=40.6, loss=0.0104]\n"
     ]
    },
    {
     "name": "stdout",
     "output_type": "stream",
     "text": [
      "current loss: 0.004799752185742061, current accuracy: 0.2638888888888889\n"
     ]
    },
    {
     "name": "stderr",
     "output_type": "stream",
     "text": [
      "Training Epoch 42/400: 100%|██████████| 36/36 [00:03<00:00, 10.24batch/s, accuracy=36.7, loss=0.0104]\n"
     ]
    },
    {
     "name": "stdout",
     "output_type": "stream",
     "text": [
      "current loss: 0.004796203225851059, current accuracy: 0.2708333333333333\n"
     ]
    },
    {
     "name": "stderr",
     "output_type": "stream",
     "text": [
      "Training Epoch 43/400: 100%|██████████| 36/36 [00:03<00:00, 10.39batch/s, accuracy=37.5, loss=0.0105]\n"
     ]
    },
    {
     "name": "stdout",
     "output_type": "stream",
     "text": [
      "current loss: 0.0047951555914349025, current accuracy: 0.2777777777777778\n"
     ]
    },
    {
     "name": "stderr",
     "output_type": "stream",
     "text": [
      "Training Epoch 44/400: 100%|██████████| 36/36 [00:03<00:00, 10.26batch/s, accuracy=33.6, loss=0.0106]\n"
     ]
    },
    {
     "name": "stdout",
     "output_type": "stream",
     "text": [
      "current loss: 0.004794306639167998, current accuracy: 0.2604166666666667\n"
     ]
    },
    {
     "name": "stderr",
     "output_type": "stream",
     "text": [
      "Training Epoch 45/400: 100%|██████████| 36/36 [00:03<00:00, 10.20batch/s, accuracy=33.6, loss=0.0106]\n"
     ]
    },
    {
     "name": "stdout",
     "output_type": "stream",
     "text": [
      "current loss: 0.0047959089279174805, current accuracy: 0.2638888888888889\n"
     ]
    },
    {
     "name": "stderr",
     "output_type": "stream",
     "text": [
      "Training Epoch 46/400: 100%|██████████| 36/36 [00:03<00:00, 10.33batch/s, accuracy=43.8, loss=0.0101]\n"
     ]
    },
    {
     "name": "stdout",
     "output_type": "stream",
     "text": [
      "current loss: 0.004796225163671706, current accuracy: 0.2604166666666667\n"
     ]
    },
    {
     "name": "stderr",
     "output_type": "stream",
     "text": [
      "Training Epoch 47/400: 100%|██████████| 36/36 [00:03<00:00, 10.38batch/s, accuracy=40.6, loss=0.0102]\n"
     ]
    },
    {
     "name": "stdout",
     "output_type": "stream",
     "text": [
      "current loss: 0.0047913942899968885, current accuracy: 0.2604166666666667\n"
     ]
    },
    {
     "name": "stderr",
     "output_type": "stream",
     "text": [
      "Training Epoch 48/400: 100%|██████████| 36/36 [00:03<00:00, 10.38batch/s, accuracy=41.4, loss=0.0105]\n"
     ]
    },
    {
     "name": "stdout",
     "output_type": "stream",
     "text": [
      "current loss: 0.00479373832543691, current accuracy: 0.2673611111111111\n"
     ]
    },
    {
     "name": "stderr",
     "output_type": "stream",
     "text": [
      "Training Epoch 49/400: 100%|██████████| 36/36 [00:03<00:00, 10.48batch/s, accuracy=34.4, loss=0.0103]\n"
     ]
    },
    {
     "name": "stdout",
     "output_type": "stream",
     "text": [
      "current loss: 0.00479001800219218, current accuracy: 0.2638888888888889\n"
     ]
    },
    {
     "name": "stderr",
     "output_type": "stream",
     "text": [
      "Training Epoch 50/400: 100%|██████████| 36/36 [00:03<00:00, 10.38batch/s, accuracy=35.2, loss=0.0106]\n"
     ]
    },
    {
     "name": "stdout",
     "output_type": "stream",
     "text": [
      "current loss: 0.004792865365743637, current accuracy: 0.2673611111111111\n"
     ]
    },
    {
     "name": "stderr",
     "output_type": "stream",
     "text": [
      "Training Epoch 51/400: 100%|██████████| 36/36 [00:03<00:00, 10.35batch/s, accuracy=30.5, loss=0.0105]\n"
     ]
    },
    {
     "name": "stdout",
     "output_type": "stream",
     "text": [
      "current loss: 0.004785564210679796, current accuracy: 0.2638888888888889\n"
     ]
    },
    {
     "name": "stderr",
     "output_type": "stream",
     "text": [
      "Training Epoch 52/400: 100%|██████████| 36/36 [00:03<00:00, 10.31batch/s, accuracy=40.6, loss=0.0103]\n"
     ]
    },
    {
     "name": "stdout",
     "output_type": "stream",
     "text": [
      "current loss: 0.004785313374466366, current accuracy: 0.2534722222222222\n"
     ]
    },
    {
     "name": "stderr",
     "output_type": "stream",
     "text": [
      "Training Epoch 53/400: 100%|██████████| 36/36 [00:03<00:00, 10.34batch/s, accuracy=29.7, loss=0.0104]\n"
     ]
    },
    {
     "name": "stdout",
     "output_type": "stream",
     "text": [
      "current loss: 0.004786210755507152, current accuracy: 0.2777777777777778\n"
     ]
    },
    {
     "name": "stderr",
     "output_type": "stream",
     "text": [
      "Training Epoch 54/400: 100%|██████████| 36/36 [00:03<00:00, 10.42batch/s, accuracy=40.6, loss=0.0102]\n"
     ]
    },
    {
     "name": "stdout",
     "output_type": "stream",
     "text": [
      "current loss: 0.0047830624712838065, current accuracy: 0.28125\n"
     ]
    },
    {
     "name": "stderr",
     "output_type": "stream",
     "text": [
      "Training Epoch 55/400: 100%|██████████| 36/36 [00:03<00:00, 10.64batch/s, accuracy=36.7, loss=0.0104]\n"
     ]
    },
    {
     "name": "stdout",
     "output_type": "stream",
     "text": [
      "current loss: 0.004786850263675054, current accuracy: 0.2743055555555556\n"
     ]
    },
    {
     "name": "stderr",
     "output_type": "stream",
     "text": [
      "Training Epoch 56/400: 100%|██████████| 36/36 [00:03<00:00, 10.50batch/s, accuracy=43.8, loss=0.0102]\n"
     ]
    },
    {
     "name": "stdout",
     "output_type": "stream",
     "text": [
      "current loss: 0.0047859615749782985, current accuracy: 0.2604166666666667\n"
     ]
    },
    {
     "name": "stderr",
     "output_type": "stream",
     "text": [
      "Training Epoch 57/400: 100%|██████████| 36/36 [00:03<00:00, 10.63batch/s, accuracy=37.5, loss=0.0102]\n"
     ]
    },
    {
     "name": "stdout",
     "output_type": "stream",
     "text": [
      "current loss: 0.0047831738160716165, current accuracy: 0.2534722222222222\n"
     ]
    },
    {
     "name": "stderr",
     "output_type": "stream",
     "text": [
      "Training Epoch 58/400: 100%|██████████| 36/36 [00:03<00:00, 10.74batch/s, accuracy=39.8, loss=0.0102]\n"
     ]
    },
    {
     "name": "stdout",
     "output_type": "stream",
     "text": [
      "current loss: 0.004782847232288784, current accuracy: 0.2604166666666667\n"
     ]
    },
    {
     "name": "stderr",
     "output_type": "stream",
     "text": [
      "Training Epoch 59/400: 100%|██████████| 36/36 [00:03<00:00, 10.79batch/s, accuracy=53.9, loss=0.00971]\n"
     ]
    },
    {
     "name": "stdout",
     "output_type": "stream",
     "text": [
      "current loss: 0.004784126662545734, current accuracy: 0.2569444444444444\n"
     ]
    },
    {
     "name": "stderr",
     "output_type": "stream",
     "text": [
      "Training Epoch 60/400: 100%|██████████| 36/36 [00:03<00:00, 10.70batch/s, accuracy=39.8, loss=0.0101]\n"
     ]
    },
    {
     "name": "stdout",
     "output_type": "stream",
     "text": [
      "current loss: 0.004783520681990517, current accuracy: 0.2534722222222222\n"
     ]
    },
    {
     "name": "stderr",
     "output_type": "stream",
     "text": [
      "Training Epoch 61/400: 100%|██████████| 36/36 [00:03<00:00, 10.80batch/s, accuracy=43.8, loss=0.00999]\n"
     ]
    },
    {
     "name": "stdout",
     "output_type": "stream",
     "text": [
      "current loss: 0.004781717227564918, current accuracy: 0.2673611111111111\n"
     ]
    },
    {
     "name": "stderr",
     "output_type": "stream",
     "text": [
      "Training Epoch 62/400: 100%|██████████| 36/36 [00:03<00:00, 10.81batch/s, accuracy=39.1, loss=0.0101] \n"
     ]
    },
    {
     "name": "stdout",
     "output_type": "stream",
     "text": [
      "current loss: 0.004790265940957599, current accuracy: 0.2465277777777778\n"
     ]
    },
    {
     "name": "stderr",
     "output_type": "stream",
     "text": [
      "Training Epoch 63/400: 100%|██████████| 36/36 [00:03<00:00, 10.54batch/s, accuracy=43, loss=0.01]     \n"
     ]
    },
    {
     "name": "stdout",
     "output_type": "stream",
     "text": [
      "current loss: 0.004776311417420705, current accuracy: 0.2604166666666667\n"
     ]
    },
    {
     "name": "stderr",
     "output_type": "stream",
     "text": [
      "Training Epoch 64/400: 100%|██████████| 36/36 [00:03<00:00, 10.73batch/s, accuracy=43, loss=0.0101]   \n"
     ]
    },
    {
     "name": "stdout",
     "output_type": "stream",
     "text": [
      "current loss: 0.004784579078356425, current accuracy: 0.2673611111111111\n"
     ]
    },
    {
     "name": "stderr",
     "output_type": "stream",
     "text": [
      "Training Epoch 65/400: 100%|██████████| 36/36 [00:03<00:00, 10.58batch/s, accuracy=42.2, loss=0.01]  \n"
     ]
    },
    {
     "name": "stdout",
     "output_type": "stream",
     "text": [
      "current loss: 0.0047799961434470285, current accuracy: 0.2673611111111111\n"
     ]
    },
    {
     "name": "stderr",
     "output_type": "stream",
     "text": [
      "Training Epoch 66/400: 100%|██████████| 36/36 [00:03<00:00, 10.43batch/s, accuracy=49.2, loss=0.00968]\n"
     ]
    },
    {
     "name": "stdout",
     "output_type": "stream",
     "text": [
      "current loss: 0.004795829868978924, current accuracy: 0.2569444444444444\n"
     ]
    },
    {
     "name": "stderr",
     "output_type": "stream",
     "text": [
      "Training Epoch 67/400: 100%|██████████| 36/36 [00:03<00:00, 10.59batch/s, accuracy=39.1, loss=0.01]   \n"
     ]
    },
    {
     "name": "stdout",
     "output_type": "stream",
     "text": [
      "current loss: 0.004796197017033895, current accuracy: 0.2604166666666667\n"
     ]
    },
    {
     "name": "stderr",
     "output_type": "stream",
     "text": [
      "Training Epoch 68/400: 100%|██████████| 36/36 [00:03<00:00, 10.80batch/s, accuracy=40.6, loss=0.00986]\n"
     ]
    },
    {
     "name": "stdout",
     "output_type": "stream",
     "text": [
      "current loss: 0.004781364152828853, current accuracy: 0.2604166666666667\n"
     ]
    },
    {
     "name": "stderr",
     "output_type": "stream",
     "text": [
      "Training Epoch 69/400: 100%|██████████| 36/36 [00:03<00:00, 10.75batch/s, accuracy=44.5, loss=0.00977]\n"
     ]
    },
    {
     "name": "stdout",
     "output_type": "stream",
     "text": [
      "current loss: 0.004783524407280816, current accuracy: 0.2604166666666667\n"
     ]
    },
    {
     "name": "stderr",
     "output_type": "stream",
     "text": [
      "Training Epoch 70/400: 100%|██████████| 36/36 [00:03<00:00, 10.85batch/s, accuracy=42.2, loss=0.00972]\n"
     ]
    },
    {
     "name": "stdout",
     "output_type": "stream",
     "text": [
      "current loss: 0.00479716021153662, current accuracy: 0.2534722222222222\n"
     ]
    },
    {
     "name": "stderr",
     "output_type": "stream",
     "text": [
      "Training Epoch 71/400: 100%|██████████| 36/36 [00:03<00:00, 10.88batch/s, accuracy=44.5, loss=0.00951]\n"
     ]
    },
    {
     "name": "stdout",
     "output_type": "stream",
     "text": [
      "current loss: 0.004798828313748042, current accuracy: 0.2465277777777778\n"
     ]
    },
    {
     "name": "stderr",
     "output_type": "stream",
     "text": [
      "Training Epoch 72/400: 100%|██████████| 36/36 [00:03<00:00, 11.14batch/s, accuracy=41.4, loss=0.00989]\n"
     ]
    },
    {
     "name": "stdout",
     "output_type": "stream",
     "text": [
      "current loss: 0.00478893228703075, current accuracy: 0.2534722222222222\n"
     ]
    },
    {
     "name": "stderr",
     "output_type": "stream",
     "text": [
      "Training Epoch 73/400: 100%|██████████| 36/36 [00:03<00:00, 10.98batch/s, accuracy=45.3, loss=0.00958]\n"
     ]
    },
    {
     "name": "stdout",
     "output_type": "stream",
     "text": [
      "current loss: 0.004789116895861096, current accuracy: 0.23958333333333334\n"
     ]
    },
    {
     "name": "stderr",
     "output_type": "stream",
     "text": [
      "Training Epoch 74/400: 100%|██████████| 36/36 [00:03<00:00, 11.45batch/s, accuracy=50, loss=0.00952]  \n"
     ]
    },
    {
     "name": "stdout",
     "output_type": "stream",
     "text": [
      "current loss: 0.004792645573616028, current accuracy: 0.25\n"
     ]
    },
    {
     "name": "stderr",
     "output_type": "stream",
     "text": [
      "Training Epoch 75/400: 100%|██████████| 36/36 [00:03<00:00, 11.12batch/s, accuracy=45.3, loss=0.0097] \n"
     ]
    },
    {
     "name": "stdout",
     "output_type": "stream",
     "text": [
      "current loss: 0.0048021988736258615, current accuracy: 0.2534722222222222\n"
     ]
    },
    {
     "name": "stderr",
     "output_type": "stream",
     "text": [
      "Training Epoch 76/400: 100%|██████████| 36/36 [00:03<00:00, 10.65batch/s, accuracy=44.5, loss=0.00954]\n"
     ]
    },
    {
     "name": "stdout",
     "output_type": "stream",
     "text": [
      "current loss: 0.0047996023462878335, current accuracy: 0.25\n"
     ]
    },
    {
     "name": "stderr",
     "output_type": "stream",
     "text": [
      "Training Epoch 77/400: 100%|██████████| 36/36 [00:03<00:00, 10.98batch/s, accuracy=48.4, loss=0.00951]\n"
     ]
    },
    {
     "name": "stdout",
     "output_type": "stream",
     "text": [
      "current loss: 0.004787806007597182, current accuracy: 0.23958333333333334\n"
     ]
    },
    {
     "name": "stderr",
     "output_type": "stream",
     "text": [
      "Training Epoch 78/400: 100%|██████████| 36/36 [00:03<00:00, 10.86batch/s, accuracy=38.3, loss=0.00957]\n"
     ]
    },
    {
     "name": "stdout",
     "output_type": "stream",
     "text": [
      "current loss: 0.0047984251545535195, current accuracy: 0.25\n"
     ]
    },
    {
     "name": "stderr",
     "output_type": "stream",
     "text": [
      "Training Epoch 79/400: 100%|██████████| 36/36 [00:03<00:00, 11.44batch/s, accuracy=50, loss=0.00941]  \n"
     ]
    },
    {
     "name": "stdout",
     "output_type": "stream",
     "text": [
      "current loss: 0.004801679816510942, current accuracy: 0.2465277777777778\n"
     ]
    },
    {
     "name": "stderr",
     "output_type": "stream",
     "text": [
      "Training Epoch 80/400: 100%|██████████| 36/36 [00:03<00:00, 11.41batch/s, accuracy=45.3, loss=0.00942]\n"
     ]
    },
    {
     "name": "stdout",
     "output_type": "stream",
     "text": [
      "current loss: 0.004808605959018071, current accuracy: 0.2465277777777778\n"
     ]
    },
    {
     "name": "stderr",
     "output_type": "stream",
     "text": [
      "Training Epoch 81/400: 100%|██████████| 36/36 [00:03<00:00, 11.13batch/s, accuracy=53.1, loss=0.00949]\n"
     ]
    },
    {
     "name": "stdout",
     "output_type": "stream",
     "text": [
      "current loss: 0.004819069471624162, current accuracy: 0.25\n"
     ]
    },
    {
     "name": "stderr",
     "output_type": "stream",
     "text": [
      "Training Epoch 82/400: 100%|██████████| 36/36 [00:03<00:00, 11.18batch/s, accuracy=48.4, loss=0.00943]\n"
     ]
    },
    {
     "name": "stdout",
     "output_type": "stream",
     "text": [
      "current loss: 0.004793725079960293, current accuracy: 0.2361111111111111\n"
     ]
    },
    {
     "name": "stderr",
     "output_type": "stream",
     "text": [
      "Training Epoch 83/400: 100%|██████████| 36/36 [00:03<00:00, 11.28batch/s, accuracy=44.5, loss=0.0093] \n"
     ]
    },
    {
     "name": "stdout",
     "output_type": "stream",
     "text": [
      "current loss: 0.004796898613373439, current accuracy: 0.2465277777777778\n"
     ]
    },
    {
     "name": "stderr",
     "output_type": "stream",
     "text": [
      "Training Epoch 84/400: 100%|██████████| 36/36 [00:03<00:00, 11.02batch/s, accuracy=46.9, loss=0.00927]\n"
     ]
    },
    {
     "name": "stdout",
     "output_type": "stream",
     "text": [
      "current loss: 0.004791976263125737, current accuracy: 0.2465277777777778\n"
     ]
    },
    {
     "name": "stderr",
     "output_type": "stream",
     "text": [
      "Training Epoch 85/400: 100%|██████████| 36/36 [00:03<00:00, 11.60batch/s, accuracy=46.1, loss=0.00915]\n"
     ]
    },
    {
     "name": "stdout",
     "output_type": "stream",
     "text": [
      "current loss: 0.004799574613571167, current accuracy: 0.2465277777777778\n"
     ]
    },
    {
     "name": "stderr",
     "output_type": "stream",
     "text": [
      "Training Epoch 86/400: 100%|██████████| 36/36 [00:03<00:00, 11.23batch/s, accuracy=49.2, loss=0.00926]\n"
     ]
    },
    {
     "name": "stdout",
     "output_type": "stream",
     "text": [
      "current loss: 0.004784103069040511, current accuracy: 0.2534722222222222\n"
     ]
    },
    {
     "name": "stderr",
     "output_type": "stream",
     "text": [
      "Training Epoch 87/400: 100%|██████████| 36/36 [00:03<00:00, 11.26batch/s, accuracy=45.3, loss=0.00931]\n"
     ]
    },
    {
     "name": "stdout",
     "output_type": "stream",
     "text": [
      "current loss: 0.004806553324063619, current accuracy: 0.25\n"
     ]
    },
    {
     "name": "stderr",
     "output_type": "stream",
     "text": [
      "Training Epoch 88/400: 100%|██████████| 36/36 [00:03<00:00, 11.33batch/s, accuracy=49.2, loss=0.00928]\n"
     ]
    },
    {
     "name": "stdout",
     "output_type": "stream",
     "text": [
      "current loss: 0.004821283949746026, current accuracy: 0.25\n"
     ]
    },
    {
     "name": "stderr",
     "output_type": "stream",
     "text": [
      "Training Epoch 89/400: 100%|██████████| 36/36 [00:03<00:00, 11.48batch/s, accuracy=47.7, loss=0.00923]\n"
     ]
    },
    {
     "name": "stdout",
     "output_type": "stream",
     "text": [
      "current loss: 0.004824587868319618, current accuracy: 0.25\n"
     ]
    },
    {
     "name": "stderr",
     "output_type": "stream",
     "text": [
      "Training Epoch 90/400: 100%|██████████| 36/36 [00:03<00:00, 10.75batch/s, accuracy=48.4, loss=0.00926]\n"
     ]
    },
    {
     "name": "stdout",
     "output_type": "stream",
     "text": [
      "current loss: 0.004823989338344998, current accuracy: 0.25\n"
     ]
    },
    {
     "name": "stderr",
     "output_type": "stream",
     "text": [
      "Training Epoch 91/400: 100%|██████████| 36/36 [00:03<00:00, 10.69batch/s, accuracy=45.3, loss=0.00893]\n"
     ]
    },
    {
     "name": "stdout",
     "output_type": "stream",
     "text": [
      "current loss: 0.0048106097512775, current accuracy: 0.25\n"
     ]
    },
    {
     "name": "stderr",
     "output_type": "stream",
     "text": [
      "Training Epoch 92/400: 100%|██████████| 36/36 [00:03<00:00, 10.52batch/s, accuracy=53.9, loss=0.00914]\n"
     ]
    },
    {
     "name": "stdout",
     "output_type": "stream",
     "text": [
      "current loss: 0.004788390464252896, current accuracy: 0.25\n"
     ]
    },
    {
     "name": "stderr",
     "output_type": "stream",
     "text": [
      "Training Epoch 93/400: 100%|██████████| 36/36 [00:03<00:00, 10.70batch/s, accuracy=49.2, loss=0.00933]\n"
     ]
    },
    {
     "name": "stdout",
     "output_type": "stream",
     "text": [
      "current loss: 0.00481430772278044, current accuracy: 0.25\n"
     ]
    },
    {
     "name": "stderr",
     "output_type": "stream",
     "text": [
      "Training Epoch 94/400: 100%|██████████| 36/36 [00:03<00:00, 10.74batch/s, accuracy=55.5, loss=0.00889]\n"
     ]
    },
    {
     "name": "stdout",
     "output_type": "stream",
     "text": [
      "current loss: 0.004825647506448958, current accuracy: 0.2465277777777778\n"
     ]
    },
    {
     "name": "stderr",
     "output_type": "stream",
     "text": [
      "Training Epoch 95/400: 100%|██████████| 36/36 [00:03<00:00, 10.81batch/s, accuracy=52.3, loss=0.00885]\n"
     ]
    },
    {
     "name": "stdout",
     "output_type": "stream",
     "text": [
      "current loss: 0.0048101382950941724, current accuracy: 0.2534722222222222\n"
     ]
    },
    {
     "name": "stderr",
     "output_type": "stream",
     "text": [
      "Training Epoch 96/400: 100%|██████████| 36/36 [00:03<00:00, 10.79batch/s, accuracy=48.4, loss=0.00893]\n"
     ]
    },
    {
     "name": "stdout",
     "output_type": "stream",
     "text": [
      "current loss: 0.004790114445818795, current accuracy: 0.2361111111111111\n"
     ]
    },
    {
     "name": "stderr",
     "output_type": "stream",
     "text": [
      "Training Epoch 97/400: 100%|██████████| 36/36 [00:03<00:00, 10.78batch/s, accuracy=46.1, loss=0.00915]\n"
     ]
    },
    {
     "name": "stdout",
     "output_type": "stream",
     "text": [
      "current loss: 0.0048288872672451865, current accuracy: 0.25\n"
     ]
    },
    {
     "name": "stderr",
     "output_type": "stream",
     "text": [
      "Training Epoch 98/400: 100%|██████████| 36/36 [00:03<00:00, 10.70batch/s, accuracy=47.7, loss=0.00906]\n"
     ]
    },
    {
     "name": "stdout",
     "output_type": "stream",
     "text": [
      "current loss: 0.004821591493156221, current accuracy: 0.2534722222222222\n"
     ]
    },
    {
     "name": "stderr",
     "output_type": "stream",
     "text": [
      "Training Epoch 99/400: 100%|██████████| 36/36 [00:03<00:00, 10.85batch/s, accuracy=50.8, loss=0.00916]\n"
     ]
    },
    {
     "name": "stdout",
     "output_type": "stream",
     "text": [
      "current loss: 0.004825337065590752, current accuracy: 0.2465277777777778\n"
     ]
    },
    {
     "name": "stderr",
     "output_type": "stream",
     "text": [
      "Training Epoch 100/400: 100%|██████████| 36/36 [00:03<00:00, 10.84batch/s, accuracy=48.4, loss=0.00893]\n"
     ]
    },
    {
     "name": "stdout",
     "output_type": "stream",
     "text": [
      "current loss: 0.004825177292029063, current accuracy: 0.25\n"
     ]
    },
    {
     "name": "stderr",
     "output_type": "stream",
     "text": [
      "Training Epoch 101/400: 100%|██████████| 36/36 [00:03<00:00, 10.84batch/s, accuracy=51.6, loss=0.00891]\n"
     ]
    },
    {
     "name": "stdout",
     "output_type": "stream",
     "text": [
      "current loss: 0.004832643187708325, current accuracy: 0.24305555555555555\n"
     ]
    },
    {
     "name": "stderr",
     "output_type": "stream",
     "text": [
      "Training Epoch 102/400: 100%|██████████| 36/36 [00:03<00:00, 10.62batch/s, accuracy=50.8, loss=0.00885]\n"
     ]
    },
    {
     "name": "stdout",
     "output_type": "stream",
     "text": [
      "current loss: 0.004830024722549651, current accuracy: 0.25\n"
     ]
    },
    {
     "name": "stderr",
     "output_type": "stream",
     "text": [
      "Training Epoch 103/400: 100%|██████████| 36/36 [00:03<00:00, 10.70batch/s, accuracy=52.3, loss=0.00883]\n"
     ]
    },
    {
     "name": "stdout",
     "output_type": "stream",
     "text": [
      "current loss: 0.00482784253027704, current accuracy: 0.2569444444444444\n"
     ]
    },
    {
     "name": "stderr",
     "output_type": "stream",
     "text": [
      "Training Epoch 104/400: 100%|██████████| 36/36 [00:03<00:00, 10.68batch/s, accuracy=55.5, loss=0.00872]\n"
     ]
    },
    {
     "name": "stdout",
     "output_type": "stream",
     "text": [
      "current loss: 0.0048386214507950675, current accuracy: 0.25\n"
     ]
    },
    {
     "name": "stderr",
     "output_type": "stream",
     "text": [
      "Training Epoch 105/400: 100%|██████████| 36/36 [00:03<00:00, 10.85batch/s, accuracy=48.4, loss=0.0091] \n"
     ]
    },
    {
     "name": "stdout",
     "output_type": "stream",
     "text": [
      "current loss: 0.0048596180147594875, current accuracy: 0.24305555555555555\n"
     ]
    },
    {
     "name": "stderr",
     "output_type": "stream",
     "text": [
      "Training Epoch 106/400: 100%|██████████| 36/36 [00:03<00:00, 10.53batch/s, accuracy=53.1, loss=0.00862]\n"
     ]
    },
    {
     "name": "stdout",
     "output_type": "stream",
     "text": [
      "current loss: 0.004856897724999322, current accuracy: 0.24305555555555555\n"
     ]
    },
    {
     "name": "stderr",
     "output_type": "stream",
     "text": [
      "Training Epoch 107/400: 100%|██████████| 36/36 [00:03<00:00, 10.70batch/s, accuracy=51.6, loss=0.00867]\n"
     ]
    },
    {
     "name": "stdout",
     "output_type": "stream",
     "text": [
      "current loss: 0.004855800420045853, current accuracy: 0.2465277777777778\n"
     ]
    },
    {
     "name": "stderr",
     "output_type": "stream",
     "text": [
      "Training Epoch 108/400: 100%|██████████| 36/36 [00:03<00:00, 10.67batch/s, accuracy=48.4, loss=0.00882]\n"
     ]
    },
    {
     "name": "stdout",
     "output_type": "stream",
     "text": [
      "current loss: 0.004861580000983344, current accuracy: 0.25\n"
     ]
    },
    {
     "name": "stderr",
     "output_type": "stream",
     "text": [
      "Training Epoch 109/400: 100%|██████████| 36/36 [00:03<00:00, 10.84batch/s, accuracy=54.7, loss=0.00853]\n"
     ]
    },
    {
     "name": "stdout",
     "output_type": "stream",
     "text": [
      "current loss: 0.004849511716100905, current accuracy: 0.2465277777777778\n"
     ]
    },
    {
     "name": "stderr",
     "output_type": "stream",
     "text": [
      "Training Epoch 110/400: 100%|██████████| 36/36 [00:03<00:00, 10.78batch/s, accuracy=53.9, loss=0.00855]\n"
     ]
    },
    {
     "name": "stdout",
     "output_type": "stream",
     "text": [
      "current loss: 0.004861002167065938, current accuracy: 0.25\n"
     ]
    },
    {
     "name": "stderr",
     "output_type": "stream",
     "text": [
      "Training Epoch 111/400: 100%|██████████| 36/36 [00:03<00:00, 10.78batch/s, accuracy=55.5, loss=0.00829]\n"
     ]
    },
    {
     "name": "stdout",
     "output_type": "stream",
     "text": [
      "current loss: 0.004860052631960975, current accuracy: 0.25\n"
     ]
    },
    {
     "name": "stderr",
     "output_type": "stream",
     "text": [
      "Training Epoch 112/400: 100%|██████████| 36/36 [00:03<00:00, 10.78batch/s, accuracy=47.7, loss=0.00847]\n"
     ]
    },
    {
     "name": "stdout",
     "output_type": "stream",
     "text": [
      "current loss: 0.004844607578383552, current accuracy: 0.2534722222222222\n"
     ]
    },
    {
     "name": "stderr",
     "output_type": "stream",
     "text": [
      "Training Epoch 113/400: 100%|██████████| 36/36 [00:03<00:00, 10.84batch/s, accuracy=51.6, loss=0.00839]\n"
     ]
    },
    {
     "name": "stdout",
     "output_type": "stream",
     "text": [
      "current loss: 0.004873656564288669, current accuracy: 0.2465277777777778\n"
     ]
    },
    {
     "name": "stderr",
     "output_type": "stream",
     "text": [
      "Training Epoch 114/400: 100%|██████████| 36/36 [00:03<00:00, 10.78batch/s, accuracy=53.9, loss=0.00847]\n"
     ]
    },
    {
     "name": "stdout",
     "output_type": "stream",
     "text": [
      "current loss: 0.004896069566408793, current accuracy: 0.25\n"
     ]
    },
    {
     "name": "stderr",
     "output_type": "stream",
     "text": [
      "Training Epoch 115/400: 100%|██████████| 36/36 [00:03<00:00, 10.81batch/s, accuracy=51.6, loss=0.00856]\n"
     ]
    },
    {
     "name": "stdout",
     "output_type": "stream",
     "text": [
      "current loss: 0.004860001305739085, current accuracy: 0.2534722222222222\n"
     ]
    },
    {
     "name": "stderr",
     "output_type": "stream",
     "text": [
      "Training Epoch 116/400: 100%|██████████| 36/36 [00:03<00:00, 10.74batch/s, accuracy=50, loss=0.0085]   \n"
     ]
    },
    {
     "name": "stdout",
     "output_type": "stream",
     "text": [
      "current loss: 0.004855453554126952, current accuracy: 0.24305555555555555\n"
     ]
    },
    {
     "name": "stderr",
     "output_type": "stream",
     "text": [
      "Training Epoch 117/400: 100%|██████████| 36/36 [00:03<00:00, 10.72batch/s, accuracy=50.8, loss=0.00837]\n"
     ]
    },
    {
     "name": "stdout",
     "output_type": "stream",
     "text": [
      "current loss: 0.004886776622798707, current accuracy: 0.24305555555555555\n"
     ]
    },
    {
     "name": "stderr",
     "output_type": "stream",
     "text": [
      "Training Epoch 118/400: 100%|██████████| 36/36 [00:03<00:00, 10.76batch/s, accuracy=59.4, loss=0.00834]\n"
     ]
    },
    {
     "name": "stdout",
     "output_type": "stream",
     "text": [
      "current loss: 0.0048777999149428476, current accuracy: 0.2534722222222222\n"
     ]
    },
    {
     "name": "stderr",
     "output_type": "stream",
     "text": [
      "Training Epoch 119/400: 100%|██████████| 36/36 [00:03<00:00, 10.88batch/s, accuracy=52.3, loss=0.00855]\n"
     ]
    },
    {
     "name": "stdout",
     "output_type": "stream",
     "text": [
      "current loss: 0.0048911066518889535, current accuracy: 0.25\n"
     ]
    },
    {
     "name": "stderr",
     "output_type": "stream",
     "text": [
      "Training Epoch 120/400: 100%|██████████| 36/36 [00:03<00:00, 10.88batch/s, accuracy=52.3, loss=0.00851]\n"
     ]
    },
    {
     "name": "stdout",
     "output_type": "stream",
     "text": [
      "current loss: 0.004908666014671326, current accuracy: 0.25\n"
     ]
    },
    {
     "name": "stderr",
     "output_type": "stream",
     "text": [
      "Training Epoch 121/400: 100%|██████████| 36/36 [00:03<00:00, 10.69batch/s, accuracy=50.8, loss=0.00835]\n"
     ]
    },
    {
     "name": "stdout",
     "output_type": "stream",
     "text": [
      "current loss: 0.0049024174610773725, current accuracy: 0.25\n"
     ]
    },
    {
     "name": "stderr",
     "output_type": "stream",
     "text": [
      "Training Epoch 122/400: 100%|██████████| 36/36 [00:03<00:00, 10.73batch/s, accuracy=51.6, loss=0.00833]\n"
     ]
    },
    {
     "name": "stdout",
     "output_type": "stream",
     "text": [
      "current loss: 0.004906749973694484, current accuracy: 0.24305555555555555\n"
     ]
    },
    {
     "name": "stderr",
     "output_type": "stream",
     "text": [
      "Training Epoch 123/400: 100%|██████████| 36/36 [00:03<00:00, 10.83batch/s, accuracy=53.9, loss=0.00833]\n"
     ]
    },
    {
     "name": "stdout",
     "output_type": "stream",
     "text": [
      "current loss: 0.004915294961796867, current accuracy: 0.24305555555555555\n"
     ]
    },
    {
     "name": "stderr",
     "output_type": "stream",
     "text": [
      "Training Epoch 124/400: 100%|██████████| 36/36 [00:03<00:00, 10.61batch/s, accuracy=52.3, loss=0.00848]\n"
     ]
    },
    {
     "name": "stdout",
     "output_type": "stream",
     "text": [
      "current loss: 0.004911389615800645, current accuracy: 0.24305555555555555\n"
     ]
    },
    {
     "name": "stderr",
     "output_type": "stream",
     "text": [
      "Training Epoch 125/400: 100%|██████████| 36/36 [00:03<00:00, 10.84batch/s, accuracy=51.6, loss=0.00843]\n"
     ]
    },
    {
     "name": "stdout",
     "output_type": "stream",
     "text": [
      "current loss: 0.004958002103699578, current accuracy: 0.2465277777777778\n"
     ]
    },
    {
     "name": "stderr",
     "output_type": "stream",
     "text": [
      "Training Epoch 126/400: 100%|██████████| 36/36 [00:03<00:00, 10.75batch/s, accuracy=50.8, loss=0.00838]\n"
     ]
    },
    {
     "name": "stdout",
     "output_type": "stream",
     "text": [
      "current loss: 0.004907234261433284, current accuracy: 0.2534722222222222\n"
     ]
    },
    {
     "name": "stderr",
     "output_type": "stream",
     "text": [
      "Training Epoch 127/400: 100%|██████████| 36/36 [00:03<00:00, 10.69batch/s, accuracy=48.4, loss=0.00843]\n"
     ]
    },
    {
     "name": "stdout",
     "output_type": "stream",
     "text": [
      "current loss: 0.004950481984350417, current accuracy: 0.24305555555555555\n"
     ]
    },
    {
     "name": "stderr",
     "output_type": "stream",
     "text": [
      "Training Epoch 128/400: 100%|██████████| 36/36 [00:03<00:00, 10.63batch/s, accuracy=54.7, loss=0.00823]\n"
     ]
    },
    {
     "name": "stdout",
     "output_type": "stream",
     "text": [
      "current loss: 0.004938391347726186, current accuracy: 0.2465277777777778\n"
     ]
    },
    {
     "name": "stderr",
     "output_type": "stream",
     "text": [
      "Training Epoch 129/400: 100%|██████████| 36/36 [00:03<00:00, 10.70batch/s, accuracy=51.6, loss=0.00807]\n"
     ]
    },
    {
     "name": "stdout",
     "output_type": "stream",
     "text": [
      "current loss: 0.004961461242702272, current accuracy: 0.25\n"
     ]
    },
    {
     "name": "stderr",
     "output_type": "stream",
     "text": [
      "Training Epoch 130/400: 100%|██████████| 36/36 [00:03<00:00, 10.79batch/s, accuracy=52.3, loss=0.0083] \n"
     ]
    },
    {
     "name": "stdout",
     "output_type": "stream",
     "text": [
      "current loss: 0.004930420054329766, current accuracy: 0.2465277777777778\n"
     ]
    },
    {
     "name": "stderr",
     "output_type": "stream",
     "text": [
      "Training Epoch 131/400: 100%|██████████| 36/36 [00:03<00:00, 10.78batch/s, accuracy=54.7, loss=0.00812]\n"
     ]
    },
    {
     "name": "stdout",
     "output_type": "stream",
     "text": [
      "current loss: 0.004994424680868785, current accuracy: 0.24305555555555555\n"
     ]
    },
    {
     "name": "stderr",
     "output_type": "stream",
     "text": [
      "Training Epoch 132/400: 100%|██████████| 36/36 [00:03<00:00, 10.68batch/s, accuracy=56.2, loss=0.00812]\n"
     ]
    },
    {
     "name": "stdout",
     "output_type": "stream",
     "text": [
      "current loss: 0.004971534013748169, current accuracy: 0.24305555555555555\n"
     ]
    },
    {
     "name": "stderr",
     "output_type": "stream",
     "text": [
      "Training Epoch 133/400: 100%|██████████| 36/36 [00:03<00:00, 10.73batch/s, accuracy=57.8, loss=0.00805]\n"
     ]
    },
    {
     "name": "stdout",
     "output_type": "stream",
     "text": [
      "current loss: 0.004968948662281036, current accuracy: 0.2361111111111111\n"
     ]
    },
    {
     "name": "stderr",
     "output_type": "stream",
     "text": [
      "Training Epoch 134/400: 100%|██████████| 36/36 [00:03<00:00, 10.57batch/s, accuracy=56.2, loss=0.00827]\n"
     ]
    },
    {
     "name": "stdout",
     "output_type": "stream",
     "text": [
      "current loss: 0.004979889425966475, current accuracy: 0.24305555555555555\n"
     ]
    },
    {
     "name": "stderr",
     "output_type": "stream",
     "text": [
      "Training Epoch 135/400: 100%|██████████| 36/36 [00:03<00:00, 10.74batch/s, accuracy=52.3, loss=0.00801]\n"
     ]
    },
    {
     "name": "stdout",
     "output_type": "stream",
     "text": [
      "current loss: 0.004965944008694755, current accuracy: 0.25\n"
     ]
    },
    {
     "name": "stderr",
     "output_type": "stream",
     "text": [
      "Training Epoch 136/400: 100%|██████████| 36/36 [00:03<00:00, 10.81batch/s, accuracy=54.7, loss=0.00808]\n"
     ]
    },
    {
     "name": "stdout",
     "output_type": "stream",
     "text": [
      "current loss: 0.0050170160830020905, current accuracy: 0.23958333333333334\n"
     ]
    },
    {
     "name": "stderr",
     "output_type": "stream",
     "text": [
      "Training Epoch 137/400: 100%|██████████| 36/36 [00:03<00:00, 10.84batch/s, accuracy=56.2, loss=0.00777]\n"
     ]
    },
    {
     "name": "stdout",
     "output_type": "stream",
     "text": [
      "current loss: 0.00499807670712471, current accuracy: 0.2465277777777778\n"
     ]
    },
    {
     "name": "stderr",
     "output_type": "stream",
     "text": [
      "Training Epoch 138/400: 100%|██████████| 36/36 [00:03<00:00, 10.69batch/s, accuracy=53.9, loss=0.00789]\n"
     ]
    },
    {
     "name": "stdout",
     "output_type": "stream",
     "text": [
      "current loss: 0.0050129468242327375, current accuracy: 0.2361111111111111\n"
     ]
    },
    {
     "name": "stderr",
     "output_type": "stream",
     "text": [
      "Training Epoch 139/400: 100%|██████████| 36/36 [00:03<00:00, 10.93batch/s, accuracy=51.6, loss=0.00833]\n"
     ]
    },
    {
     "name": "stdout",
     "output_type": "stream",
     "text": [
      "current loss: 0.0049828216433525085, current accuracy: 0.2534722222222222\n"
     ]
    },
    {
     "name": "stderr",
     "output_type": "stream",
     "text": [
      "Training Epoch 140/400: 100%|██████████| 36/36 [00:03<00:00, 10.72batch/s, accuracy=61.7, loss=0.00785]\n"
     ]
    },
    {
     "name": "stdout",
     "output_type": "stream",
     "text": [
      "current loss: 0.004992026835680008, current accuracy: 0.25\n"
     ]
    },
    {
     "name": "stderr",
     "output_type": "stream",
     "text": [
      "Training Epoch 141/400: 100%|██████████| 36/36 [00:03<00:00, 10.91batch/s, accuracy=55.5, loss=0.00802]\n"
     ]
    },
    {
     "name": "stdout",
     "output_type": "stream",
     "text": [
      "current loss: 0.0050384120808707345, current accuracy: 0.23958333333333334\n"
     ]
    },
    {
     "name": "stderr",
     "output_type": "stream",
     "text": [
      "Training Epoch 142/400: 100%|██████████| 36/36 [00:03<00:00, 10.78batch/s, accuracy=57.8, loss=0.00778]\n"
     ]
    },
    {
     "name": "stdout",
     "output_type": "stream",
     "text": [
      "current loss: 0.005049806502130296, current accuracy: 0.2465277777777778\n"
     ]
    },
    {
     "name": "stderr",
     "output_type": "stream",
     "text": [
      "Training Epoch 143/400: 100%|██████████| 36/36 [00:03<00:00, 10.63batch/s, accuracy=50.8, loss=0.00793]\n"
     ]
    },
    {
     "name": "stdout",
     "output_type": "stream",
     "text": [
      "current loss: 0.005000532501273685, current accuracy: 0.2465277777777778\n"
     ]
    },
    {
     "name": "stderr",
     "output_type": "stream",
     "text": [
      "Training Epoch 144/400: 100%|██████████| 36/36 [00:03<00:00, 10.67batch/s, accuracy=57, loss=0.00792]  \n"
     ]
    },
    {
     "name": "stdout",
     "output_type": "stream",
     "text": [
      "current loss: 0.005091221796141731, current accuracy: 0.24305555555555555\n"
     ]
    },
    {
     "name": "stderr",
     "output_type": "stream",
     "text": [
      "Training Epoch 145/400: 100%|██████████| 36/36 [00:03<00:00, 10.84batch/s, accuracy=58.6, loss=0.00806]\n"
     ]
    },
    {
     "name": "stdout",
     "output_type": "stream",
     "text": [
      "current loss: 0.004983628789583842, current accuracy: 0.24305555555555555\n"
     ]
    },
    {
     "name": "stderr",
     "output_type": "stream",
     "text": [
      "Training Epoch 146/400: 100%|██████████| 36/36 [00:03<00:00, 10.89batch/s, accuracy=55.5, loss=0.00796]\n"
     ]
    },
    {
     "name": "stdout",
     "output_type": "stream",
     "text": [
      "current loss: 0.0050688377685017055, current accuracy: 0.24305555555555555\n"
     ]
    },
    {
     "name": "stderr",
     "output_type": "stream",
     "text": [
      "Training Epoch 147/400: 100%|██████████| 36/36 [00:03<00:00, 10.80batch/s, accuracy=60.2, loss=0.00769]\n"
     ]
    },
    {
     "name": "stdout",
     "output_type": "stream",
     "text": [
      "current loss: 0.005057916459110048, current accuracy: 0.2361111111111111\n"
     ]
    },
    {
     "name": "stderr",
     "output_type": "stream",
     "text": [
      "Training Epoch 148/400: 100%|██████████| 36/36 [00:03<00:00, 10.60batch/s, accuracy=57.8, loss=0.00744]\n"
     ]
    },
    {
     "name": "stdout",
     "output_type": "stream",
     "text": [
      "current loss: 0.005085878074169159, current accuracy: 0.24305555555555555\n"
     ]
    },
    {
     "name": "stderr",
     "output_type": "stream",
     "text": [
      "Training Epoch 149/400: 100%|██████████| 36/36 [00:03<00:00, 10.62batch/s, accuracy=53.1, loss=0.00807]\n"
     ]
    },
    {
     "name": "stdout",
     "output_type": "stream",
     "text": [
      "current loss: 0.005066960222191281, current accuracy: 0.2326388888888889\n"
     ]
    },
    {
     "name": "stderr",
     "output_type": "stream",
     "text": [
      "Training Epoch 150/400: 100%|██████████| 36/36 [00:03<00:00, 10.90batch/s, accuracy=64.8, loss=0.00729]\n"
     ]
    },
    {
     "name": "stdout",
     "output_type": "stream",
     "text": [
      "current loss: 0.005047657009628084, current accuracy: 0.25\n"
     ]
    },
    {
     "name": "stderr",
     "output_type": "stream",
     "text": [
      "Training Epoch 151/400: 100%|██████████| 36/36 [00:03<00:00, 10.74batch/s, accuracy=57.8, loss=0.00765]\n"
     ]
    },
    {
     "name": "stdout",
     "output_type": "stream",
     "text": [
      "current loss: 0.005112752318382263, current accuracy: 0.24305555555555555\n"
     ]
    },
    {
     "name": "stderr",
     "output_type": "stream",
     "text": [
      "Training Epoch 152/400: 100%|██████████| 36/36 [00:03<00:00, 10.74batch/s, accuracy=60.9, loss=0.00748]\n"
     ]
    },
    {
     "name": "stdout",
     "output_type": "stream",
     "text": [
      "current loss: 0.005142368790176179, current accuracy: 0.24305555555555555\n"
     ]
    },
    {
     "name": "stderr",
     "output_type": "stream",
     "text": [
      "Training Epoch 153/400: 100%|██████████| 36/36 [00:03<00:00, 10.71batch/s, accuracy=57.8, loss=0.0077] \n"
     ]
    },
    {
     "name": "stdout",
     "output_type": "stream",
     "text": [
      "current loss: 0.005109176453616884, current accuracy: 0.2465277777777778\n"
     ]
    },
    {
     "name": "stderr",
     "output_type": "stream",
     "text": [
      "Training Epoch 154/400: 100%|██████████| 36/36 [00:03<00:00, 10.89batch/s, accuracy=60.2, loss=0.00748]\n"
     ]
    },
    {
     "name": "stdout",
     "output_type": "stream",
     "text": [
      "current loss: 0.0051554010974036325, current accuracy: 0.23958333333333334\n"
     ]
    },
    {
     "name": "stderr",
     "output_type": "stream",
     "text": [
      "Training Epoch 155/400: 100%|██████████| 36/36 [00:03<00:00, 10.73batch/s, accuracy=63.3, loss=0.00767]\n"
     ]
    },
    {
     "name": "stdout",
     "output_type": "stream",
     "text": [
      "current loss: 0.005167005790604485, current accuracy: 0.24305555555555555\n"
     ]
    },
    {
     "name": "stderr",
     "output_type": "stream",
     "text": [
      "Training Epoch 156/400: 100%|██████████| 36/36 [00:03<00:00, 10.60batch/s, accuracy=61.7, loss=0.00748]\n"
     ]
    },
    {
     "name": "stdout",
     "output_type": "stream",
     "text": [
      "current loss: 0.005089609987205929, current accuracy: 0.2534722222222222\n"
     ]
    },
    {
     "name": "stderr",
     "output_type": "stream",
     "text": [
      "Training Epoch 157/400: 100%|██████████| 36/36 [00:03<00:00, 10.82batch/s, accuracy=51.6, loss=0.00775]\n"
     ]
    },
    {
     "name": "stdout",
     "output_type": "stream",
     "text": [
      "current loss: 0.005158486051691903, current accuracy: 0.2465277777777778\n"
     ]
    },
    {
     "name": "stderr",
     "output_type": "stream",
     "text": [
      "Training Epoch 158/400: 100%|██████████| 36/36 [00:03<00:00, 10.75batch/s, accuracy=60.9, loss=0.00768]\n"
     ]
    },
    {
     "name": "stdout",
     "output_type": "stream",
     "text": [
      "current loss: 0.005095064640045166, current accuracy: 0.2534722222222222\n"
     ]
    },
    {
     "name": "stderr",
     "output_type": "stream",
     "text": [
      "Training Epoch 159/400: 100%|██████████| 36/36 [00:03<00:00, 10.79batch/s, accuracy=52.3, loss=0.0076] \n"
     ]
    },
    {
     "name": "stdout",
     "output_type": "stream",
     "text": [
      "current loss: 0.005158975306484435, current accuracy: 0.2465277777777778\n"
     ]
    },
    {
     "name": "stderr",
     "output_type": "stream",
     "text": [
      "Training Epoch 160/400: 100%|██████████| 36/36 [00:03<00:00, 10.77batch/s, accuracy=53.9, loss=0.00733]\n"
     ]
    },
    {
     "name": "stdout",
     "output_type": "stream",
     "text": [
      "current loss: 0.005111828032467101, current accuracy: 0.2604166666666667\n"
     ]
    },
    {
     "name": "stderr",
     "output_type": "stream",
     "text": [
      "Training Epoch 161/400: 100%|██████████| 36/36 [00:03<00:00, 10.80batch/s, accuracy=60.9, loss=0.00741]\n"
     ]
    },
    {
     "name": "stdout",
     "output_type": "stream",
     "text": [
      "current loss: 0.00517929055624538, current accuracy: 0.2465277777777778\n"
     ]
    },
    {
     "name": "stderr",
     "output_type": "stream",
     "text": [
      "Training Epoch 162/400: 100%|██████████| 36/36 [00:03<00:00, 10.81batch/s, accuracy=59.4, loss=0.00746]\n"
     ]
    },
    {
     "name": "stdout",
     "output_type": "stream",
     "text": [
      "current loss: 0.005161999828285641, current accuracy: 0.2569444444444444\n"
     ]
    },
    {
     "name": "stderr",
     "output_type": "stream",
     "text": [
      "Training Epoch 163/400: 100%|██████████| 36/36 [00:03<00:00, 10.84batch/s, accuracy=58.6, loss=0.00773]\n"
     ]
    },
    {
     "name": "stdout",
     "output_type": "stream",
     "text": [
      "current loss: 0.005103468481037352, current accuracy: 0.2534722222222222\n"
     ]
    },
    {
     "name": "stderr",
     "output_type": "stream",
     "text": [
      "Training Epoch 164/400: 100%|██████████| 36/36 [00:03<00:00, 10.75batch/s, accuracy=50.8, loss=0.00749]\n"
     ]
    },
    {
     "name": "stdout",
     "output_type": "stream",
     "text": [
      "current loss: 0.005178830275932948, current accuracy: 0.2465277777777778\n"
     ]
    },
    {
     "name": "stderr",
     "output_type": "stream",
     "text": [
      "Training Epoch 165/400: 100%|██████████| 36/36 [00:03<00:00, 10.76batch/s, accuracy=64.1, loss=0.00711]\n"
     ]
    },
    {
     "name": "stdout",
     "output_type": "stream",
     "text": [
      "current loss: 0.00513063660926289, current accuracy: 0.2569444444444444\n"
     ]
    },
    {
     "name": "stderr",
     "output_type": "stream",
     "text": [
      "Training Epoch 166/400: 100%|██████████| 36/36 [00:03<00:00, 11.03batch/s, accuracy=62.5, loss=0.00722]\n"
     ]
    },
    {
     "name": "stdout",
     "output_type": "stream",
     "text": [
      "current loss: 0.005170959565374587, current accuracy: 0.2534722222222222\n"
     ]
    },
    {
     "name": "stderr",
     "output_type": "stream",
     "text": [
      "Training Epoch 167/400: 100%|██████████| 36/36 [00:02<00:00, 12.44batch/s, accuracy=63.3, loss=0.00697]\n"
     ]
    },
    {
     "name": "stdout",
     "output_type": "stream",
     "text": [
      "current loss: 0.005192708224058151, current accuracy: 0.2534722222222222\n"
     ]
    },
    {
     "name": "stderr",
     "output_type": "stream",
     "text": [
      "Training Epoch 168/400: 100%|██████████| 36/36 [00:02<00:00, 12.21batch/s, accuracy=64.1, loss=0.00738]\n"
     ]
    },
    {
     "name": "stdout",
     "output_type": "stream",
     "text": [
      "current loss: 0.005214112500349681, current accuracy: 0.2604166666666667\n"
     ]
    },
    {
     "name": "stderr",
     "output_type": "stream",
     "text": [
      "Training Epoch 169/400: 100%|██████████| 36/36 [00:02<00:00, 12.39batch/s, accuracy=53.1, loss=0.00747]\n"
     ]
    },
    {
     "name": "stdout",
     "output_type": "stream",
     "text": [
      "current loss: 0.005213937825626797, current accuracy: 0.2638888888888889\n"
     ]
    },
    {
     "name": "stderr",
     "output_type": "stream",
     "text": [
      "Training Epoch 170/400: 100%|██████████| 36/36 [00:02<00:00, 12.40batch/s, accuracy=64.8, loss=0.0071] \n"
     ]
    },
    {
     "name": "stdout",
     "output_type": "stream",
     "text": [
      "current loss: 0.005199732879797618, current accuracy: 0.2534722222222222\n"
     ]
    },
    {
     "name": "stderr",
     "output_type": "stream",
     "text": [
      "Training Epoch 171/400: 100%|██████████| 36/36 [00:02<00:00, 12.41batch/s, accuracy=58.6, loss=0.00737]\n"
     ]
    },
    {
     "name": "stdout",
     "output_type": "stream",
     "text": [
      "current loss: 0.005213900572723812, current accuracy: 0.2569444444444444\n"
     ]
    },
    {
     "name": "stderr",
     "output_type": "stream",
     "text": [
      "Training Epoch 172/400: 100%|██████████| 36/36 [00:02<00:00, 12.36batch/s, accuracy=64.1, loss=0.00719]\n"
     ]
    },
    {
     "name": "stdout",
     "output_type": "stream",
     "text": [
      "current loss: 0.005239836871623993, current accuracy: 0.2569444444444444\n"
     ]
    },
    {
     "name": "stderr",
     "output_type": "stream",
     "text": [
      "Training Epoch 173/400: 100%|██████████| 36/36 [00:02<00:00, 12.22batch/s, accuracy=64.1, loss=0.00703]\n"
     ]
    },
    {
     "name": "stdout",
     "output_type": "stream",
     "text": [
      "current loss: 0.005191625406344731, current accuracy: 0.2604166666666667\n"
     ]
    },
    {
     "name": "stderr",
     "output_type": "stream",
     "text": [
      "Training Epoch 174/400: 100%|██████████| 36/36 [00:02<00:00, 12.13batch/s, accuracy=60.9, loss=0.00683]\n"
     ]
    },
    {
     "name": "stdout",
     "output_type": "stream",
     "text": [
      "current loss: 0.0052235010597440935, current accuracy: 0.2604166666666667\n"
     ]
    },
    {
     "name": "stderr",
     "output_type": "stream",
     "text": [
      "Training Epoch 175/400: 100%|██████████| 36/36 [00:02<00:00, 12.19batch/s, accuracy=57.8, loss=0.00731]\n"
     ]
    },
    {
     "name": "stdout",
     "output_type": "stream",
     "text": [
      "current loss: 0.005198869026369519, current accuracy: 0.2708333333333333\n"
     ]
    },
    {
     "name": "stderr",
     "output_type": "stream",
     "text": [
      "Training Epoch 176/400: 100%|██████████| 36/36 [00:02<00:00, 12.39batch/s, accuracy=60.9, loss=0.00736]\n"
     ]
    },
    {
     "name": "stdout",
     "output_type": "stream",
     "text": [
      "current loss: 0.005214672949579027, current accuracy: 0.2604166666666667\n"
     ]
    },
    {
     "name": "stderr",
     "output_type": "stream",
     "text": [
      "Training Epoch 177/400: 100%|██████████| 36/36 [00:02<00:00, 12.27batch/s, accuracy=58.6, loss=0.00773]\n"
     ]
    },
    {
     "name": "stdout",
     "output_type": "stream",
     "text": [
      "current loss: 0.005288179549905989, current accuracy: 0.2465277777777778\n"
     ]
    },
    {
     "name": "stderr",
     "output_type": "stream",
     "text": [
      "Training Epoch 178/400: 100%|██████████| 36/36 [00:02<00:00, 12.36batch/s, accuracy=63.3, loss=0.00734]\n"
     ]
    },
    {
     "name": "stdout",
     "output_type": "stream",
     "text": [
      "current loss: 0.005223026292191612, current accuracy: 0.2534722222222222\n"
     ]
    },
    {
     "name": "stderr",
     "output_type": "stream",
     "text": [
      "Training Epoch 179/400: 100%|██████████| 36/36 [00:02<00:00, 12.15batch/s, accuracy=68, loss=0.00696]  \n"
     ]
    },
    {
     "name": "stdout",
     "output_type": "stream",
     "text": [
      "current loss: 0.005292685081561406, current accuracy: 0.2465277777777778\n"
     ]
    },
    {
     "name": "stderr",
     "output_type": "stream",
     "text": [
      "Training Epoch 180/400: 100%|██████████| 36/36 [00:02<00:00, 12.33batch/s, accuracy=63.3, loss=0.00689]\n"
     ]
    },
    {
     "name": "stdout",
     "output_type": "stream",
     "text": [
      "current loss: 0.005348229987753762, current accuracy: 0.24305555555555555\n"
     ]
    },
    {
     "name": "stderr",
     "output_type": "stream",
     "text": [
      "Training Epoch 181/400: 100%|██████████| 36/36 [00:02<00:00, 12.29batch/s, accuracy=60.2, loss=0.00723]\n"
     ]
    },
    {
     "name": "stdout",
     "output_type": "stream",
     "text": [
      "current loss: 0.005272880610492494, current accuracy: 0.2569444444444444\n"
     ]
    },
    {
     "name": "stderr",
     "output_type": "stream",
     "text": [
      "Training Epoch 182/400: 100%|██████████| 36/36 [00:02<00:00, 12.14batch/s, accuracy=60.2, loss=0.00694]\n"
     ]
    },
    {
     "name": "stdout",
     "output_type": "stream",
     "text": [
      "current loss: 0.0054166677097479505, current accuracy: 0.24305555555555555\n"
     ]
    },
    {
     "name": "stderr",
     "output_type": "stream",
     "text": [
      "Training Epoch 183/400: 100%|██████████| 36/36 [00:02<00:00, 12.40batch/s, accuracy=57, loss=0.00732]  \n"
     ]
    },
    {
     "name": "stdout",
     "output_type": "stream",
     "text": [
      "current loss: 0.005251119948095745, current accuracy: 0.2638888888888889\n"
     ]
    },
    {
     "name": "stderr",
     "output_type": "stream",
     "text": [
      "Training Epoch 184/400: 100%|██████████| 36/36 [00:02<00:00, 12.29batch/s, accuracy=64.1, loss=0.00701]\n"
     ]
    },
    {
     "name": "stdout",
     "output_type": "stream",
     "text": [
      "current loss: 0.005249941514597999, current accuracy: 0.2673611111111111\n"
     ]
    },
    {
     "name": "stderr",
     "output_type": "stream",
     "text": [
      "Training Epoch 185/400: 100%|██████████| 36/36 [00:02<00:00, 12.23batch/s, accuracy=64.8, loss=0.00713]\n"
     ]
    },
    {
     "name": "stdout",
     "output_type": "stream",
     "text": [
      "current loss: 0.005309665782584084, current accuracy: 0.2569444444444444\n"
     ]
    },
    {
     "name": "stderr",
     "output_type": "stream",
     "text": [
      "Training Epoch 186/400: 100%|██████████| 36/36 [00:02<00:00, 12.33batch/s, accuracy=66.4, loss=0.0066] \n"
     ]
    },
    {
     "name": "stdout",
     "output_type": "stream",
     "text": [
      "current loss: 0.005364115453428692, current accuracy: 0.2534722222222222\n"
     ]
    },
    {
     "name": "stderr",
     "output_type": "stream",
     "text": [
      "Training Epoch 187/400: 100%|██████████| 36/36 [00:02<00:00, 12.32batch/s, accuracy=57.8, loss=0.00751]\n"
     ]
    },
    {
     "name": "stdout",
     "output_type": "stream",
     "text": [
      "current loss: 0.005307038211160236, current accuracy: 0.2604166666666667\n"
     ]
    },
    {
     "name": "stderr",
     "output_type": "stream",
     "text": [
      "Training Epoch 188/400: 100%|██████████| 36/36 [00:02<00:00, 12.19batch/s, accuracy=61.7, loss=0.00696]\n"
     ]
    },
    {
     "name": "stdout",
     "output_type": "stream",
     "text": [
      "current loss: 0.005252597646580802, current accuracy: 0.2777777777777778\n"
     ]
    },
    {
     "name": "stderr",
     "output_type": "stream",
     "text": [
      "Training Epoch 189/400: 100%|██████████| 36/36 [00:02<00:00, 12.22batch/s, accuracy=64.1, loss=0.00695]\n"
     ]
    },
    {
     "name": "stdout",
     "output_type": "stream",
     "text": [
      "current loss: 0.005332121832503213, current accuracy: 0.2638888888888889\n"
     ]
    },
    {
     "name": "stderr",
     "output_type": "stream",
     "text": [
      "Training Epoch 190/400: 100%|██████████| 36/36 [00:02<00:00, 12.38batch/s, accuracy=60.9, loss=0.00734]\n"
     ]
    },
    {
     "name": "stdout",
     "output_type": "stream",
     "text": [
      "current loss: 0.005273072255982293, current accuracy: 0.2743055555555556\n"
     ]
    },
    {
     "name": "stderr",
     "output_type": "stream",
     "text": [
      "Training Epoch 191/400: 100%|██████████| 36/36 [00:02<00:00, 12.06batch/s, accuracy=58.6, loss=0.0068] \n"
     ]
    },
    {
     "name": "stdout",
     "output_type": "stream",
     "text": [
      "current loss: 0.0053067948255274035, current accuracy: 0.2604166666666667\n"
     ]
    },
    {
     "name": "stderr",
     "output_type": "stream",
     "text": [
      "Training Epoch 192/400: 100%|██████████| 36/36 [00:02<00:00, 12.25batch/s, accuracy=62.5, loss=0.00705]\n"
     ]
    },
    {
     "name": "stdout",
     "output_type": "stream",
     "text": [
      "current loss: 0.005332590805159675, current accuracy: 0.2604166666666667\n"
     ]
    },
    {
     "name": "stderr",
     "output_type": "stream",
     "text": [
      "Training Epoch 193/400: 100%|██████████| 36/36 [00:02<00:00, 12.17batch/s, accuracy=65.6, loss=0.00696]\n"
     ]
    },
    {
     "name": "stdout",
     "output_type": "stream",
     "text": [
      "current loss: 0.005377062492900425, current accuracy: 0.2534722222222222\n"
     ]
    },
    {
     "name": "stderr",
     "output_type": "stream",
     "text": [
      "Training Epoch 194/400: 100%|██████████| 36/36 [00:02<00:00, 12.30batch/s, accuracy=60.9, loss=0.00692]\n"
     ]
    },
    {
     "name": "stdout",
     "output_type": "stream",
     "text": [
      "current loss: 0.005345327572690116, current accuracy: 0.2743055555555556\n"
     ]
    },
    {
     "name": "stderr",
     "output_type": "stream",
     "text": [
      "Training Epoch 195/400: 100%|██████████| 36/36 [00:02<00:00, 12.33batch/s, accuracy=67.2, loss=0.00664]\n"
     ]
    },
    {
     "name": "stdout",
     "output_type": "stream",
     "text": [
      "current loss: 0.0054271601968341405, current accuracy: 0.2569444444444444\n"
     ]
    },
    {
     "name": "stderr",
     "output_type": "stream",
     "text": [
      "Training Epoch 196/400: 100%|██████████| 36/36 [00:02<00:00, 12.16batch/s, accuracy=62.5, loss=0.00685]\n"
     ]
    },
    {
     "name": "stdout",
     "output_type": "stream",
     "text": [
      "current loss: 0.005419786605570052, current accuracy: 0.2638888888888889\n"
     ]
    },
    {
     "name": "stderr",
     "output_type": "stream",
     "text": [
      "Training Epoch 197/400: 100%|██████████| 36/36 [00:02<00:00, 12.10batch/s, accuracy=64.8, loss=0.00675]\n"
     ]
    },
    {
     "name": "stdout",
     "output_type": "stream",
     "text": [
      "current loss: 0.005411759432819154, current accuracy: 0.2604166666666667\n"
     ]
    },
    {
     "name": "stderr",
     "output_type": "stream",
     "text": [
      "Training Epoch 198/400: 100%|██████████| 36/36 [00:02<00:00, 12.38batch/s, accuracy=59.4, loss=0.00742]\n"
     ]
    },
    {
     "name": "stdout",
     "output_type": "stream",
     "text": [
      "current loss: 0.005400232556793425, current accuracy: 0.2743055555555556\n"
     ]
    },
    {
     "name": "stderr",
     "output_type": "stream",
     "text": [
      "Training Epoch 199/400: 100%|██████████| 36/36 [00:02<00:00, 12.24batch/s, accuracy=61.7, loss=0.00676]\n"
     ]
    },
    {
     "name": "stdout",
     "output_type": "stream",
     "text": [
      "current loss: 0.00544393766257498, current accuracy: 0.2604166666666667\n"
     ]
    },
    {
     "name": "stderr",
     "output_type": "stream",
     "text": [
      "Training Epoch 200/400: 100%|██████████| 36/36 [00:02<00:00, 12.42batch/s, accuracy=56.2, loss=0.00714]\n"
     ]
    },
    {
     "name": "stdout",
     "output_type": "stream",
     "text": [
      "current loss: 0.005425815367036396, current accuracy: 0.2638888888888889\n"
     ]
    },
    {
     "name": "stderr",
     "output_type": "stream",
     "text": [
      "Training Epoch 201/400: 100%|██████████| 36/36 [00:02<00:00, 12.32batch/s, accuracy=61.7, loss=0.00681]\n"
     ]
    },
    {
     "name": "stdout",
     "output_type": "stream",
     "text": [
      "current loss: 0.005447972151968215, current accuracy: 0.2673611111111111\n"
     ]
    },
    {
     "name": "stderr",
     "output_type": "stream",
     "text": [
      "Training Epoch 202/400: 100%|██████████| 36/36 [00:02<00:00, 12.42batch/s, accuracy=63.3, loss=0.00653]\n"
     ]
    },
    {
     "name": "stdout",
     "output_type": "stream",
     "text": [
      "current loss: 0.005473008586300744, current accuracy: 0.2569444444444444\n"
     ]
    },
    {
     "name": "stderr",
     "output_type": "stream",
     "text": [
      "Training Epoch 203/400: 100%|██████████| 36/36 [00:02<00:00, 12.19batch/s, accuracy=61.7, loss=0.00701]\n"
     ]
    },
    {
     "name": "stdout",
     "output_type": "stream",
     "text": [
      "current loss: 0.005518224504258897, current accuracy: 0.2569444444444444\n"
     ]
    },
    {
     "name": "stderr",
     "output_type": "stream",
     "text": [
      "Training Epoch 204/400: 100%|██████████| 36/36 [00:02<00:00, 12.29batch/s, accuracy=67.2, loss=0.0073] \n"
     ]
    },
    {
     "name": "stdout",
     "output_type": "stream",
     "text": [
      "current loss: 0.005445309811168247, current accuracy: 0.2708333333333333\n"
     ]
    },
    {
     "name": "stderr",
     "output_type": "stream",
     "text": [
      "Training Epoch 205/400: 100%|██████████| 36/36 [00:02<00:00, 12.29batch/s, accuracy=61.7, loss=0.00653]\n"
     ]
    },
    {
     "name": "stdout",
     "output_type": "stream",
     "text": [
      "current loss: 0.00546399959259563, current accuracy: 0.2743055555555556\n"
     ]
    },
    {
     "name": "stderr",
     "output_type": "stream",
     "text": [
      "Training Epoch 206/400: 100%|██████████| 36/36 [00:02<00:00, 12.31batch/s, accuracy=71.1, loss=0.00648]\n"
     ]
    },
    {
     "name": "stdout",
     "output_type": "stream",
     "text": [
      "current loss: 0.005559583091073566, current accuracy: 0.2569444444444444\n"
     ]
    },
    {
     "name": "stderr",
     "output_type": "stream",
     "text": [
      "Training Epoch 207/400: 100%|██████████| 36/36 [00:02<00:00, 12.16batch/s, accuracy=64.8, loss=0.00658]\n"
     ]
    },
    {
     "name": "stdout",
     "output_type": "stream",
     "text": [
      "current loss: 0.005513442059357961, current accuracy: 0.2638888888888889\n"
     ]
    },
    {
     "name": "stderr",
     "output_type": "stream",
     "text": [
      "Training Epoch 208/400: 100%|██████████| 36/36 [00:02<00:00, 12.26batch/s, accuracy=61.7, loss=0.00643]\n"
     ]
    },
    {
     "name": "stdout",
     "output_type": "stream",
     "text": [
      "current loss: 0.005512602627277374, current accuracy: 0.2673611111111111\n"
     ]
    },
    {
     "name": "stderr",
     "output_type": "stream",
     "text": [
      "Training Epoch 209/400: 100%|██████████| 36/36 [00:02<00:00, 12.19batch/s, accuracy=68, loss=0.00659]  \n"
     ]
    },
    {
     "name": "stdout",
     "output_type": "stream",
     "text": [
      "current loss: 0.005449243303802278, current accuracy: 0.2743055555555556\n"
     ]
    },
    {
     "name": "stderr",
     "output_type": "stream",
     "text": [
      "Training Epoch 210/400: 100%|██████████| 36/36 [00:02<00:00, 12.17batch/s, accuracy=62.5, loss=0.0069] \n"
     ]
    },
    {
     "name": "stdout",
     "output_type": "stream",
     "text": [
      "current loss: 0.005420222464534972, current accuracy: 0.28125\n"
     ]
    },
    {
     "name": "stderr",
     "output_type": "stream",
     "text": [
      "Training Epoch 211/400: 100%|██████████| 36/36 [00:02<00:00, 12.17batch/s, accuracy=65.6, loss=0.0066] \n"
     ]
    },
    {
     "name": "stdout",
     "output_type": "stream",
     "text": [
      "current loss: 0.005508850846025679, current accuracy: 0.2638888888888889\n"
     ]
    },
    {
     "name": "stderr",
     "output_type": "stream",
     "text": [
      "Training Epoch 212/400: 100%|██████████| 36/36 [00:02<00:00, 12.22batch/s, accuracy=68, loss=0.00692]  \n"
     ]
    },
    {
     "name": "stdout",
     "output_type": "stream",
     "text": [
      "current loss: 0.005437755750285255, current accuracy: 0.2673611111111111\n"
     ]
    },
    {
     "name": "stderr",
     "output_type": "stream",
     "text": [
      "Training Epoch 213/400: 100%|██████████| 36/36 [00:02<00:00, 12.32batch/s, accuracy=70.3, loss=0.00647]\n"
     ]
    },
    {
     "name": "stdout",
     "output_type": "stream",
     "text": [
      "current loss: 0.005526276098357307, current accuracy: 0.2743055555555556\n"
     ]
    },
    {
     "name": "stderr",
     "output_type": "stream",
     "text": [
      "Training Epoch 214/400: 100%|██████████| 36/36 [00:03<00:00, 11.99batch/s, accuracy=68.8, loss=0.00652]\n"
     ]
    },
    {
     "name": "stdout",
     "output_type": "stream",
     "text": [
      "current loss: 0.0055509159962336225, current accuracy: 0.2604166666666667\n"
     ]
    },
    {
     "name": "stderr",
     "output_type": "stream",
     "text": [
      "Training Epoch 215/400: 100%|██████████| 36/36 [00:02<00:00, 12.32batch/s, accuracy=66.4, loss=0.00691]\n"
     ]
    },
    {
     "name": "stdout",
     "output_type": "stream",
     "text": [
      "current loss: 0.005388759904437595, current accuracy: 0.28125\n"
     ]
    },
    {
     "name": "stderr",
     "output_type": "stream",
     "text": [
      "Training Epoch 216/400: 100%|██████████| 36/36 [00:02<00:00, 12.33batch/s, accuracy=68, loss=0.00664]  \n"
     ]
    },
    {
     "name": "stdout",
     "output_type": "stream",
     "text": [
      "current loss: 0.005677040252420638, current accuracy: 0.2569444444444444\n"
     ]
    },
    {
     "name": "stderr",
     "output_type": "stream",
     "text": [
      "Training Epoch 217/400: 100%|██████████| 36/36 [00:02<00:00, 12.34batch/s, accuracy=62.5, loss=0.00686]\n"
     ]
    },
    {
     "name": "stdout",
     "output_type": "stream",
     "text": [
      "current loss: 0.005593037025796043, current accuracy: 0.2673611111111111\n"
     ]
    },
    {
     "name": "stderr",
     "output_type": "stream",
     "text": [
      "Training Epoch 218/400: 100%|██████████| 36/36 [00:02<00:00, 12.33batch/s, accuracy=61.7, loss=0.00665]\n"
     ]
    },
    {
     "name": "stdout",
     "output_type": "stream",
     "text": [
      "current loss: 0.005512370003594292, current accuracy: 0.28125\n"
     ]
    },
    {
     "name": "stderr",
     "output_type": "stream",
     "text": [
      "Training Epoch 219/400: 100%|██████████| 36/36 [00:02<00:00, 12.16batch/s, accuracy=60.2, loss=0.00643]\n"
     ]
    },
    {
     "name": "stdout",
     "output_type": "stream",
     "text": [
      "current loss: 0.005657815270953708, current accuracy: 0.2673611111111111\n"
     ]
    },
    {
     "name": "stderr",
     "output_type": "stream",
     "text": [
      "Training Epoch 220/400: 100%|██████████| 36/36 [00:02<00:00, 12.24batch/s, accuracy=63.3, loss=0.00642]\n"
     ]
    },
    {
     "name": "stdout",
     "output_type": "stream",
     "text": [
      "current loss: 0.005526070793469747, current accuracy: 0.2673611111111111\n"
     ]
    },
    {
     "name": "stderr",
     "output_type": "stream",
     "text": [
      "Training Epoch 221/400: 100%|██████████| 36/36 [00:02<00:00, 12.32batch/s, accuracy=64.1, loss=0.00623]\n"
     ]
    },
    {
     "name": "stdout",
     "output_type": "stream",
     "text": [
      "current loss: 0.005522496584388945, current accuracy: 0.2743055555555556\n"
     ]
    },
    {
     "name": "stderr",
     "output_type": "stream",
     "text": [
      "Training Epoch 222/400: 100%|██████████| 36/36 [00:02<00:00, 12.03batch/s, accuracy=71.9, loss=0.00645]\n"
     ]
    },
    {
     "name": "stdout",
     "output_type": "stream",
     "text": [
      "current loss: 0.005657482892274857, current accuracy: 0.2673611111111111\n"
     ]
    },
    {
     "name": "stderr",
     "output_type": "stream",
     "text": [
      "Training Epoch 223/400: 100%|██████████| 36/36 [00:02<00:00, 12.30batch/s, accuracy=68.8, loss=0.00659]\n"
     ]
    },
    {
     "name": "stdout",
     "output_type": "stream",
     "text": [
      "current loss: 0.005627106875181198, current accuracy: 0.28125\n"
     ]
    },
    {
     "name": "stderr",
     "output_type": "stream",
     "text": [
      "Training Epoch 224/400: 100%|██████████| 36/36 [00:02<00:00, 12.29batch/s, accuracy=71.9, loss=0.00636]\n"
     ]
    },
    {
     "name": "stdout",
     "output_type": "stream",
     "text": [
      "current loss: 0.005739345732662413, current accuracy: 0.2708333333333333\n"
     ]
    },
    {
     "name": "stderr",
     "output_type": "stream",
     "text": [
      "Training Epoch 225/400: 100%|██████████| 36/36 [00:02<00:00, 12.06batch/s, accuracy=68, loss=0.0063]   \n"
     ]
    },
    {
     "name": "stdout",
     "output_type": "stream",
     "text": [
      "current loss: 0.005661002877685759, current accuracy: 0.2743055555555556\n"
     ]
    },
    {
     "name": "stderr",
     "output_type": "stream",
     "text": [
      "Training Epoch 226/400: 100%|██████████| 36/36 [00:02<00:00, 12.29batch/s, accuracy=63.3, loss=0.00628]\n"
     ]
    },
    {
     "name": "stdout",
     "output_type": "stream",
     "text": [
      "current loss: 0.005738467391994264, current accuracy: 0.2673611111111111\n"
     ]
    },
    {
     "name": "stderr",
     "output_type": "stream",
     "text": [
      "Training Epoch 227/400: 100%|██████████| 36/36 [00:02<00:00, 12.37batch/s, accuracy=62.5, loss=0.00627]\n"
     ]
    },
    {
     "name": "stdout",
     "output_type": "stream",
     "text": [
      "current loss: 0.005703842060433494, current accuracy: 0.2777777777777778\n"
     ]
    },
    {
     "name": "stderr",
     "output_type": "stream",
     "text": [
      "Training Epoch 228/400: 100%|██████████| 36/36 [00:02<00:00, 12.03batch/s, accuracy=70.3, loss=0.00652]\n"
     ]
    },
    {
     "name": "stdout",
     "output_type": "stream",
     "text": [
      "current loss: 0.005700275301933289, current accuracy: 0.2638888888888889\n"
     ]
    },
    {
     "name": "stderr",
     "output_type": "stream",
     "text": [
      "Training Epoch 229/400: 100%|██████████| 36/36 [00:02<00:00, 12.29batch/s, accuracy=69.5, loss=0.00626]\n"
     ]
    },
    {
     "name": "stdout",
     "output_type": "stream",
     "text": [
      "current loss: 0.005742537064684762, current accuracy: 0.2777777777777778\n"
     ]
    },
    {
     "name": "stderr",
     "output_type": "stream",
     "text": [
      "Training Epoch 230/400: 100%|██████████| 36/36 [00:02<00:00, 12.16batch/s, accuracy=65.6, loss=0.00626]\n"
     ]
    },
    {
     "name": "stdout",
     "output_type": "stream",
     "text": [
      "current loss: 0.0057173242999447715, current accuracy: 0.2743055555555556\n"
     ]
    },
    {
     "name": "stderr",
     "output_type": "stream",
     "text": [
      "Training Epoch 231/400: 100%|██████████| 36/36 [00:02<00:00, 12.28batch/s, accuracy=67.2, loss=0.00635]\n"
     ]
    },
    {
     "name": "stdout",
     "output_type": "stream",
     "text": [
      "current loss: 0.005840650863117642, current accuracy: 0.2638888888888889\n"
     ]
    },
    {
     "name": "stderr",
     "output_type": "stream",
     "text": [
      "Training Epoch 232/400: 100%|██████████| 36/36 [00:02<00:00, 12.12batch/s, accuracy=63.3, loss=0.00714]\n"
     ]
    },
    {
     "name": "stdout",
     "output_type": "stream",
     "text": [
      "current loss: 0.005700957030057907, current accuracy: 0.2673611111111111\n"
     ]
    },
    {
     "name": "stderr",
     "output_type": "stream",
     "text": [
      "Training Epoch 233/400: 100%|██████████| 36/36 [00:02<00:00, 12.01batch/s, accuracy=63.3, loss=0.00664]\n"
     ]
    },
    {
     "name": "stdout",
     "output_type": "stream",
     "text": [
      "current loss: 0.005681134346458647, current accuracy: 0.2708333333333333\n"
     ]
    },
    {
     "name": "stderr",
     "output_type": "stream",
     "text": [
      "Training Epoch 234/400: 100%|██████████| 36/36 [00:02<00:00, 12.23batch/s, accuracy=65.6, loss=0.00637]\n"
     ]
    },
    {
     "name": "stdout",
     "output_type": "stream",
     "text": [
      "current loss: 0.005771819088194106, current accuracy: 0.2673611111111111\n"
     ]
    },
    {
     "name": "stderr",
     "output_type": "stream",
     "text": [
      "Training Epoch 235/400: 100%|██████████| 36/36 [00:02<00:00, 12.28batch/s, accuracy=65.6, loss=0.00637]\n"
     ]
    },
    {
     "name": "stdout",
     "output_type": "stream",
     "text": [
      "current loss: 0.005791659570402569, current accuracy: 0.2638888888888889\n"
     ]
    },
    {
     "name": "stderr",
     "output_type": "stream",
     "text": [
      "Training Epoch 236/400: 100%|██████████| 36/36 [00:02<00:00, 12.29batch/s, accuracy=68.8, loss=0.00639]\n"
     ]
    },
    {
     "name": "stdout",
     "output_type": "stream",
     "text": [
      "current loss: 0.005807401405440437, current accuracy: 0.2708333333333333\n"
     ]
    },
    {
     "name": "stderr",
     "output_type": "stream",
     "text": [
      "Training Epoch 237/400: 100%|██████████| 36/36 [00:02<00:00, 12.20batch/s, accuracy=66.4, loss=0.0063] \n"
     ]
    },
    {
     "name": "stdout",
     "output_type": "stream",
     "text": [
      "current loss: 0.005794189042515225, current accuracy: 0.2673611111111111\n"
     ]
    },
    {
     "name": "stderr",
     "output_type": "stream",
     "text": [
      "Training Epoch 238/400: 100%|██████████| 36/36 [00:02<00:00, 12.21batch/s, accuracy=76.6, loss=0.00624]\n"
     ]
    },
    {
     "name": "stdout",
     "output_type": "stream",
     "text": [
      "current loss: 0.005790854907698101, current accuracy: 0.2673611111111111\n"
     ]
    },
    {
     "name": "stderr",
     "output_type": "stream",
     "text": [
      "Training Epoch 239/400: 100%|██████████| 36/36 [00:02<00:00, 12.24batch/s, accuracy=69.5, loss=0.00623]\n"
     ]
    },
    {
     "name": "stdout",
     "output_type": "stream",
     "text": [
      "current loss: 0.005744866198963589, current accuracy: 0.2673611111111111\n"
     ]
    },
    {
     "name": "stderr",
     "output_type": "stream",
     "text": [
      "Training Epoch 240/400: 100%|██████████| 36/36 [00:02<00:00, 12.13batch/s, accuracy=64.1, loss=0.00623]\n"
     ]
    },
    {
     "name": "stdout",
     "output_type": "stream",
     "text": [
      "current loss: 0.005777171916431851, current accuracy: 0.2638888888888889\n"
     ]
    },
    {
     "name": "stderr",
     "output_type": "stream",
     "text": [
      "Training Epoch 241/400: 100%|██████████| 36/36 [00:02<00:00, 12.26batch/s, accuracy=67.2, loss=0.0068] \n"
     ]
    },
    {
     "name": "stdout",
     "output_type": "stream",
     "text": [
      "current loss: 0.005678160323037041, current accuracy: 0.2777777777777778\n"
     ]
    },
    {
     "name": "stderr",
     "output_type": "stream",
     "text": [
      "Training Epoch 242/400: 100%|██████████| 36/36 [00:02<00:00, 12.27batch/s, accuracy=68.8, loss=0.00591]\n"
     ]
    },
    {
     "name": "stdout",
     "output_type": "stream",
     "text": [
      "current loss: 0.005704224937491947, current accuracy: 0.2743055555555556\n"
     ]
    },
    {
     "name": "stderr",
     "output_type": "stream",
     "text": [
      "Training Epoch 243/400: 100%|██████████| 36/36 [00:02<00:00, 12.20batch/s, accuracy=68, loss=0.00647]  \n"
     ]
    },
    {
     "name": "stdout",
     "output_type": "stream",
     "text": [
      "current loss: 0.005831446498632431, current accuracy: 0.2708333333333333\n"
     ]
    },
    {
     "name": "stderr",
     "output_type": "stream",
     "text": [
      "Training Epoch 244/400: 100%|██████████| 36/36 [00:02<00:00, 12.12batch/s, accuracy=65.6, loss=0.00615]\n"
     ]
    },
    {
     "name": "stdout",
     "output_type": "stream",
     "text": [
      "current loss: 0.0058386805984709, current accuracy: 0.2673611111111111\n"
     ]
    },
    {
     "name": "stderr",
     "output_type": "stream",
     "text": [
      "Training Epoch 245/400: 100%|██████████| 36/36 [00:02<00:00, 12.21batch/s, accuracy=64.8, loss=0.00644]\n"
     ]
    },
    {
     "name": "stdout",
     "output_type": "stream",
     "text": [
      "current loss: 0.005841559006108178, current accuracy: 0.2673611111111111\n"
     ]
    },
    {
     "name": "stderr",
     "output_type": "stream",
     "text": [
      "Training Epoch 246/400: 100%|██████████| 36/36 [00:02<00:00, 12.33batch/s, accuracy=66.4, loss=0.00589]\n"
     ]
    },
    {
     "name": "stdout",
     "output_type": "stream",
     "text": [
      "current loss: 0.0057965098983711666, current accuracy: 0.2673611111111111\n"
     ]
    },
    {
     "name": "stderr",
     "output_type": "stream",
     "text": [
      "Training Epoch 247/400: 100%|██████████| 36/36 [00:02<00:00, 12.28batch/s, accuracy=64.1, loss=0.00628]\n"
     ]
    },
    {
     "name": "stdout",
     "output_type": "stream",
     "text": [
      "current loss: 0.005992712246047126, current accuracy: 0.25\n"
     ]
    },
    {
     "name": "stderr",
     "output_type": "stream",
     "text": [
      "Training Epoch 248/400: 100%|██████████| 36/36 [00:02<00:00, 12.27batch/s, accuracy=70.3, loss=0.00629]\n"
     ]
    },
    {
     "name": "stdout",
     "output_type": "stream",
     "text": [
      "current loss: 0.005957531846231884, current accuracy: 0.2569444444444444\n"
     ]
    },
    {
     "name": "stderr",
     "output_type": "stream",
     "text": [
      "Training Epoch 249/400: 100%|██████████| 36/36 [00:03<00:00, 11.90batch/s, accuracy=71.1, loss=0.00616]\n"
     ]
    },
    {
     "name": "stdout",
     "output_type": "stream",
     "text": [
      "current loss: 0.005880814045667648, current accuracy: 0.2708333333333333\n"
     ]
    },
    {
     "name": "stderr",
     "output_type": "stream",
     "text": [
      "Training Epoch 250/400: 100%|██████████| 36/36 [00:02<00:00, 12.09batch/s, accuracy=71.9, loss=0.00626]\n"
     ]
    },
    {
     "name": "stdout",
     "output_type": "stream",
     "text": [
      "current loss: 0.005880789624320136, current accuracy: 0.2708333333333333\n"
     ]
    },
    {
     "name": "stderr",
     "output_type": "stream",
     "text": [
      "Training Epoch 251/400: 100%|██████████| 36/36 [00:03<00:00, 11.75batch/s, accuracy=67.2, loss=0.00602]\n"
     ]
    },
    {
     "name": "stdout",
     "output_type": "stream",
     "text": [
      "current loss: 0.0058522990180386435, current accuracy: 0.2743055555555556\n"
     ]
    },
    {
     "name": "stderr",
     "output_type": "stream",
     "text": [
      "Training Epoch 252/400: 100%|██████████| 36/36 [00:02<00:00, 12.24batch/s, accuracy=69.5, loss=0.00626]\n"
     ]
    },
    {
     "name": "stdout",
     "output_type": "stream",
     "text": [
      "current loss: 0.005676610602272881, current accuracy: 0.2916666666666667\n"
     ]
    },
    {
     "name": "stderr",
     "output_type": "stream",
     "text": [
      "Training Epoch 253/400: 100%|██████████| 36/36 [00:02<00:00, 12.31batch/s, accuracy=77.3, loss=0.00583]\n"
     ]
    },
    {
     "name": "stdout",
     "output_type": "stream",
     "text": [
      "current loss: 0.005946115487151676, current accuracy: 0.2638888888888889\n"
     ]
    },
    {
     "name": "stderr",
     "output_type": "stream",
     "text": [
      "Training Epoch 254/400: 100%|██████████| 36/36 [00:02<00:00, 12.08batch/s, accuracy=67.2, loss=0.00586]\n"
     ]
    },
    {
     "name": "stdout",
     "output_type": "stream",
     "text": [
      "current loss: 0.005936892496214973, current accuracy: 0.2604166666666667\n"
     ]
    },
    {
     "name": "stderr",
     "output_type": "stream",
     "text": [
      "Training Epoch 255/400: 100%|██████████| 36/36 [00:02<00:00, 12.25batch/s, accuracy=70.3, loss=0.00597]\n"
     ]
    },
    {
     "name": "stdout",
     "output_type": "stream",
     "text": [
      "current loss: 0.0059559328688515555, current accuracy: 0.2777777777777778\n"
     ]
    },
    {
     "name": "stderr",
     "output_type": "stream",
     "text": [
      "Training Epoch 256/400: 100%|██████████| 36/36 [00:02<00:00, 12.38batch/s, accuracy=68.8, loss=0.00582]\n"
     ]
    },
    {
     "name": "stdout",
     "output_type": "stream",
     "text": [
      "current loss: 0.005951761785480712, current accuracy: 0.2638888888888889\n"
     ]
    },
    {
     "name": "stderr",
     "output_type": "stream",
     "text": [
      "Training Epoch 257/400: 100%|██████████| 36/36 [00:02<00:00, 12.25batch/s, accuracy=74.2, loss=0.00595]\n"
     ]
    },
    {
     "name": "stdout",
     "output_type": "stream",
     "text": [
      "current loss: 0.005919610460599263, current accuracy: 0.2743055555555556\n"
     ]
    },
    {
     "name": "stderr",
     "output_type": "stream",
     "text": [
      "Training Epoch 258/400: 100%|██████████| 36/36 [00:02<00:00, 12.29batch/s, accuracy=75, loss=0.00606]  \n"
     ]
    },
    {
     "name": "stdout",
     "output_type": "stream",
     "text": [
      "current loss: 0.005902585883935292, current accuracy: 0.2708333333333333\n"
     ]
    },
    {
     "name": "stderr",
     "output_type": "stream",
     "text": [
      "Training Epoch 259/400: 100%|██████████| 36/36 [00:02<00:00, 12.26batch/s, accuracy=69.5, loss=0.00598]\n"
     ]
    },
    {
     "name": "stdout",
     "output_type": "stream",
     "text": [
      "current loss: 0.005852706316444609, current accuracy: 0.2708333333333333\n"
     ]
    },
    {
     "name": "stderr",
     "output_type": "stream",
     "text": [
      "Training Epoch 260/400: 100%|██████████| 36/36 [00:02<00:00, 12.13batch/s, accuracy=69.5, loss=0.00575]\n"
     ]
    },
    {
     "name": "stdout",
     "output_type": "stream",
     "text": [
      "current loss: 0.00580642537938224, current accuracy: 0.2847222222222222\n"
     ]
    },
    {
     "name": "stderr",
     "output_type": "stream",
     "text": [
      "Training Epoch 261/400: 100%|██████████| 36/36 [00:02<00:00, 12.03batch/s, accuracy=68.8, loss=0.00621]\n"
     ]
    },
    {
     "name": "stdout",
     "output_type": "stream",
     "text": [
      "current loss: 0.0061336176262961496, current accuracy: 0.2638888888888889\n"
     ]
    },
    {
     "name": "stderr",
     "output_type": "stream",
     "text": [
      "Training Epoch 262/400: 100%|██████████| 36/36 [00:02<00:00, 12.30batch/s, accuracy=68, loss=0.0062]   \n"
     ]
    },
    {
     "name": "stdout",
     "output_type": "stream",
     "text": [
      "current loss: 0.005949078334702386, current accuracy: 0.2673611111111111\n"
     ]
    },
    {
     "name": "stderr",
     "output_type": "stream",
     "text": [
      "Training Epoch 263/400: 100%|██████████| 36/36 [00:02<00:00, 12.26batch/s, accuracy=64.8, loss=0.00611]\n"
     ]
    },
    {
     "name": "stdout",
     "output_type": "stream",
     "text": [
      "current loss: 0.005978168712721931, current accuracy: 0.2673611111111111\n"
     ]
    },
    {
     "name": "stderr",
     "output_type": "stream",
     "text": [
      "Training Epoch 264/400: 100%|██████████| 36/36 [00:02<00:00, 12.33batch/s, accuracy=67.2, loss=0.00634]\n"
     ]
    },
    {
     "name": "stdout",
     "output_type": "stream",
     "text": [
      "current loss: 0.00608401745557785, current accuracy: 0.2569444444444444\n"
     ]
    },
    {
     "name": "stderr",
     "output_type": "stream",
     "text": [
      "Training Epoch 265/400: 100%|██████████| 36/36 [00:02<00:00, 12.31batch/s, accuracy=68.8, loss=0.00618]\n"
     ]
    },
    {
     "name": "stdout",
     "output_type": "stream",
     "text": [
      "current loss: 0.005907355497280757, current accuracy: 0.2708333333333333\n"
     ]
    },
    {
     "name": "stderr",
     "output_type": "stream",
     "text": [
      "Training Epoch 266/400: 100%|██████████| 36/36 [00:02<00:00, 12.08batch/s, accuracy=71.9, loss=0.00592]\n"
     ]
    },
    {
     "name": "stdout",
     "output_type": "stream",
     "text": [
      "current loss: 0.006038508481449551, current accuracy: 0.2534722222222222\n"
     ]
    },
    {
     "name": "stderr",
     "output_type": "stream",
     "text": [
      "Training Epoch 267/400: 100%|██████████| 36/36 [00:02<00:00, 12.20batch/s, accuracy=69.5, loss=0.00588]\n"
     ]
    },
    {
     "name": "stdout",
     "output_type": "stream",
     "text": [
      "current loss: 0.00596745436390241, current accuracy: 0.2743055555555556\n"
     ]
    },
    {
     "name": "stderr",
     "output_type": "stream",
     "text": [
      "Training Epoch 268/400: 100%|██████████| 36/36 [00:02<00:00, 12.26batch/s, accuracy=70.3, loss=0.00577]\n"
     ]
    },
    {
     "name": "stdout",
     "output_type": "stream",
     "text": [
      "current loss: 0.0059979574547873605, current accuracy: 0.2743055555555556\n"
     ]
    },
    {
     "name": "stderr",
     "output_type": "stream",
     "text": [
      "Training Epoch 269/400: 100%|██████████| 36/36 [00:02<00:00, 12.36batch/s, accuracy=70.3, loss=0.0057] \n"
     ]
    },
    {
     "name": "stdout",
     "output_type": "stream",
     "text": [
      "current loss: 0.006250214245584276, current accuracy: 0.25\n"
     ]
    },
    {
     "name": "stderr",
     "output_type": "stream",
     "text": [
      "Training Epoch 270/400: 100%|██████████| 36/36 [00:02<00:00, 12.23batch/s, accuracy=71.1, loss=0.00607]\n"
     ]
    },
    {
     "name": "stdout",
     "output_type": "stream",
     "text": [
      "current loss: 0.005963741077317132, current accuracy: 0.2604166666666667\n"
     ]
    },
    {
     "name": "stderr",
     "output_type": "stream",
     "text": [
      "Training Epoch 271/400: 100%|██████████| 36/36 [00:02<00:00, 12.19batch/s, accuracy=70.3, loss=0.00602]\n"
     ]
    },
    {
     "name": "stdout",
     "output_type": "stream",
     "text": [
      "current loss: 0.006033081561326981, current accuracy: 0.2604166666666667\n"
     ]
    },
    {
     "name": "stderr",
     "output_type": "stream",
     "text": [
      "Training Epoch 272/400: 100%|██████████| 36/36 [00:02<00:00, 12.04batch/s, accuracy=73.4, loss=0.00584]\n"
     ]
    },
    {
     "name": "stdout",
     "output_type": "stream",
     "text": [
      "current loss: 0.006066689060793983, current accuracy: 0.2604166666666667\n"
     ]
    },
    {
     "name": "stderr",
     "output_type": "stream",
     "text": [
      "Training Epoch 273/400: 100%|██████████| 36/36 [00:02<00:00, 12.13batch/s, accuracy=68, loss=0.00571]  \n"
     ]
    },
    {
     "name": "stdout",
     "output_type": "stream",
     "text": [
      "current loss: 0.0060046617355611585, current accuracy: 0.2673611111111111\n"
     ]
    },
    {
     "name": "stderr",
     "output_type": "stream",
     "text": [
      "Training Epoch 274/400: 100%|██████████| 36/36 [00:02<00:00, 12.23batch/s, accuracy=75, loss=0.00574]  \n"
     ]
    },
    {
     "name": "stdout",
     "output_type": "stream",
     "text": [
      "current loss: 0.0060732099745008684, current accuracy: 0.24305555555555555\n"
     ]
    },
    {
     "name": "stderr",
     "output_type": "stream",
     "text": [
      "Training Epoch 275/400: 100%|██████████| 36/36 [00:02<00:00, 12.21batch/s, accuracy=75.8, loss=0.0056] \n"
     ]
    },
    {
     "name": "stdout",
     "output_type": "stream",
     "text": [
      "current loss: 0.006045735544628567, current accuracy: 0.25\n"
     ]
    },
    {
     "name": "stderr",
     "output_type": "stream",
     "text": [
      "Training Epoch 276/400: 100%|██████████| 36/36 [00:02<00:00, 12.30batch/s, accuracy=69.5, loss=0.00606]\n"
     ]
    },
    {
     "name": "stdout",
     "output_type": "stream",
     "text": [
      "current loss: 0.006021182570192549, current accuracy: 0.2569444444444444\n"
     ]
    },
    {
     "name": "stderr",
     "output_type": "stream",
     "text": [
      "Training Epoch 277/400: 100%|██████████| 36/36 [00:02<00:00, 12.06batch/s, accuracy=69.5, loss=0.00589]\n"
     ]
    },
    {
     "name": "stdout",
     "output_type": "stream",
     "text": [
      "current loss: 0.006093146072493659, current accuracy: 0.2638888888888889\n"
     ]
    },
    {
     "name": "stderr",
     "output_type": "stream",
     "text": [
      "Training Epoch 278/400: 100%|██████████| 36/36 [00:02<00:00, 12.13batch/s, accuracy=69.5, loss=0.00597]\n"
     ]
    },
    {
     "name": "stdout",
     "output_type": "stream",
     "text": [
      "current loss: 0.00614948860473103, current accuracy: 0.2638888888888889\n"
     ]
    },
    {
     "name": "stderr",
     "output_type": "stream",
     "text": [
      "Training Epoch 279/400: 100%|██████████| 36/36 [00:02<00:00, 12.23batch/s, accuracy=68.8, loss=0.00571]\n"
     ]
    },
    {
     "name": "stdout",
     "output_type": "stream",
     "text": [
      "current loss: 0.006074210421906577, current accuracy: 0.2743055555555556\n"
     ]
    },
    {
     "name": "stderr",
     "output_type": "stream",
     "text": [
      "Training Epoch 280/400: 100%|██████████| 36/36 [00:02<00:00, 12.21batch/s, accuracy=71.9, loss=0.00602]\n"
     ]
    },
    {
     "name": "stdout",
     "output_type": "stream",
     "text": [
      "current loss: 0.006080867929591073, current accuracy: 0.2569444444444444\n"
     ]
    },
    {
     "name": "stderr",
     "output_type": "stream",
     "text": [
      "Training Epoch 281/400: 100%|██████████| 36/36 [00:02<00:00, 12.31batch/s, accuracy=68, loss=0.00573]  \n"
     ]
    },
    {
     "name": "stdout",
     "output_type": "stream",
     "text": [
      "current loss: 0.006136367304457558, current accuracy: 0.25\n"
     ]
    },
    {
     "name": "stderr",
     "output_type": "stream",
     "text": [
      "Training Epoch 282/400: 100%|██████████| 36/36 [00:02<00:00, 12.13batch/s, accuracy=71.9, loss=0.00573]\n"
     ]
    },
    {
     "name": "stdout",
     "output_type": "stream",
     "text": [
      "current loss: 0.006181783146328396, current accuracy: 0.2638888888888889\n"
     ]
    },
    {
     "name": "stderr",
     "output_type": "stream",
     "text": [
      "Training Epoch 283/400: 100%|██████████| 36/36 [00:02<00:00, 12.11batch/s, accuracy=80.5, loss=0.00541]\n"
     ]
    },
    {
     "name": "stdout",
     "output_type": "stream",
     "text": [
      "current loss: 0.006026151279608409, current accuracy: 0.2569444444444444\n"
     ]
    },
    {
     "name": "stderr",
     "output_type": "stream",
     "text": [
      "Training Epoch 284/400: 100%|██████████| 36/36 [00:02<00:00, 12.23batch/s, accuracy=66.4, loss=0.00556]\n"
     ]
    },
    {
     "name": "stdout",
     "output_type": "stream",
     "text": [
      "current loss: 0.006132182561688953, current accuracy: 0.28125\n"
     ]
    },
    {
     "name": "stderr",
     "output_type": "stream",
     "text": [
      "Training Epoch 285/400: 100%|██████████| 36/36 [00:02<00:00, 12.20batch/s, accuracy=68.8, loss=0.00576]\n"
     ]
    },
    {
     "name": "stdout",
     "output_type": "stream",
     "text": [
      "current loss: 0.006088392188151677, current accuracy: 0.25\n"
     ]
    },
    {
     "name": "stderr",
     "output_type": "stream",
     "text": [
      "Training Epoch 286/400: 100%|██████████| 36/36 [00:02<00:00, 12.33batch/s, accuracy=73.4, loss=0.00561]\n"
     ]
    },
    {
     "name": "stdout",
     "output_type": "stream",
     "text": [
      "current loss: 0.006247933126158184, current accuracy: 0.25\n"
     ]
    },
    {
     "name": "stderr",
     "output_type": "stream",
     "text": [
      "Training Epoch 287/400: 100%|██████████| 36/36 [00:02<00:00, 12.07batch/s, accuracy=74.2, loss=0.00602]\n"
     ]
    },
    {
     "name": "stdout",
     "output_type": "stream",
     "text": [
      "current loss: 0.00617829379108217, current accuracy: 0.2604166666666667\n"
     ]
    },
    {
     "name": "stderr",
     "output_type": "stream",
     "text": [
      "Training Epoch 288/400: 100%|██████████| 36/36 [00:02<00:00, 12.17batch/s, accuracy=70.3, loss=0.00558]\n"
     ]
    },
    {
     "name": "stdout",
     "output_type": "stream",
     "text": [
      "current loss: 0.006100777950551774, current accuracy: 0.2638888888888889\n"
     ]
    },
    {
     "name": "stderr",
     "output_type": "stream",
     "text": [
      "Training Epoch 289/400: 100%|██████████| 36/36 [00:02<00:00, 12.04batch/s, accuracy=75.8, loss=0.00552]\n"
     ]
    },
    {
     "name": "stdout",
     "output_type": "stream",
     "text": [
      "current loss: 0.006123894618617164, current accuracy: 0.2604166666666667\n"
     ]
    },
    {
     "name": "stderr",
     "output_type": "stream",
     "text": [
      "Training Epoch 290/400: 100%|██████████| 36/36 [00:02<00:00, 12.21batch/s, accuracy=69.5, loss=0.00595]\n"
     ]
    },
    {
     "name": "stdout",
     "output_type": "stream",
     "text": [
      "current loss: 0.006094121270709568, current accuracy: 0.2569444444444444\n"
     ]
    },
    {
     "name": "stderr",
     "output_type": "stream",
     "text": [
      "Training Epoch 291/400: 100%|██████████| 36/36 [00:02<00:00, 12.28batch/s, accuracy=67.2, loss=0.00596]\n"
     ]
    },
    {
     "name": "stdout",
     "output_type": "stream",
     "text": [
      "current loss: 0.006091681619485219, current accuracy: 0.28125\n"
     ]
    },
    {
     "name": "stderr",
     "output_type": "stream",
     "text": [
      "Training Epoch 292/400: 100%|██████████| 36/36 [00:02<00:00, 12.18batch/s, accuracy=71.1, loss=0.00595]\n"
     ]
    },
    {
     "name": "stdout",
     "output_type": "stream",
     "text": [
      "current loss: 0.006243710302644306, current accuracy: 0.2465277777777778\n"
     ]
    },
    {
     "name": "stderr",
     "output_type": "stream",
     "text": [
      "Training Epoch 293/400: 100%|██████████| 36/36 [00:02<00:00, 12.21batch/s, accuracy=74.2, loss=0.00548]\n"
     ]
    },
    {
     "name": "stdout",
     "output_type": "stream",
     "text": [
      "current loss: 0.006140392687585618, current accuracy: 0.2777777777777778\n"
     ]
    },
    {
     "name": "stderr",
     "output_type": "stream",
     "text": [
      "Training Epoch 294/400: 100%|██████████| 36/36 [00:02<00:00, 12.18batch/s, accuracy=76.6, loss=0.00561]\n"
     ]
    },
    {
     "name": "stdout",
     "output_type": "stream",
     "text": [
      "current loss: 0.006176554080512788, current accuracy: 0.2673611111111111\n"
     ]
    },
    {
     "name": "stderr",
     "output_type": "stream",
     "text": [
      "Training Epoch 295/400: 100%|██████████| 36/36 [00:02<00:00, 12.24batch/s, accuracy=69.5, loss=0.00583]\n"
     ]
    },
    {
     "name": "stdout",
     "output_type": "stream",
     "text": [
      "current loss: 0.0061594901813401114, current accuracy: 0.28125\n"
     ]
    },
    {
     "name": "stderr",
     "output_type": "stream",
     "text": [
      "Training Epoch 296/400: 100%|██████████| 36/36 [00:02<00:00, 12.04batch/s, accuracy=71.1, loss=0.0055] \n"
     ]
    },
    {
     "name": "stdout",
     "output_type": "stream",
     "text": [
      "current loss: 0.006343517038557265, current accuracy: 0.25\n"
     ]
    },
    {
     "name": "stderr",
     "output_type": "stream",
     "text": [
      "Training Epoch 297/400: 100%|██████████| 36/36 [00:02<00:00, 12.26batch/s, accuracy=79.7, loss=0.00552]\n"
     ]
    },
    {
     "name": "stdout",
     "output_type": "stream",
     "text": [
      "current loss: 0.006237097084522247, current accuracy: 0.2847222222222222\n"
     ]
    },
    {
     "name": "stderr",
     "output_type": "stream",
     "text": [
      "Training Epoch 298/400: 100%|██████████| 36/36 [00:02<00:00, 12.19batch/s, accuracy=64.8, loss=0.00618]\n"
     ]
    },
    {
     "name": "stdout",
     "output_type": "stream",
     "text": [
      "current loss: 0.006148088309499953, current accuracy: 0.2847222222222222\n"
     ]
    },
    {
     "name": "stderr",
     "output_type": "stream",
     "text": [
      "Training Epoch 299/400: 100%|██████████| 36/36 [00:02<00:00, 12.22batch/s, accuracy=72.7, loss=0.00589]\n"
     ]
    },
    {
     "name": "stdout",
     "output_type": "stream",
     "text": [
      "current loss: 0.006313274717993206, current accuracy: 0.2673611111111111\n"
     ]
    },
    {
     "name": "stderr",
     "output_type": "stream",
     "text": [
      "Training Epoch 300/400: 100%|██████████| 36/36 [00:03<00:00, 11.98batch/s, accuracy=70.3, loss=0.00588]\n"
     ]
    },
    {
     "name": "stdout",
     "output_type": "stream",
     "text": [
      "current loss: 0.006278778115908305, current accuracy: 0.25\n"
     ]
    },
    {
     "name": "stderr",
     "output_type": "stream",
     "text": [
      "Training Epoch 301/400: 100%|██████████| 36/36 [00:02<00:00, 12.30batch/s, accuracy=73.4, loss=0.00527]\n"
     ]
    },
    {
     "name": "stdout",
     "output_type": "stream",
     "text": [
      "current loss: 0.006357661137978236, current accuracy: 0.2569444444444444\n"
     ]
    },
    {
     "name": "stderr",
     "output_type": "stream",
     "text": [
      "Training Epoch 302/400: 100%|██████████| 36/36 [00:02<00:00, 12.18batch/s, accuracy=67.2, loss=0.00586]\n"
     ]
    },
    {
     "name": "stdout",
     "output_type": "stream",
     "text": [
      "current loss: 0.006289813253614638, current accuracy: 0.2569444444444444\n"
     ]
    },
    {
     "name": "stderr",
     "output_type": "stream",
     "text": [
      "Training Epoch 303/400: 100%|██████████| 36/36 [00:03<00:00, 11.97batch/s, accuracy=70.3, loss=0.00604]\n"
     ]
    },
    {
     "name": "stdout",
     "output_type": "stream",
     "text": [
      "current loss: 0.006380133330821991, current accuracy: 0.2638888888888889\n"
     ]
    },
    {
     "name": "stderr",
     "output_type": "stream",
     "text": [
      "Training Epoch 304/400: 100%|██████████| 36/36 [00:02<00:00, 12.24batch/s, accuracy=62.5, loss=0.00604]\n"
     ]
    },
    {
     "name": "stdout",
     "output_type": "stream",
     "text": [
      "current loss: 0.006238042480415768, current accuracy: 0.28125\n"
     ]
    },
    {
     "name": "stderr",
     "output_type": "stream",
     "text": [
      "Training Epoch 305/400: 100%|██████████| 36/36 [00:03<00:00, 11.91batch/s, accuracy=71.1, loss=0.00577]\n"
     ]
    },
    {
     "name": "stdout",
     "output_type": "stream",
     "text": [
      "current loss: 0.006347787876923879, current accuracy: 0.25\n"
     ]
    },
    {
     "name": "stderr",
     "output_type": "stream",
     "text": [
      "Training Epoch 306/400: 100%|██████████| 36/36 [00:02<00:00, 12.01batch/s, accuracy=71.9, loss=0.00535]\n"
     ]
    },
    {
     "name": "stdout",
     "output_type": "stream",
     "text": [
      "current loss: 0.006344333704974916, current accuracy: 0.25\n"
     ]
    },
    {
     "name": "stderr",
     "output_type": "stream",
     "text": [
      "Training Epoch 307/400: 100%|██████████| 36/36 [00:02<00:00, 12.18batch/s, accuracy=71.1, loss=0.00529]\n"
     ]
    },
    {
     "name": "stdout",
     "output_type": "stream",
     "text": [
      "current loss: 0.006407787816392051, current accuracy: 0.24305555555555555\n"
     ]
    },
    {
     "name": "stderr",
     "output_type": "stream",
     "text": [
      "Training Epoch 308/400: 100%|██████████| 36/36 [00:02<00:00, 12.14batch/s, accuracy=75.8, loss=0.00503]\n"
     ]
    },
    {
     "name": "stdout",
     "output_type": "stream",
     "text": [
      "current loss: 0.006196683479679955, current accuracy: 0.2708333333333333\n"
     ]
    },
    {
     "name": "stderr",
     "output_type": "stream",
     "text": [
      "Training Epoch 309/400: 100%|██████████| 36/36 [00:02<00:00, 12.11batch/s, accuracy=71.9, loss=0.00548]\n"
     ]
    },
    {
     "name": "stdout",
     "output_type": "stream",
     "text": [
      "current loss: 0.006385773006412718, current accuracy: 0.24305555555555555\n"
     ]
    },
    {
     "name": "stderr",
     "output_type": "stream",
     "text": [
      "Training Epoch 310/400: 100%|██████████| 36/36 [00:02<00:00, 12.24batch/s, accuracy=76.6, loss=0.00569]\n"
     ]
    },
    {
     "name": "stdout",
     "output_type": "stream",
     "text": [
      "current loss: 0.006396406226687961, current accuracy: 0.2604166666666667\n"
     ]
    },
    {
     "name": "stderr",
     "output_type": "stream",
     "text": [
      "Training Epoch 311/400: 100%|██████████| 36/36 [00:02<00:00, 12.17batch/s, accuracy=71.1, loss=0.00546]\n"
     ]
    },
    {
     "name": "stdout",
     "output_type": "stream",
     "text": [
      "current loss: 0.0062533410059081185, current accuracy: 0.2777777777777778\n"
     ]
    },
    {
     "name": "stderr",
     "output_type": "stream",
     "text": [
      "Training Epoch 312/400: 100%|██████████| 36/36 [00:03<00:00, 11.95batch/s, accuracy=73.4, loss=0.00537]\n"
     ]
    },
    {
     "name": "stdout",
     "output_type": "stream",
     "text": [
      "current loss: 0.006473850458860397, current accuracy: 0.25\n"
     ]
    },
    {
     "name": "stderr",
     "output_type": "stream",
     "text": [
      "Training Epoch 313/400: 100%|██████████| 36/36 [00:02<00:00, 12.20batch/s, accuracy=69.5, loss=0.00575]\n"
     ]
    },
    {
     "name": "stdout",
     "output_type": "stream",
     "text": [
      "current loss: 0.006372319327460395, current accuracy: 0.2743055555555556\n"
     ]
    },
    {
     "name": "stderr",
     "output_type": "stream",
     "text": [
      "Training Epoch 314/400: 100%|██████████| 36/36 [00:02<00:00, 12.22batch/s, accuracy=77.3, loss=0.00514]\n"
     ]
    },
    {
     "name": "stdout",
     "output_type": "stream",
     "text": [
      "current loss: 0.0064982689089245265, current accuracy: 0.2569444444444444\n"
     ]
    },
    {
     "name": "stderr",
     "output_type": "stream",
     "text": [
      "Training Epoch 315/400: 100%|██████████| 36/36 [00:02<00:00, 12.25batch/s, accuracy=73.4, loss=0.00556]\n"
     ]
    },
    {
     "name": "stdout",
     "output_type": "stream",
     "text": [
      "current loss: 0.0063336143891016645, current accuracy: 0.2638888888888889\n"
     ]
    },
    {
     "name": "stderr",
     "output_type": "stream",
     "text": [
      "Training Epoch 316/400: 100%|██████████| 36/36 [00:03<00:00, 11.62batch/s, accuracy=73.4, loss=0.00552]\n"
     ]
    },
    {
     "name": "stdout",
     "output_type": "stream",
     "text": [
      "current loss: 0.006273182729880015, current accuracy: 0.2881944444444444\n"
     ]
    },
    {
     "name": "stderr",
     "output_type": "stream",
     "text": [
      "Training Epoch 317/400: 100%|██████████| 36/36 [00:03<00:00, 11.19batch/s, accuracy=71.9, loss=0.00581]\n"
     ]
    },
    {
     "name": "stdout",
     "output_type": "stream",
     "text": [
      "current loss: 0.006412072728077571, current accuracy: 0.2847222222222222\n"
     ]
    },
    {
     "name": "stderr",
     "output_type": "stream",
     "text": [
      "Training Epoch 318/400: 100%|██████████| 36/36 [00:03<00:00, 10.98batch/s, accuracy=71.1, loss=0.00545]\n"
     ]
    },
    {
     "name": "stdout",
     "output_type": "stream",
     "text": [
      "current loss: 0.006241807093222936, current accuracy: 0.2986111111111111\n"
     ]
    },
    {
     "name": "stderr",
     "output_type": "stream",
     "text": [
      "Training Epoch 319/400: 100%|██████████| 36/36 [00:03<00:00, 10.84batch/s, accuracy=73.4, loss=0.00526]\n"
     ]
    },
    {
     "name": "stdout",
     "output_type": "stream",
     "text": [
      "current loss: 0.006348062306642532, current accuracy: 0.2673611111111111\n"
     ]
    },
    {
     "name": "stderr",
     "output_type": "stream",
     "text": [
      "Training Epoch 320/400: 100%|██████████| 36/36 [00:03<00:00, 10.78batch/s, accuracy=74.2, loss=0.0055] \n"
     ]
    },
    {
     "name": "stdout",
     "output_type": "stream",
     "text": [
      "current loss: 0.006670087161991332, current accuracy: 0.25\n"
     ]
    },
    {
     "name": "stderr",
     "output_type": "stream",
     "text": [
      "Training Epoch 321/400: 100%|██████████| 36/36 [00:03<00:00, 10.72batch/s, accuracy=79.7, loss=0.00519]\n"
     ]
    },
    {
     "name": "stdout",
     "output_type": "stream",
     "text": [
      "current loss: 0.006310127261612151, current accuracy: 0.2951388888888889\n"
     ]
    },
    {
     "name": "stderr",
     "output_type": "stream",
     "text": [
      "Training Epoch 322/400: 100%|██████████| 36/36 [00:03<00:00, 10.70batch/s, accuracy=77.3, loss=0.00559]\n"
     ]
    },
    {
     "name": "stdout",
     "output_type": "stream",
     "text": [
      "current loss: 0.006313457257217831, current accuracy: 0.2881944444444444\n"
     ]
    },
    {
     "name": "stderr",
     "output_type": "stream",
     "text": [
      "Training Epoch 323/400: 100%|██████████| 36/36 [00:03<00:00, 10.74batch/s, accuracy=70.3, loss=0.00574]\n"
     ]
    },
    {
     "name": "stdout",
     "output_type": "stream",
     "text": [
      "current loss: 0.00645294909675916, current accuracy: 0.2986111111111111\n"
     ]
    },
    {
     "name": "stderr",
     "output_type": "stream",
     "text": [
      "Training Epoch 324/400: 100%|██████████| 36/36 [00:03<00:00, 10.94batch/s, accuracy=76.6, loss=0.00522]\n"
     ]
    },
    {
     "name": "stdout",
     "output_type": "stream",
     "text": [
      "current loss: 0.006399704350365533, current accuracy: 0.2743055555555556\n"
     ]
    },
    {
     "name": "stderr",
     "output_type": "stream",
     "text": [
      "Training Epoch 325/400: 100%|██████████| 36/36 [00:03<00:00, 10.63batch/s, accuracy=71.1, loss=0.00567]\n"
     ]
    },
    {
     "name": "stdout",
     "output_type": "stream",
     "text": [
      "current loss: 0.0063990772598319584, current accuracy: 0.28125\n"
     ]
    },
    {
     "name": "stderr",
     "output_type": "stream",
     "text": [
      "Training Epoch 326/400: 100%|██████████| 36/36 [00:03<00:00, 10.64batch/s, accuracy=72.7, loss=0.00553]\n"
     ]
    },
    {
     "name": "stdout",
     "output_type": "stream",
     "text": [
      "current loss: 0.0065570254292753, current accuracy: 0.2743055555555556\n"
     ]
    },
    {
     "name": "stderr",
     "output_type": "stream",
     "text": [
      "Training Epoch 327/400: 100%|██████████| 36/36 [00:03<00:00, 10.68batch/s, accuracy=76.6, loss=0.00531]\n"
     ]
    },
    {
     "name": "stdout",
     "output_type": "stream",
     "text": [
      "current loss: 0.006487728820906745, current accuracy: 0.2847222222222222\n"
     ]
    },
    {
     "name": "stderr",
     "output_type": "stream",
     "text": [
      "Training Epoch 328/400: 100%|██████████| 36/36 [00:03<00:00, 10.54batch/s, accuracy=71.9, loss=0.0054] \n"
     ]
    },
    {
     "name": "stdout",
     "output_type": "stream",
     "text": [
      "current loss: 0.006540809240606096, current accuracy: 0.2708333333333333\n"
     ]
    },
    {
     "name": "stderr",
     "output_type": "stream",
     "text": [
      "Training Epoch 329/400: 100%|██████████| 36/36 [00:03<00:00, 10.73batch/s, accuracy=75, loss=0.00529]  \n"
     ]
    },
    {
     "name": "stdout",
     "output_type": "stream",
     "text": [
      "current loss: 0.006396373112996419, current accuracy: 0.2916666666666667\n"
     ]
    },
    {
     "name": "stderr",
     "output_type": "stream",
     "text": [
      "Training Epoch 330/400: 100%|██████████| 36/36 [00:03<00:00, 10.82batch/s, accuracy=71.9, loss=0.0058] \n"
     ]
    },
    {
     "name": "stdout",
     "output_type": "stream",
     "text": [
      "current loss: 0.006407485240035587, current accuracy: 0.2986111111111111\n"
     ]
    },
    {
     "name": "stderr",
     "output_type": "stream",
     "text": [
      "Training Epoch 331/400: 100%|██████████| 36/36 [00:03<00:00, 10.80batch/s, accuracy=74.2, loss=0.00546]\n"
     ]
    },
    {
     "name": "stdout",
     "output_type": "stream",
     "text": [
      "current loss: 0.006638093541065852, current accuracy: 0.2638888888888889\n"
     ]
    },
    {
     "name": "stderr",
     "output_type": "stream",
     "text": [
      "Training Epoch 332/400: 100%|██████████| 36/36 [00:03<00:00, 10.59batch/s, accuracy=73.4, loss=0.00504]\n"
     ]
    },
    {
     "name": "stdout",
     "output_type": "stream",
     "text": [
      "current loss: 0.006637096405029297, current accuracy: 0.2708333333333333\n"
     ]
    },
    {
     "name": "stderr",
     "output_type": "stream",
     "text": [
      "Training Epoch 333/400: 100%|██████████| 36/36 [00:03<00:00, 10.79batch/s, accuracy=75, loss=0.00522]  \n"
     ]
    },
    {
     "name": "stdout",
     "output_type": "stream",
     "text": [
      "current loss: 0.006525425447358025, current accuracy: 0.2777777777777778\n"
     ]
    },
    {
     "name": "stderr",
     "output_type": "stream",
     "text": [
      "Training Epoch 334/400: 100%|██████████| 36/36 [00:03<00:00, 10.78batch/s, accuracy=69.5, loss=0.00547]\n"
     ]
    },
    {
     "name": "stdout",
     "output_type": "stream",
     "text": [
      "current loss: 0.006410316874583562, current accuracy: 0.2986111111111111\n"
     ]
    },
    {
     "name": "stderr",
     "output_type": "stream",
     "text": [
      "Training Epoch 335/400: 100%|██████████| 36/36 [00:03<00:00, 10.78batch/s, accuracy=72.7, loss=0.00583]\n"
     ]
    },
    {
     "name": "stdout",
     "output_type": "stream",
     "text": [
      "current loss: 0.0066292596360047655, current accuracy: 0.2673611111111111\n"
     ]
    },
    {
     "name": "stderr",
     "output_type": "stream",
     "text": [
      "Training Epoch 336/400: 100%|██████████| 36/36 [00:03<00:00, 10.74batch/s, accuracy=78.1, loss=0.00543]\n"
     ]
    },
    {
     "name": "stdout",
     "output_type": "stream",
     "text": [
      "current loss: 0.006570757263236576, current accuracy: 0.2916666666666667\n"
     ]
    },
    {
     "name": "stderr",
     "output_type": "stream",
     "text": [
      "Training Epoch 337/400: 100%|██████████| 36/36 [00:03<00:00, 10.57batch/s, accuracy=77.3, loss=0.00497]\n"
     ]
    },
    {
     "name": "stdout",
     "output_type": "stream",
     "text": [
      "current loss: 0.006725241326623493, current accuracy: 0.2638888888888889\n"
     ]
    },
    {
     "name": "stderr",
     "output_type": "stream",
     "text": [
      "Training Epoch 338/400: 100%|██████████| 36/36 [00:03<00:00, 10.62batch/s, accuracy=75.8, loss=0.00521]\n"
     ]
    },
    {
     "name": "stdout",
     "output_type": "stream",
     "text": [
      "current loss: 0.006571611596478356, current accuracy: 0.2916666666666667\n"
     ]
    },
    {
     "name": "stderr",
     "output_type": "stream",
     "text": [
      "Training Epoch 339/400: 100%|██████████| 36/36 [00:03<00:00, 10.68batch/s, accuracy=75, loss=0.00527]  \n"
     ]
    },
    {
     "name": "stdout",
     "output_type": "stream",
     "text": [
      "current loss: 0.0065793270866076154, current accuracy: 0.2881944444444444\n"
     ]
    },
    {
     "name": "stderr",
     "output_type": "stream",
     "text": [
      "Training Epoch 340/400: 100%|██████████| 36/36 [00:03<00:00, 10.61batch/s, accuracy=79.7, loss=0.00477]\n"
     ]
    },
    {
     "name": "stdout",
     "output_type": "stream",
     "text": [
      "current loss: 0.006527127905024422, current accuracy: 0.2986111111111111\n"
     ]
    },
    {
     "name": "stderr",
     "output_type": "stream",
     "text": [
      "Training Epoch 341/400: 100%|██████████| 36/36 [00:03<00:00, 10.68batch/s, accuracy=73.4, loss=0.00533]\n"
     ]
    },
    {
     "name": "stdout",
     "output_type": "stream",
     "text": [
      "current loss: 0.0067257264422045816, current accuracy: 0.2708333333333333\n"
     ]
    },
    {
     "name": "stderr",
     "output_type": "stream",
     "text": [
      "Training Epoch 342/400: 100%|██████████| 36/36 [00:03<00:00, 10.58batch/s, accuracy=74.2, loss=0.00521]\n"
     ]
    },
    {
     "name": "stdout",
     "output_type": "stream",
     "text": [
      "current loss: 0.006435602489444945, current accuracy: 0.2951388888888889\n"
     ]
    },
    {
     "name": "stderr",
     "output_type": "stream",
     "text": [
      "Training Epoch 343/400: 100%|██████████| 36/36 [00:03<00:00, 10.80batch/s, accuracy=77.3, loss=0.00516]\n"
     ]
    },
    {
     "name": "stdout",
     "output_type": "stream",
     "text": [
      "current loss: 0.006757096697886785, current accuracy: 0.2673611111111111\n"
     ]
    },
    {
     "name": "stderr",
     "output_type": "stream",
     "text": [
      "Training Epoch 344/400: 100%|██████████| 36/36 [00:03<00:00, 10.82batch/s, accuracy=75.8, loss=0.00545]\n"
     ]
    },
    {
     "name": "stdout",
     "output_type": "stream",
     "text": [
      "current loss: 0.006576870878537496, current accuracy: 0.28125\n"
     ]
    },
    {
     "name": "stderr",
     "output_type": "stream",
     "text": [
      "Training Epoch 345/400: 100%|██████████| 36/36 [00:03<00:00, 10.63batch/s, accuracy=75, loss=0.00519]  \n"
     ]
    },
    {
     "name": "stdout",
     "output_type": "stream",
     "text": [
      "current loss: 0.006453982657856411, current accuracy: 0.2951388888888889\n"
     ]
    },
    {
     "name": "stderr",
     "output_type": "stream",
     "text": [
      "Training Epoch 346/400: 100%|██████████| 36/36 [00:03<00:00, 10.63batch/s, accuracy=78.9, loss=0.00521]\n"
     ]
    },
    {
     "name": "stdout",
     "output_type": "stream",
     "text": [
      "current loss: 0.006730186442534129, current accuracy: 0.28125\n"
     ]
    },
    {
     "name": "stderr",
     "output_type": "stream",
     "text": [
      "Training Epoch 347/400: 100%|██████████| 36/36 [00:03<00:00, 10.67batch/s, accuracy=72.7, loss=0.00547]\n"
     ]
    },
    {
     "name": "stdout",
     "output_type": "stream",
     "text": [
      "current loss: 0.00675005382961697, current accuracy: 0.28125\n"
     ]
    },
    {
     "name": "stderr",
     "output_type": "stream",
     "text": [
      "Training Epoch 348/400: 100%|██████████| 36/36 [00:03<00:00, 10.65batch/s, accuracy=75, loss=0.00546]  \n"
     ]
    },
    {
     "name": "stdout",
     "output_type": "stream",
     "text": [
      "current loss: 0.006657717542515861, current accuracy: 0.28125\n"
     ]
    },
    {
     "name": "stderr",
     "output_type": "stream",
     "text": [
      "Training Epoch 349/400: 100%|██████████| 36/36 [00:03<00:00, 10.64batch/s, accuracy=73.4, loss=0.00529]\n"
     ]
    },
    {
     "name": "stdout",
     "output_type": "stream",
     "text": [
      "current loss: 0.006893071035544078, current accuracy: 0.2743055555555556\n"
     ]
    },
    {
     "name": "stderr",
     "output_type": "stream",
     "text": [
      "Training Epoch 350/400: 100%|██████████| 36/36 [00:03<00:00, 10.62batch/s, accuracy=75.8, loss=0.00499]\n"
     ]
    },
    {
     "name": "stdout",
     "output_type": "stream",
     "text": [
      "current loss: 0.006701688799593184, current accuracy: 0.2847222222222222\n"
     ]
    },
    {
     "name": "stderr",
     "output_type": "stream",
     "text": [
      "Training Epoch 351/400: 100%|██████████| 36/36 [00:03<00:00, 10.65batch/s, accuracy=73.4, loss=0.00506]\n"
     ]
    },
    {
     "name": "stdout",
     "output_type": "stream",
     "text": [
      "current loss: 0.006668927354945077, current accuracy: 0.2916666666666667\n"
     ]
    },
    {
     "name": "stderr",
     "output_type": "stream",
     "text": [
      "Training Epoch 352/400: 100%|██████████| 36/36 [00:03<00:00, 10.48batch/s, accuracy=75, loss=0.00523]  \n"
     ]
    },
    {
     "name": "stdout",
     "output_type": "stream",
     "text": [
      "current loss: 0.006692839165528615, current accuracy: 0.2881944444444444\n"
     ]
    },
    {
     "name": "stderr",
     "output_type": "stream",
     "text": [
      "Training Epoch 353/400: 100%|██████████| 36/36 [00:03<00:00, 10.59batch/s, accuracy=75, loss=0.00516]  \n"
     ]
    },
    {
     "name": "stdout",
     "output_type": "stream",
     "text": [
      "current loss: 0.006674203607771132, current accuracy: 0.28125\n"
     ]
    },
    {
     "name": "stderr",
     "output_type": "stream",
     "text": [
      "Training Epoch 354/400: 100%|██████████| 36/36 [00:03<00:00, 10.63batch/s, accuracy=76.6, loss=0.00527]\n"
     ]
    },
    {
     "name": "stdout",
     "output_type": "stream",
     "text": [
      "current loss: 0.006832093414333131, current accuracy: 0.2743055555555556\n"
     ]
    },
    {
     "name": "stderr",
     "output_type": "stream",
     "text": [
      "Training Epoch 355/400: 100%|██████████| 36/36 [00:03<00:00, 10.81batch/s, accuracy=77.3, loss=0.00516]\n"
     ]
    },
    {
     "name": "stdout",
     "output_type": "stream",
     "text": [
      "current loss: 0.0067137496338950265, current accuracy: 0.28125\n"
     ]
    },
    {
     "name": "stderr",
     "output_type": "stream",
     "text": [
      "Training Epoch 356/400: 100%|██████████| 36/36 [00:03<00:00, 10.69batch/s, accuracy=77.3, loss=0.00479]\n"
     ]
    },
    {
     "name": "stdout",
     "output_type": "stream",
     "text": [
      "current loss: 0.006642060561312569, current accuracy: 0.2916666666666667\n"
     ]
    },
    {
     "name": "stderr",
     "output_type": "stream",
     "text": [
      "Training Epoch 357/400: 100%|██████████| 36/36 [00:03<00:00, 10.64batch/s, accuracy=78.1, loss=0.00519]\n"
     ]
    },
    {
     "name": "stdout",
     "output_type": "stream",
     "text": [
      "current loss: 0.006711126201682621, current accuracy: 0.28125\n"
     ]
    },
    {
     "name": "stderr",
     "output_type": "stream",
     "text": [
      "Training Epoch 358/400: 100%|██████████| 36/36 [00:03<00:00, 10.49batch/s, accuracy=81.2, loss=0.00522]\n"
     ]
    },
    {
     "name": "stdout",
     "output_type": "stream",
     "text": [
      "current loss: 0.006643032034238179, current accuracy: 0.2916666666666667\n"
     ]
    },
    {
     "name": "stderr",
     "output_type": "stream",
     "text": [
      "Training Epoch 359/400: 100%|██████████| 36/36 [00:03<00:00, 10.66batch/s, accuracy=77.3, loss=0.00509]\n"
     ]
    },
    {
     "name": "stdout",
     "output_type": "stream",
     "text": [
      "current loss: 0.006751514557335112, current accuracy: 0.2881944444444444\n"
     ]
    },
    {
     "name": "stderr",
     "output_type": "stream",
     "text": [
      "Training Epoch 360/400: 100%|██████████| 36/36 [00:03<00:00, 10.66batch/s, accuracy=75.8, loss=0.00491]\n"
     ]
    },
    {
     "name": "stdout",
     "output_type": "stream",
     "text": [
      "current loss: 0.006741991887489955, current accuracy: 0.3020833333333333\n"
     ]
    },
    {
     "name": "stderr",
     "output_type": "stream",
     "text": [
      "Training Epoch 361/400: 100%|██████████| 36/36 [00:03<00:00, 10.60batch/s, accuracy=73.4, loss=0.00447]\n"
     ]
    },
    {
     "name": "stdout",
     "output_type": "stream",
     "text": [
      "current loss: 0.006656050682067871, current accuracy: 0.2881944444444444\n"
     ]
    },
    {
     "name": "stderr",
     "output_type": "stream",
     "text": [
      "Training Epoch 362/400: 100%|██████████| 36/36 [00:03<00:00, 10.78batch/s, accuracy=76.6, loss=0.00529]\n"
     ]
    },
    {
     "name": "stdout",
     "output_type": "stream",
     "text": [
      "current loss: 0.006889575057559543, current accuracy: 0.2881944444444444\n"
     ]
    },
    {
     "name": "stderr",
     "output_type": "stream",
     "text": [
      "Training Epoch 363/400: 100%|██████████| 36/36 [00:03<00:00, 10.55batch/s, accuracy=76.6, loss=0.00537]\n"
     ]
    },
    {
     "name": "stdout",
     "output_type": "stream",
     "text": [
      "current loss: 0.006815362307760451, current accuracy: 0.2847222222222222\n"
     ]
    },
    {
     "name": "stderr",
     "output_type": "stream",
     "text": [
      "Training Epoch 364/400: 100%|██████████| 36/36 [00:03<00:00, 10.46batch/s, accuracy=74.2, loss=0.00509]\n"
     ]
    },
    {
     "name": "stdout",
     "output_type": "stream",
     "text": [
      "current loss: 0.006780010130670335, current accuracy: 0.2881944444444444\n"
     ]
    },
    {
     "name": "stderr",
     "output_type": "stream",
     "text": [
      "Training Epoch 365/400: 100%|██████████| 36/36 [00:03<00:00, 10.80batch/s, accuracy=73.4, loss=0.00498]\n"
     ]
    },
    {
     "name": "stdout",
     "output_type": "stream",
     "text": [
      "current loss: 0.006816914925972621, current accuracy: 0.2847222222222222\n"
     ]
    },
    {
     "name": "stderr",
     "output_type": "stream",
     "text": [
      "Training Epoch 366/400: 100%|██████████| 36/36 [00:03<00:00, 10.43batch/s, accuracy=78.1, loss=0.00488]\n"
     ]
    },
    {
     "name": "stdout",
     "output_type": "stream",
     "text": [
      "current loss: 0.006797371639145745, current accuracy: 0.2847222222222222\n"
     ]
    },
    {
     "name": "stderr",
     "output_type": "stream",
     "text": [
      "Training Epoch 367/400: 100%|██████████| 36/36 [00:03<00:00, 10.72batch/s, accuracy=72.7, loss=0.0048] \n"
     ]
    },
    {
     "name": "stdout",
     "output_type": "stream",
     "text": [
      "current loss: 0.0068646156125598485, current accuracy: 0.2777777777777778\n"
     ]
    },
    {
     "name": "stderr",
     "output_type": "stream",
     "text": [
      "Training Epoch 368/400: 100%|██████████| 36/36 [00:03<00:00, 10.63batch/s, accuracy=78.9, loss=0.00471]\n"
     ]
    },
    {
     "name": "stdout",
     "output_type": "stream",
     "text": [
      "current loss: 0.006825375060240428, current accuracy: 0.2847222222222222\n"
     ]
    },
    {
     "name": "stderr",
     "output_type": "stream",
     "text": [
      "Training Epoch 369/400: 100%|██████████| 36/36 [00:03<00:00, 10.60batch/s, accuracy=77.3, loss=0.00509]\n"
     ]
    },
    {
     "name": "stdout",
     "output_type": "stream",
     "text": [
      "current loss: 0.006809950702720218, current accuracy: 0.2881944444444444\n"
     ]
    },
    {
     "name": "stderr",
     "output_type": "stream",
     "text": [
      "Training Epoch 370/400: 100%|██████████| 36/36 [00:03<00:00, 10.45batch/s, accuracy=75, loss=0.00535]  \n"
     ]
    },
    {
     "name": "stdout",
     "output_type": "stream",
     "text": [
      "current loss: 0.006969700256983439, current accuracy: 0.28125\n"
     ]
    },
    {
     "name": "stderr",
     "output_type": "stream",
     "text": [
      "Training Epoch 371/400: 100%|██████████| 36/36 [00:03<00:00, 10.64batch/s, accuracy=75.8, loss=0.00511]\n"
     ]
    },
    {
     "name": "stdout",
     "output_type": "stream",
     "text": [
      "current loss: 0.006800236387385262, current accuracy: 0.2881944444444444\n"
     ]
    },
    {
     "name": "stderr",
     "output_type": "stream",
     "text": [
      "Training Epoch 372/400: 100%|██████████| 36/36 [00:03<00:00, 10.68batch/s, accuracy=80.5, loss=0.00517]\n"
     ]
    },
    {
     "name": "stdout",
     "output_type": "stream",
     "text": [
      "current loss: 0.006879604938957427, current accuracy: 0.2881944444444444\n"
     ]
    },
    {
     "name": "stderr",
     "output_type": "stream",
     "text": [
      "Training Epoch 373/400: 100%|██████████| 36/36 [00:03<00:00, 10.75batch/s, accuracy=79.7, loss=0.00503]\n"
     ]
    },
    {
     "name": "stdout",
     "output_type": "stream",
     "text": [
      "current loss: 0.007031722201241387, current accuracy: 0.2951388888888889\n"
     ]
    },
    {
     "name": "stderr",
     "output_type": "stream",
     "text": [
      "Training Epoch 374/400: 100%|██████████| 36/36 [00:03<00:00, 10.69batch/s, accuracy=74.2, loss=0.00533]\n"
     ]
    },
    {
     "name": "stdout",
     "output_type": "stream",
     "text": [
      "current loss: 0.006701299299796422, current accuracy: 0.3055555555555556\n"
     ]
    },
    {
     "name": "stderr",
     "output_type": "stream",
     "text": [
      "Training Epoch 375/400: 100%|██████████| 36/36 [00:03<00:00, 10.78batch/s, accuracy=74.2, loss=0.00525]\n"
     ]
    },
    {
     "name": "stdout",
     "output_type": "stream",
     "text": [
      "current loss: 0.0069735075036684675, current accuracy: 0.2777777777777778\n"
     ]
    },
    {
     "name": "stderr",
     "output_type": "stream",
     "text": [
      "Training Epoch 376/400: 100%|██████████| 36/36 [00:03<00:00, 10.59batch/s, accuracy=78.9, loss=0.00467]\n"
     ]
    },
    {
     "name": "stdout",
     "output_type": "stream",
     "text": [
      "current loss: 0.006908398949437671, current accuracy: 0.2847222222222222\n"
     ]
    },
    {
     "name": "stderr",
     "output_type": "stream",
     "text": [
      "Training Epoch 377/400: 100%|██████████| 36/36 [00:03<00:00, 10.82batch/s, accuracy=81.2, loss=0.00463]\n"
     ]
    },
    {
     "name": "stdout",
     "output_type": "stream",
     "text": [
      "current loss: 0.006864761726723777, current accuracy: 0.2916666666666667\n"
     ]
    },
    {
     "name": "stderr",
     "output_type": "stream",
     "text": [
      "Training Epoch 378/400: 100%|██████████| 36/36 [00:03<00:00, 10.61batch/s, accuracy=77.3, loss=0.005]  \n"
     ]
    },
    {
     "name": "stdout",
     "output_type": "stream",
     "text": [
      "current loss: 0.006983861327171326, current accuracy: 0.28125\n"
     ]
    },
    {
     "name": "stderr",
     "output_type": "stream",
     "text": [
      "Training Epoch 379/400: 100%|██████████| 36/36 [00:03<00:00, 10.64batch/s, accuracy=82, loss=0.00495]  \n"
     ]
    },
    {
     "name": "stdout",
     "output_type": "stream",
     "text": [
      "current loss: 0.0068441592156887054, current accuracy: 0.2951388888888889\n"
     ]
    },
    {
     "name": "stderr",
     "output_type": "stream",
     "text": [
      "Training Epoch 380/400: 100%|██████████| 36/36 [00:03<00:00, 10.53batch/s, accuracy=77.3, loss=0.0056] \n"
     ]
    },
    {
     "name": "stdout",
     "output_type": "stream",
     "text": [
      "current loss: 0.007003571424219344, current accuracy: 0.2847222222222222\n"
     ]
    },
    {
     "name": "stderr",
     "output_type": "stream",
     "text": [
      "Training Epoch 381/400: 100%|██████████| 36/36 [00:03<00:00, 10.58batch/s, accuracy=74.2, loss=0.00517]\n"
     ]
    },
    {
     "name": "stdout",
     "output_type": "stream",
     "text": [
      "current loss: 0.006952268381913503, current accuracy: 0.2847222222222222\n"
     ]
    },
    {
     "name": "stderr",
     "output_type": "stream",
     "text": [
      "Training Epoch 382/400: 100%|██████████| 36/36 [00:03<00:00, 10.80batch/s, accuracy=76.6, loss=0.00486]\n"
     ]
    },
    {
     "name": "stdout",
     "output_type": "stream",
     "text": [
      "current loss: 0.006895100490914451, current accuracy: 0.2881944444444444\n"
     ]
    },
    {
     "name": "stderr",
     "output_type": "stream",
     "text": [
      "Training Epoch 383/400: 100%|██████████| 36/36 [00:03<00:00, 10.66batch/s, accuracy=76.6, loss=0.00484]\n"
     ]
    },
    {
     "name": "stdout",
     "output_type": "stream",
     "text": [
      "current loss: 0.0069354818099074894, current accuracy: 0.2847222222222222\n"
     ]
    },
    {
     "name": "stderr",
     "output_type": "stream",
     "text": [
      "Training Epoch 384/400: 100%|██████████| 36/36 [00:03<00:00, 10.47batch/s, accuracy=78.9, loss=0.00487]\n"
     ]
    },
    {
     "name": "stdout",
     "output_type": "stream",
     "text": [
      "current loss: 0.006936864306529363, current accuracy: 0.2847222222222222\n"
     ]
    },
    {
     "name": "stderr",
     "output_type": "stream",
     "text": [
      "Training Epoch 385/400: 100%|██████████| 36/36 [00:03<00:00, 10.59batch/s, accuracy=76.6, loss=0.00477]\n"
     ]
    },
    {
     "name": "stdout",
     "output_type": "stream",
     "text": [
      "current loss: 0.007093505726920234, current accuracy: 0.2916666666666667\n"
     ]
    },
    {
     "name": "stderr",
     "output_type": "stream",
     "text": [
      "Training Epoch 386/400: 100%|██████████| 36/36 [00:03<00:00, 10.66batch/s, accuracy=76.6, loss=0.00495]\n"
     ]
    },
    {
     "name": "stdout",
     "output_type": "stream",
     "text": [
      "current loss: 0.006974094443851047, current accuracy: 0.28125\n"
     ]
    },
    {
     "name": "stderr",
     "output_type": "stream",
     "text": [
      "Training Epoch 387/400: 100%|██████████| 36/36 [00:03<00:00, 10.82batch/s, accuracy=84.4, loss=0.00423]\n"
     ]
    },
    {
     "name": "stdout",
     "output_type": "stream",
     "text": [
      "current loss: 0.007025774982240465, current accuracy: 0.2881944444444444\n"
     ]
    },
    {
     "name": "stderr",
     "output_type": "stream",
     "text": [
      "Training Epoch 388/400: 100%|██████████| 36/36 [00:03<00:00, 10.59batch/s, accuracy=82, loss=0.00464]  \n"
     ]
    },
    {
     "name": "stdout",
     "output_type": "stream",
     "text": [
      "current loss: 0.0070288413100772435, current accuracy: 0.28125\n"
     ]
    },
    {
     "name": "stderr",
     "output_type": "stream",
     "text": [
      "Training Epoch 389/400: 100%|██████████| 36/36 [00:03<00:00, 10.68batch/s, accuracy=82, loss=0.00504]  \n"
     ]
    },
    {
     "name": "stdout",
     "output_type": "stream",
     "text": [
      "current loss: 0.006905367390977012, current accuracy: 0.2986111111111111\n"
     ]
    },
    {
     "name": "stderr",
     "output_type": "stream",
     "text": [
      "Training Epoch 390/400: 100%|██████████| 36/36 [00:03<00:00, 10.67batch/s, accuracy=81.2, loss=0.00478]\n"
     ]
    },
    {
     "name": "stdout",
     "output_type": "stream",
     "text": [
      "current loss: 0.007014644642670949, current accuracy: 0.2881944444444444\n"
     ]
    },
    {
     "name": "stderr",
     "output_type": "stream",
     "text": [
      "Training Epoch 391/400: 100%|██████████| 36/36 [00:03<00:00, 10.80batch/s, accuracy=76.6, loss=0.00471]\n"
     ]
    },
    {
     "name": "stdout",
     "output_type": "stream",
     "text": [
      "current loss: 0.006975819667180379, current accuracy: 0.2881944444444444\n"
     ]
    },
    {
     "name": "stderr",
     "output_type": "stream",
     "text": [
      "Training Epoch 392/400: 100%|██████████| 36/36 [00:03<00:00, 10.69batch/s, accuracy=80.5, loss=0.00464]\n"
     ]
    },
    {
     "name": "stdout",
     "output_type": "stream",
     "text": [
      "current loss: 0.007049938042958577, current accuracy: 0.2881944444444444\n"
     ]
    },
    {
     "name": "stderr",
     "output_type": "stream",
     "text": [
      "Training Epoch 393/400: 100%|██████████| 36/36 [00:03<00:00, 10.67batch/s, accuracy=81.2, loss=0.00442]\n"
     ]
    },
    {
     "name": "stdout",
     "output_type": "stream",
     "text": [
      "current loss: 0.00700918585062027, current accuracy: 0.2986111111111111\n"
     ]
    },
    {
     "name": "stderr",
     "output_type": "stream",
     "text": [
      "Training Epoch 394/400: 100%|██████████| 36/36 [00:03<00:00, 10.80batch/s, accuracy=75.8, loss=0.00521]\n"
     ]
    },
    {
     "name": "stdout",
     "output_type": "stream",
     "text": [
      "current loss: 0.007194785608185662, current accuracy: 0.2847222222222222\n"
     ]
    },
    {
     "name": "stderr",
     "output_type": "stream",
     "text": [
      "Training Epoch 395/400: 100%|██████████| 36/36 [00:03<00:00, 10.54batch/s, accuracy=78.9, loss=0.00458]\n"
     ]
    },
    {
     "name": "stdout",
     "output_type": "stream",
     "text": [
      "current loss: 0.006972057951821221, current accuracy: 0.28125\n"
     ]
    },
    {
     "name": "stderr",
     "output_type": "stream",
     "text": [
      "Training Epoch 396/400: 100%|██████████| 36/36 [00:03<00:00, 10.65batch/s, accuracy=78.9, loss=0.00451]\n"
     ]
    },
    {
     "name": "stdout",
     "output_type": "stream",
     "text": [
      "current loss: 0.007323564754592048, current accuracy: 0.2847222222222222\n"
     ]
    },
    {
     "name": "stderr",
     "output_type": "stream",
     "text": [
      "Training Epoch 397/400: 100%|██████████| 36/36 [00:03<00:00, 10.74batch/s, accuracy=78.9, loss=0.005]  \n"
     ]
    },
    {
     "name": "stdout",
     "output_type": "stream",
     "text": [
      "current loss: 0.007069275610976749, current accuracy: 0.2847222222222222\n"
     ]
    },
    {
     "name": "stderr",
     "output_type": "stream",
     "text": [
      "Training Epoch 398/400: 100%|██████████| 36/36 [00:03<00:00, 10.63batch/s, accuracy=78.9, loss=0.00455]\n"
     ]
    },
    {
     "name": "stdout",
     "output_type": "stream",
     "text": [
      "current loss: 0.0070336055424478315, current accuracy: 0.2847222222222222\n"
     ]
    },
    {
     "name": "stderr",
     "output_type": "stream",
     "text": [
      "Training Epoch 399/400: 100%|██████████| 36/36 [00:03<00:00, 10.72batch/s, accuracy=81.2, loss=0.0046] \n"
     ]
    },
    {
     "name": "stdout",
     "output_type": "stream",
     "text": [
      "current loss: 0.007046641574965583, current accuracy: 0.2916666666666667\n"
     ]
    },
    {
     "name": "stderr",
     "output_type": "stream",
     "text": [
      "Training Epoch 400/400: 100%|██████████| 36/36 [00:03<00:00, 10.58batch/s, accuracy=78.1, loss=0.00492]"
     ]
    },
    {
     "name": "stdout",
     "output_type": "stream",
     "text": [
      "current loss: 0.00711706280708313, current accuracy: 0.2847222222222222\n"
     ]
    },
    {
     "name": "stderr",
     "output_type": "stream",
     "text": [
      "\n"
     ]
    }
   ],
   "source": [
    "from dataset.matDataset import SI_dataset\n",
    "from torch.utils.data import DataLoader\n",
    "import torch.optim as optim\n",
    "import torch.nn as nn\n",
    "import torch\n",
    "\n",
    "from models import *\n",
    "from trial import *\n",
    "\n",
    "\n",
    "model = AttentionNet(\n",
    "    input_size = (22, 562),\n",
    "    activate_func = nn.ELU,\n",
    "    dropout = 0.9,\n",
    "    kernel_size = 25,\n",
    "    dense_size = 128,\n",
    "    filter_number = 32\n",
    ")\n",
    "\n",
    "\n",
    "optimizer = optim.Adam(\n",
    "    model.parameters(),\n",
    "    lr = 0.00001,\n",
    "    weight_decay = 0.1\n",
    ")\n",
    " \n",
    "train_dataset = SI_dataset()\n",
    "test_dataset = SI_dataset(train = False)\n",
    "\n",
    "train_loader = DataLoader(train_dataset, batch_size = 128)\n",
    "\n",
    "\n",
    "device = torch.device('cuda:0')\n",
    "\n",
    "model, loss_log, accuracy_log = train(model, device, nn.CrossEntropyLoss(), optimizer, 400, train_loader, test_dataset)\n",
    "\n"
   ]
  },
  {
   "cell_type": "code",
   "execution_count": 2,
   "metadata": {},
   "outputs": [
    {
     "name": "stdout",
     "output_type": "stream",
     "text": [
      "Sequential(\n",
      "  (0): Linear(in_features=484, out_features=128, bias=True)\n",
      "  (1): ELU(alpha=1.0)\n",
      ")\n"
     ]
    },
    {
     "data": {
      "image/png": "[encoded data removed]",
      "text/plain": [
       "<Figure size 432x288 with 2 Axes>"
      ]
     },
     "metadata": {
      "needs_background": "light"
     },
     "output_type": "display_data"
    },
    {
     "data": {
      "image/png": "[encoded data removed]",
      "text/plain": [
       "<Figure size 432x288 with 2 Axes>"
      ]
     },
     "metadata": {
      "needs_background": "light"
     },
     "output_type": "display_data"
    },
    {
     "name": "stdout",
     "output_type": "stream",
     "text": [
      "tensor([0, 1, 1, 0, 0, 0, 0, 3, 0, 2, 0, 2, 1, 2, 1, 0, 2, 1, 3, 0, 1, 0, 1, 0,\n",
      "        1, 0, 1, 0, 3, 0, 1, 1, 0, 1, 0, 0, 0, 3, 0, 1, 1, 2, 0, 3, 1, 0, 2, 2,\n",
      "        0, 3, 0, 0, 1, 0, 0, 1, 1, 0, 0, 0, 1, 0, 0, 1, 0, 0, 0, 2, 0, 0, 0, 2,\n",
      "        0, 0, 1, 1, 0, 0, 0, 0, 1, 0, 1, 0, 2, 1, 1, 2, 1, 1, 0, 0, 2, 0, 0, 0,\n",
      "        1, 0, 0, 0, 1, 2, 0, 0, 0, 2, 0, 3, 1, 1, 0, 0, 0, 1, 1, 2, 0, 2, 1, 1,\n",
      "        1, 0, 2, 0, 0, 1, 1, 3, 0, 2, 3, 0, 1, 0, 0, 0, 1, 1, 1, 1, 0, 0, 0, 0,\n",
      "        0, 1, 0, 1, 0, 1, 0, 0, 1, 0, 0, 3, 1, 0, 0, 0, 0, 1, 0, 1, 1, 0, 2, 0,\n",
      "        0, 0, 0, 0, 0, 1, 1, 0, 1, 0, 1, 1, 1, 0, 0, 1, 2, 1, 1, 0, 0, 0, 0, 1,\n",
      "        0, 1, 1, 0, 1, 0, 0, 0, 0, 0, 0, 0, 0, 2, 0, 0, 0, 0, 0, 0, 2, 0, 0, 2,\n",
      "        0, 1, 0, 1, 1, 1, 1, 0, 2, 0, 0, 0, 1, 1, 0, 0, 0, 1, 3, 0, 0, 0, 1, 1,\n",
      "        0, 0, 1, 0, 0, 0, 0, 0, 1, 1, 2, 1, 0, 1, 0, 0, 0, 0, 0, 1, 0, 0, 0, 0,\n",
      "        0, 0, 1, 1, 1, 0, 0, 0, 3, 1, 0, 1, 0, 0, 2, 2, 0, 1, 0, 0, 0, 1, 0, 0],\n",
      "       device='cuda:0')\n"
     ]
    }
   ],
   "source": [
    "from importlib import reload\n",
    "import utils\n",
    "print(model.FC1)\n",
    "reload(utils)\n",
    "utils.plot_curve(loss_log, 'loss')\n",
    "utils.plot_curve(accuracy_log, 'accuracy')\n",
    "print(torch.argmax(model(test_dataset.data.to(device)), dim = 1))"
   ]
  },
  {
   "cell_type": "markdown",
   "metadata": {},
   "source": [
    "# Test SI with DA"
   ]
  },
  {
   "cell_type": "code",
   "execution_count": 3,
   "metadata": {},
   "outputs": [
    {
     "name": "stderr",
     "output_type": "stream",
     "text": [
      "Training Epoch 01/100: 100%|██████████| 1332/1332 [00:46<00:00, 28.43batch/s, accuracy=25, loss=0.0108]  \n"
     ]
    },
    {
     "name": "stdout",
     "output_type": "stream",
     "text": [
      "current loss: 0.00013009540445811754, current accuracy: 0.25\n"
     ]
    },
    {
     "name": "stderr",
     "output_type": "stream",
     "text": [
      "Training Epoch 02/100: 100%|██████████| 1332/1332 [00:44<00:00, 30.11batch/s, accuracy=25.8, loss=0.0108]\n"
     ]
    },
    {
     "name": "stdout",
     "output_type": "stream",
     "text": [
      "current loss: 0.0001300953932710596, current accuracy: 0.25\n"
     ]
    },
    {
     "name": "stderr",
     "output_type": "stream",
     "text": [
      "Training Epoch 03/100: 100%|██████████| 1332/1332 [00:44<00:00, 30.20batch/s, accuracy=25.8, loss=0.0108]\n"
     ]
    },
    {
     "name": "stdout",
     "output_type": "stream",
     "text": [
      "current loss: 0.00013009500172403123, current accuracy: 0.25\n"
     ]
    },
    {
     "name": "stderr",
     "output_type": "stream",
     "text": [
      "Training Epoch 04/100: 100%|██████████| 1332/1332 [00:43<00:00, 30.33batch/s, accuracy=25.8, loss=0.0108]\n"
     ]
    },
    {
     "name": "stdout",
     "output_type": "stream",
     "text": [
      "current loss: 0.0001300950800334369, current accuracy: 0.25\n"
     ]
    },
    {
     "name": "stderr",
     "output_type": "stream",
     "text": [
      "Training Epoch 05/100: 100%|██████████| 1332/1332 [00:44<00:00, 30.05batch/s, accuracy=25.8, loss=0.0108]\n"
     ]
    },
    {
     "name": "stdout",
     "output_type": "stream",
     "text": [
      "current loss: 0.0001300953932710596, current accuracy: 0.25\n"
     ]
    },
    {
     "name": "stderr",
     "output_type": "stream",
     "text": [
      "Training Epoch 06/100: 100%|██████████| 1332/1332 [00:44<00:00, 30.03batch/s, accuracy=26.6, loss=0.0108]\n"
     ]
    },
    {
     "name": "stdout",
     "output_type": "stream",
     "text": [
      "current loss: 0.0001300950800334369, current accuracy: 0.25\n"
     ]
    },
    {
     "name": "stderr",
     "output_type": "stream",
     "text": [
      "Training Epoch 07/100: 100%|██████████| 1332/1332 [00:44<00:00, 30.09batch/s, accuracy=29.7, loss=0.0108]\n"
     ]
    },
    {
     "name": "stdout",
     "output_type": "stream",
     "text": [
      "current loss: 0.00013009501291108918, current accuracy: 0.25\n"
     ]
    },
    {
     "name": "stderr",
     "output_type": "stream",
     "text": [
      "Training Epoch 08/100: 100%|██████████| 1332/1332 [00:44<00:00, 30.15batch/s, accuracy=24.2, loss=0.0108]\n"
     ]
    },
    {
     "name": "stdout",
     "output_type": "stream",
     "text": [
      "current loss: 0.00013009531496165392, current accuracy: 0.25\n"
     ]
    },
    {
     "name": "stderr",
     "output_type": "stream",
     "text": [
      "Training Epoch 09/100: 100%|██████████| 1332/1332 [00:43<00:00, 30.68batch/s, accuracy=27.3, loss=0.0108]\n"
     ]
    },
    {
     "name": "stdout",
     "output_type": "stream",
     "text": [
      "current loss: 0.00013009511359461076, current accuracy: 0.25\n"
     ]
    },
    {
     "name": "stderr",
     "output_type": "stream",
     "text": [
      "Training Epoch 10/100: 100%|██████████| 1332/1332 [00:43<00:00, 30.37batch/s, accuracy=22.7, loss=0.0108]\n"
     ]
    },
    {
     "name": "stdout",
     "output_type": "stream",
     "text": [
      "current loss: 0.00013009509122049486, current accuracy: 0.25\n"
     ]
    },
    {
     "name": "stderr",
     "output_type": "stream",
     "text": [
      "Training Epoch 11/100: 100%|██████████| 1332/1332 [00:43<00:00, 30.47batch/s, accuracy=29.7, loss=0.0108]\n"
     ]
    },
    {
     "name": "stdout",
     "output_type": "stream",
     "text": [
      "current loss: 0.00013009511359461076, current accuracy: 0.25\n"
     ]
    },
    {
     "name": "stderr",
     "output_type": "stream",
     "text": [
      "Training Epoch 12/100: 100%|██████████| 1332/1332 [00:43<00:00, 30.65batch/s, accuracy=29.7, loss=0.0108]\n"
     ]
    },
    {
     "name": "stdout",
     "output_type": "stream",
     "text": [
      "current loss: 0.00013009501291108918, current accuracy: 0.25\n"
     ]
    },
    {
     "name": "stderr",
     "output_type": "stream",
     "text": [
      "Training Epoch 13/100: 100%|██████████| 1332/1332 [00:44<00:00, 30.23batch/s, accuracy=31.2, loss=0.0108]\n"
     ]
    },
    {
     "name": "stdout",
     "output_type": "stream",
     "text": [
      "current loss: 0.0001300954156451755, current accuracy: 0.25\n"
     ]
    },
    {
     "name": "stderr",
     "output_type": "stream",
     "text": [
      "Training Epoch 14/100: 100%|██████████| 1332/1332 [00:43<00:00, 30.48batch/s, accuracy=20.3, loss=0.0108]\n"
     ]
    },
    {
     "name": "stdout",
     "output_type": "stream",
     "text": [
      "current loss: 0.00013009502409814714, current accuracy: 0.25\n"
     ]
    },
    {
     "name": "stderr",
     "output_type": "stream",
     "text": [
      "Training Epoch 15/100: 100%|██████████| 1332/1332 [00:43<00:00, 30.42batch/s, accuracy=24.2, loss=0.0108]\n"
     ]
    },
    {
     "name": "stdout",
     "output_type": "stream",
     "text": [
      "current loss: 0.00013009501291108918, current accuracy: 0.25\n"
     ]
    },
    {
     "name": "stderr",
     "output_type": "stream",
     "text": [
      "Training Epoch 16/100: 100%|██████████| 1332/1332 [00:43<00:00, 30.40batch/s, accuracy=25.8, loss=0.0108]\n"
     ]
    },
    {
     "name": "stdout",
     "output_type": "stream",
     "text": [
      "current loss: 0.00013009504647226304, current accuracy: 0.25\n"
     ]
    },
    {
     "name": "stderr",
     "output_type": "stream",
     "text": [
      "Training Epoch 17/100: 100%|██████████| 1332/1332 [00:43<00:00, 30.48batch/s, accuracy=24.2, loss=0.0108]\n"
     ]
    },
    {
     "name": "stdout",
     "output_type": "stream",
     "text": [
      "current loss: 0.00013009506884637895, current accuracy: 0.25\n"
     ]
    },
    {
     "name": "stderr",
     "output_type": "stream",
     "text": [
      "Training Epoch 18/100: 100%|██████████| 1332/1332 [00:43<00:00, 30.51batch/s, accuracy=20.3, loss=0.0108]\n"
     ]
    },
    {
     "name": "stdout",
     "output_type": "stream",
     "text": [
      "current loss: 0.0001300954156451755, current accuracy: 0.25\n"
     ]
    },
    {
     "name": "stderr",
     "output_type": "stream",
     "text": [
      "Training Epoch 19/100: 100%|██████████| 1332/1332 [00:43<00:00, 30.52batch/s, accuracy=25, loss=0.0108]  \n"
     ]
    },
    {
     "name": "stdout",
     "output_type": "stream",
     "text": [
      "current loss: 0.00013009523665224825, current accuracy: 0.25\n"
     ]
    },
    {
     "name": "stderr",
     "output_type": "stream",
     "text": [
      "Training Epoch 20/100: 100%|██████████| 1332/1332 [00:44<00:00, 30.26batch/s, accuracy=22.7, loss=0.0108]\n"
     ]
    },
    {
     "name": "stdout",
     "output_type": "stream",
     "text": [
      "current loss: 0.00013009509122049486, current accuracy: 0.25\n"
     ]
    },
    {
     "name": "stderr",
     "output_type": "stream",
     "text": [
      "Training Epoch 21/100: 100%|██████████| 1332/1332 [00:44<00:00, 30.15batch/s, accuracy=20.3, loss=0.0108]\n"
     ]
    },
    {
     "name": "stdout",
     "output_type": "stream",
     "text": [
      "current loss: 0.00013009540445811754, current accuracy: 0.25\n"
     ]
    },
    {
     "name": "stderr",
     "output_type": "stream",
     "text": [
      "Training Epoch 22/100: 100%|██████████| 1332/1332 [00:43<00:00, 30.41batch/s, accuracy=22.7, loss=0.0108]\n"
     ]
    },
    {
     "name": "stdout",
     "output_type": "stream",
     "text": [
      "current loss: 0.0001300954380192914, current accuracy: 0.25\n"
     ]
    },
    {
     "name": "stderr",
     "output_type": "stream",
     "text": [
      "Training Epoch 23/100: 100%|██████████| 1332/1332 [00:43<00:00, 30.30batch/s, accuracy=28.9, loss=0.0108]\n"
     ]
    },
    {
     "name": "stdout",
     "output_type": "stream",
     "text": [
      "current loss: 0.00013009521427813234, current accuracy: 0.25\n"
     ]
    },
    {
     "name": "stderr",
     "output_type": "stream",
     "text": [
      "Training Epoch 24/100: 100%|██████████| 1332/1332 [00:43<00:00, 30.54batch/s, accuracy=25, loss=0.0108]  \n"
     ]
    },
    {
     "name": "stdout",
     "output_type": "stream",
     "text": [
      "current loss: 0.00013009516952990053, current accuracy: 0.25\n"
     ]
    },
    {
     "name": "stderr",
     "output_type": "stream",
     "text": [
      "Training Epoch 25/100: 100%|██████████| 1332/1332 [00:43<00:00, 30.46batch/s, accuracy=30.5, loss=0.0108]\n"
     ]
    },
    {
     "name": "stdout",
     "output_type": "stream",
     "text": [
      "current loss: 0.00013009547158046526, current accuracy: 0.25\n"
     ]
    },
    {
     "name": "stderr",
     "output_type": "stream",
     "text": [
      "Training Epoch 26/100: 100%|██████████| 1332/1332 [00:43<00:00, 30.76batch/s, accuracy=26.6, loss=0.0108]\n"
     ]
    },
    {
     "name": "stdout",
     "output_type": "stream",
     "text": [
      "current loss: 0.00013009500172403123, current accuracy: 0.25\n"
     ]
    },
    {
     "name": "stderr",
     "output_type": "stream",
     "text": [
      "Training Epoch 27/100: 100%|██████████| 1332/1332 [00:43<00:00, 30.49batch/s, accuracy=23.4, loss=0.0108]\n"
     ]
    },
    {
     "name": "stdout",
     "output_type": "stream",
     "text": [
      "current loss: 0.00013009534852282778, current accuracy: 0.25\n"
     ]
    },
    {
     "name": "stderr",
     "output_type": "stream",
     "text": [
      "Training Epoch 28/100: 100%|██████████| 1332/1332 [00:43<00:00, 30.45batch/s, accuracy=31.2, loss=0.0108]\n"
     ]
    },
    {
     "name": "stdout",
     "output_type": "stream",
     "text": [
      "current loss: 0.00013009540445811754, current accuracy: 0.25\n"
     ]
    },
    {
     "name": "stderr",
     "output_type": "stream",
     "text": [
      "Training Epoch 29/100: 100%|██████████| 1332/1332 [00:43<00:00, 30.78batch/s, accuracy=32.8, loss=0.0108]\n"
     ]
    },
    {
     "name": "stdout",
     "output_type": "stream",
     "text": [
      "current loss: 0.00013009512478166872, current accuracy: 0.25\n"
     ]
    },
    {
     "name": "stderr",
     "output_type": "stream",
     "text": [
      "Training Epoch 30/100: 100%|██████████| 1332/1332 [00:43<00:00, 30.40batch/s, accuracy=18, loss=0.0108]  \n"
     ]
    },
    {
     "name": "stdout",
     "output_type": "stream",
     "text": [
      "current loss: 0.00013009533733576983, current accuracy: 0.25\n"
     ]
    },
    {
     "name": "stderr",
     "output_type": "stream",
     "text": [
      "Training Epoch 31/100: 100%|██████████| 1332/1332 [00:43<00:00, 30.79batch/s, accuracy=28.9, loss=0.0108]\n"
     ]
    },
    {
     "name": "stdout",
     "output_type": "stream",
     "text": [
      "current loss: 0.00013009512478166872, current accuracy: 0.25\n"
     ]
    },
    {
     "name": "stderr",
     "output_type": "stream",
     "text": [
      "Training Epoch 32/100: 100%|██████████| 1332/1332 [00:43<00:00, 30.75batch/s, accuracy=29.7, loss=0.0108]\n"
     ]
    },
    {
     "name": "stdout",
     "output_type": "stream",
     "text": [
      "current loss: 0.0001300954380192914, current accuracy: 0.25\n"
     ]
    },
    {
     "name": "stderr",
     "output_type": "stream",
     "text": [
      "Training Epoch 33/100: 100%|██████████| 1332/1332 [00:43<00:00, 30.70batch/s, accuracy=32, loss=0.0108]  \n"
     ]
    },
    {
     "name": "stdout",
     "output_type": "stream",
     "text": [
      "current loss: 0.00013009500172403123, current accuracy: 0.25\n"
     ]
    },
    {
     "name": "stderr",
     "output_type": "stream",
     "text": [
      "Training Epoch 34/100: 100%|██████████| 1332/1332 [00:43<00:00, 30.51batch/s, accuracy=25, loss=0.0108]  \n"
     ]
    },
    {
     "name": "stdout",
     "output_type": "stream",
     "text": [
      "current loss: 0.00013009509122049486, current accuracy: 0.25\n"
     ]
    },
    {
     "name": "stderr",
     "output_type": "stream",
     "text": [
      "Training Epoch 35/100: 100%|██████████| 1332/1332 [00:43<00:00, 30.33batch/s, accuracy=21.9, loss=0.0108]\n"
     ]
    },
    {
     "name": "stdout",
     "output_type": "stream",
     "text": [
      "current loss: 0.0001300954156451755, current accuracy: 0.25\n"
     ]
    },
    {
     "name": "stderr",
     "output_type": "stream",
     "text": [
      "Training Epoch 36/100: 100%|██████████| 1332/1332 [00:44<00:00, 30.26batch/s, accuracy=26.6, loss=0.0108]\n"
     ]
    },
    {
     "name": "stdout",
     "output_type": "stream",
     "text": [
      "current loss: 0.0001300952030910744, current accuracy: 0.25\n"
     ]
    },
    {
     "name": "stderr",
     "output_type": "stream",
     "text": [
      "Training Epoch 37/100: 100%|██████████| 1332/1332 [00:43<00:00, 30.48batch/s, accuracy=28.1, loss=0.0108]\n"
     ]
    },
    {
     "name": "stdout",
     "output_type": "stream",
     "text": [
      "current loss: 0.0001300952030910744, current accuracy: 0.25\n"
     ]
    },
    {
     "name": "stderr",
     "output_type": "stream",
     "text": [
      "Training Epoch 38/100: 100%|██████████| 1332/1332 [00:43<00:00, 30.66batch/s, accuracy=21.9, loss=0.0108]\n"
     ]
    },
    {
     "name": "stdout",
     "output_type": "stream",
     "text": [
      "current loss: 0.00013009519190401643, current accuracy: 0.25\n"
     ]
    },
    {
     "name": "stderr",
     "output_type": "stream",
     "text": [
      "Training Epoch 39/100: 100%|██████████| 1332/1332 [00:43<00:00, 30.59batch/s, accuracy=25, loss=0.0108]  \n"
     ]
    },
    {
     "name": "stdout",
     "output_type": "stream",
     "text": [
      "current loss: 0.0001300954603934073, current accuracy: 0.25\n"
     ]
    },
    {
     "name": "stderr",
     "output_type": "stream",
     "text": [
      "Training Epoch 40/100: 100%|██████████| 1332/1332 [00:43<00:00, 30.40batch/s, accuracy=20.3, loss=0.0108]\n"
     ]
    },
    {
     "name": "stdout",
     "output_type": "stream",
     "text": [
      "current loss: 0.00013009511359461076, current accuracy: 0.25\n"
     ]
    },
    {
     "name": "stderr",
     "output_type": "stream",
     "text": [
      "Training Epoch 41/100: 100%|██████████| 1332/1332 [00:43<00:00, 30.52batch/s, accuracy=26.6, loss=0.0108]\n"
     ]
    },
    {
     "name": "stdout",
     "output_type": "stream",
     "text": [
      "current loss: 0.00013009511359461076, current accuracy: 0.25\n"
     ]
    },
    {
     "name": "stderr",
     "output_type": "stream",
     "text": [
      "Training Epoch 42/100: 100%|██████████| 1332/1332 [00:43<00:00, 30.59batch/s, accuracy=26.6, loss=0.0108]\n"
     ]
    },
    {
     "name": "stdout",
     "output_type": "stream",
     "text": [
      "current loss: 0.00013009534852282778, current accuracy: 0.25\n"
     ]
    },
    {
     "name": "stderr",
     "output_type": "stream",
     "text": [
      "Training Epoch 43/100: 100%|██████████| 1332/1332 [00:43<00:00, 30.51batch/s, accuracy=31.2, loss=0.0108]\n"
     ]
    },
    {
     "name": "stdout",
     "output_type": "stream",
     "text": [
      "current loss: 0.00013009542683223345, current accuracy: 0.25\n"
     ]
    },
    {
     "name": "stderr",
     "output_type": "stream",
     "text": [
      "Training Epoch 44/100: 100%|██████████| 1332/1332 [00:43<00:00, 30.85batch/s, accuracy=25.8, loss=0.0108]\n"
     ]
    },
    {
     "name": "stdout",
     "output_type": "stream",
     "text": [
      "current loss: 0.00013009509122049486, current accuracy: 0.25\n"
     ]
    },
    {
     "name": "stderr",
     "output_type": "stream",
     "text": [
      "Training Epoch 45/100: 100%|██████████| 1332/1332 [00:43<00:00, 30.39batch/s, accuracy=25, loss=0.0108]  \n"
     ]
    },
    {
     "name": "stdout",
     "output_type": "stream",
     "text": [
      "current loss: 0.00013009523665224825, current accuracy: 0.25\n"
     ]
    },
    {
     "name": "stderr",
     "output_type": "stream",
     "text": [
      "Training Epoch 46/100: 100%|██████████| 1332/1332 [00:43<00:00, 30.29batch/s, accuracy=20.3, loss=0.0108]\n"
     ]
    },
    {
     "name": "stdout",
     "output_type": "stream",
     "text": [
      "current loss: 0.00013009509122049486, current accuracy: 0.25\n"
     ]
    },
    {
     "name": "stderr",
     "output_type": "stream",
     "text": [
      "Training Epoch 47/100: 100%|██████████| 1332/1332 [00:43<00:00, 30.48batch/s, accuracy=21.1, loss=0.0108]\n"
     ]
    },
    {
     "name": "stdout",
     "output_type": "stream",
     "text": [
      "current loss: 0.00013009542683223345, current accuracy: 0.25\n"
     ]
    },
    {
     "name": "stderr",
     "output_type": "stream",
     "text": [
      "Training Epoch 48/100: 100%|██████████| 1332/1332 [00:43<00:00, 30.68batch/s, accuracy=26.6, loss=0.0108]\n"
     ]
    },
    {
     "name": "stdout",
     "output_type": "stream",
     "text": [
      "current loss: 0.00013009523665224825, current accuracy: 0.25\n"
     ]
    },
    {
     "name": "stderr",
     "output_type": "stream",
     "text": [
      "Training Epoch 49/100: 100%|██████████| 1332/1332 [00:43<00:00, 30.48batch/s, accuracy=28.9, loss=0.0108]\n"
     ]
    },
    {
     "name": "stdout",
     "output_type": "stream",
     "text": [
      "current loss: 0.00013009511359461076, current accuracy: 0.25\n"
     ]
    },
    {
     "name": "stderr",
     "output_type": "stream",
     "text": [
      "Training Epoch 50/100: 100%|██████████| 1332/1332 [00:43<00:00, 30.63batch/s, accuracy=30.5, loss=0.0108]\n"
     ]
    },
    {
     "name": "stdout",
     "output_type": "stream",
     "text": [
      "current loss: 0.00013009531496165392, current accuracy: 0.25\n"
     ]
    },
    {
     "name": "stderr",
     "output_type": "stream",
     "text": [
      "Training Epoch 51/100: 100%|██████████| 1332/1332 [00:43<00:00, 30.41batch/s, accuracy=20.3, loss=0.0108]\n"
     ]
    },
    {
     "name": "stdout",
     "output_type": "stream",
     "text": [
      "current loss: 0.00013009544920634936, current accuracy: 0.25\n"
     ]
    },
    {
     "name": "stderr",
     "output_type": "stream",
     "text": [
      "Training Epoch 52/100: 100%|██████████| 1332/1332 [00:44<00:00, 30.27batch/s, accuracy=25.8, loss=0.0108]\n"
     ]
    },
    {
     "name": "stdout",
     "output_type": "stream",
     "text": [
      "current loss: 0.00013009533733576983, current accuracy: 0.25\n"
     ]
    },
    {
     "name": "stderr",
     "output_type": "stream",
     "text": [
      "Training Epoch 53/100: 100%|██████████| 1332/1332 [00:43<00:00, 30.70batch/s, accuracy=25, loss=0.0108]  \n"
     ]
    },
    {
     "name": "stdout",
     "output_type": "stream",
     "text": [
      "current loss: 0.00013009531496165392, current accuracy: 0.25\n"
     ]
    },
    {
     "name": "stderr",
     "output_type": "stream",
     "text": [
      "Training Epoch 54/100: 100%|██████████| 1332/1332 [00:43<00:00, 30.75batch/s, accuracy=23.4, loss=0.0108]\n"
     ]
    },
    {
     "name": "stdout",
     "output_type": "stream",
     "text": [
      "current loss: 0.00013009509122049486, current accuracy: 0.25\n"
     ]
    },
    {
     "name": "stderr",
     "output_type": "stream",
     "text": [
      "Training Epoch 55/100: 100%|██████████| 1332/1332 [00:43<00:00, 30.36batch/s, accuracy=28.9, loss=0.0108]\n"
     ]
    },
    {
     "name": "stdout",
     "output_type": "stream",
     "text": [
      "current loss: 0.0001300954603934073, current accuracy: 0.25\n"
     ]
    },
    {
     "name": "stderr",
     "output_type": "stream",
     "text": [
      "Training Epoch 56/100: 100%|██████████| 1332/1332 [00:43<00:00, 30.64batch/s, accuracy=23.4, loss=0.0108]\n"
     ]
    },
    {
     "name": "stdout",
     "output_type": "stream",
     "text": [
      "current loss: 0.00013009509122049486, current accuracy: 0.25\n"
     ]
    },
    {
     "name": "stderr",
     "output_type": "stream",
     "text": [
      "Training Epoch 57/100: 100%|██████████| 1332/1332 [00:43<00:00, 30.80batch/s, accuracy=27.3, loss=0.0108]\n"
     ]
    },
    {
     "name": "stdout",
     "output_type": "stream",
     "text": [
      "current loss: 0.00013009509122049486, current accuracy: 0.25\n"
     ]
    },
    {
     "name": "stderr",
     "output_type": "stream",
     "text": [
      "Training Epoch 58/100: 100%|██████████| 1332/1332 [00:43<00:00, 30.58batch/s, accuracy=25, loss=0.0108]  \n"
     ]
    },
    {
     "name": "stdout",
     "output_type": "stream",
     "text": [
      "current loss: 0.00013009571769574026, current accuracy: 0.25\n"
     ]
    },
    {
     "name": "stderr",
     "output_type": "stream",
     "text": [
      "Training Epoch 59/100: 100%|██████████| 1332/1332 [00:43<00:00, 30.57batch/s, accuracy=27.3, loss=0.0108]\n"
     ]
    },
    {
     "name": "stdout",
     "output_type": "stream",
     "text": [
      "current loss: 0.00013009502409814714, current accuracy: 0.25\n"
     ]
    },
    {
     "name": "stderr",
     "output_type": "stream",
     "text": [
      "Training Epoch 60/100: 100%|██████████| 1332/1332 [00:43<00:00, 30.48batch/s, accuracy=22.7, loss=0.0108]\n"
     ]
    },
    {
     "name": "stdout",
     "output_type": "stream",
     "text": [
      "current loss: 0.00013009511359461076, current accuracy: 0.25\n"
     ]
    },
    {
     "name": "stderr",
     "output_type": "stream",
     "text": [
      "Training Epoch 61/100: 100%|██████████| 1332/1332 [00:43<00:00, 30.28batch/s, accuracy=23.4, loss=0.0108]\n"
     ]
    },
    {
     "name": "stdout",
     "output_type": "stream",
     "text": [
      "current loss: 0.0001300951024075528, current accuracy: 0.25\n"
     ]
    },
    {
     "name": "stderr",
     "output_type": "stream",
     "text": [
      "Training Epoch 62/100: 100%|██████████| 1332/1332 [00:43<00:00, 30.49batch/s, accuracy=25.8, loss=0.0108]\n"
     ]
    },
    {
     "name": "stdout",
     "output_type": "stream",
     "text": [
      "current loss: 0.00013009511359461076, current accuracy: 0.25\n"
     ]
    },
    {
     "name": "stderr",
     "output_type": "stream",
     "text": [
      "Training Epoch 63/100: 100%|██████████| 1332/1332 [00:43<00:00, 30.31batch/s, accuracy=28.9, loss=0.0108]\n"
     ]
    },
    {
     "name": "stdout",
     "output_type": "stream",
     "text": [
      "current loss: 0.00013009501291108918, current accuracy: 0.25\n"
     ]
    },
    {
     "name": "stderr",
     "output_type": "stream",
     "text": [
      "Training Epoch 64/100: 100%|██████████| 1332/1332 [00:43<00:00, 30.65batch/s, accuracy=21.1, loss=0.0108]\n"
     ]
    },
    {
     "name": "stdout",
     "output_type": "stream",
     "text": [
      "current loss: 0.00013009512478166872, current accuracy: 0.25\n"
     ]
    },
    {
     "name": "stderr",
     "output_type": "stream",
     "text": [
      "Training Epoch 65/100: 100%|██████████| 1332/1332 [00:43<00:00, 30.29batch/s, accuracy=19.5, loss=0.0108]\n"
     ]
    },
    {
     "name": "stdout",
     "output_type": "stream",
     "text": [
      "current loss: 0.00013009509122049486, current accuracy: 0.25\n"
     ]
    },
    {
     "name": "stderr",
     "output_type": "stream",
     "text": [
      "Training Epoch 66/100: 100%|██████████| 1332/1332 [00:43<00:00, 30.51batch/s, accuracy=25.8, loss=0.0108]\n"
     ]
    },
    {
     "name": "stdout",
     "output_type": "stream",
     "text": [
      "current loss: 0.0001300952030910744, current accuracy: 0.25\n"
     ]
    },
    {
     "name": "stderr",
     "output_type": "stream",
     "text": [
      "Training Epoch 67/100: 100%|██████████| 1332/1332 [00:43<00:00, 30.35batch/s, accuracy=25, loss=0.0108]  \n"
     ]
    },
    {
     "name": "stdout",
     "output_type": "stream",
     "text": [
      "current loss: 0.0001300948674793358, current accuracy: 0.25\n"
     ]
    },
    {
     "name": "stderr",
     "output_type": "stream",
     "text": [
      "Training Epoch 68/100: 100%|██████████| 1332/1332 [00:44<00:00, 30.20batch/s, accuracy=22.7, loss=0.0108]\n"
     ]
    },
    {
     "name": "stdout",
     "output_type": "stream",
     "text": [
      "current loss: 0.0001300950800334369, current accuracy: 0.25\n"
     ]
    },
    {
     "name": "stderr",
     "output_type": "stream",
     "text": [
      "Training Epoch 69/100: 100%|██████████| 1332/1332 [00:43<00:00, 30.47batch/s, accuracy=27.3, loss=0.0108]\n"
     ]
    },
    {
     "name": "stdout",
     "output_type": "stream",
     "text": [
      "current loss: 0.00013009567294750845, current accuracy: 0.25\n"
     ]
    },
    {
     "name": "stderr",
     "output_type": "stream",
     "text": [
      "Training Epoch 70/100: 100%|██████████| 1332/1332 [00:43<00:00, 30.74batch/s, accuracy=24.2, loss=0.0108]\n"
     ]
    },
    {
     "name": "stdout",
     "output_type": "stream",
     "text": [
      "current loss: 0.00013009512478166872, current accuracy: 0.25\n"
     ]
    },
    {
     "name": "stderr",
     "output_type": "stream",
     "text": [
      "Training Epoch 71/100: 100%|██████████| 1332/1332 [00:43<00:00, 30.36batch/s, accuracy=18.8, loss=0.0108]\n"
     ]
    },
    {
     "name": "stdout",
     "output_type": "stream",
     "text": [
      "current loss: 0.00013009544920634936, current accuracy: 0.25\n"
     ]
    },
    {
     "name": "stderr",
     "output_type": "stream",
     "text": [
      "Training Epoch 72/100: 100%|██████████| 1332/1332 [00:43<00:00, 30.49batch/s, accuracy=26.6, loss=0.0108]\n"
     ]
    },
    {
     "name": "stdout",
     "output_type": "stream",
     "text": [
      "current loss: 0.00013009506884637895, current accuracy: 0.25\n"
     ]
    },
    {
     "name": "stderr",
     "output_type": "stream",
     "text": [
      "Training Epoch 73/100: 100%|██████████| 1332/1332 [00:43<00:00, 30.37batch/s, accuracy=27.3, loss=0.0108]\n"
     ]
    },
    {
     "name": "stdout",
     "output_type": "stream",
     "text": [
      "current loss: 0.00013009506884637895, current accuracy: 0.25\n"
     ]
    },
    {
     "name": "stderr",
     "output_type": "stream",
     "text": [
      "Training Epoch 74/100: 100%|██████████| 1332/1332 [00:43<00:00, 30.45batch/s, accuracy=25, loss=0.0108]  \n"
     ]
    },
    {
     "name": "stdout",
     "output_type": "stream",
     "text": [
      "current loss: 0.00013009532614871187, current accuracy: 0.25\n"
     ]
    },
    {
     "name": "stderr",
     "output_type": "stream",
     "text": [
      "Training Epoch 75/100: 100%|██████████| 1332/1332 [00:43<00:00, 30.48batch/s, accuracy=24.2, loss=0.0108]\n"
     ]
    },
    {
     "name": "stdout",
     "output_type": "stream",
     "text": [
      "current loss: 0.00013009534852282778, current accuracy: 0.25\n"
     ]
    },
    {
     "name": "stderr",
     "output_type": "stream",
     "text": [
      "Training Epoch 76/100: 100%|██████████| 1332/1332 [00:43<00:00, 30.31batch/s, accuracy=22.7, loss=0.0108]\n"
     ]
    },
    {
     "name": "stdout",
     "output_type": "stream",
     "text": [
      "current loss: 0.00013009490104050965, current accuracy: 0.25\n"
     ]
    },
    {
     "name": "stderr",
     "output_type": "stream",
     "text": [
      "Training Epoch 77/100: 100%|██████████| 1332/1332 [00:43<00:00, 30.85batch/s, accuracy=22.7, loss=0.0108]\n"
     ]
    },
    {
     "name": "stdout",
     "output_type": "stream",
     "text": [
      "current loss: 0.00013009542683223345, current accuracy: 0.25\n"
     ]
    },
    {
     "name": "stderr",
     "output_type": "stream",
     "text": [
      "Training Epoch 78/100: 100%|██████████| 1332/1332 [00:43<00:00, 30.68batch/s, accuracy=21.1, loss=0.0108]\n"
     ]
    },
    {
     "name": "stdout",
     "output_type": "stream",
     "text": [
      "current loss: 0.00013009540445811754, current accuracy: 0.25\n"
     ]
    },
    {
     "name": "stderr",
     "output_type": "stream",
     "text": [
      "Training Epoch 79/100: 100%|██████████| 1332/1332 [00:43<00:00, 30.72batch/s, accuracy=24.2, loss=0.0108]\n"
     ]
    },
    {
     "name": "stdout",
     "output_type": "stream",
     "text": [
      "current loss: 0.0001300954603934073, current accuracy: 0.25\n"
     ]
    },
    {
     "name": "stderr",
     "output_type": "stream",
     "text": [
      "Training Epoch 80/100: 100%|██████████| 1332/1332 [00:44<00:00, 29.92batch/s, accuracy=25.8, loss=0.0108]\n"
     ]
    },
    {
     "name": "stdout",
     "output_type": "stream",
     "text": [
      "current loss: 0.00013009540445811754, current accuracy: 0.25\n"
     ]
    },
    {
     "name": "stderr",
     "output_type": "stream",
     "text": [
      "Training Epoch 81/100: 100%|██████████| 1332/1332 [00:44<00:00, 29.61batch/s, accuracy=23.4, loss=0.0108]\n"
     ]
    },
    {
     "name": "stdout",
     "output_type": "stream",
     "text": [
      "current loss: 0.00013009511359461076, current accuracy: 0.25\n"
     ]
    },
    {
     "name": "stderr",
     "output_type": "stream",
     "text": [
      "Training Epoch 82/100: 100%|██████████| 1332/1332 [00:44<00:00, 29.65batch/s, accuracy=25.8, loss=0.0108]\n"
     ]
    },
    {
     "name": "stdout",
     "output_type": "stream",
     "text": [
      "current loss: 0.00013009534852282778, current accuracy: 0.25\n"
     ]
    },
    {
     "name": "stderr",
     "output_type": "stream",
     "text": [
      "Training Epoch 83/100: 100%|██████████| 1332/1332 [00:44<00:00, 29.84batch/s, accuracy=28.1, loss=0.0108]\n"
     ]
    },
    {
     "name": "stdout",
     "output_type": "stream",
     "text": [
      "current loss: 0.00013009533733576983, current accuracy: 0.25\n"
     ]
    },
    {
     "name": "stderr",
     "output_type": "stream",
     "text": [
      "Training Epoch 84/100: 100%|██████████| 1332/1332 [00:44<00:00, 29.78batch/s, accuracy=25, loss=0.0108]  \n"
     ]
    },
    {
     "name": "stdout",
     "output_type": "stream",
     "text": [
      "current loss: 0.0001300948674793358, current accuracy: 0.25\n"
     ]
    },
    {
     "name": "stderr",
     "output_type": "stream",
     "text": [
      "Training Epoch 85/100: 100%|██████████| 1332/1332 [00:44<00:00, 29.69batch/s, accuracy=19.5, loss=0.0108]\n"
     ]
    },
    {
     "name": "stdout",
     "output_type": "stream",
     "text": [
      "current loss: 0.00013009509122049486, current accuracy: 0.25\n"
     ]
    },
    {
     "name": "stderr",
     "output_type": "stream",
     "text": [
      "Training Epoch 86/100: 100%|██████████| 1332/1332 [00:44<00:00, 29.61batch/s, accuracy=24.2, loss=0.0108]\n"
     ]
    },
    {
     "name": "stdout",
     "output_type": "stream",
     "text": [
      "current loss: 0.00013009533733576983, current accuracy: 0.25\n"
     ]
    },
    {
     "name": "stderr",
     "output_type": "stream",
     "text": [
      "Training Epoch 87/100: 100%|██████████| 1332/1332 [00:44<00:00, 29.71batch/s, accuracy=27.3, loss=0.0108]\n"
     ]
    },
    {
     "name": "stdout",
     "output_type": "stream",
     "text": [
      "current loss: 0.0001300954156451755, current accuracy: 0.25\n"
     ]
    },
    {
     "name": "stderr",
     "output_type": "stream",
     "text": [
      "Training Epoch 88/100: 100%|██████████| 1332/1332 [00:44<00:00, 29.67batch/s, accuracy=31.2, loss=0.0108]\n"
     ]
    },
    {
     "name": "stdout",
     "output_type": "stream",
     "text": [
      "current loss: 0.00013009544920634936, current accuracy: 0.25\n"
     ]
    },
    {
     "name": "stderr",
     "output_type": "stream",
     "text": [
      "Training Epoch 89/100: 100%|██████████| 1332/1332 [00:44<00:00, 29.68batch/s, accuracy=28.9, loss=0.0108]\n"
     ]
    },
    {
     "name": "stdout",
     "output_type": "stream",
     "text": [
      "current loss: 0.00013009512478166872, current accuracy: 0.25\n"
     ]
    },
    {
     "name": "stderr",
     "output_type": "stream",
     "text": [
      "Training Epoch 90/100: 100%|██████████| 1332/1332 [00:44<00:00, 29.75batch/s, accuracy=27.3, loss=0.0108]\n"
     ]
    },
    {
     "name": "stdout",
     "output_type": "stream",
     "text": [
      "current loss: 0.0001300952030910744, current accuracy: 0.25\n"
     ]
    },
    {
     "name": "stderr",
     "output_type": "stream",
     "text": [
      "Training Epoch 91/100: 100%|██████████| 1332/1332 [00:44<00:00, 29.80batch/s, accuracy=23.4, loss=0.0108]\n"
     ]
    },
    {
     "name": "stdout",
     "output_type": "stream",
     "text": [
      "current loss: 0.0001301033808304383, current accuracy: 0.25\n"
     ]
    },
    {
     "name": "stderr",
     "output_type": "stream",
     "text": [
      "Training Epoch 92/100: 100%|██████████| 1332/1332 [00:44<00:00, 29.73batch/s, accuracy=26.6, loss=0.0108]\n"
     ]
    },
    {
     "name": "stdout",
     "output_type": "stream",
     "text": [
      "current loss: 0.0001300952030910744, current accuracy: 0.25\n"
     ]
    },
    {
     "name": "stderr",
     "output_type": "stream",
     "text": [
      "Training Epoch 93/100: 100%|██████████| 1332/1332 [00:45<00:00, 29.55batch/s, accuracy=28.9, loss=0.0108]\n"
     ]
    },
    {
     "name": "stdout",
     "output_type": "stream",
     "text": [
      "current loss: 0.0001300953932710596, current accuracy: 0.25\n"
     ]
    },
    {
     "name": "stderr",
     "output_type": "stream",
     "text": [
      "Training Epoch 94/100: 100%|██████████| 1332/1332 [00:45<00:00, 29.54batch/s, accuracy=31.2, loss=0.0108]\n"
     ]
    },
    {
     "name": "stdout",
     "output_type": "stream",
     "text": [
      "current loss: 0.00013009532614871187, current accuracy: 0.25\n"
     ]
    },
    {
     "name": "stderr",
     "output_type": "stream",
     "text": [
      "Training Epoch 95/100: 100%|██████████| 1332/1332 [00:44<00:00, 29.63batch/s, accuracy=21.9, loss=0.0108]\n"
     ]
    },
    {
     "name": "stdout",
     "output_type": "stream",
     "text": [
      "current loss: 0.00013009561701221868, current accuracy: 0.25\n"
     ]
    },
    {
     "name": "stderr",
     "output_type": "stream",
     "text": [
      "Training Epoch 96/100: 100%|██████████| 1332/1332 [00:44<00:00, 29.65batch/s, accuracy=32, loss=0.0108]  \n"
     ]
    },
    {
     "name": "stdout",
     "output_type": "stream",
     "text": [
      "current loss: 0.0001300954156451755, current accuracy: 0.25\n"
     ]
    },
    {
     "name": "stderr",
     "output_type": "stream",
     "text": [
      "Training Epoch 97/100: 100%|██████████| 1332/1332 [00:44<00:00, 29.66batch/s, accuracy=25.8, loss=0.0108]\n"
     ]
    },
    {
     "name": "stdout",
     "output_type": "stream",
     "text": [
      "current loss: 0.00013009542683223345, current accuracy: 0.25\n"
     ]
    },
    {
     "name": "stderr",
     "output_type": "stream",
     "text": [
      "Training Epoch 98/100: 100%|██████████| 1332/1332 [00:44<00:00, 29.65batch/s, accuracy=22.7, loss=0.0108]\n"
     ]
    },
    {
     "name": "stdout",
     "output_type": "stream",
     "text": [
      "current loss: 0.00013009534852282778, current accuracy: 0.25\n"
     ]
    },
    {
     "name": "stderr",
     "output_type": "stream",
     "text": [
      "Training Epoch 99/100: 100%|██████████| 1332/1332 [00:45<00:00, 29.53batch/s, accuracy=25.8, loss=0.0108]\n"
     ]
    },
    {
     "name": "stdout",
     "output_type": "stream",
     "text": [
      "current loss: 0.00013009532614871187, current accuracy: 0.25\n"
     ]
    },
    {
     "name": "stderr",
     "output_type": "stream",
     "text": [
      "Training Epoch 100/100: 100%|██████████| 1332/1332 [00:44<00:00, 29.62batch/s, accuracy=24.2, loss=0.0108]\n"
     ]
    },
    {
     "name": "stdout",
     "output_type": "stream",
     "text": [
      "current loss: 0.0001300953932710596, current accuracy: 0.25\n"
     ]
    }
   ],
   "source": [
    "from dataset.matDataset import SI_dataset\n",
    "from torch.utils.data import DataLoader\n",
    "import torch.optim as optim\n",
    "import torch.nn as nn\n",
    "import torch\n",
    "\n",
    "from models import *\n",
    "from trial import *\n",
    "\n",
    "\n",
    "model = AttentionNet(\n",
    "    input_size = (22, 125),\n",
    "    activate_func = nn.ELU,\n",
    "    dropout = 0.9,\n",
    "    kernel_size = 12,\n",
    "    dense_size = 91,\n",
    "    filter_number = 32\n",
    ")\n",
    "\n",
    "\n",
    "optimizer = optim.SGD(\n",
    "    model.parameters(),\n",
    "    lr = 0.1,\n",
    "    weight_decay = 0.1\n",
    ")\n",
    "\n",
    "train_dataset = SI_dataset(DA = True)\n",
    "test_dataset = SI_dataset(train = False, DA = True)\n",
    "\n",
    "train_loader = DataLoader(train_dataset, batch_size = 128)\n",
    "\n",
    "\n",
    "device = torch.device('cuda:0')\n",
    "\n",
    "model, loss_log, accuracy_log = train(model, device, nn.CrossEntropyLoss(), optimizer, 100, train_loader, test_dataset)\n",
    "\n"
   ]
  },
  {
   "cell_type": "code",
   "execution_count": 4,
   "metadata": {},
   "outputs": [
    {
     "data": {
      "image/png": "[encoded data removed]",
      "text/plain": [
       "<Figure size 432x288 with 2 Axes>"
      ]
     },
     "metadata": {
      "needs_background": "light"
     },
     "output_type": "display_data"
    },
    {
     "data": {
      "image/png": "[encoded data removed]",
      "text/plain": [
       "<Figure size 432x288 with 2 Axes>"
      ]
     },
     "metadata": {
      "needs_background": "light"
     },
     "output_type": "display_data"
    }
   ],
   "source": [
    "from importlib import reload\n",
    "import utils\n",
    "reload(utils)\n",
    "utils.plot_curve(loss_log, 'loss')\n",
    "utils.plot_curve(accuracy_log, 'accuracy')"
   ]
  },
  {
   "cell_type": "markdown",
   "metadata": {},
   "source": [
    "# Test SI and model that mul M to I"
   ]
  },
  {
   "cell_type": "code",
   "execution_count": 1,
   "metadata": {},
   "outputs": [
    {
     "name": "stderr",
     "output_type": "stream",
     "text": [
      "Training Epoch 01/400: 100%|██████████| 36/36 [00:11<00:00,  3.24batch/s, accuracy=28.9, loss=0.0109]\n"
     ]
    },
    {
     "name": "stdout",
     "output_type": "stream",
     "text": [
      "current loss: 0.004811549766196145, current accuracy: 0.23958333333333334\n"
     ]
    },
    {
     "name": "stderr",
     "output_type": "stream",
     "text": [
      "Training Epoch 02/400: 100%|██████████| 36/36 [00:03<00:00, 10.54batch/s, accuracy=26.6, loss=0.0112]\n"
     ]
    },
    {
     "name": "stdout",
     "output_type": "stream",
     "text": [
      "current loss: 0.004811808466911316, current accuracy: 0.22916666666666666\n"
     ]
    },
    {
     "name": "stderr",
     "output_type": "stream",
     "text": [
      "Training Epoch 03/400: 100%|██████████| 36/36 [00:03<00:00, 10.71batch/s, accuracy=25.8, loss=0.0109]\n"
     ]
    },
    {
     "name": "stdout",
     "output_type": "stream",
     "text": [
      "current loss: 0.004812212453948127, current accuracy: 0.23958333333333334\n"
     ]
    },
    {
     "name": "stderr",
     "output_type": "stream",
     "text": [
      "Training Epoch 04/400: 100%|██████████| 36/36 [00:03<00:00, 10.99batch/s, accuracy=28.1, loss=0.0111]\n"
     ]
    },
    {
     "name": "stdout",
     "output_type": "stream",
     "text": [
      "current loss: 0.004814866930246353, current accuracy: 0.2361111111111111\n"
     ]
    },
    {
     "name": "stderr",
     "output_type": "stream",
     "text": [
      "Training Epoch 05/400: 100%|██████████| 36/36 [00:03<00:00, 10.76batch/s, accuracy=18, loss=0.0112]  \n"
     ]
    },
    {
     "name": "stdout",
     "output_type": "stream",
     "text": [
      "current loss: 0.004813534932004081, current accuracy: 0.24305555555555555\n"
     ]
    },
    {
     "name": "stderr",
     "output_type": "stream",
     "text": [
      "Training Epoch 06/400: 100%|██████████| 36/36 [00:03<00:00, 10.53batch/s, accuracy=27.3, loss=0.0108]\n"
     ]
    },
    {
     "name": "stdout",
     "output_type": "stream",
     "text": [
      "current loss: 0.004813178545898861, current accuracy: 0.2465277777777778\n"
     ]
    },
    {
     "name": "stderr",
     "output_type": "stream",
     "text": [
      "Training Epoch 07/400: 100%|██████████| 36/36 [00:03<00:00, 10.40batch/s, accuracy=22.7, loss=0.0111]\n"
     ]
    },
    {
     "name": "stdout",
     "output_type": "stream",
     "text": [
      "current loss: 0.004813527067502339, current accuracy: 0.25\n"
     ]
    },
    {
     "name": "stderr",
     "output_type": "stream",
     "text": [
      "Training Epoch 08/400: 100%|██████████| 36/36 [00:03<00:00, 10.46batch/s, accuracy=13.3, loss=0.0111]\n"
     ]
    },
    {
     "name": "stdout",
     "output_type": "stream",
     "text": [
      "current loss: 0.004813666145006816, current accuracy: 0.25\n"
     ]
    },
    {
     "name": "stderr",
     "output_type": "stream",
     "text": [
      "Training Epoch 09/400: 100%|██████████| 36/36 [00:03<00:00, 10.49batch/s, accuracy=25, loss=0.011]   \n"
     ]
    },
    {
     "name": "stdout",
     "output_type": "stream",
     "text": [
      "current loss: 0.0048142414953973554, current accuracy: 0.25\n"
     ]
    },
    {
     "name": "stderr",
     "output_type": "stream",
     "text": [
      "Training Epoch 10/400: 100%|██████████| 36/36 [00:03<00:00, 10.64batch/s, accuracy=26.6, loss=0.0109]\n"
     ]
    },
    {
     "name": "stdout",
     "output_type": "stream",
     "text": [
      "current loss: 0.004813869794209798, current accuracy: 0.2534722222222222\n"
     ]
    },
    {
     "name": "stderr",
     "output_type": "stream",
     "text": [
      "Training Epoch 11/400: 100%|██████████| 36/36 [00:03<00:00, 10.63batch/s, accuracy=30.5, loss=0.0108]\n"
     ]
    },
    {
     "name": "stdout",
     "output_type": "stream",
     "text": [
      "current loss: 0.004814169473118252, current accuracy: 0.2361111111111111\n"
     ]
    },
    {
     "name": "stderr",
     "output_type": "stream",
     "text": [
      "Training Epoch 12/400: 100%|██████████| 36/36 [00:03<00:00, 10.68batch/s, accuracy=24.2, loss=0.0109]\n"
     ]
    },
    {
     "name": "stdout",
     "output_type": "stream",
     "text": [
      "current loss: 0.004813784940375222, current accuracy: 0.2534722222222222\n"
     ]
    },
    {
     "name": "stderr",
     "output_type": "stream",
     "text": [
      "Training Epoch 13/400: 100%|██████████| 36/36 [00:03<00:00, 10.60batch/s, accuracy=28.1, loss=0.0108]\n"
     ]
    },
    {
     "name": "stdout",
     "output_type": "stream",
     "text": [
      "current loss: 0.004814197205834919, current accuracy: 0.23958333333333334\n"
     ]
    },
    {
     "name": "stderr",
     "output_type": "stream",
     "text": [
      "Training Epoch 14/400: 100%|██████████| 36/36 [00:03<00:00, 11.03batch/s, accuracy=24.2, loss=0.0109]\n"
     ]
    },
    {
     "name": "stdout",
     "output_type": "stream",
     "text": [
      "current loss: 0.004813840405808555, current accuracy: 0.25\n"
     ]
    },
    {
     "name": "stderr",
     "output_type": "stream",
     "text": [
      "Training Epoch 15/400: 100%|██████████| 36/36 [00:03<00:00, 10.64batch/s, accuracy=18, loss=0.0112]  \n"
     ]
    },
    {
     "name": "stdout",
     "output_type": "stream",
     "text": [
      "current loss: 0.00481340123547448, current accuracy: 0.25\n"
     ]
    },
    {
     "name": "stderr",
     "output_type": "stream",
     "text": [
      "Training Epoch 16/400: 100%|██████████| 36/36 [00:03<00:00, 10.87batch/s, accuracy=18.8, loss=0.011] \n"
     ]
    },
    {
     "name": "stdout",
     "output_type": "stream",
     "text": [
      "current loss: 0.00481433586941825, current accuracy: 0.23958333333333334\n"
     ]
    },
    {
     "name": "stderr",
     "output_type": "stream",
     "text": [
      "Training Epoch 17/400: 100%|██████████| 36/36 [00:03<00:00, 10.85batch/s, accuracy=25.8, loss=0.0109]\n"
     ]
    },
    {
     "name": "stdout",
     "output_type": "stream",
     "text": [
      "current loss: 0.0048142485320568085, current accuracy: 0.24305555555555555\n"
     ]
    },
    {
     "name": "stderr",
     "output_type": "stream",
     "text": [
      "Training Epoch 18/400: 100%|██████████| 36/36 [00:03<00:00, 10.87batch/s, accuracy=28.9, loss=0.0109]\n"
     ]
    },
    {
     "name": "stdout",
     "output_type": "stream",
     "text": [
      "current loss: 0.00481409662299686, current accuracy: 0.24305555555555555\n"
     ]
    },
    {
     "name": "stderr",
     "output_type": "stream",
     "text": [
      "Training Epoch 19/400: 100%|██████████| 36/36 [00:03<00:00, 10.76batch/s, accuracy=20.3, loss=0.0109]\n"
     ]
    },
    {
     "name": "stdout",
     "output_type": "stream",
     "text": [
      "current loss: 0.004813874347342385, current accuracy: 0.2465277777777778\n"
     ]
    },
    {
     "name": "stderr",
     "output_type": "stream",
     "text": [
      "Training Epoch 20/400: 100%|██████████| 36/36 [00:03<00:00, 10.86batch/s, accuracy=28.9, loss=0.0109]\n"
     ]
    },
    {
     "name": "stdout",
     "output_type": "stream",
     "text": [
      "current loss: 0.004814007216029697, current accuracy: 0.23958333333333334\n"
     ]
    },
    {
     "name": "stderr",
     "output_type": "stream",
     "text": [
      "Training Epoch 21/400: 100%|██████████| 36/36 [00:03<00:00, 10.63batch/s, accuracy=23.4, loss=0.011] \n"
     ]
    },
    {
     "name": "stdout",
     "output_type": "stream",
     "text": [
      "current loss: 0.0048140109413199956, current accuracy: 0.24305555555555555\n"
     ]
    },
    {
     "name": "stderr",
     "output_type": "stream",
     "text": [
      "Training Epoch 22/400: 100%|██████████| 36/36 [00:03<00:00, 10.75batch/s, accuracy=22.7, loss=0.0108]\n"
     ]
    },
    {
     "name": "stdout",
     "output_type": "stream",
     "text": [
      "current loss: 0.00481351837515831, current accuracy: 0.2534722222222222\n"
     ]
    },
    {
     "name": "stderr",
     "output_type": "stream",
     "text": [
      "Training Epoch 23/400: 100%|██████████| 36/36 [00:03<00:00, 10.85batch/s, accuracy=19.5, loss=0.0109]\n"
     ]
    },
    {
     "name": "stdout",
     "output_type": "stream",
     "text": [
      "current loss: 0.004813559353351593, current accuracy: 0.25\n"
     ]
    },
    {
     "name": "stderr",
     "output_type": "stream",
     "text": [
      "Training Epoch 24/400: 100%|██████████| 36/36 [00:03<00:00, 10.70batch/s, accuracy=19.5, loss=0.0111]\n"
     ]
    },
    {
     "name": "stdout",
     "output_type": "stream",
     "text": [
      "current loss: 0.004813707537121243, current accuracy: 0.2326388888888889\n"
     ]
    },
    {
     "name": "stderr",
     "output_type": "stream",
     "text": [
      "Training Epoch 25/400: 100%|██████████| 36/36 [00:03<00:00, 10.91batch/s, accuracy=22.7, loss=0.011] \n"
     ]
    },
    {
     "name": "stdout",
     "output_type": "stream",
     "text": [
      "current loss: 0.0048143938183784485, current accuracy: 0.22916666666666666\n"
     ]
    },
    {
     "name": "stderr",
     "output_type": "stream",
     "text": [
      "Training Epoch 26/400: 100%|██████████| 36/36 [00:03<00:00, 10.80batch/s, accuracy=24.2, loss=0.011] \n"
     ]
    },
    {
     "name": "stdout",
     "output_type": "stream",
     "text": [
      "current loss: 0.0048144132726722294, current accuracy: 0.2361111111111111\n"
     ]
    },
    {
     "name": "stderr",
     "output_type": "stream",
     "text": [
      "Training Epoch 27/400: 100%|██████████| 36/36 [00:03<00:00, 10.87batch/s, accuracy=18.8, loss=0.011] \n"
     ]
    },
    {
     "name": "stdout",
     "output_type": "stream",
     "text": [
      "current loss: 0.004814198861519496, current accuracy: 0.2361111111111111\n"
     ]
    },
    {
     "name": "stderr",
     "output_type": "stream",
     "text": [
      "Training Epoch 28/400: 100%|██████████| 36/36 [00:03<00:00, 10.49batch/s, accuracy=19.5, loss=0.0109]\n"
     ]
    },
    {
     "name": "stdout",
     "output_type": "stream",
     "text": [
      "current loss: 0.0048141272531615365, current accuracy: 0.2326388888888889\n"
     ]
    },
    {
     "name": "stderr",
     "output_type": "stream",
     "text": [
      "Training Epoch 29/400: 100%|██████████| 36/36 [00:03<00:00, 10.57batch/s, accuracy=28.1, loss=0.0109]\n"
     ]
    },
    {
     "name": "stdout",
     "output_type": "stream",
     "text": [
      "current loss: 0.004814516339037154, current accuracy: 0.2326388888888889\n"
     ]
    },
    {
     "name": "stderr",
     "output_type": "stream",
     "text": [
      "Training Epoch 30/400: 100%|██████████| 36/36 [00:03<00:00, 10.89batch/s, accuracy=27.3, loss=0.0108]\n"
     ]
    },
    {
     "name": "stdout",
     "output_type": "stream",
     "text": [
      "current loss: 0.004814106557104323, current accuracy: 0.2465277777777778\n"
     ]
    },
    {
     "name": "stderr",
     "output_type": "stream",
     "text": [
      "Training Epoch 31/400: 100%|██████████| 36/36 [00:03<00:00, 10.78batch/s, accuracy=24.2, loss=0.011] \n"
     ]
    },
    {
     "name": "stdout",
     "output_type": "stream",
     "text": [
      "current loss: 0.00481362102760209, current accuracy: 0.23958333333333334\n"
     ]
    },
    {
     "name": "stderr",
     "output_type": "stream",
     "text": [
      "Training Epoch 32/400: 100%|██████████| 36/36 [00:03<00:00, 10.74batch/s, accuracy=30.5, loss=0.0108]\n"
     ]
    },
    {
     "name": "stdout",
     "output_type": "stream",
     "text": [
      "current loss: 0.004813948025306066, current accuracy: 0.24305555555555555\n"
     ]
    },
    {
     "name": "stderr",
     "output_type": "stream",
     "text": [
      "Training Epoch 33/400: 100%|██████████| 36/36 [00:03<00:00, 10.65batch/s, accuracy=25.8, loss=0.0109]\n"
     ]
    },
    {
     "name": "stdout",
     "output_type": "stream",
     "text": [
      "current loss: 0.0048137907352712415, current accuracy: 0.23958333333333334\n"
     ]
    },
    {
     "name": "stderr",
     "output_type": "stream",
     "text": [
      "Training Epoch 34/400: 100%|██████████| 36/36 [00:03<00:00, 10.88batch/s, accuracy=30.5, loss=0.0109]\n"
     ]
    },
    {
     "name": "stdout",
     "output_type": "stream",
     "text": [
      "current loss: 0.00481416823135482, current accuracy: 0.2465277777777778\n"
     ]
    },
    {
     "name": "stderr",
     "output_type": "stream",
     "text": [
      "Training Epoch 35/400: 100%|██████████| 36/36 [00:03<00:00, 10.72batch/s, accuracy=23.4, loss=0.0109]\n"
     ]
    },
    {
     "name": "stdout",
     "output_type": "stream",
     "text": [
      "current loss: 0.004814924879206551, current accuracy: 0.22916666666666666\n"
     ]
    },
    {
     "name": "stderr",
     "output_type": "stream",
     "text": [
      "Training Epoch 36/400: 100%|██████████| 36/36 [00:03<00:00, 10.85batch/s, accuracy=24.2, loss=0.0109]\n"
     ]
    },
    {
     "name": "stdout",
     "output_type": "stream",
     "text": [
      "current loss: 0.004814235286580192, current accuracy: 0.2361111111111111\n"
     ]
    },
    {
     "name": "stderr",
     "output_type": "stream",
     "text": [
      "Training Epoch 37/400: 100%|██████████| 36/36 [00:03<00:00, 10.89batch/s, accuracy=28.1, loss=0.0108]\n"
     ]
    },
    {
     "name": "stdout",
     "output_type": "stream",
     "text": [
      "current loss: 0.0048136769069565665, current accuracy: 0.24305555555555555\n"
     ]
    },
    {
     "name": "stderr",
     "output_type": "stream",
     "text": [
      "Training Epoch 38/400: 100%|██████████| 36/36 [00:03<00:00, 10.54batch/s, accuracy=23.4, loss=0.011] \n"
     ]
    },
    {
     "name": "stdout",
     "output_type": "stream",
     "text": [
      "current loss: 0.00481366945637597, current accuracy: 0.23958333333333334\n"
     ]
    },
    {
     "name": "stderr",
     "output_type": "stream",
     "text": [
      "Training Epoch 39/400: 100%|██████████| 36/36 [00:03<00:00, 10.85batch/s, accuracy=28.1, loss=0.0108]\n"
     ]
    },
    {
     "name": "stdout",
     "output_type": "stream",
     "text": [
      "current loss: 0.004813755138052834, current accuracy: 0.25\n"
     ]
    },
    {
     "name": "stderr",
     "output_type": "stream",
     "text": [
      "Training Epoch 40/400: 100%|██████████| 36/36 [00:03<00:00, 10.84batch/s, accuracy=28.1, loss=0.0108]\n"
     ]
    },
    {
     "name": "stdout",
     "output_type": "stream",
     "text": [
      "current loss: 0.004813892145951589, current accuracy: 0.22916666666666666\n"
     ]
    },
    {
     "name": "stderr",
     "output_type": "stream",
     "text": [
      "Training Epoch 41/400: 100%|██████████| 36/36 [00:03<00:00, 10.99batch/s, accuracy=29.7, loss=0.0108]\n"
     ]
    },
    {
     "name": "stdout",
     "output_type": "stream",
     "text": [
      "current loss: 0.004813592467043135, current accuracy: 0.24305555555555555\n"
     ]
    },
    {
     "name": "stderr",
     "output_type": "stream",
     "text": [
      "Training Epoch 42/400: 100%|██████████| 36/36 [00:03<00:00, 10.73batch/s, accuracy=24.2, loss=0.0109]\n"
     ]
    },
    {
     "name": "stdout",
     "output_type": "stream",
     "text": [
      "current loss: 0.004813462081882689, current accuracy: 0.2361111111111111\n"
     ]
    },
    {
     "name": "stderr",
     "output_type": "stream",
     "text": [
      "Training Epoch 43/400: 100%|██████████| 36/36 [00:03<00:00, 10.78batch/s, accuracy=28.9, loss=0.0109]\n"
     ]
    },
    {
     "name": "stdout",
     "output_type": "stream",
     "text": [
      "current loss: 0.004813454631302092, current accuracy: 0.2361111111111111\n"
     ]
    },
    {
     "name": "stderr",
     "output_type": "stream",
     "text": [
      "Training Epoch 44/400: 100%|██████████| 36/36 [00:03<00:00, 10.91batch/s, accuracy=28.9, loss=0.0108]\n"
     ]
    },
    {
     "name": "stdout",
     "output_type": "stream",
     "text": [
      "current loss: 0.004813347425725725, current accuracy: 0.2361111111111111\n"
     ]
    },
    {
     "name": "stderr",
     "output_type": "stream",
     "text": [
      "Training Epoch 45/400: 100%|██████████| 36/36 [00:03<00:00, 10.61batch/s, accuracy=25.8, loss=0.0108]\n"
     ]
    },
    {
     "name": "stdout",
     "output_type": "stream",
     "text": [
      "current loss: 0.004812935160266029, current accuracy: 0.2569444444444444\n"
     ]
    },
    {
     "name": "stderr",
     "output_type": "stream",
     "text": [
      "Training Epoch 46/400: 100%|██████████| 36/36 [00:03<00:00, 10.80batch/s, accuracy=22.7, loss=0.011] \n"
     ]
    },
    {
     "name": "stdout",
     "output_type": "stream",
     "text": [
      "current loss: 0.004813348253568013, current accuracy: 0.22916666666666666\n"
     ]
    },
    {
     "name": "stderr",
     "output_type": "stream",
     "text": [
      "Training Epoch 47/400: 100%|██████████| 36/36 [00:03<00:00, 10.88batch/s, accuracy=23.4, loss=0.0108]\n"
     ]
    },
    {
     "name": "stdout",
     "output_type": "stream",
     "text": [
      "current loss: 0.004812931848896874, current accuracy: 0.2465277777777778\n"
     ]
    },
    {
     "name": "stderr",
     "output_type": "stream",
     "text": [
      "Training Epoch 48/400: 100%|██████████| 36/36 [00:03<00:00, 10.73batch/s, accuracy=23.4, loss=0.0109]\n"
     ]
    },
    {
     "name": "stdout",
     "output_type": "stream",
     "text": [
      "current loss: 0.004812998076279958, current accuracy: 0.2465277777777778\n"
     ]
    },
    {
     "name": "stderr",
     "output_type": "stream",
     "text": [
      "Training Epoch 49/400: 100%|██████████| 36/36 [00:03<00:00, 10.83batch/s, accuracy=28.1, loss=0.0108]\n"
     ]
    },
    {
     "name": "stdout",
     "output_type": "stream",
     "text": [
      "current loss: 0.004813602401150597, current accuracy: 0.2361111111111111\n"
     ]
    },
    {
     "name": "stderr",
     "output_type": "stream",
     "text": [
      "Training Epoch 50/400: 100%|██████████| 36/36 [00:03<00:00, 10.78batch/s, accuracy=32.8, loss=0.0106]\n"
     ]
    },
    {
     "name": "stdout",
     "output_type": "stream",
     "text": [
      "current loss: 0.004813099486960305, current accuracy: 0.24305555555555555\n"
     ]
    },
    {
     "name": "stderr",
     "output_type": "stream",
     "text": [
      "Training Epoch 51/400: 100%|██████████| 36/36 [00:03<00:00, 10.84batch/s, accuracy=21.1, loss=0.0109]\n"
     ]
    },
    {
     "name": "stdout",
     "output_type": "stream",
     "text": [
      "current loss: 0.004812074204285939, current accuracy: 0.24305555555555555\n"
     ]
    },
    {
     "name": "stderr",
     "output_type": "stream",
     "text": [
      "Training Epoch 52/400: 100%|██████████| 36/36 [00:03<00:00, 10.64batch/s, accuracy=25.8, loss=0.0108]\n"
     ]
    },
    {
     "name": "stdout",
     "output_type": "stream",
     "text": [
      "current loss: 0.004812106904056337, current accuracy: 0.24305555555555555\n"
     ]
    },
    {
     "name": "stderr",
     "output_type": "stream",
     "text": [
      "Training Epoch 53/400: 100%|██████████| 36/36 [00:03<00:00, 10.91batch/s, accuracy=23.4, loss=0.0109]\n"
     ]
    },
    {
     "name": "stdout",
     "output_type": "stream",
     "text": [
      "current loss: 0.004813146260049608, current accuracy: 0.2534722222222222\n"
     ]
    },
    {
     "name": "stderr",
     "output_type": "stream",
     "text": [
      "Training Epoch 54/400: 100%|██████████| 36/36 [00:03<00:00, 10.89batch/s, accuracy=22.7, loss=0.0108]\n"
     ]
    },
    {
     "name": "stdout",
     "output_type": "stream",
     "text": [
      "current loss: 0.004812023291985194, current accuracy: 0.2569444444444444\n"
     ]
    },
    {
     "name": "stderr",
     "output_type": "stream",
     "text": [
      "Training Epoch 55/400: 100%|██████████| 36/36 [00:03<00:00, 10.89batch/s, accuracy=25.8, loss=0.0108]\n"
     ]
    },
    {
     "name": "stdout",
     "output_type": "stream",
     "text": [
      "current loss: 0.00481132459309366, current accuracy: 0.2465277777777778\n"
     ]
    },
    {
     "name": "stderr",
     "output_type": "stream",
     "text": [
      "Training Epoch 56/400: 100%|██████████| 36/36 [00:03<00:00, 10.89batch/s, accuracy=25.8, loss=0.0108]\n"
     ]
    },
    {
     "name": "stdout",
     "output_type": "stream",
     "text": [
      "current loss: 0.0048109690348307295, current accuracy: 0.23958333333333334\n"
     ]
    },
    {
     "name": "stderr",
     "output_type": "stream",
     "text": [
      "Training Epoch 57/400: 100%|██████████| 36/36 [00:03<00:00, 10.78batch/s, accuracy=21.9, loss=0.0109]\n"
     ]
    },
    {
     "name": "stdout",
     "output_type": "stream",
     "text": [
      "current loss: 0.004810709092352126, current accuracy: 0.2569444444444444\n"
     ]
    },
    {
     "name": "stderr",
     "output_type": "stream",
     "text": [
      "Training Epoch 58/400: 100%|██████████| 36/36 [00:03<00:00, 10.83batch/s, accuracy=21.1, loss=0.0108]\n"
     ]
    },
    {
     "name": "stdout",
     "output_type": "stream",
     "text": [
      "current loss: 0.004811055130428738, current accuracy: 0.2569444444444444\n"
     ]
    },
    {
     "name": "stderr",
     "output_type": "stream",
     "text": [
      "Training Epoch 59/400: 100%|██████████| 36/36 [00:03<00:00, 10.74batch/s, accuracy=25, loss=0.0108]  \n"
     ]
    },
    {
     "name": "stdout",
     "output_type": "stream",
     "text": [
      "current loss: 0.004810487644539939, current accuracy: 0.2569444444444444\n"
     ]
    },
    {
     "name": "stderr",
     "output_type": "stream",
     "text": [
      "Training Epoch 60/400: 100%|██████████| 36/36 [00:03<00:00, 10.79batch/s, accuracy=25, loss=0.0108]  \n"
     ]
    },
    {
     "name": "stdout",
     "output_type": "stream",
     "text": [
      "current loss: 0.00480997148487303, current accuracy: 0.2534722222222222\n"
     ]
    },
    {
     "name": "stderr",
     "output_type": "stream",
     "text": [
      "Training Epoch 61/400: 100%|██████████| 36/36 [00:03<00:00, 10.83batch/s, accuracy=19.5, loss=0.011] \n"
     ]
    },
    {
     "name": "stdout",
     "output_type": "stream",
     "text": [
      "current loss: 0.004810039781861835, current accuracy: 0.2604166666666667\n"
     ]
    },
    {
     "name": "stderr",
     "output_type": "stream",
     "text": [
      "Training Epoch 62/400: 100%|██████████| 36/36 [00:03<00:00, 10.80batch/s, accuracy=28.1, loss=0.0108]\n"
     ]
    },
    {
     "name": "stdout",
     "output_type": "stream",
     "text": [
      "current loss: 0.0048100025289588505, current accuracy: 0.2534722222222222\n"
     ]
    },
    {
     "name": "stderr",
     "output_type": "stream",
     "text": [
      "Training Epoch 63/400: 100%|██████████| 36/36 [00:03<00:00, 10.81batch/s, accuracy=24.2, loss=0.0108]\n"
     ]
    },
    {
     "name": "stdout",
     "output_type": "stream",
     "text": [
      "current loss: 0.004809626274638706, current accuracy: 0.24305555555555555\n"
     ]
    },
    {
     "name": "stderr",
     "output_type": "stream",
     "text": [
      "Training Epoch 64/400: 100%|██████████| 36/36 [00:03<00:00, 10.65batch/s, accuracy=23.4, loss=0.0108]\n"
     ]
    },
    {
     "name": "stdout",
     "output_type": "stream",
     "text": [
      "current loss: 0.004808331115378274, current accuracy: 0.2604166666666667\n"
     ]
    },
    {
     "name": "stderr",
     "output_type": "stream",
     "text": [
      "Training Epoch 65/400: 100%|██████████| 36/36 [00:03<00:00, 10.62batch/s, accuracy=27.3, loss=0.0107]\n"
     ]
    },
    {
     "name": "stdout",
     "output_type": "stream",
     "text": [
      "current loss: 0.004807569086551666, current accuracy: 0.2708333333333333\n"
     ]
    },
    {
     "name": "stderr",
     "output_type": "stream",
     "text": [
      "Training Epoch 66/400: 100%|██████████| 36/36 [00:03<00:00, 10.71batch/s, accuracy=27.3, loss=0.0108]\n"
     ]
    },
    {
     "name": "stdout",
     "output_type": "stream",
     "text": [
      "current loss: 0.004807990872197681, current accuracy: 0.2465277777777778\n"
     ]
    },
    {
     "name": "stderr",
     "output_type": "stream",
     "text": [
      "Training Epoch 67/400: 100%|██████████| 36/36 [00:03<00:00, 10.55batch/s, accuracy=29.7, loss=0.0109]\n"
     ]
    },
    {
     "name": "stdout",
     "output_type": "stream",
     "text": [
      "current loss: 0.004807859659194946, current accuracy: 0.2638888888888889\n"
     ]
    },
    {
     "name": "stderr",
     "output_type": "stream",
     "text": [
      "Training Epoch 68/400: 100%|██████████| 36/36 [00:03<00:00, 10.68batch/s, accuracy=24.2, loss=0.0109]\n"
     ]
    },
    {
     "name": "stdout",
     "output_type": "stream",
     "text": [
      "current loss: 0.0048074863023228115, current accuracy: 0.2673611111111111\n"
     ]
    },
    {
     "name": "stderr",
     "output_type": "stream",
     "text": [
      "Training Epoch 69/400: 100%|██████████| 36/36 [00:03<00:00, 10.61batch/s, accuracy=28.9, loss=0.0108]\n"
     ]
    },
    {
     "name": "stdout",
     "output_type": "stream",
     "text": [
      "current loss: 0.0048056294520696, current accuracy: 0.2673611111111111\n"
     ]
    },
    {
     "name": "stderr",
     "output_type": "stream",
     "text": [
      "Training Epoch 70/400: 100%|██████████| 36/36 [00:03<00:00, 10.70batch/s, accuracy=25.8, loss=0.0108]\n"
     ]
    },
    {
     "name": "stdout",
     "output_type": "stream",
     "text": [
      "current loss: 0.004806917160749435, current accuracy: 0.2638888888888889\n"
     ]
    },
    {
     "name": "stderr",
     "output_type": "stream",
     "text": [
      "Training Epoch 71/400: 100%|██████████| 36/36 [00:03<00:00, 10.54batch/s, accuracy=27.3, loss=0.0107]\n"
     ]
    },
    {
     "name": "stdout",
     "output_type": "stream",
     "text": [
      "current loss: 0.004803847107622359, current accuracy: 0.2673611111111111\n"
     ]
    },
    {
     "name": "stderr",
     "output_type": "stream",
     "text": [
      "Training Epoch 72/400: 100%|██████████| 36/36 [00:03<00:00, 10.87batch/s, accuracy=32, loss=0.0108]  \n"
     ]
    },
    {
     "name": "stdout",
     "output_type": "stream",
     "text": [
      "current loss: 0.004802955521477593, current accuracy: 0.2743055555555556\n"
     ]
    },
    {
     "name": "stderr",
     "output_type": "stream",
     "text": [
      "Training Epoch 73/400: 100%|██████████| 36/36 [00:03<00:00, 10.58batch/s, accuracy=25.8, loss=0.0107]\n"
     ]
    },
    {
     "name": "stdout",
     "output_type": "stream",
     "text": [
      "current loss: 0.004801278313000997, current accuracy: 0.2673611111111111\n"
     ]
    },
    {
     "name": "stderr",
     "output_type": "stream",
     "text": [
      "Training Epoch 74/400: 100%|██████████| 36/36 [00:03<00:00, 10.70batch/s, accuracy=29.7, loss=0.0107]\n"
     ]
    },
    {
     "name": "stdout",
     "output_type": "stream",
     "text": [
      "current loss: 0.00480263556043307, current accuracy: 0.2708333333333333\n"
     ]
    },
    {
     "name": "stderr",
     "output_type": "stream",
     "text": [
      "Training Epoch 75/400: 100%|██████████| 36/36 [00:03<00:00, 10.46batch/s, accuracy=30.5, loss=0.0107]\n"
     ]
    },
    {
     "name": "stdout",
     "output_type": "stream",
     "text": [
      "current loss: 0.004799552261829376, current accuracy: 0.2847222222222222\n"
     ]
    },
    {
     "name": "stderr",
     "output_type": "stream",
     "text": [
      "Training Epoch 76/400: 100%|██████████| 36/36 [00:03<00:00, 10.68batch/s, accuracy=23.4, loss=0.0108]\n"
     ]
    },
    {
     "name": "stdout",
     "output_type": "stream",
     "text": [
      "current loss: 0.004796849770678414, current accuracy: 0.2743055555555556\n"
     ]
    },
    {
     "name": "stderr",
     "output_type": "stream",
     "text": [
      "Training Epoch 77/400: 100%|██████████| 36/36 [00:03<00:00, 10.73batch/s, accuracy=26.6, loss=0.0108]\n"
     ]
    },
    {
     "name": "stdout",
     "output_type": "stream",
     "text": [
      "current loss: 0.004795069081915749, current accuracy: 0.2881944444444444\n"
     ]
    },
    {
     "name": "stderr",
     "output_type": "stream",
     "text": [
      "Training Epoch 78/400: 100%|██████████| 36/36 [00:03<00:00, 10.56batch/s, accuracy=32, loss=0.0107]  \n"
     ]
    },
    {
     "name": "stdout",
     "output_type": "stream",
     "text": [
      "current loss: 0.004794187429878447, current accuracy: 0.2986111111111111\n"
     ]
    },
    {
     "name": "stderr",
     "output_type": "stream",
     "text": [
      "Training Epoch 79/400: 100%|██████████| 36/36 [00:03<00:00, 10.63batch/s, accuracy=35.9, loss=0.0106]\n"
     ]
    },
    {
     "name": "stdout",
     "output_type": "stream",
     "text": [
      "current loss: 0.004791899687714047, current accuracy: 0.2881944444444444\n"
     ]
    },
    {
     "name": "stderr",
     "output_type": "stream",
     "text": [
      "Training Epoch 80/400: 100%|██████████| 36/36 [00:03<00:00, 10.44batch/s, accuracy=33.6, loss=0.0107]\n"
     ]
    },
    {
     "name": "stdout",
     "output_type": "stream",
     "text": [
      "current loss: 0.0047890548076894544, current accuracy: 0.28125\n"
     ]
    },
    {
     "name": "stderr",
     "output_type": "stream",
     "text": [
      "Training Epoch 81/400: 100%|██████████| 36/36 [00:03<00:00, 10.83batch/s, accuracy=32.8, loss=0.0106]\n"
     ]
    },
    {
     "name": "stdout",
     "output_type": "stream",
     "text": [
      "current loss: 0.004785347729921341, current accuracy: 0.28125\n"
     ]
    },
    {
     "name": "stderr",
     "output_type": "stream",
     "text": [
      "Training Epoch 82/400: 100%|██████████| 36/36 [00:03<00:00, 10.67batch/s, accuracy=39.1, loss=0.0105]\n"
     ]
    },
    {
     "name": "stdout",
     "output_type": "stream",
     "text": [
      "current loss: 0.004783187061548233, current accuracy: 0.2777777777777778\n"
     ]
    },
    {
     "name": "stderr",
     "output_type": "stream",
     "text": [
      "Training Epoch 83/400: 100%|██████████| 36/36 [00:03<00:00, 10.75batch/s, accuracy=33.6, loss=0.0105]\n"
     ]
    },
    {
     "name": "stdout",
     "output_type": "stream",
     "text": [
      "current loss: 0.004780429518885083, current accuracy: 0.28125\n"
     ]
    },
    {
     "name": "stderr",
     "output_type": "stream",
     "text": [
      "Training Epoch 84/400: 100%|██████████| 36/36 [00:03<00:00, 10.59batch/s, accuracy=33.6, loss=0.0106]\n"
     ]
    },
    {
     "name": "stdout",
     "output_type": "stream",
     "text": [
      "current loss: 0.00477988686826494, current accuracy: 0.2847222222222222\n"
     ]
    },
    {
     "name": "stderr",
     "output_type": "stream",
     "text": [
      "Training Epoch 85/400: 100%|██████████| 36/36 [00:03<00:00, 10.68batch/s, accuracy=38.3, loss=0.0103]\n"
     ]
    },
    {
     "name": "stdout",
     "output_type": "stream",
     "text": [
      "current loss: 0.004781999521785312, current accuracy: 0.2708333333333333\n"
     ]
    },
    {
     "name": "stderr",
     "output_type": "stream",
     "text": [
      "Training Epoch 86/400: 100%|██████████| 36/36 [00:03<00:00, 10.71batch/s, accuracy=32.8, loss=0.0104]\n"
     ]
    },
    {
     "name": "stdout",
     "output_type": "stream",
     "text": [
      "current loss: 0.004767667088243697, current accuracy: 0.28125\n"
     ]
    },
    {
     "name": "stderr",
     "output_type": "stream",
     "text": [
      "Training Epoch 87/400: 100%|██████████| 36/36 [00:03<00:00, 10.65batch/s, accuracy=32.8, loss=0.0103]\n"
     ]
    },
    {
     "name": "stdout",
     "output_type": "stream",
     "text": [
      "current loss: 0.004769742488861084, current accuracy: 0.2847222222222222\n"
     ]
    },
    {
     "name": "stderr",
     "output_type": "stream",
     "text": [
      "Training Epoch 88/400: 100%|██████████| 36/36 [00:03<00:00, 10.88batch/s, accuracy=41.4, loss=0.0101]\n"
     ]
    },
    {
     "name": "stdout",
     "output_type": "stream",
     "text": [
      "current loss: 0.004768973837296168, current accuracy: 0.2708333333333333\n"
     ]
    },
    {
     "name": "stderr",
     "output_type": "stream",
     "text": [
      "Training Epoch 89/400: 100%|██████████| 36/36 [00:03<00:00, 10.69batch/s, accuracy=33.6, loss=0.0102]\n"
     ]
    },
    {
     "name": "stdout",
     "output_type": "stream",
     "text": [
      "current loss: 0.004765574302938249, current accuracy: 0.2708333333333333\n"
     ]
    },
    {
     "name": "stderr",
     "output_type": "stream",
     "text": [
      "Training Epoch 90/400: 100%|██████████| 36/36 [00:03<00:00, 10.78batch/s, accuracy=39.1, loss=0.0102]\n"
     ]
    },
    {
     "name": "stdout",
     "output_type": "stream",
     "text": [
      "current loss: 0.004774173928631676, current accuracy: 0.2673611111111111\n"
     ]
    },
    {
     "name": "stderr",
     "output_type": "stream",
     "text": [
      "Training Epoch 91/400: 100%|██████████| 36/36 [00:03<00:00, 10.84batch/s, accuracy=40.6, loss=0.01]   \n"
     ]
    },
    {
     "name": "stdout",
     "output_type": "stream",
     "text": [
      "current loss: 0.004772237191597621, current accuracy: 0.24305555555555555\n"
     ]
    },
    {
     "name": "stderr",
     "output_type": "stream",
     "text": [
      "Training Epoch 92/400: 100%|██████████| 36/36 [00:03<00:00, 10.53batch/s, accuracy=40.6, loss=0.00994]\n"
     ]
    },
    {
     "name": "stdout",
     "output_type": "stream",
     "text": [
      "current loss: 0.004761200812127855, current accuracy: 0.2638888888888889\n"
     ]
    },
    {
     "name": "stderr",
     "output_type": "stream",
     "text": [
      "Training Epoch 93/400: 100%|██████████| 36/36 [00:03<00:00, 10.66batch/s, accuracy=43.8, loss=0.01]   \n"
     ]
    },
    {
     "name": "stdout",
     "output_type": "stream",
     "text": [
      "current loss: 0.004772384547524982, current accuracy: 0.2604166666666667\n"
     ]
    },
    {
     "name": "stderr",
     "output_type": "stream",
     "text": [
      "Training Epoch 94/400: 100%|██████████| 36/36 [00:03<00:00, 10.68batch/s, accuracy=39.8, loss=0.00999]\n"
     ]
    },
    {
     "name": "stdout",
     "output_type": "stream",
     "text": [
      "current loss: 0.00476088747382164, current accuracy: 0.2638888888888889\n"
     ]
    },
    {
     "name": "stderr",
     "output_type": "stream",
     "text": [
      "Training Epoch 95/400: 100%|██████████| 36/36 [00:03<00:00, 10.80batch/s, accuracy=43, loss=0.00971]  \n"
     ]
    },
    {
     "name": "stdout",
     "output_type": "stream",
     "text": [
      "current loss: 0.004775427281856537, current accuracy: 0.2673611111111111\n"
     ]
    },
    {
     "name": "stderr",
     "output_type": "stream",
     "text": [
      "Training Epoch 96/400: 100%|██████████| 36/36 [00:03<00:00, 10.86batch/s, accuracy=38.3, loss=0.00982]\n"
     ]
    },
    {
     "name": "stdout",
     "output_type": "stream",
     "text": [
      "current loss: 0.0047841618458429975, current accuracy: 0.2638888888888889\n"
     ]
    },
    {
     "name": "stderr",
     "output_type": "stream",
     "text": [
      "Training Epoch 97/400: 100%|██████████| 36/36 [00:03<00:00, 10.57batch/s, accuracy=41.4, loss=0.00979]\n"
     ]
    },
    {
     "name": "stdout",
     "output_type": "stream",
     "text": [
      "current loss: 0.0047712479200628065, current accuracy: 0.2673611111111111\n"
     ]
    },
    {
     "name": "stderr",
     "output_type": "stream",
     "text": [
      "Training Epoch 98/400: 100%|██████████| 36/36 [00:03<00:00, 10.69batch/s, accuracy=40.6, loss=0.0098] \n"
     ]
    },
    {
     "name": "stdout",
     "output_type": "stream",
     "text": [
      "current loss: 0.004773130019505818, current accuracy: 0.2638888888888889\n"
     ]
    },
    {
     "name": "stderr",
     "output_type": "stream",
     "text": [
      "Training Epoch 99/400: 100%|██████████| 36/36 [00:03<00:00, 10.59batch/s, accuracy=45.3, loss=0.00954]\n"
     ]
    },
    {
     "name": "stdout",
     "output_type": "stream",
     "text": [
      "current loss: 0.004776714576615227, current accuracy: 0.2673611111111111\n"
     ]
    },
    {
     "name": "stderr",
     "output_type": "stream",
     "text": [
      "Training Epoch 100/400: 100%|██████████| 36/36 [00:03<00:00, 10.44batch/s, accuracy=46.9, loss=0.00922]\n"
     ]
    },
    {
     "name": "stdout",
     "output_type": "stream",
     "text": [
      "current loss: 0.004816003971629673, current accuracy: 0.2638888888888889\n"
     ]
    },
    {
     "name": "stderr",
     "output_type": "stream",
     "text": [
      "Training Epoch 101/400: 100%|██████████| 36/36 [00:03<00:00, 10.67batch/s, accuracy=43, loss=0.00964]  \n"
     ]
    },
    {
     "name": "stdout",
     "output_type": "stream",
     "text": [
      "current loss: 0.004792127344343398, current accuracy: 0.28125\n"
     ]
    },
    {
     "name": "stderr",
     "output_type": "stream",
     "text": [
      "Training Epoch 102/400: 100%|██████████| 36/36 [00:03<00:00, 10.63batch/s, accuracy=48.4, loss=0.00954]\n"
     ]
    },
    {
     "name": "stdout",
     "output_type": "stream",
     "text": [
      "current loss: 0.004821774860223134, current accuracy: 0.28125\n"
     ]
    },
    {
     "name": "stderr",
     "output_type": "stream",
     "text": [
      "Training Epoch 103/400: 100%|██████████| 36/36 [00:03<00:00, 10.63batch/s, accuracy=37.5, loss=0.00966]\n"
     ]
    },
    {
     "name": "stdout",
     "output_type": "stream",
     "text": [
      "current loss: 0.004825100302696228, current accuracy: 0.2847222222222222\n"
     ]
    },
    {
     "name": "stderr",
     "output_type": "stream",
     "text": [
      "Training Epoch 104/400: 100%|██████████| 36/36 [00:03<00:00, 10.27batch/s, accuracy=41.4, loss=0.0094] \n"
     ]
    },
    {
     "name": "stdout",
     "output_type": "stream",
     "text": [
      "current loss: 0.004860252141952515, current accuracy: 0.28125\n"
     ]
    },
    {
     "name": "stderr",
     "output_type": "stream",
     "text": [
      "Training Epoch 105/400: 100%|██████████| 36/36 [00:03<00:00, 10.50batch/s, accuracy=44.5, loss=0.00916]\n"
     ]
    },
    {
     "name": "stdout",
     "output_type": "stream",
     "text": [
      "current loss: 0.004864867776632309, current accuracy: 0.2708333333333333\n"
     ]
    },
    {
     "name": "stderr",
     "output_type": "stream",
     "text": [
      "Training Epoch 106/400: 100%|██████████| 36/36 [00:03<00:00, 10.34batch/s, accuracy=43, loss=0.00946]  \n"
     ]
    },
    {
     "name": "stdout",
     "output_type": "stream",
     "text": [
      "current loss: 0.004889100790023804, current accuracy: 0.2743055555555556\n"
     ]
    },
    {
     "name": "stderr",
     "output_type": "stream",
     "text": [
      "Training Epoch 107/400: 100%|██████████| 36/36 [00:03<00:00, 10.27batch/s, accuracy=40.6, loss=0.00941]\n"
     ]
    },
    {
     "name": "stdout",
     "output_type": "stream",
     "text": [
      "current loss: 0.004917493710915248, current accuracy: 0.2881944444444444\n"
     ]
    },
    {
     "name": "stderr",
     "output_type": "stream",
     "text": [
      "Training Epoch 108/400: 100%|██████████| 36/36 [00:03<00:00, 10.44batch/s, accuracy=42.2, loss=0.00923]\n"
     ]
    },
    {
     "name": "stdout",
     "output_type": "stream",
     "text": [
      "current loss: 0.004938989463779662, current accuracy: 0.2881944444444444\n"
     ]
    },
    {
     "name": "stderr",
     "output_type": "stream",
     "text": [
      "Training Epoch 109/400: 100%|██████████| 36/36 [00:03<00:00, 10.22batch/s, accuracy=45.3, loss=0.00902]\n"
     ]
    },
    {
     "name": "stdout",
     "output_type": "stream",
     "text": [
      "current loss: 0.004959793554411994, current accuracy: 0.2916666666666667\n"
     ]
    },
    {
     "name": "stderr",
     "output_type": "stream",
     "text": [
      "Training Epoch 110/400: 100%|██████████| 36/36 [00:03<00:00, 10.46batch/s, accuracy=40.6, loss=0.00914]\n"
     ]
    },
    {
     "name": "stdout",
     "output_type": "stream",
     "text": [
      "current loss: 0.005009182625346714, current accuracy: 0.2777777777777778\n"
     ]
    },
    {
     "name": "stderr",
     "output_type": "stream",
     "text": [
      "Training Epoch 111/400: 100%|██████████| 36/36 [00:03<00:00, 10.60batch/s, accuracy=48.4, loss=0.00882]\n"
     ]
    },
    {
     "name": "stdout",
     "output_type": "stream",
     "text": [
      "current loss: 0.0050321850511762835, current accuracy: 0.2847222222222222\n"
     ]
    },
    {
     "name": "stderr",
     "output_type": "stream",
     "text": [
      "Training Epoch 112/400: 100%|██████████| 36/36 [00:03<00:00, 10.40batch/s, accuracy=46.1, loss=0.00891]\n"
     ]
    },
    {
     "name": "stdout",
     "output_type": "stream",
     "text": [
      "current loss: 0.005077047480477227, current accuracy: 0.2743055555555556\n"
     ]
    },
    {
     "name": "stderr",
     "output_type": "stream",
     "text": [
      "Training Epoch 113/400: 100%|██████████| 36/36 [00:03<00:00, 10.40batch/s, accuracy=44.5, loss=0.00925]\n"
     ]
    },
    {
     "name": "stdout",
     "output_type": "stream",
     "text": [
      "current loss: 0.005092013213369582, current accuracy: 0.2777777777777778\n"
     ]
    },
    {
     "name": "stderr",
     "output_type": "stream",
     "text": [
      "Training Epoch 114/400: 100%|██████████| 36/36 [00:03<00:00, 10.40batch/s, accuracy=39.8, loss=0.00921]\n"
     ]
    },
    {
     "name": "stdout",
     "output_type": "stream",
     "text": [
      "current loss: 0.00512771349814203, current accuracy: 0.2847222222222222\n"
     ]
    },
    {
     "name": "stderr",
     "output_type": "stream",
     "text": [
      "Training Epoch 115/400: 100%|██████████| 36/36 [00:03<00:00, 10.41batch/s, accuracy=46.1, loss=0.00894]\n"
     ]
    },
    {
     "name": "stdout",
     "output_type": "stream",
     "text": [
      "current loss: 0.0051337964832782745, current accuracy: 0.2777777777777778\n"
     ]
    },
    {
     "name": "stderr",
     "output_type": "stream",
     "text": [
      "Training Epoch 116/400: 100%|██████████| 36/36 [00:03<00:00, 10.51batch/s, accuracy=43, loss=0.00892]  \n"
     ]
    },
    {
     "name": "stdout",
     "output_type": "stream",
     "text": [
      "current loss: 0.005132630467414856, current accuracy: 0.2986111111111111\n"
     ]
    },
    {
     "name": "stderr",
     "output_type": "stream",
     "text": [
      "Training Epoch 117/400: 100%|██████████| 36/36 [00:03<00:00, 10.61batch/s, accuracy=45.3, loss=0.00871]\n"
     ]
    },
    {
     "name": "stdout",
     "output_type": "stream",
     "text": [
      "current loss: 0.00517713940805859, current accuracy: 0.2881944444444444\n"
     ]
    },
    {
     "name": "stderr",
     "output_type": "stream",
     "text": [
      "Training Epoch 118/400: 100%|██████████| 36/36 [00:03<00:00, 10.55batch/s, accuracy=47.7, loss=0.00865]\n"
     ]
    },
    {
     "name": "stdout",
     "output_type": "stream",
     "text": [
      "current loss: 0.0051847704582744175, current accuracy: 0.2916666666666667\n"
     ]
    },
    {
     "name": "stderr",
     "output_type": "stream",
     "text": [
      "Training Epoch 119/400: 100%|██████████| 36/36 [00:03<00:00, 10.52batch/s, accuracy=43, loss=0.00881]  \n"
     ]
    },
    {
     "name": "stdout",
     "output_type": "stream",
     "text": [
      "current loss: 0.0052358292871051365, current accuracy: 0.2881944444444444\n"
     ]
    },
    {
     "name": "stderr",
     "output_type": "stream",
     "text": [
      "Training Epoch 120/400: 100%|██████████| 36/36 [00:03<00:00, 10.21batch/s, accuracy=39.1, loss=0.0092] \n"
     ]
    },
    {
     "name": "stdout",
     "output_type": "stream",
     "text": [
      "current loss: 0.005209484034114414, current accuracy: 0.2916666666666667\n"
     ]
    },
    {
     "name": "stderr",
     "output_type": "stream",
     "text": [
      "Training Epoch 121/400: 100%|██████████| 36/36 [00:03<00:00, 10.45batch/s, accuracy=46.9, loss=0.00897]\n"
     ]
    },
    {
     "name": "stdout",
     "output_type": "stream",
     "text": [
      "current loss: 0.005259297788143158, current accuracy: 0.2986111111111111\n"
     ]
    },
    {
     "name": "stderr",
     "output_type": "stream",
     "text": [
      "Training Epoch 122/400: 100%|██████████| 36/36 [00:03<00:00, 10.61batch/s, accuracy=50, loss=0.00845]  \n"
     ]
    },
    {
     "name": "stdout",
     "output_type": "stream",
     "text": [
      "current loss: 0.005307183083560731, current accuracy: 0.2916666666666667\n"
     ]
    },
    {
     "name": "stderr",
     "output_type": "stream",
     "text": [
      "Training Epoch 123/400: 100%|██████████| 36/36 [00:03<00:00, 10.33batch/s, accuracy=52.3, loss=0.00849]\n"
     ]
    },
    {
     "name": "stdout",
     "output_type": "stream",
     "text": [
      "current loss: 0.005312460992071364, current accuracy: 0.2986111111111111\n"
     ]
    },
    {
     "name": "stderr",
     "output_type": "stream",
     "text": [
      "Training Epoch 124/400: 100%|██████████| 36/36 [00:03<00:00, 10.51batch/s, accuracy=46.1, loss=0.0087] \n"
     ]
    },
    {
     "name": "stdout",
     "output_type": "stream",
     "text": [
      "current loss: 0.005398274709781011, current accuracy: 0.2916666666666667\n"
     ]
    },
    {
     "name": "stderr",
     "output_type": "stream",
     "text": [
      "Training Epoch 125/400: 100%|██████████| 36/36 [00:03<00:00, 10.37batch/s, accuracy=50.8, loss=0.00847]\n"
     ]
    },
    {
     "name": "stdout",
     "output_type": "stream",
     "text": [
      "current loss: 0.005406682276063495, current accuracy: 0.2986111111111111\n"
     ]
    },
    {
     "name": "stderr",
     "output_type": "stream",
     "text": [
      "Training Epoch 126/400: 100%|██████████| 36/36 [00:03<00:00, 10.38batch/s, accuracy=43, loss=0.00888]  \n"
     ]
    },
    {
     "name": "stdout",
     "output_type": "stream",
     "text": [
      "current loss: 0.0054369428091579014, current accuracy: 0.2916666666666667\n"
     ]
    },
    {
     "name": "stderr",
     "output_type": "stream",
     "text": [
      "Training Epoch 127/400: 100%|██████████| 36/36 [00:03<00:00, 10.34batch/s, accuracy=50, loss=0.00839]  \n"
     ]
    },
    {
     "name": "stdout",
     "output_type": "stream",
     "text": [
      "current loss: 0.005439287672440211, current accuracy: 0.2951388888888889\n"
     ]
    },
    {
     "name": "stderr",
     "output_type": "stream",
     "text": [
      "Training Epoch 128/400: 100%|██████████| 36/36 [00:03<00:00, 10.41batch/s, accuracy=47.7, loss=0.00871]\n"
     ]
    },
    {
     "name": "stdout",
     "output_type": "stream",
     "text": [
      "current loss: 0.005451745457119412, current accuracy: 0.3020833333333333\n"
     ]
    },
    {
     "name": "stderr",
     "output_type": "stream",
     "text": [
      "Training Epoch 129/400: 100%|██████████| 36/36 [00:03<00:00, 10.59batch/s, accuracy=46.1, loss=0.00864]\n"
     ]
    },
    {
     "name": "stdout",
     "output_type": "stream",
     "text": [
      "current loss: 0.005490332841873169, current accuracy: 0.3055555555555556\n"
     ]
    },
    {
     "name": "stderr",
     "output_type": "stream",
     "text": [
      "Training Epoch 130/400: 100%|██████████| 36/36 [00:03<00:00, 10.48batch/s, accuracy=46.1, loss=0.00884]\n"
     ]
    },
    {
     "name": "stdout",
     "output_type": "stream",
     "text": [
      "current loss: 0.005444758882125218, current accuracy: 0.3159722222222222\n"
     ]
    },
    {
     "name": "stderr",
     "output_type": "stream",
     "text": [
      "Training Epoch 131/400: 100%|██████████| 36/36 [00:03<00:00, 10.78batch/s, accuracy=46.1, loss=0.00905]\n"
     ]
    },
    {
     "name": "stdout",
     "output_type": "stream",
     "text": [
      "current loss: 0.005531357394324409, current accuracy: 0.3055555555555556\n"
     ]
    },
    {
     "name": "stderr",
     "output_type": "stream",
     "text": [
      "Training Epoch 132/400: 100%|██████████| 36/36 [00:03<00:00, 10.59batch/s, accuracy=53.1, loss=0.00844]\n"
     ]
    },
    {
     "name": "stdout",
     "output_type": "stream",
     "text": [
      "current loss: 0.005515829970439275, current accuracy: 0.3090277777777778\n"
     ]
    },
    {
     "name": "stderr",
     "output_type": "stream",
     "text": [
      "Training Epoch 133/400: 100%|██████████| 36/36 [00:03<00:00, 10.63batch/s, accuracy=44.5, loss=0.00838]\n"
     ]
    },
    {
     "name": "stdout",
     "output_type": "stream",
     "text": [
      "current loss: 0.005609118276172214, current accuracy: 0.3055555555555556\n"
     ]
    },
    {
     "name": "stderr",
     "output_type": "stream",
     "text": [
      "Training Epoch 134/400: 100%|██████████| 36/36 [00:03<00:00, 10.77batch/s, accuracy=49.2, loss=0.00833]\n"
     ]
    },
    {
     "name": "stdout",
     "output_type": "stream",
     "text": [
      "current loss: 0.005657966766092513, current accuracy: 0.2916666666666667\n"
     ]
    },
    {
     "name": "stderr",
     "output_type": "stream",
     "text": [
      "Training Epoch 135/400: 100%|██████████| 36/36 [00:03<00:00, 10.53batch/s, accuracy=50.8, loss=0.00859]\n"
     ]
    },
    {
     "name": "stdout",
     "output_type": "stream",
     "text": [
      "current loss: 0.005704724540313085, current accuracy: 0.2951388888888889\n"
     ]
    },
    {
     "name": "stderr",
     "output_type": "stream",
     "text": [
      "Training Epoch 136/400: 100%|██████████| 36/36 [00:03<00:00, 10.69batch/s, accuracy=50, loss=0.00849]  \n"
     ]
    },
    {
     "name": "stdout",
     "output_type": "stream",
     "text": [
      "current loss: 0.0056790245903862845, current accuracy: 0.3020833333333333\n"
     ]
    },
    {
     "name": "stderr",
     "output_type": "stream",
     "text": [
      "Training Epoch 137/400: 100%|██████████| 36/36 [00:03<00:00, 10.56batch/s, accuracy=46.1, loss=0.00855]\n"
     ]
    },
    {
     "name": "stdout",
     "output_type": "stream",
     "text": [
      "current loss: 0.005663936336835225, current accuracy: 0.3055555555555556\n"
     ]
    },
    {
     "name": "stderr",
     "output_type": "stream",
     "text": [
      "Training Epoch 138/400: 100%|██████████| 36/36 [00:03<00:00, 10.75batch/s, accuracy=45.3, loss=0.00862]\n"
     ]
    },
    {
     "name": "stdout",
     "output_type": "stream",
     "text": [
      "current loss: 0.00579809480243259, current accuracy: 0.3055555555555556\n"
     ]
    },
    {
     "name": "stderr",
     "output_type": "stream",
     "text": [
      "Training Epoch 139/400: 100%|██████████| 36/36 [00:03<00:00, 10.29batch/s, accuracy=44.5, loss=0.00848]\n"
     ]
    },
    {
     "name": "stdout",
     "output_type": "stream",
     "text": [
      "current loss: 0.0057863158484299975, current accuracy: 0.2881944444444444\n"
     ]
    },
    {
     "name": "stderr",
     "output_type": "stream",
     "text": [
      "Training Epoch 140/400: 100%|██████████| 36/36 [00:03<00:00, 10.38batch/s, accuracy=46.1, loss=0.0085] \n"
     ]
    },
    {
     "name": "stdout",
     "output_type": "stream",
     "text": [
      "current loss: 0.005816130174530877, current accuracy: 0.2986111111111111\n"
     ]
    },
    {
     "name": "stderr",
     "output_type": "stream",
     "text": [
      "Training Epoch 141/400: 100%|██████████| 36/36 [00:03<00:00, 10.46batch/s, accuracy=48.4, loss=0.00826]\n"
     ]
    },
    {
     "name": "stdout",
     "output_type": "stream",
     "text": [
      "current loss: 0.005892354167169995, current accuracy: 0.2916666666666667\n"
     ]
    },
    {
     "name": "stderr",
     "output_type": "stream",
     "text": [
      "Training Epoch 142/400: 100%|██████████| 36/36 [00:03<00:00, 10.56batch/s, accuracy=46.1, loss=0.00849]\n"
     ]
    },
    {
     "name": "stdout",
     "output_type": "stream",
     "text": [
      "current loss: 0.005874210761653053, current accuracy: 0.2916666666666667\n"
     ]
    },
    {
     "name": "stderr",
     "output_type": "stream",
     "text": [
      "Training Epoch 143/400: 100%|██████████| 36/36 [00:03<00:00, 10.67batch/s, accuracy=49.2, loss=0.0082] \n"
     ]
    },
    {
     "name": "stdout",
     "output_type": "stream",
     "text": [
      "current loss: 0.005897997568051021, current accuracy: 0.2986111111111111\n"
     ]
    },
    {
     "name": "stderr",
     "output_type": "stream",
     "text": [
      "Training Epoch 144/400: 100%|██████████| 36/36 [00:03<00:00, 11.12batch/s, accuracy=53.1, loss=0.00829]\n"
     ]
    },
    {
     "name": "stdout",
     "output_type": "stream",
     "text": [
      "current loss: 0.005974912809001075, current accuracy: 0.3125\n"
     ]
    },
    {
     "name": "stderr",
     "output_type": "stream",
     "text": [
      "Training Epoch 145/400: 100%|██████████| 36/36 [00:03<00:00, 11.10batch/s, accuracy=49.2, loss=0.00843]\n"
     ]
    },
    {
     "name": "stdout",
     "output_type": "stream",
     "text": [
      "current loss: 0.005993814931975471, current accuracy: 0.3090277777777778\n"
     ]
    },
    {
     "name": "stderr",
     "output_type": "stream",
     "text": [
      "Training Epoch 146/400: 100%|██████████| 36/36 [00:03<00:00, 11.54batch/s, accuracy=51.6, loss=0.00806]\n"
     ]
    },
    {
     "name": "stdout",
     "output_type": "stream",
     "text": [
      "current loss: 0.005956072360277176, current accuracy: 0.3090277777777778\n"
     ]
    },
    {
     "name": "stderr",
     "output_type": "stream",
     "text": [
      "Training Epoch 147/400: 100%|██████████| 36/36 [00:03<00:00, 10.72batch/s, accuracy=47.7, loss=0.00816]\n"
     ]
    },
    {
     "name": "stdout",
     "output_type": "stream",
     "text": [
      "current loss: 0.006041821092367172, current accuracy: 0.2881944444444444\n"
     ]
    },
    {
     "name": "stderr",
     "output_type": "stream",
     "text": [
      "Training Epoch 148/400: 100%|██████████| 36/36 [00:03<00:00, 10.77batch/s, accuracy=44.5, loss=0.00821]\n"
     ]
    },
    {
     "name": "stdout",
     "output_type": "stream",
     "text": [
      "current loss: 0.005996891193919712, current accuracy: 0.2951388888888889\n"
     ]
    },
    {
     "name": "stderr",
     "output_type": "stream",
     "text": [
      "Training Epoch 149/400: 100%|██████████| 36/36 [00:03<00:00, 10.67batch/s, accuracy=45.3, loss=0.00832]\n"
     ]
    },
    {
     "name": "stdout",
     "output_type": "stream",
     "text": [
      "current loss: 0.006040759384632111, current accuracy: 0.2916666666666667\n"
     ]
    },
    {
     "name": "stderr",
     "output_type": "stream",
     "text": [
      "Training Epoch 150/400: 100%|██████████| 36/36 [00:03<00:00, 10.54batch/s, accuracy=45.3, loss=0.0084] \n"
     ]
    },
    {
     "name": "stdout",
     "output_type": "stream",
     "text": [
      "current loss: 0.006051247732506858, current accuracy: 0.2847222222222222\n"
     ]
    },
    {
     "name": "stderr",
     "output_type": "stream",
     "text": [
      "Training Epoch 151/400: 100%|██████████| 36/36 [00:03<00:00, 10.63batch/s, accuracy=53.1, loss=0.00801]\n"
     ]
    },
    {
     "name": "stdout",
     "output_type": "stream",
     "text": [
      "current loss: 0.006041294170750512, current accuracy: 0.3020833333333333\n"
     ]
    },
    {
     "name": "stderr",
     "output_type": "stream",
     "text": [
      "Training Epoch 152/400: 100%|██████████| 36/36 [00:03<00:00, 10.71batch/s, accuracy=49.2, loss=0.00813]\n"
     ]
    },
    {
     "name": "stdout",
     "output_type": "stream",
     "text": [
      "current loss: 0.0060857244663768345, current accuracy: 0.2986111111111111\n"
     ]
    },
    {
     "name": "stderr",
     "output_type": "stream",
     "text": [
      "Training Epoch 153/400: 100%|██████████| 36/36 [00:03<00:00, 10.80batch/s, accuracy=53.1, loss=0.00806]\n"
     ]
    },
    {
     "name": "stdout",
     "output_type": "stream",
     "text": [
      "current loss: 0.006228510290384293, current accuracy: 0.2916666666666667\n"
     ]
    },
    {
     "name": "stderr",
     "output_type": "stream",
     "text": [
      "Training Epoch 154/400: 100%|██████████| 36/36 [00:03<00:00, 11.26batch/s, accuracy=47.7, loss=0.0081] \n"
     ]
    },
    {
     "name": "stdout",
     "output_type": "stream",
     "text": [
      "current loss: 0.006223369389772415, current accuracy: 0.3020833333333333\n"
     ]
    },
    {
     "name": "stderr",
     "output_type": "stream",
     "text": [
      "Training Epoch 155/400: 100%|██████████| 36/36 [00:03<00:00, 11.40batch/s, accuracy=50, loss=0.00804]  \n"
     ]
    },
    {
     "name": "stdout",
     "output_type": "stream",
     "text": [
      "current loss: 0.00617006379697058, current accuracy: 0.2951388888888889\n"
     ]
    },
    {
     "name": "stderr",
     "output_type": "stream",
     "text": [
      "Training Epoch 156/400: 100%|██████████| 36/36 [00:03<00:00, 11.37batch/s, accuracy=50, loss=0.00787]  \n"
     ]
    },
    {
     "name": "stdout",
     "output_type": "stream",
     "text": [
      "current loss: 0.006267960286802716, current accuracy: 0.2847222222222222\n"
     ]
    },
    {
     "name": "stderr",
     "output_type": "stream",
     "text": [
      "Training Epoch 157/400: 100%|██████████| 36/36 [00:03<00:00, 11.53batch/s, accuracy=48.4, loss=0.00784]\n"
     ]
    },
    {
     "name": "stdout",
     "output_type": "stream",
     "text": [
      "current loss: 0.006342658152182897, current accuracy: 0.3055555555555556\n"
     ]
    },
    {
     "name": "stderr",
     "output_type": "stream",
     "text": [
      "Training Epoch 158/400: 100%|██████████| 36/36 [00:03<00:00, 11.49batch/s, accuracy=49.2, loss=0.00789]\n"
     ]
    },
    {
     "name": "stdout",
     "output_type": "stream",
     "text": [
      "current loss: 0.006296428541342418, current accuracy: 0.3090277777777778\n"
     ]
    },
    {
     "name": "stderr",
     "output_type": "stream",
     "text": [
      "Training Epoch 159/400: 100%|██████████| 36/36 [00:03<00:00, 11.26batch/s, accuracy=53.1, loss=0.00772]\n"
     ]
    },
    {
     "name": "stdout",
     "output_type": "stream",
     "text": [
      "current loss: 0.006332734392748939, current accuracy: 0.2986111111111111\n"
     ]
    },
    {
     "name": "stderr",
     "output_type": "stream",
     "text": [
      "Training Epoch 160/400: 100%|██████████| 36/36 [00:03<00:00, 11.32batch/s, accuracy=52.3, loss=0.0078] \n"
     ]
    },
    {
     "name": "stdout",
     "output_type": "stream",
     "text": [
      "current loss: 0.006350197311904695, current accuracy: 0.2881944444444444\n"
     ]
    },
    {
     "name": "stderr",
     "output_type": "stream",
     "text": [
      "Training Epoch 161/400: 100%|██████████| 36/36 [00:03<00:00, 11.41batch/s, accuracy=50, loss=0.00807]  \n"
     ]
    },
    {
     "name": "stdout",
     "output_type": "stream",
     "text": [
      "current loss: 0.00639603328373697, current accuracy: 0.2951388888888889\n"
     ]
    },
    {
     "name": "stderr",
     "output_type": "stream",
     "text": [
      "Training Epoch 162/400: 100%|██████████| 36/36 [00:03<00:00, 11.10batch/s, accuracy=44.5, loss=0.0084] \n"
     ]
    },
    {
     "name": "stdout",
     "output_type": "stream",
     "text": [
      "current loss: 0.006365898168749279, current accuracy: 0.2986111111111111\n"
     ]
    },
    {
     "name": "stderr",
     "output_type": "stream",
     "text": [
      "Training Epoch 163/400: 100%|██████████| 36/36 [00:03<00:00, 10.68batch/s, accuracy=53.9, loss=0.00788]\n"
     ]
    },
    {
     "name": "stdout",
     "output_type": "stream",
     "text": [
      "current loss: 0.0064615002936787075, current accuracy: 0.2881944444444444\n"
     ]
    },
    {
     "name": "stderr",
     "output_type": "stream",
     "text": [
      "Training Epoch 164/400: 100%|██████████| 36/36 [00:03<00:00, 10.67batch/s, accuracy=51.6, loss=0.00812]\n"
     ]
    },
    {
     "name": "stdout",
     "output_type": "stream",
     "text": [
      "current loss: 0.00636968720290396, current accuracy: 0.2986111111111111\n"
     ]
    },
    {
     "name": "stderr",
     "output_type": "stream",
     "text": [
      "Training Epoch 165/400: 100%|██████████| 36/36 [00:03<00:00, 10.66batch/s, accuracy=55.5, loss=0.00802]\n"
     ]
    },
    {
     "name": "stdout",
     "output_type": "stream",
     "text": [
      "current loss: 0.006420378469758564, current accuracy: 0.2847222222222222\n"
     ]
    },
    {
     "name": "stderr",
     "output_type": "stream",
     "text": [
      "Training Epoch 166/400: 100%|██████████| 36/36 [00:03<00:00, 10.86batch/s, accuracy=53.1, loss=0.00775]\n"
     ]
    },
    {
     "name": "stdout",
     "output_type": "stream",
     "text": [
      "current loss: 0.006339030547274483, current accuracy: 0.2881944444444444\n"
     ]
    },
    {
     "name": "stderr",
     "output_type": "stream",
     "text": [
      "Training Epoch 167/400: 100%|██████████| 36/36 [00:03<00:00, 11.47batch/s, accuracy=48.4, loss=0.00769]\n"
     ]
    },
    {
     "name": "stdout",
     "output_type": "stream",
     "text": [
      "current loss: 0.006469616873396767, current accuracy: 0.2916666666666667\n"
     ]
    },
    {
     "name": "stderr",
     "output_type": "stream",
     "text": [
      "Training Epoch 168/400: 100%|██████████| 36/36 [00:03<00:00, 11.63batch/s, accuracy=47.7, loss=0.00843]\n"
     ]
    },
    {
     "name": "stdout",
     "output_type": "stream",
     "text": [
      "current loss: 0.00646206322643492, current accuracy: 0.2916666666666667\n"
     ]
    },
    {
     "name": "stderr",
     "output_type": "stream",
     "text": [
      "Training Epoch 169/400: 100%|██████████| 36/36 [00:03<00:00, 11.50batch/s, accuracy=52.3, loss=0.00768]\n"
     ]
    },
    {
     "name": "stdout",
     "output_type": "stream",
     "text": [
      "current loss: 0.006444670673873689, current accuracy: 0.2847222222222222\n"
     ]
    },
    {
     "name": "stderr",
     "output_type": "stream",
     "text": [
      "Training Epoch 170/400: 100%|██████████| 36/36 [00:03<00:00, 10.82batch/s, accuracy=43.8, loss=0.00805]\n"
     ]
    },
    {
     "name": "stdout",
     "output_type": "stream",
     "text": [
      "current loss: 0.006528796835078133, current accuracy: 0.2777777777777778\n"
     ]
    },
    {
     "name": "stderr",
     "output_type": "stream",
     "text": [
      "Training Epoch 171/400: 100%|██████████| 36/36 [00:03<00:00, 10.57batch/s, accuracy=49.2, loss=0.00794]\n"
     ]
    },
    {
     "name": "stdout",
     "output_type": "stream",
     "text": [
      "current loss: 0.006562591426902347, current accuracy: 0.2777777777777778\n"
     ]
    },
    {
     "name": "stderr",
     "output_type": "stream",
     "text": [
      "Training Epoch 172/400: 100%|██████████| 36/36 [00:03<00:00, 10.57batch/s, accuracy=47.7, loss=0.00783]\n"
     ]
    },
    {
     "name": "stdout",
     "output_type": "stream",
     "text": [
      "current loss: 0.006569006376796299, current accuracy: 0.2951388888888889\n"
     ]
    },
    {
     "name": "stderr",
     "output_type": "stream",
     "text": [
      "Training Epoch 173/400: 100%|██████████| 36/36 [00:03<00:00, 10.45batch/s, accuracy=43, loss=0.00778]  \n"
     ]
    },
    {
     "name": "stdout",
     "output_type": "stream",
     "text": [
      "current loss: 0.006643577996227477, current accuracy: 0.2951388888888889\n"
     ]
    },
    {
     "name": "stderr",
     "output_type": "stream",
     "text": [
      "Training Epoch 174/400: 100%|██████████| 36/36 [00:03<00:00, 10.64batch/s, accuracy=57, loss=0.00755]  \n"
     ]
    },
    {
     "name": "stdout",
     "output_type": "stream",
     "text": [
      "current loss: 0.006631640924347771, current accuracy: 0.2881944444444444\n"
     ]
    },
    {
     "name": "stderr",
     "output_type": "stream",
     "text": [
      "Training Epoch 175/400: 100%|██████████| 36/36 [00:03<00:00, 10.64batch/s, accuracy=51.6, loss=0.00772]\n"
     ]
    },
    {
     "name": "stdout",
     "output_type": "stream",
     "text": [
      "current loss: 0.006636365006367366, current accuracy: 0.2881944444444444\n"
     ]
    },
    {
     "name": "stderr",
     "output_type": "stream",
     "text": [
      "Training Epoch 176/400: 100%|██████████| 36/36 [00:03<00:00, 10.60batch/s, accuracy=56.2, loss=0.00773]\n"
     ]
    },
    {
     "name": "stdout",
     "output_type": "stream",
     "text": [
      "current loss: 0.0066932423247231376, current accuracy: 0.2881944444444444\n"
     ]
    },
    {
     "name": "stderr",
     "output_type": "stream",
     "text": [
      "Training Epoch 177/400: 100%|██████████| 36/36 [00:03<00:00, 10.67batch/s, accuracy=50.8, loss=0.00743]\n"
     ]
    },
    {
     "name": "stdout",
     "output_type": "stream",
     "text": [
      "current loss: 0.006679308911164601, current accuracy: 0.2951388888888889\n"
     ]
    },
    {
     "name": "stderr",
     "output_type": "stream",
     "text": [
      "Training Epoch 178/400: 100%|██████████| 36/36 [00:03<00:00, 10.35batch/s, accuracy=47.7, loss=0.00782]\n"
     ]
    },
    {
     "name": "stdout",
     "output_type": "stream",
     "text": [
      "current loss: 0.006694183581405216, current accuracy: 0.2916666666666667\n"
     ]
    },
    {
     "name": "stderr",
     "output_type": "stream",
     "text": [
      "Training Epoch 179/400: 100%|██████████| 36/36 [00:03<00:00, 10.42batch/s, accuracy=53.9, loss=0.00761]\n"
     ]
    },
    {
     "name": "stdout",
     "output_type": "stream",
     "text": [
      "current loss: 0.006682109501626756, current accuracy: 0.2951388888888889\n"
     ]
    },
    {
     "name": "stderr",
     "output_type": "stream",
     "text": [
      "Training Epoch 180/400: 100%|██████████| 36/36 [00:03<00:00, 10.43batch/s, accuracy=49.2, loss=0.00779]\n"
     ]
    },
    {
     "name": "stdout",
     "output_type": "stream",
     "text": [
      "current loss: 0.0067312320073445635, current accuracy: 0.2777777777777778\n"
     ]
    },
    {
     "name": "stderr",
     "output_type": "stream",
     "text": [
      "Training Epoch 181/400: 100%|██████████| 36/36 [00:03<00:00, 10.36batch/s, accuracy=41.4, loss=0.0082] \n"
     ]
    },
    {
     "name": "stdout",
     "output_type": "stream",
     "text": [
      "current loss: 0.006713199118773143, current accuracy: 0.2951388888888889\n"
     ]
    },
    {
     "name": "stderr",
     "output_type": "stream",
     "text": [
      "Training Epoch 182/400: 100%|██████████| 36/36 [00:03<00:00, 10.59batch/s, accuracy=46.9, loss=0.00786]\n"
     ]
    },
    {
     "name": "stdout",
     "output_type": "stream",
     "text": [
      "current loss: 0.006840964158376058, current accuracy: 0.2708333333333333\n"
     ]
    },
    {
     "name": "stderr",
     "output_type": "stream",
     "text": [
      "Training Epoch 183/400: 100%|██████████| 36/36 [00:03<00:00, 10.32batch/s, accuracy=46.9, loss=0.00773]\n"
     ]
    },
    {
     "name": "stdout",
     "output_type": "stream",
     "text": [
      "current loss: 0.006736179192860921, current accuracy: 0.2916666666666667\n"
     ]
    },
    {
     "name": "stderr",
     "output_type": "stream",
     "text": [
      "Training Epoch 184/400: 100%|██████████| 36/36 [00:03<00:00, 10.41batch/s, accuracy=49.2, loss=0.00763]\n"
     ]
    },
    {
     "name": "stdout",
     "output_type": "stream",
     "text": [
      "current loss: 0.006737039320998722, current accuracy: 0.2916666666666667\n"
     ]
    },
    {
     "name": "stderr",
     "output_type": "stream",
     "text": [
      "Training Epoch 185/400: 100%|██████████| 36/36 [00:03<00:00, 10.53batch/s, accuracy=51.6, loss=0.00773]\n"
     ]
    },
    {
     "name": "stdout",
     "output_type": "stream",
     "text": [
      "current loss: 0.006738059222698212, current accuracy: 0.2986111111111111\n"
     ]
    },
    {
     "name": "stderr",
     "output_type": "stream",
     "text": [
      "Training Epoch 186/400: 100%|██████████| 36/36 [00:03<00:00, 10.50batch/s, accuracy=55.5, loss=0.00742]\n"
     ]
    },
    {
     "name": "stdout",
     "output_type": "stream",
     "text": [
      "current loss: 0.006825469020340178, current accuracy: 0.3055555555555556\n"
     ]
    },
    {
     "name": "stderr",
     "output_type": "stream",
     "text": [
      "Training Epoch 187/400: 100%|██████████| 36/36 [00:03<00:00, 10.39batch/s, accuracy=51.6, loss=0.00745]\n"
     ]
    },
    {
     "name": "stdout",
     "output_type": "stream",
     "text": [
      "current loss: 0.006846491247415543, current accuracy: 0.2881944444444444\n"
     ]
    },
    {
     "name": "stderr",
     "output_type": "stream",
     "text": [
      "Training Epoch 188/400: 100%|██████████| 36/36 [00:03<00:00, 10.67batch/s, accuracy=52.3, loss=0.00771]\n"
     ]
    },
    {
     "name": "stdout",
     "output_type": "stream",
     "text": [
      "current loss: 0.006852693855762482, current accuracy: 0.2951388888888889\n"
     ]
    },
    {
     "name": "stderr",
     "output_type": "stream",
     "text": [
      "Training Epoch 189/400: 100%|██████████| 36/36 [00:03<00:00, 10.52batch/s, accuracy=51.6, loss=0.00732]\n"
     ]
    },
    {
     "name": "stdout",
     "output_type": "stream",
     "text": [
      "current loss: 0.0068928201993306475, current accuracy: 0.2881944444444444\n"
     ]
    },
    {
     "name": "stderr",
     "output_type": "stream",
     "text": [
      "Training Epoch 190/400: 100%|██████████| 36/36 [00:03<00:00, 10.39batch/s, accuracy=53.1, loss=0.00784]\n"
     ]
    },
    {
     "name": "stdout",
     "output_type": "stream",
     "text": [
      "current loss: 0.006928369402885437, current accuracy: 0.2916666666666667\n"
     ]
    },
    {
     "name": "stderr",
     "output_type": "stream",
     "text": [
      "Training Epoch 191/400: 100%|██████████| 36/36 [00:03<00:00, 10.66batch/s, accuracy=50, loss=0.00754]  \n"
     ]
    },
    {
     "name": "stdout",
     "output_type": "stream",
     "text": [
      "current loss: 0.006955570644802517, current accuracy: 0.3055555555555556\n"
     ]
    },
    {
     "name": "stderr",
     "output_type": "stream",
     "text": [
      "Training Epoch 192/400: 100%|██████████| 36/36 [00:03<00:00, 10.38batch/s, accuracy=53.9, loss=0.00771]\n"
     ]
    },
    {
     "name": "stdout",
     "output_type": "stream",
     "text": [
      "current loss: 0.006920887364281548, current accuracy: 0.2847222222222222\n"
     ]
    },
    {
     "name": "stderr",
     "output_type": "stream",
     "text": [
      "Training Epoch 193/400: 100%|██████████| 36/36 [00:03<00:00, 10.43batch/s, accuracy=47.7, loss=0.0077] \n"
     ]
    },
    {
     "name": "stdout",
     "output_type": "stream",
     "text": [
      "current loss: 0.006975022455056508, current accuracy: 0.28125\n"
     ]
    },
    {
     "name": "stderr",
     "output_type": "stream",
     "text": [
      "Training Epoch 194/400: 100%|██████████| 36/36 [00:03<00:00, 10.33batch/s, accuracy=49.2, loss=0.0078] \n"
     ]
    },
    {
     "name": "stdout",
     "output_type": "stream",
     "text": [
      "current loss: 0.00689317203230328, current accuracy: 0.2777777777777778\n"
     ]
    },
    {
     "name": "stderr",
     "output_type": "stream",
     "text": [
      "Training Epoch 195/400: 100%|██████████| 36/36 [00:03<00:00, 10.34batch/s, accuracy=51.6, loss=0.00765]\n"
     ]
    },
    {
     "name": "stdout",
     "output_type": "stream",
     "text": [
      "current loss: 0.007002582152684529, current accuracy: 0.2916666666666667\n"
     ]
    },
    {
     "name": "stderr",
     "output_type": "stream",
     "text": [
      "Training Epoch 196/400: 100%|██████████| 36/36 [00:03<00:00, 10.57batch/s, accuracy=49.2, loss=0.00757]\n"
     ]
    },
    {
     "name": "stdout",
     "output_type": "stream",
     "text": [
      "current loss: 0.0069982144567701556, current accuracy: 0.2743055555555556\n"
     ]
    },
    {
     "name": "stderr",
     "output_type": "stream",
     "text": [
      "Training Epoch 197/400: 100%|██████████| 36/36 [00:03<00:00, 10.53batch/s, accuracy=54.7, loss=0.00723]\n"
     ]
    },
    {
     "name": "stdout",
     "output_type": "stream",
     "text": [
      "current loss: 0.0070722947518030805, current accuracy: 0.28125\n"
     ]
    },
    {
     "name": "stderr",
     "output_type": "stream",
     "text": [
      "Training Epoch 198/400: 100%|██████████| 36/36 [00:03<00:00, 10.63batch/s, accuracy=47.7, loss=0.00752]\n"
     ]
    },
    {
     "name": "stdout",
     "output_type": "stream",
     "text": [
      "current loss: 0.007004958060052659, current accuracy: 0.2881944444444444\n"
     ]
    },
    {
     "name": "stderr",
     "output_type": "stream",
     "text": [
      "Training Epoch 199/400: 100%|██████████| 36/36 [00:03<00:00, 10.55batch/s, accuracy=44.5, loss=0.00752]\n"
     ]
    },
    {
     "name": "stdout",
     "output_type": "stream",
     "text": [
      "current loss: 0.007036988106038835, current accuracy: 0.2847222222222222\n"
     ]
    },
    {
     "name": "stderr",
     "output_type": "stream",
     "text": [
      "Training Epoch 200/400: 100%|██████████| 36/36 [00:03<00:00, 10.62batch/s, accuracy=49.2, loss=0.00751]\n"
     ]
    },
    {
     "name": "stdout",
     "output_type": "stream",
     "text": [
      "current loss: 0.00701225135061476, current accuracy: 0.28125\n"
     ]
    },
    {
     "name": "stderr",
     "output_type": "stream",
     "text": [
      "Training Epoch 201/400: 100%|██████████| 36/36 [00:03<00:00, 10.32batch/s, accuracy=55.5, loss=0.00725]\n"
     ]
    },
    {
     "name": "stdout",
     "output_type": "stream",
     "text": [
      "current loss: 0.007158955766095055, current accuracy: 0.2673611111111111\n"
     ]
    },
    {
     "name": "stderr",
     "output_type": "stream",
     "text": [
      "Training Epoch 202/400: 100%|██████████| 36/36 [00:03<00:00, 10.49batch/s, accuracy=52.3, loss=0.00749]\n"
     ]
    },
    {
     "name": "stdout",
     "output_type": "stream",
     "text": [
      "current loss: 0.007186094919840495, current accuracy: 0.28125\n"
     ]
    },
    {
     "name": "stderr",
     "output_type": "stream",
     "text": [
      "Training Epoch 203/400: 100%|██████████| 36/36 [00:03<00:00, 10.55batch/s, accuracy=58.6, loss=0.0072] \n"
     ]
    },
    {
     "name": "stdout",
     "output_type": "stream",
     "text": [
      "current loss: 0.00721117936902576, current accuracy: 0.2777777777777778\n"
     ]
    },
    {
     "name": "stderr",
     "output_type": "stream",
     "text": [
      "Training Epoch 204/400: 100%|██████████| 36/36 [00:03<00:00, 10.69batch/s, accuracy=49.2, loss=0.00765]\n"
     ]
    },
    {
     "name": "stdout",
     "output_type": "stream",
     "text": [
      "current loss: 0.007143937879138523, current accuracy: 0.28125\n"
     ]
    },
    {
     "name": "stderr",
     "output_type": "stream",
     "text": [
      "Training Epoch 205/400: 100%|██████████| 36/36 [00:03<00:00, 10.60batch/s, accuracy=50.8, loss=0.0074] \n"
     ]
    },
    {
     "name": "stdout",
     "output_type": "stream",
     "text": [
      "current loss: 0.0072540971967909075, current accuracy: 0.2743055555555556\n"
     ]
    },
    {
     "name": "stderr",
     "output_type": "stream",
     "text": [
      "Training Epoch 206/400: 100%|██████████| 36/36 [00:03<00:00, 10.70batch/s, accuracy=48.4, loss=0.00741]\n"
     ]
    },
    {
     "name": "stdout",
     "output_type": "stream",
     "text": [
      "current loss: 0.007269822888904148, current accuracy: 0.2847222222222222\n"
     ]
    },
    {
     "name": "stderr",
     "output_type": "stream",
     "text": [
      "Training Epoch 207/400: 100%|██████████| 36/36 [00:03<00:00, 10.75batch/s, accuracy=46.9, loss=0.0076] \n"
     ]
    },
    {
     "name": "stdout",
     "output_type": "stream",
     "text": [
      "current loss: 0.0073000482387012905, current accuracy: 0.2951388888888889\n"
     ]
    },
    {
     "name": "stderr",
     "output_type": "stream",
     "text": [
      "Training Epoch 208/400: 100%|██████████| 36/36 [00:03<00:00, 10.26batch/s, accuracy=54.7, loss=0.00749]\n"
     ]
    },
    {
     "name": "stdout",
     "output_type": "stream",
     "text": [
      "current loss: 0.007174358599715763, current accuracy: 0.2881944444444444\n"
     ]
    },
    {
     "name": "stderr",
     "output_type": "stream",
     "text": [
      "Training Epoch 209/400: 100%|██████████| 36/36 [00:03<00:00, 10.83batch/s, accuracy=53.1, loss=0.00758]\n"
     ]
    },
    {
     "name": "stdout",
     "output_type": "stream",
     "text": [
      "current loss: 0.007244510783089532, current accuracy: 0.2986111111111111\n"
     ]
    },
    {
     "name": "stderr",
     "output_type": "stream",
     "text": [
      "Training Epoch 210/400: 100%|██████████| 36/36 [00:03<00:00, 10.51batch/s, accuracy=53.1, loss=0.00755]\n"
     ]
    },
    {
     "name": "stdout",
     "output_type": "stream",
     "text": [
      "current loss: 0.0073188841342926025, current accuracy: 0.3020833333333333\n"
     ]
    },
    {
     "name": "stderr",
     "output_type": "stream",
     "text": [
      "Training Epoch 211/400: 100%|██████████| 36/36 [00:03<00:00, 11.02batch/s, accuracy=48.4, loss=0.00746]\n"
     ]
    },
    {
     "name": "stdout",
     "output_type": "stream",
     "text": [
      "current loss: 0.007298633456230164, current accuracy: 0.28125\n"
     ]
    },
    {
     "name": "stderr",
     "output_type": "stream",
     "text": [
      "Training Epoch 212/400: 100%|██████████| 36/36 [00:03<00:00, 10.39batch/s, accuracy=50.8, loss=0.00739]\n"
     ]
    },
    {
     "name": "stdout",
     "output_type": "stream",
     "text": [
      "current loss: 0.007356734739409553, current accuracy: 0.2847222222222222\n"
     ]
    },
    {
     "name": "stderr",
     "output_type": "stream",
     "text": [
      "Training Epoch 213/400: 100%|██████████| 36/36 [00:03<00:00, 11.20batch/s, accuracy=51.6, loss=0.00756]\n"
     ]
    },
    {
     "name": "stdout",
     "output_type": "stream",
     "text": [
      "current loss: 0.007354733844598134, current accuracy: 0.2847222222222222\n"
     ]
    },
    {
     "name": "stderr",
     "output_type": "stream",
     "text": [
      "Training Epoch 214/400: 100%|██████████| 36/36 [00:03<00:00, 11.75batch/s, accuracy=53.9, loss=0.00736]\n"
     ]
    },
    {
     "name": "stdout",
     "output_type": "stream",
     "text": [
      "current loss: 0.007425625291135576, current accuracy: 0.2916666666666667\n"
     ]
    },
    {
     "name": "stderr",
     "output_type": "stream",
     "text": [
      "Training Epoch 215/400: 100%|██████████| 36/36 [00:03<00:00, 10.52batch/s, accuracy=59.4, loss=0.0074] \n"
     ]
    },
    {
     "name": "stdout",
     "output_type": "stream",
     "text": [
      "current loss: 0.007365722623136308, current accuracy: 0.28125\n"
     ]
    },
    {
     "name": "stderr",
     "output_type": "stream",
     "text": [
      "Training Epoch 216/400: 100%|██████████| 36/36 [00:03<00:00, 10.51batch/s, accuracy=57.8, loss=0.00736]\n"
     ]
    },
    {
     "name": "stdout",
     "output_type": "stream",
     "text": [
      "current loss: 0.0073996368381712176, current accuracy: 0.2743055555555556\n"
     ]
    },
    {
     "name": "stderr",
     "output_type": "stream",
     "text": [
      "Training Epoch 217/400: 100%|██████████| 36/36 [00:03<00:00, 10.40batch/s, accuracy=51.6, loss=0.00751]\n"
     ]
    },
    {
     "name": "stdout",
     "output_type": "stream",
     "text": [
      "current loss: 0.007380043466885884, current accuracy: 0.28125\n"
     ]
    },
    {
     "name": "stderr",
     "output_type": "stream",
     "text": [
      "Training Epoch 218/400: 100%|██████████| 36/36 [00:03<00:00, 10.27batch/s, accuracy=49.2, loss=0.00722]\n"
     ]
    },
    {
     "name": "stdout",
     "output_type": "stream",
     "text": [
      "current loss: 0.007396018339527978, current accuracy: 0.28125\n"
     ]
    },
    {
     "name": "stderr",
     "output_type": "stream",
     "text": [
      "Training Epoch 219/400: 100%|██████████| 36/36 [00:03<00:00, 10.92batch/s, accuracy=50.8, loss=0.00742]\n"
     ]
    },
    {
     "name": "stdout",
     "output_type": "stream",
     "text": [
      "current loss: 0.007453200717767079, current accuracy: 0.2847222222222222\n"
     ]
    },
    {
     "name": "stderr",
     "output_type": "stream",
     "text": [
      "Training Epoch 220/400: 100%|██████████| 36/36 [00:03<00:00, 11.10batch/s, accuracy=57.8, loss=0.00727]\n"
     ]
    },
    {
     "name": "stdout",
     "output_type": "stream",
     "text": [
      "current loss: 0.007501167555650075, current accuracy: 0.2847222222222222\n"
     ]
    },
    {
     "name": "stderr",
     "output_type": "stream",
     "text": [
      "Training Epoch 221/400: 100%|██████████| 36/36 [00:03<00:00, 10.87batch/s, accuracy=55.5, loss=0.00737]\n"
     ]
    },
    {
     "name": "stdout",
     "output_type": "stream",
     "text": [
      "current loss: 0.0074776046805911595, current accuracy: 0.3055555555555556\n"
     ]
    },
    {
     "name": "stderr",
     "output_type": "stream",
     "text": [
      "Training Epoch 222/400: 100%|██████████| 36/36 [00:03<00:00, 11.51batch/s, accuracy=55.5, loss=0.00715]\n"
     ]
    },
    {
     "name": "stdout",
     "output_type": "stream",
     "text": [
      "current loss: 0.0074478454060024684, current accuracy: 0.2881944444444444\n"
     ]
    },
    {
     "name": "stderr",
     "output_type": "stream",
     "text": [
      "Training Epoch 223/400: 100%|██████████| 36/36 [00:03<00:00, 10.91batch/s, accuracy=51.6, loss=0.00723]\n"
     ]
    },
    {
     "name": "stdout",
     "output_type": "stream",
     "text": [
      "current loss: 0.0075238462951448225, current accuracy: 0.2951388888888889\n"
     ]
    },
    {
     "name": "stderr",
     "output_type": "stream",
     "text": [
      "Training Epoch 224/400: 100%|██████████| 36/36 [00:03<00:00, 10.64batch/s, accuracy=55.5, loss=0.00719]\n"
     ]
    },
    {
     "name": "stdout",
     "output_type": "stream",
     "text": [
      "current loss: 0.00748196327024036, current accuracy: 0.2916666666666667\n"
     ]
    },
    {
     "name": "stderr",
     "output_type": "stream",
     "text": [
      "Training Epoch 225/400: 100%|██████████| 36/36 [00:03<00:00, 10.60batch/s, accuracy=42.2, loss=0.00739]\n"
     ]
    },
    {
     "name": "stdout",
     "output_type": "stream",
     "text": [
      "current loss: 0.007424573103586833, current accuracy: 0.2881944444444444\n"
     ]
    },
    {
     "name": "stderr",
     "output_type": "stream",
     "text": [
      "Training Epoch 226/400: 100%|██████████| 36/36 [00:03<00:00, 10.62batch/s, accuracy=50, loss=0.00718]  \n"
     ]
    },
    {
     "name": "stdout",
     "output_type": "stream",
     "text": [
      "current loss: 0.0074540070361561244, current accuracy: 0.2847222222222222\n"
     ]
    },
    {
     "name": "stderr",
     "output_type": "stream",
     "text": [
      "Training Epoch 227/400: 100%|██████████| 36/36 [00:03<00:00, 10.59batch/s, accuracy=53.1, loss=0.00751]\n"
     ]
    },
    {
     "name": "stdout",
     "output_type": "stream",
     "text": [
      "current loss: 0.007454595632023281, current accuracy: 0.2986111111111111\n"
     ]
    },
    {
     "name": "stderr",
     "output_type": "stream",
     "text": [
      "Training Epoch 228/400: 100%|██████████| 36/36 [00:03<00:00, 10.41batch/s, accuracy=53.1, loss=0.00754]\n"
     ]
    },
    {
     "name": "stdout",
     "output_type": "stream",
     "text": [
      "current loss: 0.007529291013876597, current accuracy: 0.2916666666666667\n"
     ]
    },
    {
     "name": "stderr",
     "output_type": "stream",
     "text": [
      "Training Epoch 229/400: 100%|██████████| 36/36 [00:03<00:00, 10.73batch/s, accuracy=43.8, loss=0.00729]\n"
     ]
    },
    {
     "name": "stdout",
     "output_type": "stream",
     "text": [
      "current loss: 0.007645477851231893, current accuracy: 0.2743055555555556\n"
     ]
    },
    {
     "name": "stderr",
     "output_type": "stream",
     "text": [
      "Training Epoch 230/400: 100%|██████████| 36/36 [00:03<00:00, 10.39batch/s, accuracy=57, loss=0.00701]  \n"
     ]
    },
    {
     "name": "stdout",
     "output_type": "stream",
     "text": [
      "current loss: 0.007584537896845076, current accuracy: 0.2847222222222222\n"
     ]
    },
    {
     "name": "stderr",
     "output_type": "stream",
     "text": [
      "Training Epoch 231/400: 100%|██████████| 36/36 [00:03<00:00, 10.52batch/s, accuracy=54.7, loss=0.0072] \n"
     ]
    },
    {
     "name": "stdout",
     "output_type": "stream",
     "text": [
      "current loss: 0.007565524015161727, current accuracy: 0.2847222222222222\n"
     ]
    },
    {
     "name": "stderr",
     "output_type": "stream",
     "text": [
      "Training Epoch 232/400: 100%|██████████| 36/36 [00:03<00:00, 10.23batch/s, accuracy=53.9, loss=0.00743]\n"
     ]
    },
    {
     "name": "stdout",
     "output_type": "stream",
     "text": [
      "current loss: 0.007516506645414565, current accuracy: 0.2951388888888889\n"
     ]
    },
    {
     "name": "stderr",
     "output_type": "stream",
     "text": [
      "Training Epoch 233/400: 100%|██████████| 36/36 [00:03<00:00, 10.40batch/s, accuracy=52.3, loss=0.00771]\n"
     ]
    },
    {
     "name": "stdout",
     "output_type": "stream",
     "text": [
      "current loss: 0.007619547347227733, current accuracy: 0.2881944444444444\n"
     ]
    },
    {
     "name": "stderr",
     "output_type": "stream",
     "text": [
      "Training Epoch 234/400: 100%|██████████| 36/36 [00:03<00:00, 10.43batch/s, accuracy=53.1, loss=0.00735]\n"
     ]
    },
    {
     "name": "stdout",
     "output_type": "stream",
     "text": [
      "current loss: 0.007702274454964532, current accuracy: 0.2847222222222222\n"
     ]
    },
    {
     "name": "stderr",
     "output_type": "stream",
     "text": [
      "Training Epoch 235/400: 100%|██████████| 36/36 [00:03<00:00, 10.47batch/s, accuracy=50, loss=0.0075]   \n"
     ]
    },
    {
     "name": "stdout",
     "output_type": "stream",
     "text": [
      "current loss: 0.007618842853440179, current accuracy: 0.3020833333333333\n"
     ]
    },
    {
     "name": "stderr",
     "output_type": "stream",
     "text": [
      "Training Epoch 236/400: 100%|██████████| 36/36 [00:03<00:00, 10.32batch/s, accuracy=54.7, loss=0.00689]\n"
     ]
    },
    {
     "name": "stdout",
     "output_type": "stream",
     "text": [
      "current loss: 0.007624629471037123, current accuracy: 0.2881944444444444\n"
     ]
    },
    {
     "name": "stderr",
     "output_type": "stream",
     "text": [
      "Training Epoch 237/400: 100%|██████████| 36/36 [00:03<00:00, 10.57batch/s, accuracy=52.3, loss=0.00748]\n"
     ]
    },
    {
     "name": "stdout",
     "output_type": "stream",
     "text": [
      "current loss: 0.0075940026177300345, current accuracy: 0.2951388888888889\n"
     ]
    },
    {
     "name": "stderr",
     "output_type": "stream",
     "text": [
      "Training Epoch 238/400: 100%|██████████| 36/36 [00:03<00:00, 10.52batch/s, accuracy=52.3, loss=0.00728]\n"
     ]
    },
    {
     "name": "stdout",
     "output_type": "stream",
     "text": [
      "current loss: 0.007546549042065938, current accuracy: 0.2881944444444444\n"
     ]
    },
    {
     "name": "stderr",
     "output_type": "stream",
     "text": [
      "Training Epoch 239/400: 100%|██████████| 36/36 [00:03<00:00, 10.37batch/s, accuracy=52.3, loss=0.00716]\n"
     ]
    },
    {
     "name": "stdout",
     "output_type": "stream",
     "text": [
      "current loss: 0.007607413662804497, current accuracy: 0.2951388888888889\n"
     ]
    },
    {
     "name": "stderr",
     "output_type": "stream",
     "text": [
      "Training Epoch 240/400: 100%|██████████| 36/36 [00:03<00:00, 10.52batch/s, accuracy=51.6, loss=0.00729]\n"
     ]
    },
    {
     "name": "stdout",
     "output_type": "stream",
     "text": [
      "current loss: 0.007554206583234999, current accuracy: 0.2951388888888889\n"
     ]
    },
    {
     "name": "stderr",
     "output_type": "stream",
     "text": [
      "Training Epoch 241/400: 100%|██████████| 36/36 [00:03<00:00, 10.54batch/s, accuracy=54.7, loss=0.00725]\n"
     ]
    },
    {
     "name": "stdout",
     "output_type": "stream",
     "text": [
      "current loss: 0.0076605114671919085, current accuracy: 0.28125\n"
     ]
    },
    {
     "name": "stderr",
     "output_type": "stream",
     "text": [
      "Training Epoch 242/400: 100%|██████████| 36/36 [00:03<00:00, 10.35batch/s, accuracy=53.9, loss=0.00727]\n"
     ]
    },
    {
     "name": "stdout",
     "output_type": "stream",
     "text": [
      "current loss: 0.007649968895647261, current accuracy: 0.2881944444444444\n"
     ]
    },
    {
     "name": "stderr",
     "output_type": "stream",
     "text": [
      "Training Epoch 243/400: 100%|██████████| 36/36 [00:03<00:00, 10.15batch/s, accuracy=57, loss=0.00722]  \n"
     ]
    },
    {
     "name": "stdout",
     "output_type": "stream",
     "text": [
      "current loss: 0.00768425895108117, current accuracy: 0.2951388888888889\n"
     ]
    },
    {
     "name": "stderr",
     "output_type": "stream",
     "text": [
      "Training Epoch 244/400: 100%|██████████| 36/36 [00:03<00:00, 10.51batch/s, accuracy=46.1, loss=0.00713]\n"
     ]
    },
    {
     "name": "stdout",
     "output_type": "stream",
     "text": [
      "current loss: 0.007777668535709381, current accuracy: 0.2847222222222222\n"
     ]
    },
    {
     "name": "stderr",
     "output_type": "stream",
     "text": [
      "Training Epoch 245/400: 100%|██████████| 36/36 [00:03<00:00, 10.39batch/s, accuracy=46.9, loss=0.00707]\n"
     ]
    },
    {
     "name": "stdout",
     "output_type": "stream",
     "text": [
      "current loss: 0.0076471467812856036, current accuracy: 0.2881944444444444\n"
     ]
    },
    {
     "name": "stderr",
     "output_type": "stream",
     "text": [
      "Training Epoch 246/400: 100%|██████████| 36/36 [00:03<00:00, 10.42batch/s, accuracy=56.2, loss=0.00727]\n"
     ]
    },
    {
     "name": "stdout",
     "output_type": "stream",
     "text": [
      "current loss: 0.007598496973514557, current accuracy: 0.2951388888888889\n"
     ]
    },
    {
     "name": "stderr",
     "output_type": "stream",
     "text": [
      "Training Epoch 247/400: 100%|██████████| 36/36 [00:03<00:00, 10.45batch/s, accuracy=48.4, loss=0.00715]\n"
     ]
    },
    {
     "name": "stdout",
     "output_type": "stream",
     "text": [
      "current loss: 0.007672430740462409, current accuracy: 0.2777777777777778\n"
     ]
    },
    {
     "name": "stderr",
     "output_type": "stream",
     "text": [
      "Training Epoch 248/400: 100%|██████████| 36/36 [00:03<00:00, 10.51batch/s, accuracy=53.1, loss=0.00751]\n"
     ]
    },
    {
     "name": "stdout",
     "output_type": "stream",
     "text": [
      "current loss: 0.007692006727059682, current accuracy: 0.2847222222222222\n"
     ]
    },
    {
     "name": "stderr",
     "output_type": "stream",
     "text": [
      "Training Epoch 249/400: 100%|██████████| 36/36 [00:03<00:00, 10.54batch/s, accuracy=53.9, loss=0.00723]\n"
     ]
    },
    {
     "name": "stdout",
     "output_type": "stream",
     "text": [
      "current loss: 0.007680488957299126, current accuracy: 0.2916666666666667\n"
     ]
    },
    {
     "name": "stderr",
     "output_type": "stream",
     "text": [
      "Training Epoch 250/400: 100%|██████████| 36/36 [00:03<00:00, 10.57batch/s, accuracy=57, loss=0.00717]  \n"
     ]
    },
    {
     "name": "stdout",
     "output_type": "stream",
     "text": [
      "current loss: 0.007812817891438803, current accuracy: 0.3055555555555556\n"
     ]
    },
    {
     "name": "stderr",
     "output_type": "stream",
     "text": [
      "Training Epoch 251/400: 100%|██████████| 36/36 [00:03<00:00, 10.74batch/s, accuracy=57.8, loss=0.0072] \n"
     ]
    },
    {
     "name": "stdout",
     "output_type": "stream",
     "text": [
      "current loss: 0.007827841573291354, current accuracy: 0.2916666666666667\n"
     ]
    },
    {
     "name": "stderr",
     "output_type": "stream",
     "text": [
      "Training Epoch 252/400: 100%|██████████| 36/36 [00:03<00:00, 10.50batch/s, accuracy=50, loss=0.00708]  \n"
     ]
    },
    {
     "name": "stdout",
     "output_type": "stream",
     "text": [
      "current loss: 0.00791493554910024, current accuracy: 0.2777777777777778\n"
     ]
    },
    {
     "name": "stderr",
     "output_type": "stream",
     "text": [
      "Training Epoch 253/400: 100%|██████████| 36/36 [00:03<00:00, 10.61batch/s, accuracy=54.7, loss=0.00715]\n"
     ]
    },
    {
     "name": "stdout",
     "output_type": "stream",
     "text": [
      "current loss: 0.007799741294648912, current accuracy: 0.2916666666666667\n"
     ]
    },
    {
     "name": "stderr",
     "output_type": "stream",
     "text": [
      "Training Epoch 254/400: 100%|██████████| 36/36 [00:03<00:00, 10.84batch/s, accuracy=55.5, loss=0.0069] \n"
     ]
    },
    {
     "name": "stdout",
     "output_type": "stream",
     "text": [
      "current loss: 0.007855479915936789, current accuracy: 0.2881944444444444\n"
     ]
    },
    {
     "name": "stderr",
     "output_type": "stream",
     "text": [
      "Training Epoch 255/400: 100%|██████████| 36/36 [00:03<00:00, 10.73batch/s, accuracy=53.1, loss=0.00743]\n"
     ]
    },
    {
     "name": "stdout",
     "output_type": "stream",
     "text": [
      "current loss: 0.008017735348807441, current accuracy: 0.28125\n"
     ]
    },
    {
     "name": "stderr",
     "output_type": "stream",
     "text": [
      "Training Epoch 256/400: 100%|██████████| 36/36 [00:03<00:00, 10.66batch/s, accuracy=55.5, loss=0.00716]\n"
     ]
    },
    {
     "name": "stdout",
     "output_type": "stream",
     "text": [
      "current loss: 0.007780219945642684, current accuracy: 0.28125\n"
     ]
    },
    {
     "name": "stderr",
     "output_type": "stream",
     "text": [
      "Training Epoch 257/400: 100%|██████████| 36/36 [00:03<00:00, 10.56batch/s, accuracy=50.8, loss=0.00725]\n"
     ]
    },
    {
     "name": "stdout",
     "output_type": "stream",
     "text": [
      "current loss: 0.007818118565612368, current accuracy: 0.28125\n"
     ]
    },
    {
     "name": "stderr",
     "output_type": "stream",
     "text": [
      "Training Epoch 258/400: 100%|██████████| 36/36 [00:03<00:00, 10.81batch/s, accuracy=57, loss=0.00744]  \n"
     ]
    },
    {
     "name": "stdout",
     "output_type": "stream",
     "text": [
      "current loss: 0.007857738269699944, current accuracy: 0.2881944444444444\n"
     ]
    },
    {
     "name": "stderr",
     "output_type": "stream",
     "text": [
      "Training Epoch 259/400: 100%|██████████| 36/36 [00:03<00:00, 10.70batch/s, accuracy=57.8, loss=0.00725]\n"
     ]
    },
    {
     "name": "stdout",
     "output_type": "stream",
     "text": [
      "current loss: 0.007835670477814145, current accuracy: 0.2951388888888889\n"
     ]
    },
    {
     "name": "stderr",
     "output_type": "stream",
     "text": [
      "Training Epoch 260/400: 100%|██████████| 36/36 [00:03<00:00, 10.47batch/s, accuracy=60.2, loss=0.0069] \n"
     ]
    },
    {
     "name": "stdout",
     "output_type": "stream",
     "text": [
      "current loss: 0.007932054499785105, current accuracy: 0.2777777777777778\n"
     ]
    },
    {
     "name": "stderr",
     "output_type": "stream",
     "text": [
      "Training Epoch 261/400: 100%|██████████| 36/36 [00:03<00:00, 10.45batch/s, accuracy=52.3, loss=0.00714]\n"
     ]
    },
    {
     "name": "stdout",
     "output_type": "stream",
     "text": [
      "current loss: 0.007888648245069716, current accuracy: 0.2916666666666667\n"
     ]
    },
    {
     "name": "stderr",
     "output_type": "stream",
     "text": [
      "Training Epoch 262/400: 100%|██████████| 36/36 [00:03<00:00, 10.47batch/s, accuracy=52.3, loss=0.00714]\n"
     ]
    },
    {
     "name": "stdout",
     "output_type": "stream",
     "text": [
      "current loss: 0.007953464984893799, current accuracy: 0.2916666666666667\n"
     ]
    },
    {
     "name": "stderr",
     "output_type": "stream",
     "text": [
      "Training Epoch 263/400: 100%|██████████| 36/36 [00:03<00:00, 10.74batch/s, accuracy=57, loss=0.00718]  \n"
     ]
    },
    {
     "name": "stdout",
     "output_type": "stream",
     "text": [
      "current loss: 0.007876969046062894, current accuracy: 0.2881944444444444\n"
     ]
    },
    {
     "name": "stderr",
     "output_type": "stream",
     "text": [
      "Training Epoch 264/400: 100%|██████████| 36/36 [00:03<00:00, 10.43batch/s, accuracy=57.8, loss=0.00701]\n"
     ]
    },
    {
     "name": "stdout",
     "output_type": "stream",
     "text": [
      "current loss: 0.00796996470954683, current accuracy: 0.2847222222222222\n"
     ]
    },
    {
     "name": "stderr",
     "output_type": "stream",
     "text": [
      "Training Epoch 265/400: 100%|██████████| 36/36 [00:03<00:00, 10.29batch/s, accuracy=50, loss=0.00763]  \n"
     ]
    },
    {
     "name": "stdout",
     "output_type": "stream",
     "text": [
      "current loss: 0.007916892568270365, current accuracy: 0.2986111111111111\n"
     ]
    },
    {
     "name": "stderr",
     "output_type": "stream",
     "text": [
      "Training Epoch 266/400: 100%|██████████| 36/36 [00:03<00:00, 11.11batch/s, accuracy=55.5, loss=0.00699]\n"
     ]
    },
    {
     "name": "stdout",
     "output_type": "stream",
     "text": [
      "current loss: 0.007921662595536973, current accuracy: 0.2777777777777778\n"
     ]
    },
    {
     "name": "stderr",
     "output_type": "stream",
     "text": [
      "Training Epoch 267/400: 100%|██████████| 36/36 [00:03<00:00, 10.99batch/s, accuracy=49.2, loss=0.00729]\n"
     ]
    },
    {
     "name": "stdout",
     "output_type": "stream",
     "text": [
      "current loss: 0.008000559277004667, current accuracy: 0.2916666666666667\n"
     ]
    },
    {
     "name": "stderr",
     "output_type": "stream",
     "text": [
      "Training Epoch 268/400: 100%|██████████| 36/36 [00:03<00:00, 11.28batch/s, accuracy=51.6, loss=0.00697]\n"
     ]
    },
    {
     "name": "stdout",
     "output_type": "stream",
     "text": [
      "current loss: 0.008007607526249357, current accuracy: 0.28125\n"
     ]
    },
    {
     "name": "stderr",
     "output_type": "stream",
     "text": [
      "Training Epoch 269/400: 100%|██████████| 36/36 [00:03<00:00, 11.71batch/s, accuracy=57.8, loss=0.00681]\n"
     ]
    },
    {
     "name": "stdout",
     "output_type": "stream",
     "text": [
      "current loss: 0.008010900682873197, current accuracy: 0.3055555555555556\n"
     ]
    },
    {
     "name": "stderr",
     "output_type": "stream",
     "text": [
      "Training Epoch 270/400: 100%|██████████| 36/36 [00:02<00:00, 12.01batch/s, accuracy=60.9, loss=0.00707]\n"
     ]
    },
    {
     "name": "stdout",
     "output_type": "stream",
     "text": [
      "current loss: 0.008132304582330916, current accuracy: 0.2777777777777778\n"
     ]
    },
    {
     "name": "stderr",
     "output_type": "stream",
     "text": [
      "Training Epoch 271/400: 100%|██████████| 36/36 [00:03<00:00, 10.95batch/s, accuracy=54.7, loss=0.00727]\n"
     ]
    },
    {
     "name": "stdout",
     "output_type": "stream",
     "text": [
      "current loss: 0.008110358483261533, current accuracy: 0.2847222222222222\n"
     ]
    },
    {
     "name": "stderr",
     "output_type": "stream",
     "text": [
      "Training Epoch 272/400: 100%|██████████| 36/36 [00:03<00:00, 10.83batch/s, accuracy=53.9, loss=0.0071] \n"
     ]
    },
    {
     "name": "stdout",
     "output_type": "stream",
     "text": [
      "current loss: 0.008137183884779612, current accuracy: 0.2881944444444444\n"
     ]
    },
    {
     "name": "stderr",
     "output_type": "stream",
     "text": [
      "Training Epoch 273/400: 100%|██████████| 36/36 [00:03<00:00, 10.81batch/s, accuracy=51.6, loss=0.00723]\n"
     ]
    },
    {
     "name": "stdout",
     "output_type": "stream",
     "text": [
      "current loss: 0.007964917355113559, current accuracy: 0.2881944444444444\n"
     ]
    },
    {
     "name": "stderr",
     "output_type": "stream",
     "text": [
      "Training Epoch 274/400: 100%|██████████| 36/36 [00:03<00:00, 10.88batch/s, accuracy=57, loss=0.00707]  \n"
     ]
    },
    {
     "name": "stdout",
     "output_type": "stream",
     "text": [
      "current loss: 0.00809925546248754, current accuracy: 0.2777777777777778\n"
     ]
    },
    {
     "name": "stderr",
     "output_type": "stream",
     "text": [
      "Training Epoch 275/400: 100%|██████████| 36/36 [00:03<00:00, 10.86batch/s, accuracy=56.2, loss=0.007]  \n"
     ]
    },
    {
     "name": "stdout",
     "output_type": "stream",
     "text": [
      "current loss: 0.008086110982629988, current accuracy: 0.2916666666666667\n"
     ]
    },
    {
     "name": "stderr",
     "output_type": "stream",
     "text": [
      "Training Epoch 276/400: 100%|██████████| 36/36 [00:03<00:00, 10.74batch/s, accuracy=52.3, loss=0.00722]\n"
     ]
    },
    {
     "name": "stdout",
     "output_type": "stream",
     "text": [
      "current loss: 0.00811598946650823, current accuracy: 0.2916666666666667\n"
     ]
    },
    {
     "name": "stderr",
     "output_type": "stream",
     "text": [
      "Training Epoch 277/400: 100%|██████████| 36/36 [00:03<00:00, 10.77batch/s, accuracy=49.2, loss=0.00753]\n"
     ]
    },
    {
     "name": "stdout",
     "output_type": "stream",
     "text": [
      "current loss: 0.008065287437703874, current accuracy: 0.2847222222222222\n"
     ]
    },
    {
     "name": "stderr",
     "output_type": "stream",
     "text": [
      "Training Epoch 278/400: 100%|██████████| 36/36 [00:03<00:00, 10.60batch/s, accuracy=53.9, loss=0.00716]\n"
     ]
    },
    {
     "name": "stdout",
     "output_type": "stream",
     "text": [
      "current loss: 0.008016025026639303, current accuracy: 0.28125\n"
     ]
    },
    {
     "name": "stderr",
     "output_type": "stream",
     "text": [
      "Training Epoch 279/400: 100%|██████████| 36/36 [00:03<00:00, 10.79batch/s, accuracy=45.3, loss=0.00707]\n"
     ]
    },
    {
     "name": "stdout",
     "output_type": "stream",
     "text": [
      "current loss: 0.008007841805617014, current accuracy: 0.2743055555555556\n"
     ]
    },
    {
     "name": "stderr",
     "output_type": "stream",
     "text": [
      "Training Epoch 280/400: 100%|██████████| 36/36 [00:03<00:00, 10.72batch/s, accuracy=56.2, loss=0.0071] \n"
     ]
    },
    {
     "name": "stdout",
     "output_type": "stream",
     "text": [
      "current loss: 0.008077319297525618, current accuracy: 0.2777777777777778\n"
     ]
    },
    {
     "name": "stderr",
     "output_type": "stream",
     "text": [
      "Training Epoch 281/400: 100%|██████████| 36/36 [00:03<00:00, 10.58batch/s, accuracy=57.8, loss=0.00719]\n"
     ]
    },
    {
     "name": "stdout",
     "output_type": "stream",
     "text": [
      "current loss: 0.008103228277630277, current accuracy: 0.2847222222222222\n"
     ]
    },
    {
     "name": "stderr",
     "output_type": "stream",
     "text": [
      "Training Epoch 282/400: 100%|██████████| 36/36 [00:03<00:00, 10.50batch/s, accuracy=57, loss=0.00711]  \n"
     ]
    },
    {
     "name": "stdout",
     "output_type": "stream",
     "text": [
      "current loss: 0.008164743582407633, current accuracy: 0.2916666666666667\n"
     ]
    },
    {
     "name": "stderr",
     "output_type": "stream",
     "text": [
      "Training Epoch 283/400: 100%|██████████| 36/36 [00:03<00:00, 10.51batch/s, accuracy=50, loss=0.00715]  \n"
     ]
    },
    {
     "name": "stdout",
     "output_type": "stream",
     "text": [
      "current loss: 0.00818036413855023, current accuracy: 0.2847222222222222\n"
     ]
    },
    {
     "name": "stderr",
     "output_type": "stream",
     "text": [
      "Training Epoch 284/400: 100%|██████████| 36/36 [00:03<00:00, 10.39batch/s, accuracy=54.7, loss=0.00703]\n"
     ]
    },
    {
     "name": "stdout",
     "output_type": "stream",
     "text": [
      "current loss: 0.008042232029967837, current accuracy: 0.3020833333333333\n"
     ]
    },
    {
     "name": "stderr",
     "output_type": "stream",
     "text": [
      "Training Epoch 285/400: 100%|██████████| 36/36 [00:03<00:00, 10.45batch/s, accuracy=52.3, loss=0.00713]\n"
     ]
    },
    {
     "name": "stdout",
     "output_type": "stream",
     "text": [
      "current loss: 0.008094082276026407, current accuracy: 0.2916666666666667\n"
     ]
    },
    {
     "name": "stderr",
     "output_type": "stream",
     "text": [
      "Training Epoch 286/400: 100%|██████████| 36/36 [00:03<00:00, 10.74batch/s, accuracy=51.6, loss=0.00688]\n"
     ]
    },
    {
     "name": "stdout",
     "output_type": "stream",
     "text": [
      "current loss: 0.008144343892733255, current accuracy: 0.2847222222222222\n"
     ]
    },
    {
     "name": "stderr",
     "output_type": "stream",
     "text": [
      "Training Epoch 287/400: 100%|██████████| 36/36 [00:03<00:00, 10.60batch/s, accuracy=55.5, loss=0.00708]\n"
     ]
    },
    {
     "name": "stdout",
     "output_type": "stream",
     "text": [
      "current loss: 0.008157096803188324, current accuracy: 0.2847222222222222\n"
     ]
    },
    {
     "name": "stderr",
     "output_type": "stream",
     "text": [
      "Training Epoch 288/400: 100%|██████████| 36/36 [00:03<00:00, 10.54batch/s, accuracy=60.9, loss=0.00682]\n"
     ]
    },
    {
     "name": "stdout",
     "output_type": "stream",
     "text": [
      "current loss: 0.008196338183350034, current accuracy: 0.2743055555555556\n"
     ]
    },
    {
     "name": "stderr",
     "output_type": "stream",
     "text": [
      "Training Epoch 289/400: 100%|██████████| 36/36 [00:03<00:00, 11.11batch/s, accuracy=53.1, loss=0.00687]\n"
     ]
    },
    {
     "name": "stdout",
     "output_type": "stream",
     "text": [
      "current loss: 0.00820300645298428, current accuracy: 0.28125\n"
     ]
    },
    {
     "name": "stderr",
     "output_type": "stream",
     "text": [
      "Training Epoch 290/400: 100%|██████████| 36/36 [00:03<00:00, 11.66batch/s, accuracy=53.9, loss=0.00695]\n"
     ]
    },
    {
     "name": "stdout",
     "output_type": "stream",
     "text": [
      "current loss: 0.008279187811745537, current accuracy: 0.2847222222222222\n"
     ]
    },
    {
     "name": "stderr",
     "output_type": "stream",
     "text": [
      "Training Epoch 291/400: 100%|██████████| 36/36 [00:03<00:00, 11.37batch/s, accuracy=53.1, loss=0.00708]\n"
     ]
    },
    {
     "name": "stdout",
     "output_type": "stream",
     "text": [
      "current loss: 0.008241385221481323, current accuracy: 0.2881944444444444\n"
     ]
    },
    {
     "name": "stderr",
     "output_type": "stream",
     "text": [
      "Training Epoch 292/400: 100%|██████████| 36/36 [00:03<00:00, 11.76batch/s, accuracy=50.8, loss=0.00744]\n"
     ]
    },
    {
     "name": "stdout",
     "output_type": "stream",
     "text": [
      "current loss: 0.008273464110162523, current accuracy: 0.2916666666666667\n"
     ]
    },
    {
     "name": "stderr",
     "output_type": "stream",
     "text": [
      "Training Epoch 293/400: 100%|██████████| 36/36 [00:03<00:00, 11.25batch/s, accuracy=53.1, loss=0.00701]\n"
     ]
    },
    {
     "name": "stdout",
     "output_type": "stream",
     "text": [
      "current loss: 0.00808885610765881, current accuracy: 0.2743055555555556\n"
     ]
    },
    {
     "name": "stderr",
     "output_type": "stream",
     "text": [
      "Training Epoch 294/400: 100%|██████████| 36/36 [00:03<00:00, 11.37batch/s, accuracy=53.1, loss=0.00724]\n"
     ]
    },
    {
     "name": "stdout",
     "output_type": "stream",
     "text": [
      "current loss: 0.008163939747545455, current accuracy: 0.2743055555555556\n"
     ]
    },
    {
     "name": "stderr",
     "output_type": "stream",
     "text": [
      "Training Epoch 295/400: 100%|██████████| 36/36 [00:03<00:00, 10.79batch/s, accuracy=57.8, loss=0.0069] \n"
     ]
    },
    {
     "name": "stdout",
     "output_type": "stream",
     "text": [
      "current loss: 0.008212282425827451, current accuracy: 0.2777777777777778\n"
     ]
    },
    {
     "name": "stderr",
     "output_type": "stream",
     "text": [
      "Training Epoch 296/400: 100%|██████████| 36/36 [00:03<00:00, 10.79batch/s, accuracy=53.9, loss=0.00685]\n"
     ]
    },
    {
     "name": "stdout",
     "output_type": "stream",
     "text": [
      "current loss: 0.008234446247418722, current accuracy: 0.2777777777777778\n"
     ]
    },
    {
     "name": "stderr",
     "output_type": "stream",
     "text": [
      "Training Epoch 297/400: 100%|██████████| 36/36 [00:03<00:00, 10.73batch/s, accuracy=57, loss=0.00699]  \n"
     ]
    },
    {
     "name": "stdout",
     "output_type": "stream",
     "text": [
      "current loss: 0.00823927339580324, current accuracy: 0.2743055555555556\n"
     ]
    },
    {
     "name": "stderr",
     "output_type": "stream",
     "text": [
      "Training Epoch 298/400: 100%|██████████| 36/36 [00:03<00:00, 10.44batch/s, accuracy=49.2, loss=0.00715]\n"
     ]
    },
    {
     "name": "stdout",
     "output_type": "stream",
     "text": [
      "current loss: 0.008232649829652574, current accuracy: 0.2708333333333333\n"
     ]
    },
    {
     "name": "stderr",
     "output_type": "stream",
     "text": [
      "Training Epoch 299/400: 100%|██████████| 36/36 [00:03<00:00, 10.44batch/s, accuracy=50.8, loss=0.00713]\n"
     ]
    },
    {
     "name": "stdout",
     "output_type": "stream",
     "text": [
      "current loss: 0.008291517694791159, current accuracy: 0.2743055555555556\n"
     ]
    },
    {
     "name": "stderr",
     "output_type": "stream",
     "text": [
      "Training Epoch 300/400: 100%|██████████| 36/36 [00:03<00:00, 10.48batch/s, accuracy=55.5, loss=0.00694]\n"
     ]
    },
    {
     "name": "stdout",
     "output_type": "stream",
     "text": [
      "current loss: 0.008494910266664293, current accuracy: 0.28125\n"
     ]
    },
    {
     "name": "stderr",
     "output_type": "stream",
     "text": [
      "Training Epoch 301/400: 100%|██████████| 36/36 [00:03<00:00,  9.92batch/s, accuracy=61.7, loss=0.00711]\n"
     ]
    },
    {
     "name": "stdout",
     "output_type": "stream",
     "text": [
      "current loss: 0.008336845371458266, current accuracy: 0.2847222222222222\n"
     ]
    },
    {
     "name": "stderr",
     "output_type": "stream",
     "text": [
      "Training Epoch 302/400: 100%|██████████| 36/36 [00:03<00:00, 10.45batch/s, accuracy=50, loss=0.00694]  \n"
     ]
    },
    {
     "name": "stdout",
     "output_type": "stream",
     "text": [
      "current loss: 0.008228016396363577, current accuracy: 0.28125\n"
     ]
    },
    {
     "name": "stderr",
     "output_type": "stream",
     "text": [
      "Training Epoch 303/400: 100%|██████████| 36/36 [00:03<00:00, 10.45batch/s, accuracy=53.9, loss=0.00725]\n"
     ]
    },
    {
     "name": "stdout",
     "output_type": "stream",
     "text": [
      "current loss: 0.008319117956691317, current accuracy: 0.2881944444444444\n"
     ]
    },
    {
     "name": "stderr",
     "output_type": "stream",
     "text": [
      "Training Epoch 304/400: 100%|██████████| 36/36 [00:03<00:00, 10.54batch/s, accuracy=65.6, loss=0.00693]\n"
     ]
    },
    {
     "name": "stdout",
     "output_type": "stream",
     "text": [
      "current loss: 0.008214193913671706, current accuracy: 0.2916666666666667\n"
     ]
    },
    {
     "name": "stderr",
     "output_type": "stream",
     "text": [
      "Training Epoch 305/400: 100%|██████████| 36/36 [00:03<00:00, 10.57batch/s, accuracy=60.2, loss=0.00691]\n"
     ]
    },
    {
     "name": "stdout",
     "output_type": "stream",
     "text": [
      "current loss: 0.008297929333315955, current accuracy: 0.2986111111111111\n"
     ]
    },
    {
     "name": "stderr",
     "output_type": "stream",
     "text": [
      "Training Epoch 306/400: 100%|██████████| 36/36 [00:03<00:00, 10.31batch/s, accuracy=57.8, loss=0.00702]\n"
     ]
    },
    {
     "name": "stdout",
     "output_type": "stream",
     "text": [
      "current loss: 0.008288603689935472, current accuracy: 0.2916666666666667\n"
     ]
    },
    {
     "name": "stderr",
     "output_type": "stream",
     "text": [
      "Training Epoch 307/400: 100%|██████████| 36/36 [00:03<00:00, 10.50batch/s, accuracy=60.2, loss=0.00696]\n"
     ]
    },
    {
     "name": "stdout",
     "output_type": "stream",
     "text": [
      "current loss: 0.008142317334810892, current accuracy: 0.2881944444444444\n"
     ]
    },
    {
     "name": "stderr",
     "output_type": "stream",
     "text": [
      "Training Epoch 308/400: 100%|██████████| 36/36 [00:03<00:00, 10.34batch/s, accuracy=56.2, loss=0.00698]\n"
     ]
    },
    {
     "name": "stdout",
     "output_type": "stream",
     "text": [
      "current loss: 0.008189142578177981, current accuracy: 0.2777777777777778\n"
     ]
    },
    {
     "name": "stderr",
     "output_type": "stream",
     "text": [
      "Training Epoch 309/400: 100%|██████████| 36/36 [00:03<00:00, 10.47batch/s, accuracy=57.8, loss=0.00674]\n"
     ]
    },
    {
     "name": "stdout",
     "output_type": "stream",
     "text": [
      "current loss: 0.00839954117933909, current accuracy: 0.2916666666666667\n"
     ]
    },
    {
     "name": "stderr",
     "output_type": "stream",
     "text": [
      "Training Epoch 310/400: 100%|██████████| 36/36 [00:03<00:00, 10.37batch/s, accuracy=60.2, loss=0.00693]\n"
     ]
    },
    {
     "name": "stdout",
     "output_type": "stream",
     "text": [
      "current loss: 0.008431373371018304, current accuracy: 0.28125\n"
     ]
    },
    {
     "name": "stderr",
     "output_type": "stream",
     "text": [
      "Training Epoch 311/400: 100%|██████████| 36/36 [00:03<00:00, 10.37batch/s, accuracy=53.9, loss=0.00686]\n"
     ]
    },
    {
     "name": "stdout",
     "output_type": "stream",
     "text": [
      "current loss: 0.008351950181855096, current accuracy: 0.2743055555555556\n"
     ]
    },
    {
     "name": "stderr",
     "output_type": "stream",
     "text": [
      "Training Epoch 312/400: 100%|██████████| 36/36 [00:03<00:00, 10.54batch/s, accuracy=62.5, loss=0.00661]\n"
     ]
    },
    {
     "name": "stdout",
     "output_type": "stream",
     "text": [
      "current loss: 0.008474437726868523, current accuracy: 0.28125\n"
     ]
    },
    {
     "name": "stderr",
     "output_type": "stream",
     "text": [
      "Training Epoch 313/400: 100%|██████████| 36/36 [00:03<00:00, 10.57batch/s, accuracy=53.9, loss=0.00683]\n"
     ]
    },
    {
     "name": "stdout",
     "output_type": "stream",
     "text": [
      "current loss: 0.008575755688879225, current accuracy: 0.2777777777777778\n"
     ]
    },
    {
     "name": "stderr",
     "output_type": "stream",
     "text": [
      "Training Epoch 314/400: 100%|██████████| 36/36 [00:03<00:00, 10.80batch/s, accuracy=59.4, loss=0.00681]\n"
     ]
    },
    {
     "name": "stdout",
     "output_type": "stream",
     "text": [
      "current loss: 0.008358157343334623, current accuracy: 0.2708333333333333\n"
     ]
    },
    {
     "name": "stderr",
     "output_type": "stream",
     "text": [
      "Training Epoch 315/400: 100%|██████████| 36/36 [00:03<00:00, 10.74batch/s, accuracy=50.8, loss=0.00695]\n"
     ]
    },
    {
     "name": "stdout",
     "output_type": "stream",
     "text": [
      "current loss: 0.008423998124069638, current accuracy: 0.2743055555555556\n"
     ]
    },
    {
     "name": "stderr",
     "output_type": "stream",
     "text": [
      "Training Epoch 316/400: 100%|██████████| 36/36 [00:03<00:00, 10.78batch/s, accuracy=55.5, loss=0.00686]\n"
     ]
    },
    {
     "name": "stdout",
     "output_type": "stream",
     "text": [
      "current loss: 0.008434602783785926, current accuracy: 0.2743055555555556\n"
     ]
    },
    {
     "name": "stderr",
     "output_type": "stream",
     "text": [
      "Training Epoch 317/400: 100%|██████████| 36/36 [00:03<00:00, 10.74batch/s, accuracy=53.1, loss=0.00684]\n"
     ]
    },
    {
     "name": "stdout",
     "output_type": "stream",
     "text": [
      "current loss: 0.008499192694822947, current accuracy: 0.2847222222222222\n"
     ]
    },
    {
     "name": "stderr",
     "output_type": "stream",
     "text": [
      "Training Epoch 318/400: 100%|██████████| 36/36 [00:03<00:00, 10.69batch/s, accuracy=59.4, loss=0.00701]\n"
     ]
    },
    {
     "name": "stdout",
     "output_type": "stream",
     "text": [
      "current loss: 0.008412952224413553, current accuracy: 0.2986111111111111\n"
     ]
    },
    {
     "name": "stderr",
     "output_type": "stream",
     "text": [
      "Training Epoch 319/400: 100%|██████████| 36/36 [00:03<00:00, 10.82batch/s, accuracy=51.6, loss=0.00701]\n"
     ]
    },
    {
     "name": "stdout",
     "output_type": "stream",
     "text": [
      "current loss: 0.00851243320438597, current accuracy: 0.2951388888888889\n"
     ]
    },
    {
     "name": "stderr",
     "output_type": "stream",
     "text": [
      "Training Epoch 320/400: 100%|██████████| 36/36 [00:03<00:00, 10.81batch/s, accuracy=54.7, loss=0.00707]\n"
     ]
    },
    {
     "name": "stdout",
     "output_type": "stream",
     "text": [
      "current loss: 0.008612228764428033, current accuracy: 0.2847222222222222\n"
     ]
    },
    {
     "name": "stderr",
     "output_type": "stream",
     "text": [
      "Training Epoch 321/400: 100%|██████████| 36/36 [00:03<00:00, 10.77batch/s, accuracy=60.9, loss=0.00658]\n"
     ]
    },
    {
     "name": "stdout",
     "output_type": "stream",
     "text": [
      "current loss: 0.008576369120015038, current accuracy: 0.28125\n"
     ]
    },
    {
     "name": "stderr",
     "output_type": "stream",
     "text": [
      "Training Epoch 322/400: 100%|██████████| 36/36 [00:03<00:00, 10.93batch/s, accuracy=55.5, loss=0.00699]\n"
     ]
    },
    {
     "name": "stdout",
     "output_type": "stream",
     "text": [
      "current loss: 0.00855275160736508, current accuracy: 0.2951388888888889\n"
     ]
    },
    {
     "name": "stderr",
     "output_type": "stream",
     "text": [
      "Training Epoch 323/400: 100%|██████████| 36/36 [00:03<00:00, 10.98batch/s, accuracy=56.2, loss=0.00698]\n"
     ]
    },
    {
     "name": "stdout",
     "output_type": "stream",
     "text": [
      "current loss: 0.008611661692460379, current accuracy: 0.3020833333333333\n"
     ]
    },
    {
     "name": "stderr",
     "output_type": "stream",
     "text": [
      "Training Epoch 324/400: 100%|██████████| 36/36 [00:03<00:00, 10.80batch/s, accuracy=55.5, loss=0.00717]\n"
     ]
    },
    {
     "name": "stdout",
     "output_type": "stream",
     "text": [
      "current loss: 0.008638291723198362, current accuracy: 0.2881944444444444\n"
     ]
    },
    {
     "name": "stderr",
     "output_type": "stream",
     "text": [
      "Training Epoch 325/400: 100%|██████████| 36/36 [00:03<00:00, 10.85batch/s, accuracy=58.6, loss=0.00696]\n"
     ]
    },
    {
     "name": "stdout",
     "output_type": "stream",
     "text": [
      "current loss: 0.00855154875251982, current accuracy: 0.2916666666666667\n"
     ]
    },
    {
     "name": "stderr",
     "output_type": "stream",
     "text": [
      "Training Epoch 326/400: 100%|██████████| 36/36 [00:03<00:00, 10.85batch/s, accuracy=53.9, loss=0.0071] \n"
     ]
    },
    {
     "name": "stdout",
     "output_type": "stream",
     "text": [
      "current loss: 0.008550142248471579, current accuracy: 0.2881944444444444\n"
     ]
    },
    {
     "name": "stderr",
     "output_type": "stream",
     "text": [
      "Training Epoch 327/400: 100%|██████████| 36/36 [00:03<00:00, 10.82batch/s, accuracy=50, loss=0.00709]  \n"
     ]
    },
    {
     "name": "stdout",
     "output_type": "stream",
     "text": [
      "current loss: 0.008616536027855344, current accuracy: 0.2743055555555556\n"
     ]
    },
    {
     "name": "stderr",
     "output_type": "stream",
     "text": [
      "Training Epoch 328/400: 100%|██████████| 36/36 [00:03<00:00, 10.77batch/s, accuracy=57, loss=0.00719]  \n"
     ]
    },
    {
     "name": "stdout",
     "output_type": "stream",
     "text": [
      "current loss: 0.008507049745983548, current accuracy: 0.2951388888888889\n"
     ]
    },
    {
     "name": "stderr",
     "output_type": "stream",
     "text": [
      "Training Epoch 329/400: 100%|██████████| 36/36 [00:03<00:00, 10.59batch/s, accuracy=61.7, loss=0.00669]\n"
     ]
    },
    {
     "name": "stdout",
     "output_type": "stream",
     "text": [
      "current loss: 0.008446692592567868, current accuracy: 0.28125\n"
     ]
    },
    {
     "name": "stderr",
     "output_type": "stream",
     "text": [
      "Training Epoch 330/400: 100%|██████████| 36/36 [00:03<00:00, 10.73batch/s, accuracy=56.2, loss=0.00702]\n"
     ]
    },
    {
     "name": "stdout",
     "output_type": "stream",
     "text": [
      "current loss: 0.008546467456552718, current accuracy: 0.28125\n"
     ]
    },
    {
     "name": "stderr",
     "output_type": "stream",
     "text": [
      "Training Epoch 331/400: 100%|██████████| 36/36 [00:03<00:00, 10.72batch/s, accuracy=53.1, loss=0.00712]\n"
     ]
    },
    {
     "name": "stdout",
     "output_type": "stream",
     "text": [
      "current loss: 0.008625989986790551, current accuracy: 0.2743055555555556\n"
     ]
    },
    {
     "name": "stderr",
     "output_type": "stream",
     "text": [
      "Training Epoch 332/400: 100%|██████████| 36/36 [00:03<00:00, 10.84batch/s, accuracy=46.9, loss=0.00685]\n"
     ]
    },
    {
     "name": "stdout",
     "output_type": "stream",
     "text": [
      "current loss: 0.00858475019534429, current accuracy: 0.28125\n"
     ]
    },
    {
     "name": "stderr",
     "output_type": "stream",
     "text": [
      "Training Epoch 333/400: 100%|██████████| 36/36 [00:03<00:00, 10.68batch/s, accuracy=63.3, loss=0.00711]\n"
     ]
    },
    {
     "name": "stdout",
     "output_type": "stream",
     "text": [
      "current loss: 0.008687400155597262, current accuracy: 0.2743055555555556\n"
     ]
    },
    {
     "name": "stderr",
     "output_type": "stream",
     "text": [
      "Training Epoch 334/400: 100%|██████████| 36/36 [00:03<00:00, 10.78batch/s, accuracy=54.7, loss=0.00722]\n"
     ]
    },
    {
     "name": "stdout",
     "output_type": "stream",
     "text": [
      "current loss: 0.008615841468175253, current accuracy: 0.2916666666666667\n"
     ]
    },
    {
     "name": "stderr",
     "output_type": "stream",
     "text": [
      "Training Epoch 335/400: 100%|██████████| 36/36 [00:03<00:00, 10.67batch/s, accuracy=51.6, loss=0.00685]\n"
     ]
    },
    {
     "name": "stdout",
     "output_type": "stream",
     "text": [
      "current loss: 0.008614392744170295, current accuracy: 0.2951388888888889\n"
     ]
    },
    {
     "name": "stderr",
     "output_type": "stream",
     "text": [
      "Training Epoch 336/400: 100%|██████████| 36/36 [00:03<00:00, 10.81batch/s, accuracy=52.3, loss=0.00679]\n"
     ]
    },
    {
     "name": "stdout",
     "output_type": "stream",
     "text": [
      "current loss: 0.008672819369369082, current accuracy: 0.2881944444444444\n"
     ]
    },
    {
     "name": "stderr",
     "output_type": "stream",
     "text": [
      "Training Epoch 337/400: 100%|██████████| 36/36 [00:03<00:00, 10.72batch/s, accuracy=52.3, loss=0.00698]\n"
     ]
    },
    {
     "name": "stdout",
     "output_type": "stream",
     "text": [
      "current loss: 0.00862046910656823, current accuracy: 0.2777777777777778\n"
     ]
    },
    {
     "name": "stderr",
     "output_type": "stream",
     "text": [
      "Training Epoch 338/400: 100%|██████████| 36/36 [00:03<00:00, 10.68batch/s, accuracy=52.3, loss=0.00685]\n"
     ]
    },
    {
     "name": "stdout",
     "output_type": "stream",
     "text": [
      "current loss: 0.008531599409050412, current accuracy: 0.2743055555555556\n"
     ]
    },
    {
     "name": "stderr",
     "output_type": "stream",
     "text": [
      "Training Epoch 339/400: 100%|██████████| 36/36 [00:03<00:00, 10.74batch/s, accuracy=57.8, loss=0.00677]\n"
     ]
    },
    {
     "name": "stdout",
     "output_type": "stream",
     "text": [
      "current loss: 0.008675696121321784, current accuracy: 0.2743055555555556\n"
     ]
    },
    {
     "name": "stderr",
     "output_type": "stream",
     "text": [
      "Training Epoch 340/400: 100%|██████████| 36/36 [00:03<00:00, 10.78batch/s, accuracy=55.5, loss=0.00699]\n"
     ]
    },
    {
     "name": "stdout",
     "output_type": "stream",
     "text": [
      "current loss: 0.008657922347386679, current accuracy: 0.2743055555555556\n"
     ]
    },
    {
     "name": "stderr",
     "output_type": "stream",
     "text": [
      "Training Epoch 341/400: 100%|██████████| 36/36 [00:03<00:00, 10.80batch/s, accuracy=60.2, loss=0.00674]\n"
     ]
    },
    {
     "name": "stdout",
     "output_type": "stream",
     "text": [
      "current loss: 0.008545398712158203, current accuracy: 0.2743055555555556\n"
     ]
    },
    {
     "name": "stderr",
     "output_type": "stream",
     "text": [
      "Training Epoch 342/400: 100%|██████████| 36/36 [00:03<00:00, 10.77batch/s, accuracy=60.9, loss=0.00656]\n"
     ]
    },
    {
     "name": "stdout",
     "output_type": "stream",
     "text": [
      "current loss: 0.008534423179096647, current accuracy: 0.2916666666666667\n"
     ]
    },
    {
     "name": "stderr",
     "output_type": "stream",
     "text": [
      "Training Epoch 343/400: 100%|██████████| 36/36 [00:03<00:00, 10.76batch/s, accuracy=58.6, loss=0.00688]\n"
     ]
    },
    {
     "name": "stdout",
     "output_type": "stream",
     "text": [
      "current loss: 0.008783661656909518, current accuracy: 0.2743055555555556\n"
     ]
    },
    {
     "name": "stderr",
     "output_type": "stream",
     "text": [
      "Training Epoch 344/400: 100%|██████████| 36/36 [00:03<00:00, 10.66batch/s, accuracy=53.9, loss=0.00673]\n"
     ]
    },
    {
     "name": "stdout",
     "output_type": "stream",
     "text": [
      "current loss: 0.008731164038181305, current accuracy: 0.28125\n"
     ]
    },
    {
     "name": "stderr",
     "output_type": "stream",
     "text": [
      "Training Epoch 345/400: 100%|██████████| 36/36 [00:03<00:00, 10.78batch/s, accuracy=52.3, loss=0.00676]\n"
     ]
    },
    {
     "name": "stdout",
     "output_type": "stream",
     "text": [
      "current loss: 0.008641731407907274, current accuracy: 0.2777777777777778\n"
     ]
    },
    {
     "name": "stderr",
     "output_type": "stream",
     "text": [
      "Training Epoch 346/400: 100%|██████████| 36/36 [00:03<00:00, 10.83batch/s, accuracy=56.2, loss=0.00702]\n"
     ]
    },
    {
     "name": "stdout",
     "output_type": "stream",
     "text": [
      "current loss: 0.008734809027777778, current accuracy: 0.2708333333333333\n"
     ]
    },
    {
     "name": "stderr",
     "output_type": "stream",
     "text": [
      "Training Epoch 347/400: 100%|██████████| 36/36 [00:03<00:00, 10.80batch/s, accuracy=57, loss=0.0069]   \n"
     ]
    },
    {
     "name": "stdout",
     "output_type": "stream",
     "text": [
      "current loss: 0.008619013759824965, current accuracy: 0.28125\n"
     ]
    },
    {
     "name": "stderr",
     "output_type": "stream",
     "text": [
      "Training Epoch 348/400: 100%|██████████| 36/36 [00:03<00:00, 10.78batch/s, accuracy=59.4, loss=0.00692]\n"
     ]
    },
    {
     "name": "stdout",
     "output_type": "stream",
     "text": [
      "current loss: 0.00864207579029931, current accuracy: 0.2847222222222222\n"
     ]
    },
    {
     "name": "stderr",
     "output_type": "stream",
     "text": [
      "Training Epoch 349/400: 100%|██████████| 36/36 [00:03<00:00, 10.76batch/s, accuracy=52.3, loss=0.00684]\n"
     ]
    },
    {
     "name": "stdout",
     "output_type": "stream",
     "text": [
      "current loss: 0.00873928599887424, current accuracy: 0.2777777777777778\n"
     ]
    },
    {
     "name": "stderr",
     "output_type": "stream",
     "text": [
      "Training Epoch 350/400: 100%|██████████| 36/36 [00:03<00:00, 10.82batch/s, accuracy=58.6, loss=0.00672]\n"
     ]
    },
    {
     "name": "stdout",
     "output_type": "stream",
     "text": [
      "current loss: 0.008781184752782186, current accuracy: 0.28125\n"
     ]
    },
    {
     "name": "stderr",
     "output_type": "stream",
     "text": [
      "Training Epoch 351/400: 100%|██████████| 36/36 [00:03<00:00, 10.76batch/s, accuracy=57.8, loss=0.00674]\n"
     ]
    },
    {
     "name": "stdout",
     "output_type": "stream",
     "text": [
      "current loss: 0.008677832782268524, current accuracy: 0.2777777777777778\n"
     ]
    },
    {
     "name": "stderr",
     "output_type": "stream",
     "text": [
      "Training Epoch 352/400: 100%|██████████| 36/36 [00:03<00:00, 10.82batch/s, accuracy=50.8, loss=0.00702]\n"
     ]
    },
    {
     "name": "stdout",
     "output_type": "stream",
     "text": [
      "current loss: 0.008725630740324656, current accuracy: 0.2743055555555556\n"
     ]
    },
    {
     "name": "stderr",
     "output_type": "stream",
     "text": [
      "Training Epoch 353/400: 100%|██████████| 36/36 [00:03<00:00, 10.63batch/s, accuracy=54.7, loss=0.00702]\n"
     ]
    },
    {
     "name": "stdout",
     "output_type": "stream",
     "text": [
      "current loss: 0.008683255149258507, current accuracy: 0.2847222222222222\n"
     ]
    },
    {
     "name": "stderr",
     "output_type": "stream",
     "text": [
      "Training Epoch 354/400: 100%|██████████| 36/36 [00:03<00:00, 11.02batch/s, accuracy=59.4, loss=0.00694]\n"
     ]
    },
    {
     "name": "stdout",
     "output_type": "stream",
     "text": [
      "current loss: 0.008610385987493727, current accuracy: 0.28125\n"
     ]
    },
    {
     "name": "stderr",
     "output_type": "stream",
     "text": [
      "Training Epoch 355/400: 100%|██████████| 36/36 [00:03<00:00, 10.35batch/s, accuracy=53.9, loss=0.00676]\n"
     ]
    },
    {
     "name": "stdout",
     "output_type": "stream",
     "text": [
      "current loss: 0.00884170499112871, current accuracy: 0.2743055555555556\n"
     ]
    },
    {
     "name": "stderr",
     "output_type": "stream",
     "text": [
      "Training Epoch 356/400: 100%|██████████| 36/36 [00:03<00:00, 10.72batch/s, accuracy=56.2, loss=0.00692]\n"
     ]
    },
    {
     "name": "stdout",
     "output_type": "stream",
     "text": [
      "current loss: 0.008697049485312568, current accuracy: 0.2916666666666667\n"
     ]
    },
    {
     "name": "stderr",
     "output_type": "stream",
     "text": [
      "Training Epoch 357/400: 100%|██████████| 36/36 [00:03<00:00, 10.82batch/s, accuracy=52.3, loss=0.00697]\n"
     ]
    },
    {
     "name": "stdout",
     "output_type": "stream",
     "text": [
      "current loss: 0.008664555847644806, current accuracy: 0.2708333333333333\n"
     ]
    },
    {
     "name": "stderr",
     "output_type": "stream",
     "text": [
      "Training Epoch 358/400: 100%|██████████| 36/36 [00:03<00:00, 10.61batch/s, accuracy=59.4, loss=0.00686]\n"
     ]
    },
    {
     "name": "stdout",
     "output_type": "stream",
     "text": [
      "current loss: 0.008867522908581628, current accuracy: 0.2847222222222222\n"
     ]
    },
    {
     "name": "stderr",
     "output_type": "stream",
     "text": [
      "Training Epoch 359/400: 100%|██████████| 36/36 [00:03<00:00, 10.59batch/s, accuracy=53.9, loss=0.0071] \n"
     ]
    },
    {
     "name": "stdout",
     "output_type": "stream",
     "text": [
      "current loss: 0.008770694335301718, current accuracy: 0.2881944444444444\n"
     ]
    },
    {
     "name": "stderr",
     "output_type": "stream",
     "text": [
      "Training Epoch 360/400: 100%|██████████| 36/36 [00:03<00:00, 10.91batch/s, accuracy=53.9, loss=0.00698]\n"
     ]
    },
    {
     "name": "stdout",
     "output_type": "stream",
     "text": [
      "current loss: 0.008734709686703153, current accuracy: 0.2777777777777778\n"
     ]
    },
    {
     "name": "stderr",
     "output_type": "stream",
     "text": [
      "Training Epoch 361/400: 100%|██████████| 36/36 [00:03<00:00, 10.65batch/s, accuracy=56.2, loss=0.00678]\n"
     ]
    },
    {
     "name": "stdout",
     "output_type": "stream",
     "text": [
      "current loss: 0.008834860391087003, current accuracy: 0.2777777777777778\n"
     ]
    },
    {
     "name": "stderr",
     "output_type": "stream",
     "text": [
      "Training Epoch 362/400: 100%|██████████| 36/36 [00:03<00:00, 10.52batch/s, accuracy=48.4, loss=0.00692]\n"
     ]
    },
    {
     "name": "stdout",
     "output_type": "stream",
     "text": [
      "current loss: 0.00877729058265686, current accuracy: 0.2847222222222222\n"
     ]
    },
    {
     "name": "stderr",
     "output_type": "stream",
     "text": [
      "Training Epoch 363/400: 100%|██████████| 36/36 [00:03<00:00, 10.19batch/s, accuracy=57.8, loss=0.0067] \n"
     ]
    },
    {
     "name": "stdout",
     "output_type": "stream",
     "text": [
      "current loss: 0.008767869737413194, current accuracy: 0.2881944444444444\n"
     ]
    },
    {
     "name": "stderr",
     "output_type": "stream",
     "text": [
      "Training Epoch 364/400: 100%|██████████| 36/36 [00:03<00:00, 10.00batch/s, accuracy=52.3, loss=0.00662]\n"
     ]
    },
    {
     "name": "stdout",
     "output_type": "stream",
     "text": [
      "current loss: 0.008745195964972178, current accuracy: 0.28125\n"
     ]
    },
    {
     "name": "stderr",
     "output_type": "stream",
     "text": [
      "Training Epoch 365/400: 100%|██████████| 36/36 [00:03<00:00, 10.77batch/s, accuracy=52.3, loss=0.0068] \n"
     ]
    },
    {
     "name": "stdout",
     "output_type": "stream",
     "text": [
      "current loss: 0.008813997937573327, current accuracy: 0.2916666666666667\n"
     ]
    },
    {
     "name": "stderr",
     "output_type": "stream",
     "text": [
      "Training Epoch 366/400: 100%|██████████| 36/36 [00:03<00:00, 10.67batch/s, accuracy=58.6, loss=0.00687]\n"
     ]
    },
    {
     "name": "stdout",
     "output_type": "stream",
     "text": [
      "current loss: 0.008756991061899397, current accuracy: 0.2881944444444444\n"
     ]
    },
    {
     "name": "stderr",
     "output_type": "stream",
     "text": [
      "Training Epoch 367/400: 100%|██████████| 36/36 [00:03<00:00, 10.75batch/s, accuracy=53.9, loss=0.00663]\n"
     ]
    },
    {
     "name": "stdout",
     "output_type": "stream",
     "text": [
      "current loss: 0.008882886833614774, current accuracy: 0.2777777777777778\n"
     ]
    },
    {
     "name": "stderr",
     "output_type": "stream",
     "text": [
      "Training Epoch 368/400: 100%|██████████| 36/36 [00:03<00:00, 10.58batch/s, accuracy=46.9, loss=0.00702]\n"
     ]
    },
    {
     "name": "stdout",
     "output_type": "stream",
     "text": [
      "current loss: 0.008851452834076352, current accuracy: 0.2777777777777778\n"
     ]
    },
    {
     "name": "stderr",
     "output_type": "stream",
     "text": [
      "Training Epoch 369/400: 100%|██████████| 36/36 [00:03<00:00, 10.73batch/s, accuracy=64.8, loss=0.00664]\n"
     ]
    },
    {
     "name": "stdout",
     "output_type": "stream",
     "text": [
      "current loss: 0.00891234642929501, current accuracy: 0.2708333333333333\n"
     ]
    },
    {
     "name": "stderr",
     "output_type": "stream",
     "text": [
      "Training Epoch 370/400: 100%|██████████| 36/36 [00:03<00:00, 10.70batch/s, accuracy=52.3, loss=0.00707]\n"
     ]
    },
    {
     "name": "stdout",
     "output_type": "stream",
     "text": [
      "current loss: 0.008768310149510702, current accuracy: 0.28125\n"
     ]
    },
    {
     "name": "stderr",
     "output_type": "stream",
     "text": [
      "Training Epoch 371/400: 100%|██████████| 36/36 [00:03<00:00, 10.79batch/s, accuracy=54.7, loss=0.00678]\n"
     ]
    },
    {
     "name": "stdout",
     "output_type": "stream",
     "text": [
      "current loss: 0.00880516403251224, current accuracy: 0.28125\n"
     ]
    },
    {
     "name": "stderr",
     "output_type": "stream",
     "text": [
      "Training Epoch 372/400: 100%|██████████| 36/36 [00:03<00:00, 10.82batch/s, accuracy=53.9, loss=0.00689]\n"
     ]
    },
    {
     "name": "stdout",
     "output_type": "stream",
     "text": [
      "current loss: 0.008962120446893904, current accuracy: 0.2847222222222222\n"
     ]
    },
    {
     "name": "stderr",
     "output_type": "stream",
     "text": [
      "Training Epoch 373/400: 100%|██████████| 36/36 [00:03<00:00, 10.71batch/s, accuracy=55.5, loss=0.0067] \n"
     ]
    },
    {
     "name": "stdout",
     "output_type": "stream",
     "text": [
      "current loss: 0.008989926841523912, current accuracy: 0.2847222222222222\n"
     ]
    },
    {
     "name": "stderr",
     "output_type": "stream",
     "text": [
      "Training Epoch 374/400: 100%|██████████| 36/36 [00:03<00:00, 10.80batch/s, accuracy=54.7, loss=0.00687]\n"
     ]
    },
    {
     "name": "stdout",
     "output_type": "stream",
     "text": [
      "current loss: 0.008935196532143487, current accuracy: 0.2708333333333333\n"
     ]
    },
    {
     "name": "stderr",
     "output_type": "stream",
     "text": [
      "Training Epoch 375/400: 100%|██████████| 36/36 [00:03<00:00, 10.75batch/s, accuracy=60.2, loss=0.0071] \n"
     ]
    },
    {
     "name": "stdout",
     "output_type": "stream",
     "text": [
      "current loss: 0.008856522540251413, current accuracy: 0.2708333333333333\n"
     ]
    },
    {
     "name": "stderr",
     "output_type": "stream",
     "text": [
      "Training Epoch 376/400: 100%|██████████| 36/36 [00:03<00:00, 10.51batch/s, accuracy=53.9, loss=0.0068] \n"
     ]
    },
    {
     "name": "stdout",
     "output_type": "stream",
     "text": [
      "current loss: 0.008959983785947164, current accuracy: 0.28125\n"
     ]
    },
    {
     "name": "stderr",
     "output_type": "stream",
     "text": [
      "Training Epoch 377/400: 100%|██████████| 36/36 [00:03<00:00, 10.41batch/s, accuracy=52.3, loss=0.00671]\n"
     ]
    },
    {
     "name": "stdout",
     "output_type": "stream",
     "text": [
      "current loss: 0.00893660138050715, current accuracy: 0.2743055555555556\n"
     ]
    },
    {
     "name": "stderr",
     "output_type": "stream",
     "text": [
      "Training Epoch 378/400: 100%|██████████| 36/36 [00:03<00:00, 10.57batch/s, accuracy=57, loss=0.00696]  \n"
     ]
    },
    {
     "name": "stdout",
     "output_type": "stream",
     "text": [
      "current loss: 0.0089151950346099, current accuracy: 0.2743055555555556\n"
     ]
    },
    {
     "name": "stderr",
     "output_type": "stream",
     "text": [
      "Training Epoch 379/400: 100%|██████████| 36/36 [00:03<00:00,  9.92batch/s, accuracy=58.6, loss=0.00666]\n"
     ]
    },
    {
     "name": "stdout",
     "output_type": "stream",
     "text": [
      "current loss: 0.008786424994468689, current accuracy: 0.28125\n"
     ]
    },
    {
     "name": "stderr",
     "output_type": "stream",
     "text": [
      "Training Epoch 380/400: 100%|██████████| 36/36 [00:03<00:00, 10.06batch/s, accuracy=64.1, loss=0.00645]\n"
     ]
    },
    {
     "name": "stdout",
     "output_type": "stream",
     "text": [
      "current loss: 0.008938580751419067, current accuracy: 0.2604166666666667\n"
     ]
    },
    {
     "name": "stderr",
     "output_type": "stream",
     "text": [
      "Training Epoch 381/400: 100%|██████████| 36/36 [00:03<00:00, 10.90batch/s, accuracy=55.5, loss=0.00663]\n"
     ]
    },
    {
     "name": "stdout",
     "output_type": "stream",
     "text": [
      "current loss: 0.009130411677890353, current accuracy: 0.2708333333333333\n"
     ]
    },
    {
     "name": "stderr",
     "output_type": "stream",
     "text": [
      "Training Epoch 382/400: 100%|██████████| 36/36 [00:03<00:00, 10.82batch/s, accuracy=62.5, loss=0.00662]\n"
     ]
    },
    {
     "name": "stdout",
     "output_type": "stream",
     "text": [
      "current loss: 0.008920845058229234, current accuracy: 0.28125\n"
     ]
    },
    {
     "name": "stderr",
     "output_type": "stream",
     "text": [
      "Training Epoch 383/400: 100%|██████████| 36/36 [00:03<00:00, 10.65batch/s, accuracy=57.8, loss=0.00672]\n"
     ]
    },
    {
     "name": "stdout",
     "output_type": "stream",
     "text": [
      "current loss: 0.008941703372531466, current accuracy: 0.2673611111111111\n"
     ]
    },
    {
     "name": "stderr",
     "output_type": "stream",
     "text": [
      "Training Epoch 384/400: 100%|██████████| 36/36 [00:03<00:00, 10.73batch/s, accuracy=50.8, loss=0.00669]\n"
     ]
    },
    {
     "name": "stdout",
     "output_type": "stream",
     "text": [
      "current loss: 0.009000046385659112, current accuracy: 0.2604166666666667\n"
     ]
    },
    {
     "name": "stderr",
     "output_type": "stream",
     "text": [
      "Training Epoch 385/400: 100%|██████████| 36/36 [00:03<00:00, 10.71batch/s, accuracy=51.6, loss=0.00705]\n"
     ]
    },
    {
     "name": "stdout",
     "output_type": "stream",
     "text": [
      "current loss: 0.008978141678704156, current accuracy: 0.2569444444444444\n"
     ]
    },
    {
     "name": "stderr",
     "output_type": "stream",
     "text": [
      "Training Epoch 386/400: 100%|██████████| 36/36 [00:03<00:00, 10.64batch/s, accuracy=53.9, loss=0.00679]\n"
     ]
    },
    {
     "name": "stdout",
     "output_type": "stream",
     "text": [
      "current loss: 0.00894179857439465, current accuracy: 0.28125\n"
     ]
    },
    {
     "name": "stderr",
     "output_type": "stream",
     "text": [
      "Training Epoch 387/400: 100%|██████████| 36/36 [00:03<00:00, 10.85batch/s, accuracy=58.6, loss=0.00653]\n"
     ]
    },
    {
     "name": "stdout",
     "output_type": "stream",
     "text": [
      "current loss: 0.009023432930310568, current accuracy: 0.2673611111111111\n"
     ]
    },
    {
     "name": "stderr",
     "output_type": "stream",
     "text": [
      "Training Epoch 388/400: 100%|██████████| 36/36 [00:03<00:00, 10.82batch/s, accuracy=60.2, loss=0.00668]\n"
     ]
    },
    {
     "name": "stdout",
     "output_type": "stream",
     "text": [
      "current loss: 0.008928632570637597, current accuracy: 0.2847222222222222\n"
     ]
    },
    {
     "name": "stderr",
     "output_type": "stream",
     "text": [
      "Training Epoch 389/400: 100%|██████████| 36/36 [00:03<00:00, 10.61batch/s, accuracy=60.9, loss=0.00659]\n"
     ]
    },
    {
     "name": "stdout",
     "output_type": "stream",
     "text": [
      "current loss: 0.009138925207985772, current accuracy: 0.2638888888888889\n"
     ]
    },
    {
     "name": "stderr",
     "output_type": "stream",
     "text": [
      "Training Epoch 390/400: 100%|██████████| 36/36 [00:03<00:00, 10.78batch/s, accuracy=60.2, loss=0.00663]\n"
     ]
    },
    {
     "name": "stdout",
     "output_type": "stream",
     "text": [
      "current loss: 0.009038311739762625, current accuracy: 0.2638888888888889\n"
     ]
    },
    {
     "name": "stderr",
     "output_type": "stream",
     "text": [
      "Training Epoch 391/400: 100%|██████████| 36/36 [00:03<00:00, 10.60batch/s, accuracy=57.8, loss=0.00658]\n"
     ]
    },
    {
     "name": "stdout",
     "output_type": "stream",
     "text": [
      "current loss: 0.00902490731742647, current accuracy: 0.2638888888888889\n"
     ]
    },
    {
     "name": "stderr",
     "output_type": "stream",
     "text": [
      "Training Epoch 392/400: 100%|██████████| 36/36 [00:03<00:00, 10.85batch/s, accuracy=63.3, loss=0.00686]\n"
     ]
    },
    {
     "name": "stdout",
     "output_type": "stream",
     "text": [
      "current loss: 0.009181092182795206, current accuracy: 0.2777777777777778\n"
     ]
    },
    {
     "name": "stderr",
     "output_type": "stream",
     "text": [
      "Training Epoch 393/400: 100%|██████████| 36/36 [00:03<00:00, 10.67batch/s, accuracy=59.4, loss=0.00682]\n"
     ]
    },
    {
     "name": "stdout",
     "output_type": "stream",
     "text": [
      "current loss: 0.009181160893705156, current accuracy: 0.2708333333333333\n"
     ]
    },
    {
     "name": "stderr",
     "output_type": "stream",
     "text": [
      "Training Epoch 394/400: 100%|██████████| 36/36 [00:03<00:00, 10.59batch/s, accuracy=59.4, loss=0.00662]\n"
     ]
    },
    {
     "name": "stdout",
     "output_type": "stream",
     "text": [
      "current loss: 0.009245303769906362, current accuracy: 0.2638888888888889\n"
     ]
    },
    {
     "name": "stderr",
     "output_type": "stream",
     "text": [
      "Training Epoch 395/400: 100%|██████████| 36/36 [00:03<00:00, 10.78batch/s, accuracy=54.7, loss=0.0067] \n"
     ]
    },
    {
     "name": "stdout",
     "output_type": "stream",
     "text": [
      "current loss: 0.009294037189748552, current accuracy: 0.2708333333333333\n"
     ]
    },
    {
     "name": "stderr",
     "output_type": "stream",
     "text": [
      "Training Epoch 396/400: 100%|██████████| 36/36 [00:03<00:00, 10.47batch/s, accuracy=57, loss=0.00678]  \n"
     ]
    },
    {
     "name": "stdout",
     "output_type": "stream",
     "text": [
      "current loss: 0.009411518772443136, current accuracy: 0.2743055555555556\n"
     ]
    },
    {
     "name": "stderr",
     "output_type": "stream",
     "text": [
      "Training Epoch 397/400: 100%|██████████| 36/36 [00:03<00:00, 10.80batch/s, accuracy=46.9, loss=0.00689]\n"
     ]
    },
    {
     "name": "stdout",
     "output_type": "stream",
     "text": [
      "current loss: 0.009397487673494551, current accuracy: 0.2708333333333333\n"
     ]
    },
    {
     "name": "stderr",
     "output_type": "stream",
     "text": [
      "Training Epoch 398/400: 100%|██████████| 36/36 [00:03<00:00, 10.80batch/s, accuracy=61.7, loss=0.00658]\n"
     ]
    },
    {
     "name": "stdout",
     "output_type": "stream",
     "text": [
      "current loss: 0.009319682088163164, current accuracy: 0.2569444444444444\n"
     ]
    },
    {
     "name": "stderr",
     "output_type": "stream",
     "text": [
      "Training Epoch 399/400: 100%|██████████| 36/36 [00:03<00:00, 10.82batch/s, accuracy=66.4, loss=0.00641]\n"
     ]
    },
    {
     "name": "stdout",
     "output_type": "stream",
     "text": [
      "current loss: 0.009201628466447195, current accuracy: 0.2777777777777778\n"
     ]
    },
    {
     "name": "stderr",
     "output_type": "stream",
     "text": [
      "Training Epoch 400/400: 100%|██████████| 36/36 [00:03<00:00, 10.80batch/s, accuracy=57, loss=0.00673]  "
     ]
    },
    {
     "name": "stdout",
     "output_type": "stream",
     "text": [
      "current loss: 0.009272657334804535, current accuracy: 0.28125\n"
     ]
    },
    {
     "name": "stderr",
     "output_type": "stream",
     "text": [
      "\n"
     ]
    }
   ],
   "source": [
    "from dataset.matDataset import SI_dataset\n",
    "from torch.utils.data import DataLoader\n",
    "import torch.optim as optim\n",
    "import torch.nn as nn\n",
    "import torch\n",
    "\n",
    "from models import *\n",
    "from trial import *\n",
    "\n",
    "\n",
    "model = AttentionNet(\n",
    "    input_size = (22, 562),\n",
    "    activate_func = nn.ELU,\n",
    "    dropout = 0.9,\n",
    "    kernel_size = 25,\n",
    "    dense_size = 128,\n",
    "    filter_number = 32\n",
    ")\n",
    "\n",
    "\n",
    "optimizer = optim.Adam(\n",
    "    model.parameters(),\n",
    "    lr = 0.00001,\n",
    "    weight_decay = 0.1\n",
    ")\n",
    " \n",
    "train_dataset = SI_dataset()\n",
    "test_dataset = SI_dataset(train = False)\n",
    "\n",
    "train_loader = DataLoader(train_dataset, batch_size = 128)\n",
    "\n",
    "\n",
    "device = torch.device('cuda:0')\n",
    "\n",
    "model, loss_log, accuracy_log = train(model, device, nn.CrossEntropyLoss(), optimizer, 400, train_loader, test_dataset)\n",
    "\n"
   ]
  },
  {
   "cell_type": "code",
   "execution_count": 2,
   "metadata": {},
   "outputs": [
    {
     "name": "stdout",
     "output_type": "stream",
     "text": [
      "Sequential(\n",
      "  (0): Linear(in_features=484, out_features=128, bias=True)\n",
      "  (1): ELU(alpha=1.0)\n",
      ")\n"
     ]
    },
    {
     "data": {
      "image/png": "[encoded data removed]",
      "text/plain": [
       "<Figure size 432x288 with 2 Axes>"
      ]
     },
     "metadata": {
      "needs_background": "light"
     },
     "output_type": "display_data"
    },
    {
     "data": {
      "image/png": "[encoded data removed]",
      "text/plain": [
       "<Figure size 432x288 with 2 Axes>"
      ]
     },
     "metadata": {
      "needs_background": "light"
     },
     "output_type": "display_data"
    },
    {
     "name": "stdout",
     "output_type": "stream",
     "text": [
      "tensor([0, 0, 3, 0, 0, 0, 0, 0, 0, 0, 3, 0, 2, 0, 0, 1, 0, 3, 0, 0, 3, 0, 0, 0,\n",
      "        0, 3, 0, 3, 1, 0, 0, 0, 1, 0, 0, 0, 0, 3, 0, 0, 0, 3, 0, 0, 0, 0, 2, 3,\n",
      "        3, 0, 0, 3, 0, 0, 0, 0, 0, 0, 0, 0, 0, 0, 0, 0, 0, 0, 3, 0, 2, 0, 3, 0,\n",
      "        0, 3, 0, 0, 0, 3, 0, 1, 0, 0, 0, 3, 0, 0, 3, 3, 0, 0, 1, 0, 3, 0, 3, 0,\n",
      "        3, 0, 0, 0, 0, 0, 3, 0, 0, 3, 0, 3, 0, 1, 0, 0, 0, 0, 3, 0, 0, 0, 0, 0,\n",
      "        0, 3, 2, 0, 2, 3, 0, 3, 0, 3, 0, 0, 3, 0, 3, 0, 3, 0, 1, 0, 0, 0, 0, 0,\n",
      "        0, 0, 0, 0, 0, 0, 0, 0, 0, 0, 3, 0, 3, 0, 0, 3, 3, 3, 0, 2, 0, 0, 3, 0,\n",
      "        0, 0, 0, 3, 0, 3, 3, 3, 3, 3, 3, 3, 0, 3, 0, 0, 0, 0, 0, 0, 0, 2, 3, 0,\n",
      "        0, 0, 3, 0, 0, 0, 0, 0, 0, 3, 3, 0, 1, 0, 0, 3, 0, 0, 0, 0, 3, 0, 0, 0,\n",
      "        0, 0, 1, 0, 0, 0, 0, 3, 3, 0, 0, 0, 0, 3, 0, 0, 3, 0, 0, 0, 3, 0, 2, 3,\n",
      "        0, 3, 0, 0, 3, 0, 3, 0, 0, 0, 3, 0, 2, 3, 0, 3, 0, 3, 0, 0, 3, 3, 3, 2,\n",
      "        0, 3, 0, 0, 0, 0, 0, 3, 2, 0, 0, 2, 0, 3, 0, 0, 0, 0, 0, 3, 0, 0, 0, 3],\n",
      "       device='cuda:0')\n"
     ]
    }
   ],
   "source": [
    "from importlib import reload\n",
    "import utils\n",
    "print(model.FC1)\n",
    "reload(utils)\n",
    "utils.plot_curve(loss_log, 'loss')\n",
    "utils.plot_curve(accuracy_log, 'accuracy')\n",
    "print(torch.argmax(model(test_dataset.data.to(device)), dim = 1))"
   ]
  },
  {
   "cell_type": "markdown",
   "metadata": {},
   "source": [
    "# Test"
   ]
  },
  {
   "cell_type": "code",
   "execution_count": 1,
   "metadata": {},
   "outputs": [
    {
     "name": "stderr",
     "output_type": "stream",
     "text": [
      "Training Epoch 01/400: 100%|██████████| 36/36 [00:11<00:00,  3.20batch/s, accuracy=25.8, loss=0.013] \n"
     ]
    },
    {
     "name": "stdout",
     "output_type": "stream",
     "text": [
      "current loss: 0.004778222077422672, current accuracy: 0.2916666666666667\n"
     ]
    },
    {
     "name": "stderr",
     "output_type": "stream",
     "text": [
      "Training Epoch 02/400: 100%|██████████| 36/36 [00:03<00:00, 10.34batch/s, accuracy=25, loss=0.0124]  \n"
     ]
    },
    {
     "name": "stdout",
     "output_type": "stream",
     "text": [
      "current loss: 0.004752392984098858, current accuracy: 0.3194444444444444\n"
     ]
    },
    {
     "name": "stderr",
     "output_type": "stream",
     "text": [
      "Training Epoch 03/400: 100%|██████████| 36/36 [00:03<00:00, 10.12batch/s, accuracy=28.9, loss=0.011] \n"
     ]
    },
    {
     "name": "stdout",
     "output_type": "stream",
     "text": [
      "current loss: 0.0047816091941462625, current accuracy: 0.2708333333333333\n"
     ]
    },
    {
     "name": "stderr",
     "output_type": "stream",
     "text": [
      "Training Epoch 04/400: 100%|██████████| 36/36 [00:03<00:00, 10.18batch/s, accuracy=27.3, loss=0.0121]\n"
     ]
    },
    {
     "name": "stdout",
     "output_type": "stream",
     "text": [
      "current loss: 0.0047287531197071075, current accuracy: 0.2951388888888889\n"
     ]
    },
    {
     "name": "stderr",
     "output_type": "stream",
     "text": [
      "Training Epoch 05/400: 100%|██████████| 36/36 [00:03<00:00, 10.16batch/s, accuracy=33.6, loss=0.0108]\n"
     ]
    },
    {
     "name": "stdout",
     "output_type": "stream",
     "text": [
      "current loss: 0.004884440451860428, current accuracy: 0.2673611111111111\n"
     ]
    },
    {
     "name": "stderr",
     "output_type": "stream",
     "text": [
      "Training Epoch 06/400: 100%|██████████| 36/36 [00:03<00:00, 10.13batch/s, accuracy=39.8, loss=0.00987]\n"
     ]
    },
    {
     "name": "stdout",
     "output_type": "stream",
     "text": [
      "current loss: 0.004874954620997111, current accuracy: 0.2708333333333333\n"
     ]
    },
    {
     "name": "stderr",
     "output_type": "stream",
     "text": [
      "Training Epoch 07/400: 100%|██████████| 36/36 [00:03<00:00, 10.23batch/s, accuracy=41.4, loss=0.0101] \n"
     ]
    },
    {
     "name": "stdout",
     "output_type": "stream",
     "text": [
      "current loss: 0.00480003696348932, current accuracy: 0.2743055555555556\n"
     ]
    },
    {
     "name": "stderr",
     "output_type": "stream",
     "text": [
      "Training Epoch 08/400: 100%|██████████| 36/36 [00:03<00:00, 10.40batch/s, accuracy=38.3, loss=0.0103]\n"
     ]
    },
    {
     "name": "stdout",
     "output_type": "stream",
     "text": [
      "current loss: 0.004851506402095159, current accuracy: 0.2673611111111111\n"
     ]
    },
    {
     "name": "stderr",
     "output_type": "stream",
     "text": [
      "Training Epoch 09/400: 100%|██████████| 36/36 [00:03<00:00, 10.36batch/s, accuracy=38.3, loss=0.0101]\n"
     ]
    },
    {
     "name": "stdout",
     "output_type": "stream",
     "text": [
      "current loss: 0.004839029163122177, current accuracy: 0.2673611111111111\n"
     ]
    },
    {
     "name": "stderr",
     "output_type": "stream",
     "text": [
      "Training Epoch 10/400: 100%|██████████| 36/36 [00:03<00:00, 10.69batch/s, accuracy=35.9, loss=0.0101] \n"
     ]
    },
    {
     "name": "stdout",
     "output_type": "stream",
     "text": [
      "current loss: 0.004808548423979018, current accuracy: 0.28125\n"
     ]
    },
    {
     "name": "stderr",
     "output_type": "stream",
     "text": [
      "Training Epoch 11/400: 100%|██████████| 36/36 [00:03<00:00, 11.79batch/s, accuracy=39.8, loss=0.0102] \n"
     ]
    },
    {
     "name": "stdout",
     "output_type": "stream",
     "text": [
      "current loss: 0.004759237584140565, current accuracy: 0.28125\n"
     ]
    },
    {
     "name": "stderr",
     "output_type": "stream",
     "text": [
      "Training Epoch 12/400: 100%|██████████| 36/36 [00:03<00:00, 11.04batch/s, accuracy=43, loss=0.0101]   \n"
     ]
    },
    {
     "name": "stdout",
     "output_type": "stream",
     "text": [
      "current loss: 0.0047335099014970995, current accuracy: 0.3159722222222222\n"
     ]
    },
    {
     "name": "stderr",
     "output_type": "stream",
     "text": [
      "Training Epoch 13/400: 100%|██████████| 36/36 [00:03<00:00, 11.15batch/s, accuracy=46.1, loss=0.00983]\n"
     ]
    },
    {
     "name": "stdout",
     "output_type": "stream",
     "text": [
      "current loss: 0.0047568463616900975, current accuracy: 0.28125\n"
     ]
    },
    {
     "name": "stderr",
     "output_type": "stream",
     "text": [
      "Training Epoch 14/400: 100%|██████████| 36/36 [00:02<00:00, 12.33batch/s, accuracy=47.7, loss=0.00945]\n"
     ]
    },
    {
     "name": "stdout",
     "output_type": "stream",
     "text": [
      "current loss: 0.0047038694222768145, current accuracy: 0.3333333333333333\n"
     ]
    },
    {
     "name": "stderr",
     "output_type": "stream",
     "text": [
      "Training Epoch 15/400: 100%|██████████| 36/36 [00:02<00:00, 12.38batch/s, accuracy=46.1, loss=0.00943]\n"
     ]
    },
    {
     "name": "stdout",
     "output_type": "stream",
     "text": [
      "current loss: 0.00469979809390174, current accuracy: 0.3229166666666667\n"
     ]
    },
    {
     "name": "stderr",
     "output_type": "stream",
     "text": [
      "Training Epoch 16/400: 100%|██████████| 36/36 [00:02<00:00, 12.43batch/s, accuracy=50, loss=0.00921]  \n"
     ]
    },
    {
     "name": "stdout",
     "output_type": "stream",
     "text": [
      "current loss: 0.004709634929895401, current accuracy: 0.3055555555555556\n"
     ]
    },
    {
     "name": "stderr",
     "output_type": "stream",
     "text": [
      "Training Epoch 17/400: 100%|██████████| 36/36 [00:02<00:00, 12.27batch/s, accuracy=35.2, loss=0.0101] \n"
     ]
    },
    {
     "name": "stdout",
     "output_type": "stream",
     "text": [
      "current loss: 0.004678018391132355, current accuracy: 0.3298611111111111\n"
     ]
    },
    {
     "name": "stderr",
     "output_type": "stream",
     "text": [
      "Training Epoch 18/400: 100%|██████████| 36/36 [00:02<00:00, 12.29batch/s, accuracy=45.3, loss=0.00977]\n"
     ]
    },
    {
     "name": "stdout",
     "output_type": "stream",
     "text": [
      "current loss: 0.0046644094917509295, current accuracy: 0.3298611111111111\n"
     ]
    },
    {
     "name": "stderr",
     "output_type": "stream",
     "text": [
      "Training Epoch 19/400: 100%|██████████| 36/36 [00:02<00:00, 12.41batch/s, accuracy=51.6, loss=0.00863]\n"
     ]
    },
    {
     "name": "stdout",
     "output_type": "stream",
     "text": [
      "current loss: 0.00465848876370324, current accuracy: 0.3263888888888889\n"
     ]
    },
    {
     "name": "stderr",
     "output_type": "stream",
     "text": [
      "Training Epoch 20/400: 100%|██████████| 36/36 [00:02<00:00, 12.36batch/s, accuracy=46.9, loss=0.00918]\n"
     ]
    },
    {
     "name": "stdout",
     "output_type": "stream",
     "text": [
      "current loss: 0.004669564879602856, current accuracy: 0.3194444444444444\n"
     ]
    },
    {
     "name": "stderr",
     "output_type": "stream",
     "text": [
      "Training Epoch 21/400: 100%|██████████| 36/36 [00:02<00:00, 12.35batch/s, accuracy=49.2, loss=0.00881]\n"
     ]
    },
    {
     "name": "stdout",
     "output_type": "stream",
     "text": [
      "current loss: 0.004651736054155562, current accuracy: 0.3402777777777778\n"
     ]
    },
    {
     "name": "stderr",
     "output_type": "stream",
     "text": [
      "Training Epoch 22/400: 100%|██████████| 36/36 [00:02<00:00, 12.16batch/s, accuracy=48.4, loss=0.00901]\n"
     ]
    },
    {
     "name": "stdout",
     "output_type": "stream",
     "text": [
      "current loss: 0.004683670898278554, current accuracy: 0.3263888888888889\n"
     ]
    },
    {
     "name": "stderr",
     "output_type": "stream",
     "text": [
      "Training Epoch 23/400: 100%|██████████| 36/36 [00:03<00:00, 11.42batch/s, accuracy=40.6, loss=0.00957]\n"
     ]
    },
    {
     "name": "stdout",
     "output_type": "stream",
     "text": [
      "current loss: 0.004631880670785904, current accuracy: 0.34375\n"
     ]
    },
    {
     "name": "stderr",
     "output_type": "stream",
     "text": [
      "Training Epoch 24/400: 100%|██████████| 36/36 [00:03<00:00, 11.40batch/s, accuracy=48.4, loss=0.00913]\n"
     ]
    },
    {
     "name": "stdout",
     "output_type": "stream",
     "text": [
      "current loss: 0.004617990718947517, current accuracy: 0.3506944444444444\n"
     ]
    },
    {
     "name": "stderr",
     "output_type": "stream",
     "text": [
      "Training Epoch 25/400: 100%|██████████| 36/36 [00:02<00:00, 12.16batch/s, accuracy=42.2, loss=0.00974]\n"
     ]
    },
    {
     "name": "stdout",
     "output_type": "stream",
     "text": [
      "current loss: 0.004683389431900448, current accuracy: 0.3263888888888889\n"
     ]
    },
    {
     "name": "stderr",
     "output_type": "stream",
     "text": [
      "Training Epoch 26/400: 100%|██████████| 36/36 [00:03<00:00, 11.27batch/s, accuracy=54.7, loss=0.00877]\n"
     ]
    },
    {
     "name": "stdout",
     "output_type": "stream",
     "text": [
      "current loss: 0.004613635026746326, current accuracy: 0.3645833333333333\n"
     ]
    },
    {
     "name": "stderr",
     "output_type": "stream",
     "text": [
      "Training Epoch 27/400: 100%|██████████| 36/36 [00:03<00:00, 10.87batch/s, accuracy=45.3, loss=0.00862]\n"
     ]
    },
    {
     "name": "stdout",
     "output_type": "stream",
     "text": [
      "current loss: 0.004614476528432634, current accuracy: 0.3402777777777778\n"
     ]
    },
    {
     "name": "stderr",
     "output_type": "stream",
     "text": [
      "Training Epoch 28/400: 100%|██████████| 36/36 [00:03<00:00, 11.00batch/s, accuracy=60.2, loss=0.00797]\n"
     ]
    },
    {
     "name": "stdout",
     "output_type": "stream",
     "text": [
      "current loss: 0.0046018680764569175, current accuracy: 0.3680555555555556\n"
     ]
    },
    {
     "name": "stderr",
     "output_type": "stream",
     "text": [
      "Training Epoch 29/400: 100%|██████████| 36/36 [00:03<00:00, 11.76batch/s, accuracy=53.1, loss=0.00868]\n"
     ]
    },
    {
     "name": "stdout",
     "output_type": "stream",
     "text": [
      "current loss: 0.0046319303413232165, current accuracy: 0.3506944444444444\n"
     ]
    },
    {
     "name": "stderr",
     "output_type": "stream",
     "text": [
      "Training Epoch 30/400: 100%|██████████| 36/36 [00:03<00:00, 10.99batch/s, accuracy=53.9, loss=0.0081] \n"
     ]
    },
    {
     "name": "stdout",
     "output_type": "stream",
     "text": [
      "current loss: 0.004594117816951539, current accuracy: 0.3472222222222222\n"
     ]
    },
    {
     "name": "stderr",
     "output_type": "stream",
     "text": [
      "Training Epoch 31/400: 100%|██████████| 36/36 [00:03<00:00, 10.87batch/s, accuracy=50.8, loss=0.00852]\n"
     ]
    },
    {
     "name": "stdout",
     "output_type": "stream",
     "text": [
      "current loss: 0.004601096113522847, current accuracy: 0.3298611111111111\n"
     ]
    },
    {
     "name": "stderr",
     "output_type": "stream",
     "text": [
      "Training Epoch 32/400: 100%|██████████| 36/36 [00:03<00:00, 11.83batch/s, accuracy=59.4, loss=0.00802]\n"
     ]
    },
    {
     "name": "stdout",
     "output_type": "stream",
     "text": [
      "current loss: 0.004565655357307858, current accuracy: 0.375\n"
     ]
    },
    {
     "name": "stderr",
     "output_type": "stream",
     "text": [
      "Training Epoch 33/400: 100%|██████████| 36/36 [00:03<00:00, 11.98batch/s, accuracy=51.6, loss=0.00851]\n"
     ]
    },
    {
     "name": "stdout",
     "output_type": "stream",
     "text": [
      "current loss: 0.0046117885245217215, current accuracy: 0.34375\n"
     ]
    },
    {
     "name": "stderr",
     "output_type": "stream",
     "text": [
      "Training Epoch 34/400: 100%|██████████| 36/36 [00:03<00:00, 11.74batch/s, accuracy=53.1, loss=0.00847]\n"
     ]
    },
    {
     "name": "stdout",
     "output_type": "stream",
     "text": [
      "current loss: 0.0045830267998907305, current accuracy: 0.3333333333333333\n"
     ]
    },
    {
     "name": "stderr",
     "output_type": "stream",
     "text": [
      "Training Epoch 35/400: 100%|██████████| 36/36 [00:03<00:00, 11.28batch/s, accuracy=56.2, loss=0.0079] \n"
     ]
    },
    {
     "name": "stdout",
     "output_type": "stream",
     "text": [
      "current loss: 0.004575027773777644, current accuracy: 0.3472222222222222\n"
     ]
    },
    {
     "name": "stderr",
     "output_type": "stream",
     "text": [
      "Training Epoch 36/400: 100%|██████████| 36/36 [00:03<00:00, 11.45batch/s, accuracy=53.9, loss=0.00817]\n"
     ]
    },
    {
     "name": "stdout",
     "output_type": "stream",
     "text": [
      "current loss: 0.004575773659679625, current accuracy: 0.3506944444444444\n"
     ]
    },
    {
     "name": "stderr",
     "output_type": "stream",
     "text": [
      "Training Epoch 37/400: 100%|██████████| 36/36 [00:03<00:00, 11.93batch/s, accuracy=50, loss=0.00845]  \n"
     ]
    },
    {
     "name": "stdout",
     "output_type": "stream",
     "text": [
      "current loss: 0.004556191464265187, current accuracy: 0.34375\n"
     ]
    },
    {
     "name": "stderr",
     "output_type": "stream",
     "text": [
      "Training Epoch 38/400: 100%|██████████| 36/36 [00:03<00:00, 11.84batch/s, accuracy=59.4, loss=0.0076] \n"
     ]
    },
    {
     "name": "stdout",
     "output_type": "stream",
     "text": [
      "current loss: 0.004559416323900223, current accuracy: 0.3611111111111111\n"
     ]
    },
    {
     "name": "stderr",
     "output_type": "stream",
     "text": [
      "Training Epoch 39/400: 100%|██████████| 36/36 [00:03<00:00, 11.46batch/s, accuracy=60.2, loss=0.00765]\n"
     ]
    },
    {
     "name": "stdout",
     "output_type": "stream",
     "text": [
      "current loss: 0.004541613989406162, current accuracy: 0.3541666666666667\n"
     ]
    },
    {
     "name": "stderr",
     "output_type": "stream",
     "text": [
      "Training Epoch 40/400: 100%|██████████| 36/36 [00:03<00:00, 11.76batch/s, accuracy=57, loss=0.00793]  \n"
     ]
    },
    {
     "name": "stdout",
     "output_type": "stream",
     "text": [
      "current loss: 0.004566914505428738, current accuracy: 0.3541666666666667\n"
     ]
    },
    {
     "name": "stderr",
     "output_type": "stream",
     "text": [
      "Training Epoch 41/400: 100%|██████████| 36/36 [00:03<00:00, 11.48batch/s, accuracy=60.2, loss=0.00792]\n"
     ]
    },
    {
     "name": "stdout",
     "output_type": "stream",
     "text": [
      "current loss: 0.004556001060538822, current accuracy: 0.3472222222222222\n"
     ]
    },
    {
     "name": "stderr",
     "output_type": "stream",
     "text": [
      "Training Epoch 42/400: 100%|██████████| 36/36 [00:03<00:00, 11.92batch/s, accuracy=60.9, loss=0.00731]\n"
     ]
    },
    {
     "name": "stdout",
     "output_type": "stream",
     "text": [
      "current loss: 0.00452146182457606, current accuracy: 0.3680555555555556\n"
     ]
    },
    {
     "name": "stderr",
     "output_type": "stream",
     "text": [
      "Training Epoch 43/400: 100%|██████████| 36/36 [00:02<00:00, 12.13batch/s, accuracy=60.9, loss=0.00724]\n"
     ]
    },
    {
     "name": "stdout",
     "output_type": "stream",
     "text": [
      "current loss: 0.004610248737865024, current accuracy: 0.3368055555555556\n"
     ]
    },
    {
     "name": "stderr",
     "output_type": "stream",
     "text": [
      "Training Epoch 44/400: 100%|██████████| 36/36 [00:03<00:00, 11.87batch/s, accuracy=63.3, loss=0.00778]\n"
     ]
    },
    {
     "name": "stdout",
     "output_type": "stream",
     "text": [
      "current loss: 0.004548654788070255, current accuracy: 0.3611111111111111\n"
     ]
    },
    {
     "name": "stderr",
     "output_type": "stream",
     "text": [
      "Training Epoch 45/400: 100%|██████████| 36/36 [00:03<00:00, 11.36batch/s, accuracy=58.6, loss=0.00747]\n"
     ]
    },
    {
     "name": "stdout",
     "output_type": "stream",
     "text": [
      "current loss: 0.004578201307190789, current accuracy: 0.3472222222222222\n"
     ]
    },
    {
     "name": "stderr",
     "output_type": "stream",
     "text": [
      "Training Epoch 46/400: 100%|██████████| 36/36 [00:02<00:00, 12.14batch/s, accuracy=57.8, loss=0.00794]\n"
     ]
    },
    {
     "name": "stdout",
     "output_type": "stream",
     "text": [
      "current loss: 0.004555051525433858, current accuracy: 0.3368055555555556\n"
     ]
    },
    {
     "name": "stderr",
     "output_type": "stream",
     "text": [
      "Training Epoch 47/400: 100%|██████████| 36/36 [00:02<00:00, 12.08batch/s, accuracy=64.1, loss=0.00753]\n"
     ]
    },
    {
     "name": "stdout",
     "output_type": "stream",
     "text": [
      "current loss: 0.004569082624382443, current accuracy: 0.3333333333333333\n"
     ]
    },
    {
     "name": "stderr",
     "output_type": "stream",
     "text": [
      "Training Epoch 48/400: 100%|██████████| 36/36 [00:03<00:00, 11.88batch/s, accuracy=63.3, loss=0.00688]\n"
     ]
    },
    {
     "name": "stdout",
     "output_type": "stream",
     "text": [
      "current loss: 0.0045765915678607095, current accuracy: 0.34375\n"
     ]
    },
    {
     "name": "stderr",
     "output_type": "stream",
     "text": [
      "Training Epoch 49/400: 100%|██████████| 36/36 [00:03<00:00, 11.53batch/s, accuracy=68, loss=0.00731]  \n"
     ]
    },
    {
     "name": "stdout",
     "output_type": "stream",
     "text": [
      "current loss: 0.004569727099604077, current accuracy: 0.3333333333333333\n"
     ]
    },
    {
     "name": "stderr",
     "output_type": "stream",
     "text": [
      "Training Epoch 50/400: 100%|██████████| 36/36 [00:03<00:00, 11.96batch/s, accuracy=68, loss=0.0068]   \n"
     ]
    },
    {
     "name": "stdout",
     "output_type": "stream",
     "text": [
      "current loss: 0.004549200336138408, current accuracy: 0.34375\n"
     ]
    },
    {
     "name": "stderr",
     "output_type": "stream",
     "text": [
      "Training Epoch 51/400: 100%|██████████| 36/36 [00:03<00:00, 11.79batch/s, accuracy=67.2, loss=0.00688]\n"
     ]
    },
    {
     "name": "stdout",
     "output_type": "stream",
     "text": [
      "current loss: 0.004512823704216216, current accuracy: 0.3576388888888889\n"
     ]
    },
    {
     "name": "stderr",
     "output_type": "stream",
     "text": [
      "Training Epoch 52/400: 100%|██████████| 36/36 [00:03<00:00, 11.90batch/s, accuracy=65.6, loss=0.00701]\n"
     ]
    },
    {
     "name": "stdout",
     "output_type": "stream",
     "text": [
      "current loss: 0.004541397922568851, current accuracy: 0.3368055555555556\n"
     ]
    },
    {
     "name": "stderr",
     "output_type": "stream",
     "text": [
      "Training Epoch 53/400: 100%|██████████| 36/36 [00:03<00:00, 11.93batch/s, accuracy=57.8, loss=0.00723]\n"
     ]
    },
    {
     "name": "stdout",
     "output_type": "stream",
     "text": [
      "current loss: 0.004528294006983439, current accuracy: 0.3472222222222222\n"
     ]
    },
    {
     "name": "stderr",
     "output_type": "stream",
     "text": [
      "Training Epoch 54/400: 100%|██████████| 36/36 [00:03<00:00, 11.25batch/s, accuracy=68.8, loss=0.00676]\n"
     ]
    },
    {
     "name": "stdout",
     "output_type": "stream",
     "text": [
      "current loss: 0.004564409454663594, current accuracy: 0.3402777777777778\n"
     ]
    },
    {
     "name": "stderr",
     "output_type": "stream",
     "text": [
      "Training Epoch 55/400: 100%|██████████| 36/36 [00:03<00:00, 11.83batch/s, accuracy=64.8, loss=0.00653]\n"
     ]
    },
    {
     "name": "stdout",
     "output_type": "stream",
     "text": [
      "current loss: 0.004572135706742604, current accuracy: 0.3263888888888889\n"
     ]
    },
    {
     "name": "stderr",
     "output_type": "stream",
     "text": [
      "Training Epoch 56/400: 100%|██████████| 36/36 [00:03<00:00, 11.34batch/s, accuracy=64.1, loss=0.00714]\n"
     ]
    },
    {
     "name": "stdout",
     "output_type": "stream",
     "text": [
      "current loss: 0.004541878071096208, current accuracy: 0.3506944444444444\n"
     ]
    },
    {
     "name": "stderr",
     "output_type": "stream",
     "text": [
      "Training Epoch 57/400: 100%|██████████| 36/36 [00:02<00:00, 12.14batch/s, accuracy=62.5, loss=0.00733]\n"
     ]
    },
    {
     "name": "stdout",
     "output_type": "stream",
     "text": [
      "current loss: 0.004503572566641701, current accuracy: 0.3402777777777778\n"
     ]
    },
    {
     "name": "stderr",
     "output_type": "stream",
     "text": [
      "Training Epoch 58/400: 100%|██████████| 36/36 [00:02<00:00, 12.14batch/s, accuracy=66.4, loss=0.00687]\n"
     ]
    },
    {
     "name": "stdout",
     "output_type": "stream",
     "text": [
      "current loss: 0.004566863179206848, current accuracy: 0.3402777777777778\n"
     ]
    },
    {
     "name": "stderr",
     "output_type": "stream",
     "text": [
      "Training Epoch 59/400: 100%|██████████| 36/36 [00:02<00:00, 12.05batch/s, accuracy=60.2, loss=0.0071] \n"
     ]
    },
    {
     "name": "stdout",
     "output_type": "stream",
     "text": [
      "current loss: 0.004571148504813512, current accuracy: 0.3368055555555556\n"
     ]
    },
    {
     "name": "stderr",
     "output_type": "stream",
     "text": [
      "Training Epoch 60/400: 100%|██████████| 36/36 [00:03<00:00, 11.97batch/s, accuracy=67.2, loss=0.00679]\n"
     ]
    },
    {
     "name": "stdout",
     "output_type": "stream",
     "text": [
      "current loss: 0.004593391799264484, current accuracy: 0.3333333333333333\n"
     ]
    },
    {
     "name": "stderr",
     "output_type": "stream",
     "text": [
      "Training Epoch 61/400: 100%|██████████| 36/36 [00:02<00:00, 12.08batch/s, accuracy=64.8, loss=0.00696]\n"
     ]
    },
    {
     "name": "stdout",
     "output_type": "stream",
     "text": [
      "current loss: 0.0045429252915912205, current accuracy: 0.34375\n"
     ]
    },
    {
     "name": "stderr",
     "output_type": "stream",
     "text": [
      "Training Epoch 62/400: 100%|██████████| 36/36 [00:02<00:00, 12.27batch/s, accuracy=65.6, loss=0.00693]\n"
     ]
    },
    {
     "name": "stdout",
     "output_type": "stream",
     "text": [
      "current loss: 0.004548114620976978, current accuracy: 0.34375\n"
     ]
    },
    {
     "name": "stderr",
     "output_type": "stream",
     "text": [
      "Training Epoch 63/400: 100%|██████████| 36/36 [00:02<00:00, 12.36batch/s, accuracy=64.8, loss=0.00641]\n"
     ]
    },
    {
     "name": "stdout",
     "output_type": "stream",
     "text": [
      "current loss: 0.004564399520556132, current accuracy: 0.3402777777777778\n"
     ]
    },
    {
     "name": "stderr",
     "output_type": "stream",
     "text": [
      "Training Epoch 64/400: 100%|██████████| 36/36 [00:02<00:00, 12.42batch/s, accuracy=63.3, loss=0.00677]\n"
     ]
    },
    {
     "name": "stdout",
     "output_type": "stream",
     "text": [
      "current loss: 0.00455474563770824, current accuracy: 0.3541666666666667\n"
     ]
    },
    {
     "name": "stderr",
     "output_type": "stream",
     "text": [
      "Training Epoch 65/400: 100%|██████████| 36/36 [00:02<00:00, 12.37batch/s, accuracy=68.8, loss=0.00685]\n"
     ]
    },
    {
     "name": "stdout",
     "output_type": "stream",
     "text": [
      "current loss: 0.004587682584921519, current accuracy: 0.3263888888888889\n"
     ]
    },
    {
     "name": "stderr",
     "output_type": "stream",
     "text": [
      "Training Epoch 66/400: 100%|██████████| 36/36 [00:02<00:00, 12.32batch/s, accuracy=64.8, loss=0.00671]\n"
     ]
    },
    {
     "name": "stdout",
     "output_type": "stream",
     "text": [
      "current loss: 0.004551028211911519, current accuracy: 0.3298611111111111\n"
     ]
    },
    {
     "name": "stderr",
     "output_type": "stream",
     "text": [
      "Training Epoch 67/400: 100%|██████████| 36/36 [00:02<00:00, 12.43batch/s, accuracy=64.1, loss=0.007]  \n"
     ]
    },
    {
     "name": "stdout",
     "output_type": "stream",
     "text": [
      "current loss: 0.004492878499958251, current accuracy: 0.3611111111111111\n"
     ]
    },
    {
     "name": "stderr",
     "output_type": "stream",
     "text": [
      "Training Epoch 68/400: 100%|██████████| 36/36 [00:02<00:00, 12.34batch/s, accuracy=70.3, loss=0.00635]\n"
     ]
    },
    {
     "name": "stdout",
     "output_type": "stream",
     "text": [
      "current loss: 0.004553604457113478, current accuracy: 0.3402777777777778\n"
     ]
    },
    {
     "name": "stderr",
     "output_type": "stream",
     "text": [
      "Training Epoch 69/400: 100%|██████████| 36/36 [00:02<00:00, 12.26batch/s, accuracy=64.8, loss=0.00642]\n"
     ]
    },
    {
     "name": "stdout",
     "output_type": "stream",
     "text": [
      "current loss: 0.004570382336775462, current accuracy: 0.34375\n"
     ]
    },
    {
     "name": "stderr",
     "output_type": "stream",
     "text": [
      "Training Epoch 70/400: 100%|██████████| 36/36 [00:02<00:00, 12.40batch/s, accuracy=69.5, loss=0.00605]\n"
     ]
    },
    {
     "name": "stdout",
     "output_type": "stream",
     "text": [
      "current loss: 0.0045539190371831255, current accuracy: 0.3506944444444444\n"
     ]
    },
    {
     "name": "stderr",
     "output_type": "stream",
     "text": [
      "Training Epoch 71/400: 100%|██████████| 36/36 [00:02<00:00, 12.37batch/s, accuracy=65.6, loss=0.00642]\n"
     ]
    },
    {
     "name": "stdout",
     "output_type": "stream",
     "text": [
      "current loss: 0.004584151837560866, current accuracy: 0.34375\n"
     ]
    },
    {
     "name": "stderr",
     "output_type": "stream",
     "text": [
      "Training Epoch 72/400: 100%|██████████| 36/36 [00:03<00:00, 11.99batch/s, accuracy=67.2, loss=0.00612]\n"
     ]
    },
    {
     "name": "stdout",
     "output_type": "stream",
     "text": [
      "current loss: 0.004553729047377904, current accuracy: 0.3611111111111111\n"
     ]
    },
    {
     "name": "stderr",
     "output_type": "stream",
     "text": [
      "Training Epoch 73/400: 100%|██████████| 36/36 [00:03<00:00, 11.72batch/s, accuracy=70.3, loss=0.00618]\n"
     ]
    },
    {
     "name": "stdout",
     "output_type": "stream",
     "text": [
      "current loss: 0.0045230889485941995, current accuracy: 0.3541666666666667\n"
     ]
    },
    {
     "name": "stderr",
     "output_type": "stream",
     "text": [
      "Training Epoch 74/400: 100%|██████████| 36/36 [00:02<00:00, 12.26batch/s, accuracy=75, loss=0.00595]  \n"
     ]
    },
    {
     "name": "stdout",
     "output_type": "stream",
     "text": [
      "current loss: 0.004589909480677711, current accuracy: 0.3506944444444444\n"
     ]
    },
    {
     "name": "stderr",
     "output_type": "stream",
     "text": [
      "Training Epoch 75/400: 100%|██████████| 36/36 [00:03<00:00, 11.92batch/s, accuracy=71.9, loss=0.00627]\n"
     ]
    },
    {
     "name": "stdout",
     "output_type": "stream",
     "text": [
      "current loss: 0.004574285199244817, current accuracy: 0.3472222222222222\n"
     ]
    },
    {
     "name": "stderr",
     "output_type": "stream",
     "text": [
      "Training Epoch 76/400: 100%|██████████| 36/36 [00:02<00:00, 12.20batch/s, accuracy=70.3, loss=0.00618]\n"
     ]
    },
    {
     "name": "stdout",
     "output_type": "stream",
     "text": [
      "current loss: 0.00459840852353308, current accuracy: 0.3298611111111111\n"
     ]
    },
    {
     "name": "stderr",
     "output_type": "stream",
     "text": [
      "Training Epoch 77/400: 100%|██████████| 36/36 [00:03<00:00, 11.77batch/s, accuracy=72.7, loss=0.0058] \n"
     ]
    },
    {
     "name": "stdout",
     "output_type": "stream",
     "text": [
      "current loss: 0.004574889938036601, current accuracy: 0.3368055555555556\n"
     ]
    },
    {
     "name": "stderr",
     "output_type": "stream",
     "text": [
      "Training Epoch 78/400: 100%|██████████| 36/36 [00:02<00:00, 12.16batch/s, accuracy=69.5, loss=0.00632]\n"
     ]
    },
    {
     "name": "stdout",
     "output_type": "stream",
     "text": [
      "current loss: 0.004551219443480174, current accuracy: 0.3333333333333333\n"
     ]
    },
    {
     "name": "stderr",
     "output_type": "stream",
     "text": [
      "Training Epoch 79/400: 100%|██████████| 36/36 [00:03<00:00, 11.96batch/s, accuracy=72.7, loss=0.0059] \n"
     ]
    },
    {
     "name": "stdout",
     "output_type": "stream",
     "text": [
      "current loss: 0.0045620716280407375, current accuracy: 0.3576388888888889\n"
     ]
    },
    {
     "name": "stderr",
     "output_type": "stream",
     "text": [
      "Training Epoch 80/400: 100%|██████████| 36/36 [00:03<00:00, 11.98batch/s, accuracy=71.9, loss=0.00605]\n"
     ]
    },
    {
     "name": "stdout",
     "output_type": "stream",
     "text": [
      "current loss: 0.0046288859513070844, current accuracy: 0.3333333333333333\n"
     ]
    },
    {
     "name": "stderr",
     "output_type": "stream",
     "text": [
      "Training Epoch 81/400: 100%|██████████| 36/36 [00:02<00:00, 12.26batch/s, accuracy=72.7, loss=0.00582]\n"
     ]
    },
    {
     "name": "stdout",
     "output_type": "stream",
     "text": [
      "current loss: 0.004647360493739446, current accuracy: 0.3506944444444444\n"
     ]
    },
    {
     "name": "stderr",
     "output_type": "stream",
     "text": [
      "Training Epoch 82/400: 100%|██████████| 36/36 [00:03<00:00, 11.94batch/s, accuracy=74.2, loss=0.0062] \n"
     ]
    },
    {
     "name": "stdout",
     "output_type": "stream",
     "text": [
      "current loss: 0.0046092164185312055, current accuracy: 0.3333333333333333\n"
     ]
    },
    {
     "name": "stderr",
     "output_type": "stream",
     "text": [
      "Training Epoch 83/400: 100%|██████████| 36/36 [00:03<00:00, 11.94batch/s, accuracy=71.9, loss=0.00589]\n"
     ]
    },
    {
     "name": "stdout",
     "output_type": "stream",
     "text": [
      "current loss: 0.004611058367623223, current accuracy: 0.3506944444444444\n"
     ]
    },
    {
     "name": "stderr",
     "output_type": "stream",
     "text": [
      "Training Epoch 84/400: 100%|██████████| 36/36 [00:03<00:00, 11.25batch/s, accuracy=66.4, loss=0.00616]\n"
     ]
    },
    {
     "name": "stdout",
     "output_type": "stream",
     "text": [
      "current loss: 0.004639485230048497, current accuracy: 0.3506944444444444\n"
     ]
    },
    {
     "name": "stderr",
     "output_type": "stream",
     "text": [
      "Training Epoch 85/400: 100%|██████████| 36/36 [00:03<00:00, 11.60batch/s, accuracy=70.3, loss=0.00623]\n"
     ]
    },
    {
     "name": "stdout",
     "output_type": "stream",
     "text": [
      "current loss: 0.004634855108128654, current accuracy: 0.34375\n"
     ]
    },
    {
     "name": "stderr",
     "output_type": "stream",
     "text": [
      "Training Epoch 86/400: 100%|██████████| 36/36 [00:03<00:00, 11.29batch/s, accuracy=78.9, loss=0.00546]\n"
     ]
    },
    {
     "name": "stdout",
     "output_type": "stream",
     "text": [
      "current loss: 0.004613276571035385, current accuracy: 0.3298611111111111\n"
     ]
    },
    {
     "name": "stderr",
     "output_type": "stream",
     "text": [
      "Training Epoch 87/400: 100%|██████████| 36/36 [00:03<00:00, 11.94batch/s, accuracy=75.8, loss=0.00565]\n"
     ]
    },
    {
     "name": "stdout",
     "output_type": "stream",
     "text": [
      "current loss: 0.004617639713817173, current accuracy: 0.3368055555555556\n"
     ]
    },
    {
     "name": "stderr",
     "output_type": "stream",
     "text": [
      "Training Epoch 88/400: 100%|██████████| 36/36 [00:03<00:00, 11.83batch/s, accuracy=75, loss=0.00582]  \n"
     ]
    },
    {
     "name": "stdout",
     "output_type": "stream",
     "text": [
      "current loss: 0.004604039920700921, current accuracy: 0.3472222222222222\n"
     ]
    },
    {
     "name": "stderr",
     "output_type": "stream",
     "text": [
      "Training Epoch 89/400: 100%|██████████| 36/36 [00:03<00:00, 11.81batch/s, accuracy=74.2, loss=0.00595]\n"
     ]
    },
    {
     "name": "stdout",
     "output_type": "stream",
     "text": [
      "current loss: 0.004592721660931905, current accuracy: 0.3541666666666667\n"
     ]
    },
    {
     "name": "stderr",
     "output_type": "stream",
     "text": [
      "Training Epoch 90/400: 100%|██████████| 36/36 [00:03<00:00, 11.29batch/s, accuracy=80.5, loss=0.0053] \n"
     ]
    },
    {
     "name": "stdout",
     "output_type": "stream",
     "text": [
      "current loss: 0.00466296739048428, current accuracy: 0.3229166666666667\n"
     ]
    },
    {
     "name": "stderr",
     "output_type": "stream",
     "text": [
      "Training Epoch 91/400: 100%|██████████| 36/36 [00:02<00:00, 12.21batch/s, accuracy=68.8, loss=0.00625]\n"
     ]
    },
    {
     "name": "stdout",
     "output_type": "stream",
     "text": [
      "current loss: 0.004626333713531494, current accuracy: 0.3263888888888889\n"
     ]
    },
    {
     "name": "stderr",
     "output_type": "stream",
     "text": [
      "Training Epoch 92/400: 100%|██████████| 36/36 [00:03<00:00, 11.64batch/s, accuracy=76.6, loss=0.00519]\n"
     ]
    },
    {
     "name": "stdout",
     "output_type": "stream",
     "text": [
      "current loss: 0.004634046720133888, current accuracy: 0.3402777777777778\n"
     ]
    },
    {
     "name": "stderr",
     "output_type": "stream",
     "text": [
      "Training Epoch 93/400: 100%|██████████| 36/36 [00:03<00:00, 11.80batch/s, accuracy=73.4, loss=0.00588]\n"
     ]
    },
    {
     "name": "stdout",
     "output_type": "stream",
     "text": [
      "current loss: 0.004674870520830154, current accuracy: 0.3472222222222222\n"
     ]
    },
    {
     "name": "stderr",
     "output_type": "stream",
     "text": [
      "Training Epoch 94/400: 100%|██████████| 36/36 [00:03<00:00, 11.25batch/s, accuracy=70.3, loss=0.00592]\n"
     ]
    },
    {
     "name": "stdout",
     "output_type": "stream",
     "text": [
      "current loss: 0.004668302420112822, current accuracy: 0.3472222222222222\n"
     ]
    },
    {
     "name": "stderr",
     "output_type": "stream",
     "text": [
      "Training Epoch 95/400: 100%|██████████| 36/36 [00:03<00:00, 10.93batch/s, accuracy=71.1, loss=0.00574]\n"
     ]
    },
    {
     "name": "stdout",
     "output_type": "stream",
     "text": [
      "current loss: 0.004617078022824394, current accuracy: 0.3506944444444444\n"
     ]
    },
    {
     "name": "stderr",
     "output_type": "stream",
     "text": [
      "Training Epoch 96/400: 100%|██████████| 36/36 [00:03<00:00, 11.89batch/s, accuracy=71.9, loss=0.00578]\n"
     ]
    },
    {
     "name": "stdout",
     "output_type": "stream",
     "text": [
      "current loss: 0.004637395756112205, current accuracy: 0.3541666666666667\n"
     ]
    },
    {
     "name": "stderr",
     "output_type": "stream",
     "text": [
      "Training Epoch 97/400: 100%|██████████| 36/36 [00:02<00:00, 12.05batch/s, accuracy=69.5, loss=0.00594]\n"
     ]
    },
    {
     "name": "stdout",
     "output_type": "stream",
     "text": [
      "current loss: 0.0047083037594954176, current accuracy: 0.3263888888888889\n"
     ]
    },
    {
     "name": "stderr",
     "output_type": "stream",
     "text": [
      "Training Epoch 98/400: 100%|██████████| 36/36 [00:03<00:00, 11.92batch/s, accuracy=74.2, loss=0.00566]\n"
     ]
    },
    {
     "name": "stdout",
     "output_type": "stream",
     "text": [
      "current loss: 0.0046956953075197, current accuracy: 0.3402777777777778\n"
     ]
    },
    {
     "name": "stderr",
     "output_type": "stream",
     "text": [
      "Training Epoch 99/400: 100%|██████████| 36/36 [00:03<00:00, 11.60batch/s, accuracy=78.9, loss=0.00561]\n"
     ]
    },
    {
     "name": "stdout",
     "output_type": "stream",
     "text": [
      "current loss: 0.004654584659470452, current accuracy: 0.3506944444444444\n"
     ]
    },
    {
     "name": "stderr",
     "output_type": "stream",
     "text": [
      "Training Epoch 100/400: 100%|██████████| 36/36 [00:03<00:00, 11.78batch/s, accuracy=75.8, loss=0.00546]\n"
     ]
    },
    {
     "name": "stdout",
     "output_type": "stream",
     "text": [
      "current loss: 0.004646178748872545, current accuracy: 0.3402777777777778\n"
     ]
    },
    {
     "name": "stderr",
     "output_type": "stream",
     "text": [
      "Training Epoch 101/400: 100%|██████████| 36/36 [00:03<00:00, 11.93batch/s, accuracy=77.3, loss=0.00525]\n"
     ]
    },
    {
     "name": "stdout",
     "output_type": "stream",
     "text": [
      "current loss: 0.004743651797374089, current accuracy: 0.3263888888888889\n"
     ]
    },
    {
     "name": "stderr",
     "output_type": "stream",
     "text": [
      "Training Epoch 102/400: 100%|██████████| 36/36 [00:03<00:00, 11.65batch/s, accuracy=82, loss=0.00529]  \n"
     ]
    },
    {
     "name": "stdout",
     "output_type": "stream",
     "text": [
      "current loss: 0.004641739858521355, current accuracy: 0.3506944444444444\n"
     ]
    },
    {
     "name": "stderr",
     "output_type": "stream",
     "text": [
      "Training Epoch 103/400: 100%|██████████| 36/36 [00:03<00:00, 11.77batch/s, accuracy=75.8, loss=0.0053] \n"
     ]
    },
    {
     "name": "stdout",
     "output_type": "stream",
     "text": [
      "current loss: 0.004673925538857778, current accuracy: 0.3402777777777778\n"
     ]
    },
    {
     "name": "stderr",
     "output_type": "stream",
     "text": [
      "Training Epoch 104/400: 100%|██████████| 36/36 [00:03<00:00, 11.79batch/s, accuracy=78.1, loss=0.00541]\n"
     ]
    },
    {
     "name": "stdout",
     "output_type": "stream",
     "text": [
      "current loss: 0.004641857826047474, current accuracy: 0.34375\n"
     ]
    },
    {
     "name": "stderr",
     "output_type": "stream",
     "text": [
      "Training Epoch 105/400: 100%|██████████| 36/36 [00:03<00:00, 11.81batch/s, accuracy=78.9, loss=0.00529]\n"
     ]
    },
    {
     "name": "stdout",
     "output_type": "stream",
     "text": [
      "current loss: 0.004604135950406392, current accuracy: 0.3645833333333333\n"
     ]
    },
    {
     "name": "stderr",
     "output_type": "stream",
     "text": [
      "Training Epoch 106/400: 100%|██████████| 36/36 [00:03<00:00, 11.25batch/s, accuracy=71.9, loss=0.0052] \n"
     ]
    },
    {
     "name": "stdout",
     "output_type": "stream",
     "text": [
      "current loss: 0.004683651443984773, current accuracy: 0.3298611111111111\n"
     ]
    },
    {
     "name": "stderr",
     "output_type": "stream",
     "text": [
      "Training Epoch 107/400: 100%|██████████| 36/36 [00:02<00:00, 12.14batch/s, accuracy=83.6, loss=0.00507]\n"
     ]
    },
    {
     "name": "stdout",
     "output_type": "stream",
     "text": [
      "current loss: 0.004667263891961839, current accuracy: 0.3576388888888889\n"
     ]
    },
    {
     "name": "stderr",
     "output_type": "stream",
     "text": [
      "Training Epoch 108/400: 100%|██████████| 36/36 [00:02<00:00, 12.35batch/s, accuracy=68.8, loss=0.00571]\n"
     ]
    },
    {
     "name": "stdout",
     "output_type": "stream",
     "text": [
      "current loss: 0.004597692026032342, current accuracy: 0.3645833333333333\n"
     ]
    },
    {
     "name": "stderr",
     "output_type": "stream",
     "text": [
      "Training Epoch 109/400: 100%|██████████| 36/36 [00:02<00:00, 12.32batch/s, accuracy=74.2, loss=0.0052] \n"
     ]
    },
    {
     "name": "stdout",
     "output_type": "stream",
     "text": [
      "current loss: 0.004693287114302318, current accuracy: 0.3298611111111111\n"
     ]
    },
    {
     "name": "stderr",
     "output_type": "stream",
     "text": [
      "Training Epoch 110/400: 100%|██████████| 36/36 [00:02<00:00, 12.47batch/s, accuracy=75.8, loss=0.00568]\n"
     ]
    },
    {
     "name": "stdout",
     "output_type": "stream",
     "text": [
      "current loss: 0.004647153947088454, current accuracy: 0.3472222222222222\n"
     ]
    },
    {
     "name": "stderr",
     "output_type": "stream",
     "text": [
      "Training Epoch 111/400: 100%|██████████| 36/36 [00:02<00:00, 12.41batch/s, accuracy=83.6, loss=0.00486]\n"
     ]
    },
    {
     "name": "stdout",
     "output_type": "stream",
     "text": [
      "current loss: 0.004732484618822734, current accuracy: 0.3368055555555556\n"
     ]
    },
    {
     "name": "stderr",
     "output_type": "stream",
     "text": [
      "Training Epoch 112/400: 100%|██████████| 36/36 [00:02<00:00, 12.00batch/s, accuracy=83.6, loss=0.00482]\n"
     ]
    },
    {
     "name": "stdout",
     "output_type": "stream",
     "text": [
      "current loss: 0.004700526595115662, current accuracy: 0.3472222222222222\n"
     ]
    },
    {
     "name": "stderr",
     "output_type": "stream",
     "text": [
      "Training Epoch 113/400: 100%|██████████| 36/36 [00:02<00:00, 12.07batch/s, accuracy=79.7, loss=0.00477]\n"
     ]
    },
    {
     "name": "stdout",
     "output_type": "stream",
     "text": [
      "current loss: 0.004688397877746158, current accuracy: 0.34375\n"
     ]
    },
    {
     "name": "stderr",
     "output_type": "stream",
     "text": [
      "Training Epoch 114/400: 100%|██████████| 36/36 [00:03<00:00, 11.96batch/s, accuracy=83.6, loss=0.00479]\n"
     ]
    },
    {
     "name": "stdout",
     "output_type": "stream",
     "text": [
      "current loss: 0.004639147056473626, current accuracy: 0.3541666666666667\n"
     ]
    },
    {
     "name": "stderr",
     "output_type": "stream",
     "text": [
      "Training Epoch 115/400: 100%|██████████| 36/36 [00:03<00:00, 11.01batch/s, accuracy=84.4, loss=0.00476]\n"
     ]
    },
    {
     "name": "stdout",
     "output_type": "stream",
     "text": [
      "current loss: 0.004671938717365265, current accuracy: 0.3402777777777778\n"
     ]
    },
    {
     "name": "stderr",
     "output_type": "stream",
     "text": [
      "Training Epoch 116/400: 100%|██████████| 36/36 [00:03<00:00, 11.29batch/s, accuracy=82, loss=0.00465]  \n"
     ]
    },
    {
     "name": "stdout",
     "output_type": "stream",
     "text": [
      "current loss: 0.004672913501660029, current accuracy: 0.3541666666666667\n"
     ]
    },
    {
     "name": "stderr",
     "output_type": "stream",
     "text": [
      "Training Epoch 117/400: 100%|██████████| 36/36 [00:03<00:00, 11.21batch/s, accuracy=75, loss=0.00523]  \n"
     ]
    },
    {
     "name": "stdout",
     "output_type": "stream",
     "text": [
      "current loss: 0.0047267356680499185, current accuracy: 0.3368055555555556\n"
     ]
    },
    {
     "name": "stderr",
     "output_type": "stream",
     "text": [
      "Training Epoch 118/400: 100%|██████████| 36/36 [00:03<00:00, 11.85batch/s, accuracy=81.2, loss=0.00457]\n"
     ]
    },
    {
     "name": "stdout",
     "output_type": "stream",
     "text": [
      "current loss: 0.004626503421200646, current accuracy: 0.3506944444444444\n"
     ]
    },
    {
     "name": "stderr",
     "output_type": "stream",
     "text": [
      "Training Epoch 119/400: 100%|██████████| 36/36 [00:02<00:00, 12.03batch/s, accuracy=77.3, loss=0.00458]\n"
     ]
    },
    {
     "name": "stdout",
     "output_type": "stream",
     "text": [
      "current loss: 0.004692563994063271, current accuracy: 0.34375\n"
     ]
    },
    {
     "name": "stderr",
     "output_type": "stream",
     "text": [
      "Training Epoch 120/400: 100%|██████████| 36/36 [00:03<00:00, 11.87batch/s, accuracy=78.1, loss=0.0048] \n"
     ]
    },
    {
     "name": "stdout",
     "output_type": "stream",
     "text": [
      "current loss: 0.004748145739237468, current accuracy: 0.3333333333333333\n"
     ]
    },
    {
     "name": "stderr",
     "output_type": "stream",
     "text": [
      "Training Epoch 121/400: 100%|██████████| 36/36 [00:02<00:00, 12.05batch/s, accuracy=77.3, loss=0.00465]\n"
     ]
    },
    {
     "name": "stdout",
     "output_type": "stream",
     "text": [
      "current loss: 0.004718805352846782, current accuracy: 0.34375\n"
     ]
    },
    {
     "name": "stderr",
     "output_type": "stream",
     "text": [
      "Training Epoch 122/400: 100%|██████████| 36/36 [00:03<00:00, 11.69batch/s, accuracy=75.8, loss=0.00508]\n"
     ]
    },
    {
     "name": "stdout",
     "output_type": "stream",
     "text": [
      "current loss: 0.004797995918326908, current accuracy: 0.3298611111111111\n"
     ]
    },
    {
     "name": "stderr",
     "output_type": "stream",
     "text": [
      "Training Epoch 123/400: 100%|██████████| 36/36 [00:03<00:00, 11.35batch/s, accuracy=79.7, loss=0.00466]\n"
     ]
    },
    {
     "name": "stdout",
     "output_type": "stream",
     "text": [
      "current loss: 0.00467458532916175, current accuracy: 0.3576388888888889\n"
     ]
    },
    {
     "name": "stderr",
     "output_type": "stream",
     "text": [
      "Training Epoch 124/400: 100%|██████████| 36/36 [00:03<00:00, 11.76batch/s, accuracy=80.5, loss=0.00485]\n"
     ]
    },
    {
     "name": "stdout",
     "output_type": "stream",
     "text": [
      "current loss: 0.004733609242571725, current accuracy: 0.34375\n"
     ]
    },
    {
     "name": "stderr",
     "output_type": "stream",
     "text": [
      "Training Epoch 125/400: 100%|██████████| 36/36 [00:03<00:00, 11.74batch/s, accuracy=82.8, loss=0.00462]\n"
     ]
    },
    {
     "name": "stdout",
     "output_type": "stream",
     "text": [
      "current loss: 0.004669299970070521, current accuracy: 0.3506944444444444\n"
     ]
    },
    {
     "name": "stderr",
     "output_type": "stream",
     "text": [
      "Training Epoch 126/400: 100%|██████████| 36/36 [00:02<00:00, 12.34batch/s, accuracy=80.5, loss=0.00495]\n"
     ]
    },
    {
     "name": "stdout",
     "output_type": "stream",
     "text": [
      "current loss: 0.004710802601443397, current accuracy: 0.3472222222222222\n"
     ]
    },
    {
     "name": "stderr",
     "output_type": "stream",
     "text": [
      "Training Epoch 127/400: 100%|██████████| 36/36 [00:03<00:00, 11.96batch/s, accuracy=82.8, loss=0.00436]\n"
     ]
    },
    {
     "name": "stdout",
     "output_type": "stream",
     "text": [
      "current loss: 0.004758727219369676, current accuracy: 0.3506944444444444\n"
     ]
    },
    {
     "name": "stderr",
     "output_type": "stream",
     "text": [
      "Training Epoch 128/400: 100%|██████████| 36/36 [00:02<00:00, 12.05batch/s, accuracy=78.9, loss=0.00484]\n"
     ]
    },
    {
     "name": "stdout",
     "output_type": "stream",
     "text": [
      "current loss: 0.00463246140215132, current accuracy: 0.3576388888888889\n"
     ]
    },
    {
     "name": "stderr",
     "output_type": "stream",
     "text": [
      "Training Epoch 129/400: 100%|██████████| 36/36 [00:03<00:00, 11.30batch/s, accuracy=72.7, loss=0.00526]\n"
     ]
    },
    {
     "name": "stdout",
     "output_type": "stream",
     "text": [
      "current loss: 0.0046738845606644945, current accuracy: 0.3506944444444444\n"
     ]
    },
    {
     "name": "stderr",
     "output_type": "stream",
     "text": [
      "Training Epoch 130/400: 100%|██████████| 36/36 [00:03<00:00, 11.50batch/s, accuracy=83.6, loss=0.00436]\n"
     ]
    },
    {
     "name": "stdout",
     "output_type": "stream",
     "text": [
      "current loss: 0.004710043470064799, current accuracy: 0.3506944444444444\n"
     ]
    },
    {
     "name": "stderr",
     "output_type": "stream",
     "text": [
      "Training Epoch 131/400: 100%|██████████| 36/36 [00:03<00:00, 11.95batch/s, accuracy=78.1, loss=0.00499]\n"
     ]
    },
    {
     "name": "stdout",
     "output_type": "stream",
     "text": [
      "current loss: 0.004725645399755902, current accuracy: 0.3541666666666667\n"
     ]
    },
    {
     "name": "stderr",
     "output_type": "stream",
     "text": [
      "Training Epoch 132/400: 100%|██████████| 36/36 [00:02<00:00, 12.06batch/s, accuracy=82, loss=0.00442]  \n"
     ]
    },
    {
     "name": "stdout",
     "output_type": "stream",
     "text": [
      "current loss: 0.00471627919210328, current accuracy: 0.3368055555555556\n"
     ]
    },
    {
     "name": "stderr",
     "output_type": "stream",
     "text": [
      "Training Epoch 133/400: 100%|██████████| 36/36 [00:03<00:00, 11.87batch/s, accuracy=79.7, loss=0.00434]\n"
     ]
    },
    {
     "name": "stdout",
     "output_type": "stream",
     "text": [
      "current loss: 0.0047338977456092834, current accuracy: 0.34375\n"
     ]
    },
    {
     "name": "stderr",
     "output_type": "stream",
     "text": [
      "Training Epoch 134/400: 100%|██████████| 36/36 [00:03<00:00, 11.99batch/s, accuracy=85.9, loss=0.00453]\n"
     ]
    },
    {
     "name": "stdout",
     "output_type": "stream",
     "text": [
      "current loss: 0.004749906145864063, current accuracy: 0.34375\n"
     ]
    },
    {
     "name": "stderr",
     "output_type": "stream",
     "text": [
      "Training Epoch 135/400: 100%|██████████| 36/36 [00:02<00:00, 12.16batch/s, accuracy=76.6, loss=0.00483]\n"
     ]
    },
    {
     "name": "stdout",
     "output_type": "stream",
     "text": [
      "current loss: 0.0047703757882118225, current accuracy: 0.34375\n"
     ]
    },
    {
     "name": "stderr",
     "output_type": "stream",
     "text": [
      "Training Epoch 136/400: 100%|██████████| 36/36 [00:03<00:00, 11.39batch/s, accuracy=76.6, loss=0.00493]\n"
     ]
    },
    {
     "name": "stdout",
     "output_type": "stream",
     "text": [
      "current loss: 0.004702989012002945, current accuracy: 0.34375\n"
     ]
    },
    {
     "name": "stderr",
     "output_type": "stream",
     "text": [
      "Training Epoch 137/400: 100%|██████████| 36/36 [00:03<00:00, 11.80batch/s, accuracy=84.4, loss=0.00441]\n"
     ]
    },
    {
     "name": "stdout",
     "output_type": "stream",
     "text": [
      "current loss: 0.0047299907439284855, current accuracy: 0.3333333333333333\n"
     ]
    },
    {
     "name": "stderr",
     "output_type": "stream",
     "text": [
      "Training Epoch 138/400: 100%|██████████| 36/36 [00:03<00:00, 11.61batch/s, accuracy=80.5, loss=0.00435]\n"
     ]
    },
    {
     "name": "stdout",
     "output_type": "stream",
     "text": [
      "current loss: 0.004711516615417268, current accuracy: 0.3541666666666667\n"
     ]
    },
    {
     "name": "stderr",
     "output_type": "stream",
     "text": [
      "Training Epoch 139/400: 100%|██████████| 36/36 [00:03<00:00, 11.45batch/s, accuracy=79.7, loss=0.00435]\n"
     ]
    },
    {
     "name": "stdout",
     "output_type": "stream",
     "text": [
      "current loss: 0.004685568726725048, current accuracy: 0.34375\n"
     ]
    },
    {
     "name": "stderr",
     "output_type": "stream",
     "text": [
      "Training Epoch 140/400: 100%|██████████| 36/36 [00:03<00:00, 11.80batch/s, accuracy=80.5, loss=0.0045] \n"
     ]
    },
    {
     "name": "stdout",
     "output_type": "stream",
     "text": [
      "current loss: 0.004759101818005244, current accuracy: 0.3368055555555556\n"
     ]
    },
    {
     "name": "stderr",
     "output_type": "stream",
     "text": [
      "Training Epoch 141/400: 100%|██████████| 36/36 [00:02<00:00, 12.03batch/s, accuracy=80.5, loss=0.00459]\n"
     ]
    },
    {
     "name": "stdout",
     "output_type": "stream",
     "text": [
      "current loss: 0.00472026194135348, current accuracy: 0.34375\n"
     ]
    },
    {
     "name": "stderr",
     "output_type": "stream",
     "text": [
      "Training Epoch 142/400: 100%|██████████| 36/36 [00:03<00:00, 11.78batch/s, accuracy=82, loss=0.00446]  \n"
     ]
    },
    {
     "name": "stdout",
     "output_type": "stream",
     "text": [
      "current loss: 0.004694589310222202, current accuracy: 0.3472222222222222\n"
     ]
    },
    {
     "name": "stderr",
     "output_type": "stream",
     "text": [
      "Training Epoch 143/400: 100%|██████████| 36/36 [00:03<00:00, 11.38batch/s, accuracy=81.2, loss=0.00443]\n"
     ]
    },
    {
     "name": "stdout",
     "output_type": "stream",
     "text": [
      "current loss: 0.004789536197980245, current accuracy: 0.3368055555555556\n"
     ]
    },
    {
     "name": "stderr",
     "output_type": "stream",
     "text": [
      "Training Epoch 144/400: 100%|██████████| 36/36 [00:02<00:00, 12.01batch/s, accuracy=81.2, loss=0.00441]\n"
     ]
    },
    {
     "name": "stdout",
     "output_type": "stream",
     "text": [
      "current loss: 0.004788248903221554, current accuracy: 0.3368055555555556\n"
     ]
    },
    {
     "name": "stderr",
     "output_type": "stream",
     "text": [
      "Training Epoch 145/400: 100%|██████████| 36/36 [00:03<00:00, 11.86batch/s, accuracy=81.2, loss=0.00433]\n"
     ]
    },
    {
     "name": "stdout",
     "output_type": "stream",
     "text": [
      "current loss: 0.004776062236891853, current accuracy: 0.3402777777777778\n"
     ]
    },
    {
     "name": "stderr",
     "output_type": "stream",
     "text": [
      "Training Epoch 146/400: 100%|██████████| 36/36 [00:02<00:00, 12.08batch/s, accuracy=82, loss=0.00434]  \n"
     ]
    },
    {
     "name": "stdout",
     "output_type": "stream",
     "text": [
      "current loss: 0.004743707676728566, current accuracy: 0.34375\n"
     ]
    },
    {
     "name": "stderr",
     "output_type": "stream",
     "text": [
      "Training Epoch 147/400: 100%|██████████| 36/36 [00:02<00:00, 12.30batch/s, accuracy=82.8, loss=0.00403]\n"
     ]
    },
    {
     "name": "stdout",
     "output_type": "stream",
     "text": [
      "current loss: 0.004859525296423171, current accuracy: 0.3333333333333333\n"
     ]
    },
    {
     "name": "stderr",
     "output_type": "stream",
     "text": [
      "Training Epoch 148/400: 100%|██████████| 36/36 [00:02<00:00, 12.06batch/s, accuracy=79.7, loss=0.00466]\n"
     ]
    },
    {
     "name": "stdout",
     "output_type": "stream",
     "text": [
      "current loss: 0.004721525228685803, current accuracy: 0.3472222222222222\n"
     ]
    },
    {
     "name": "stderr",
     "output_type": "stream",
     "text": [
      "Training Epoch 149/400: 100%|██████████| 36/36 [00:02<00:00, 12.12batch/s, accuracy=79.7, loss=0.00473]\n"
     ]
    },
    {
     "name": "stdout",
     "output_type": "stream",
     "text": [
      "current loss: 0.004705728342135747, current accuracy: 0.3472222222222222\n"
     ]
    },
    {
     "name": "stderr",
     "output_type": "stream",
     "text": [
      "Training Epoch 150/400: 100%|██████████| 36/36 [00:03<00:00, 11.89batch/s, accuracy=85.9, loss=0.00396]\n"
     ]
    },
    {
     "name": "stdout",
     "output_type": "stream",
     "text": [
      "current loss: 0.00473737551106347, current accuracy: 0.3472222222222222\n"
     ]
    },
    {
     "name": "stderr",
     "output_type": "stream",
     "text": [
      "Training Epoch 151/400: 100%|██████████| 36/36 [00:03<00:00, 11.72batch/s, accuracy=76.6, loss=0.00455]\n"
     ]
    },
    {
     "name": "stdout",
     "output_type": "stream",
     "text": [
      "current loss: 0.004801759703291787, current accuracy: 0.3333333333333333\n"
     ]
    },
    {
     "name": "stderr",
     "output_type": "stream",
     "text": [
      "Training Epoch 152/400: 100%|██████████| 36/36 [00:03<00:00, 11.77batch/s, accuracy=80.5, loss=0.00415]\n"
     ]
    },
    {
     "name": "stdout",
     "output_type": "stream",
     "text": [
      "current loss: 0.004838019609451294, current accuracy: 0.3368055555555556\n"
     ]
    },
    {
     "name": "stderr",
     "output_type": "stream",
     "text": [
      "Training Epoch 153/400: 100%|██████████| 36/36 [00:03<00:00, 11.01batch/s, accuracy=84.4, loss=0.00408]\n"
     ]
    },
    {
     "name": "stdout",
     "output_type": "stream",
     "text": [
      "current loss: 0.004800962491167916, current accuracy: 0.3541666666666667\n"
     ]
    },
    {
     "name": "stderr",
     "output_type": "stream",
     "text": [
      "Training Epoch 154/400: 100%|██████████| 36/36 [00:03<00:00, 11.67batch/s, accuracy=80.5, loss=0.00411]\n"
     ]
    },
    {
     "name": "stdout",
     "output_type": "stream",
     "text": [
      "current loss: 0.004824149525827832, current accuracy: 0.3368055555555556\n"
     ]
    },
    {
     "name": "stderr",
     "output_type": "stream",
     "text": [
      "Training Epoch 155/400: 100%|██████████| 36/36 [00:02<00:00, 12.00batch/s, accuracy=86.7, loss=0.00415]\n"
     ]
    },
    {
     "name": "stdout",
     "output_type": "stream",
     "text": [
      "current loss: 0.004737573365370433, current accuracy: 0.3680555555555556\n"
     ]
    },
    {
     "name": "stderr",
     "output_type": "stream",
     "text": [
      "Training Epoch 156/400: 100%|██████████| 36/36 [00:03<00:00, 11.87batch/s, accuracy=82, loss=0.00445]  \n"
     ]
    },
    {
     "name": "stdout",
     "output_type": "stream",
     "text": [
      "current loss: 0.004734239644474453, current accuracy: 0.3472222222222222\n"
     ]
    },
    {
     "name": "stderr",
     "output_type": "stream",
     "text": [
      "Training Epoch 157/400: 100%|██████████| 36/36 [00:02<00:00, 12.01batch/s, accuracy=83.6, loss=0.00436]\n"
     ]
    },
    {
     "name": "stdout",
     "output_type": "stream",
     "text": [
      "current loss: 0.004829298290941451, current accuracy: 0.3263888888888889\n"
     ]
    },
    {
     "name": "stderr",
     "output_type": "stream",
     "text": [
      "Training Epoch 158/400: 100%|██████████| 36/36 [00:03<00:00, 11.75batch/s, accuracy=86.7, loss=0.00363]\n"
     ]
    },
    {
     "name": "stdout",
     "output_type": "stream",
     "text": [
      "current loss: 0.004858372526036369, current accuracy: 0.3263888888888889\n"
     ]
    },
    {
     "name": "stderr",
     "output_type": "stream",
     "text": [
      "Training Epoch 159/400: 100%|██████████| 36/36 [00:02<00:00, 12.00batch/s, accuracy=85.9, loss=0.00367]\n"
     ]
    },
    {
     "name": "stdout",
     "output_type": "stream",
     "text": [
      "current loss: 0.00487835125790702, current accuracy: 0.3333333333333333\n"
     ]
    },
    {
     "name": "stderr",
     "output_type": "stream",
     "text": [
      "Training Epoch 160/400: 100%|██████████| 36/36 [00:02<00:00, 12.30batch/s, accuracy=79.7, loss=0.0043] \n"
     ]
    },
    {
     "name": "stdout",
     "output_type": "stream",
     "text": [
      "current loss: 0.004835675574011273, current accuracy: 0.34375\n"
     ]
    },
    {
     "name": "stderr",
     "output_type": "stream",
     "text": [
      "Training Epoch 161/400: 100%|██████████| 36/36 [00:02<00:00, 12.27batch/s, accuracy=79.7, loss=0.00427]\n"
     ]
    },
    {
     "name": "stdout",
     "output_type": "stream",
     "text": [
      "current loss: 0.004838125159343083, current accuracy: 0.3402777777777778\n"
     ]
    },
    {
     "name": "stderr",
     "output_type": "stream",
     "text": [
      "Training Epoch 162/400: 100%|██████████| 36/36 [00:02<00:00, 12.30batch/s, accuracy=87.5, loss=0.00397]\n"
     ]
    },
    {
     "name": "stdout",
     "output_type": "stream",
     "text": [
      "current loss: 0.004802486134899987, current accuracy: 0.3576388888888889\n"
     ]
    },
    {
     "name": "stderr",
     "output_type": "stream",
     "text": [
      "Training Epoch 163/400: 100%|██████████| 36/36 [00:02<00:00, 12.32batch/s, accuracy=88.3, loss=0.00416]\n"
     ]
    },
    {
     "name": "stdout",
     "output_type": "stream",
     "text": [
      "current loss: 0.004832060800658332, current accuracy: 0.3333333333333333\n"
     ]
    },
    {
     "name": "stderr",
     "output_type": "stream",
     "text": [
      "Training Epoch 164/400: 100%|██████████| 36/36 [00:02<00:00, 12.24batch/s, accuracy=82.8, loss=0.00379]\n"
     ]
    },
    {
     "name": "stdout",
     "output_type": "stream",
     "text": [
      "current loss: 0.004904153032435311, current accuracy: 0.3368055555555556\n"
     ]
    },
    {
     "name": "stderr",
     "output_type": "stream",
     "text": [
      "Training Epoch 165/400: 100%|██████████| 36/36 [00:02<00:00, 12.30batch/s, accuracy=85.2, loss=0.0036] \n"
     ]
    },
    {
     "name": "stdout",
     "output_type": "stream",
     "text": [
      "current loss: 0.004888056053055657, current accuracy: 0.3402777777777778\n"
     ]
    },
    {
     "name": "stderr",
     "output_type": "stream",
     "text": [
      "Training Epoch 166/400: 100%|██████████| 36/36 [00:02<00:00, 12.12batch/s, accuracy=85.2, loss=0.00402]\n"
     ]
    },
    {
     "name": "stdout",
     "output_type": "stream",
     "text": [
      "current loss: 0.004881079826090071, current accuracy: 0.3402777777777778\n"
     ]
    },
    {
     "name": "stderr",
     "output_type": "stream",
     "text": [
      "Training Epoch 167/400: 100%|██████████| 36/36 [00:03<00:00, 11.95batch/s, accuracy=87.5, loss=0.00358]\n"
     ]
    },
    {
     "name": "stdout",
     "output_type": "stream",
     "text": [
      "current loss: 0.004836805164813995, current accuracy: 0.3402777777777778\n"
     ]
    },
    {
     "name": "stderr",
     "output_type": "stream",
     "text": [
      "Training Epoch 168/400: 100%|██████████| 36/36 [00:03<00:00, 11.51batch/s, accuracy=83.6, loss=0.00422]\n"
     ]
    },
    {
     "name": "stdout",
     "output_type": "stream",
     "text": [
      "current loss: 0.004821438756253984, current accuracy: 0.3368055555555556\n"
     ]
    },
    {
     "name": "stderr",
     "output_type": "stream",
     "text": [
      "Training Epoch 169/400: 100%|██████████| 36/36 [00:03<00:00, 11.89batch/s, accuracy=82, loss=0.00427]  \n"
     ]
    },
    {
     "name": "stdout",
     "output_type": "stream",
     "text": [
      "current loss: 0.004835713240835402, current accuracy: 0.3541666666666667\n"
     ]
    },
    {
     "name": "stderr",
     "output_type": "stream",
     "text": [
      "Training Epoch 170/400: 100%|██████████| 36/36 [00:03<00:00, 11.10batch/s, accuracy=85.9, loss=0.00377]\n"
     ]
    },
    {
     "name": "stdout",
     "output_type": "stream",
     "text": [
      "current loss: 0.004844945751958423, current accuracy: 0.34375\n"
     ]
    },
    {
     "name": "stderr",
     "output_type": "stream",
     "text": [
      "Training Epoch 171/400: 100%|██████████| 36/36 [00:02<00:00, 12.14batch/s, accuracy=87.5, loss=0.00381]\n"
     ]
    },
    {
     "name": "stdout",
     "output_type": "stream",
     "text": [
      "current loss: 0.004938159965806537, current accuracy: 0.3333333333333333\n"
     ]
    },
    {
     "name": "stderr",
     "output_type": "stream",
     "text": [
      "Training Epoch 172/400: 100%|██████████| 36/36 [00:02<00:00, 12.43batch/s, accuracy=85.2, loss=0.00395]\n"
     ]
    },
    {
     "name": "stdout",
     "output_type": "stream",
     "text": [
      "current loss: 0.004881575703620911, current accuracy: 0.3611111111111111\n"
     ]
    },
    {
     "name": "stderr",
     "output_type": "stream",
     "text": [
      "Training Epoch 173/400: 100%|██████████| 36/36 [00:02<00:00, 12.28batch/s, accuracy=84.4, loss=0.0038] \n"
     ]
    },
    {
     "name": "stdout",
     "output_type": "stream",
     "text": [
      "current loss: 0.004973530355427001, current accuracy: 0.3402777777777778\n"
     ]
    },
    {
     "name": "stderr",
     "output_type": "stream",
     "text": [
      "Training Epoch 174/400: 100%|██████████| 36/36 [00:03<00:00, 11.82batch/s, accuracy=85.9, loss=0.00383]\n"
     ]
    },
    {
     "name": "stdout",
     "output_type": "stream",
     "text": [
      "current loss: 0.004842016018099255, current accuracy: 0.3333333333333333\n"
     ]
    },
    {
     "name": "stderr",
     "output_type": "stream",
     "text": [
      "Training Epoch 175/400: 100%|██████████| 36/36 [00:03<00:00, 11.27batch/s, accuracy=90.6, loss=0.00335]\n"
     ]
    },
    {
     "name": "stdout",
     "output_type": "stream",
     "text": [
      "current loss: 0.004917308688163757, current accuracy: 0.3402777777777778\n"
     ]
    },
    {
     "name": "stderr",
     "output_type": "stream",
     "text": [
      "Training Epoch 176/400: 100%|██████████| 36/36 [00:03<00:00, 11.20batch/s, accuracy=86.7, loss=0.0041] \n"
     ]
    },
    {
     "name": "stdout",
     "output_type": "stream",
     "text": [
      "current loss: 0.004991088476445939, current accuracy: 0.3368055555555556\n"
     ]
    },
    {
     "name": "stderr",
     "output_type": "stream",
     "text": [
      "Training Epoch 177/400: 100%|██████████| 36/36 [00:03<00:00, 11.64batch/s, accuracy=81.2, loss=0.00385]\n"
     ]
    },
    {
     "name": "stdout",
     "output_type": "stream",
     "text": [
      "current loss: 0.0049490779638290405, current accuracy: 0.3368055555555556\n"
     ]
    },
    {
     "name": "stderr",
     "output_type": "stream",
     "text": [
      "Training Epoch 178/400: 100%|██████████| 36/36 [00:03<00:00, 11.29batch/s, accuracy=88.3, loss=0.00375]\n"
     ]
    },
    {
     "name": "stdout",
     "output_type": "stream",
     "text": [
      "current loss: 0.005004763603210449, current accuracy: 0.3402777777777778\n"
     ]
    },
    {
     "name": "stderr",
     "output_type": "stream",
     "text": [
      "Training Epoch 179/400: 100%|██████████| 36/36 [00:03<00:00, 11.67batch/s, accuracy=82, loss=0.0041]   \n"
     ]
    },
    {
     "name": "stdout",
     "output_type": "stream",
     "text": [
      "current loss: 0.004948599884907405, current accuracy: 0.3368055555555556\n"
     ]
    },
    {
     "name": "stderr",
     "output_type": "stream",
     "text": [
      "Training Epoch 180/400: 100%|██████████| 36/36 [00:03<00:00, 10.75batch/s, accuracy=87.5, loss=0.00353]\n"
     ]
    },
    {
     "name": "stdout",
     "output_type": "stream",
     "text": [
      "current loss: 0.00500721029109425, current accuracy: 0.3333333333333333\n"
     ]
    },
    {
     "name": "stderr",
     "output_type": "stream",
     "text": [
      "Training Epoch 181/400: 100%|██████████| 36/36 [00:03<00:00, 11.08batch/s, accuracy=85.9, loss=0.0039] \n"
     ]
    },
    {
     "name": "stdout",
     "output_type": "stream",
     "text": [
      "current loss: 0.004940499862035115, current accuracy: 0.3298611111111111\n"
     ]
    },
    {
     "name": "stderr",
     "output_type": "stream",
     "text": [
      "Training Epoch 182/400: 100%|██████████| 36/36 [00:03<00:00, 11.65batch/s, accuracy=83.6, loss=0.004]  \n"
     ]
    },
    {
     "name": "stdout",
     "output_type": "stream",
     "text": [
      "current loss: 0.0049125005801518755, current accuracy: 0.3576388888888889\n"
     ]
    },
    {
     "name": "stderr",
     "output_type": "stream",
     "text": [
      "Training Epoch 183/400: 100%|██████████| 36/36 [00:03<00:00, 11.12batch/s, accuracy=85.2, loss=0.0038] \n"
     ]
    },
    {
     "name": "stdout",
     "output_type": "stream",
     "text": [
      "current loss: 0.004898105644517475, current accuracy: 0.3506944444444444\n"
     ]
    },
    {
     "name": "stderr",
     "output_type": "stream",
     "text": [
      "Training Epoch 184/400: 100%|██████████| 36/36 [00:03<00:00, 10.86batch/s, accuracy=85.9, loss=0.00333]\n"
     ]
    },
    {
     "name": "stdout",
     "output_type": "stream",
     "text": [
      "current loss: 0.004919259084595574, current accuracy: 0.3645833333333333\n"
     ]
    },
    {
     "name": "stderr",
     "output_type": "stream",
     "text": [
      "Training Epoch 185/400: 100%|██████████| 36/36 [00:03<00:00, 11.73batch/s, accuracy=85.9, loss=0.00368]\n"
     ]
    },
    {
     "name": "stdout",
     "output_type": "stream",
     "text": [
      "current loss: 0.004904246578613917, current accuracy: 0.3541666666666667\n"
     ]
    },
    {
     "name": "stderr",
     "output_type": "stream",
     "text": [
      "Training Epoch 186/400: 100%|██████████| 36/36 [00:03<00:00, 11.66batch/s, accuracy=89.1, loss=0.00363]\n"
     ]
    },
    {
     "name": "stdout",
     "output_type": "stream",
     "text": [
      "current loss: 0.004983164783981111, current accuracy: 0.3368055555555556\n"
     ]
    },
    {
     "name": "stderr",
     "output_type": "stream",
     "text": [
      "Training Epoch 187/400: 100%|██████████| 36/36 [00:03<00:00, 11.88batch/s, accuracy=92.2, loss=0.00336]\n"
     ]
    },
    {
     "name": "stdout",
     "output_type": "stream",
     "text": [
      "current loss: 0.004930357552236981, current accuracy: 0.3506944444444444\n"
     ]
    },
    {
     "name": "stderr",
     "output_type": "stream",
     "text": [
      "Training Epoch 188/400: 100%|██████████| 36/36 [00:03<00:00, 11.91batch/s, accuracy=85.2, loss=0.00389]\n"
     ]
    },
    {
     "name": "stdout",
     "output_type": "stream",
     "text": [
      "current loss: 0.004893346379200618, current accuracy: 0.3402777777777778\n"
     ]
    },
    {
     "name": "stderr",
     "output_type": "stream",
     "text": [
      "Training Epoch 189/400: 100%|██████████| 36/36 [00:02<00:00, 12.01batch/s, accuracy=85.2, loss=0.00351]\n"
     ]
    },
    {
     "name": "stdout",
     "output_type": "stream",
     "text": [
      "current loss: 0.004927754816081788, current accuracy: 0.3472222222222222\n"
     ]
    },
    {
     "name": "stderr",
     "output_type": "stream",
     "text": [
      "Training Epoch 190/400: 100%|██████████| 36/36 [00:03<00:00, 11.45batch/s, accuracy=82.8, loss=0.0039] \n"
     ]
    },
    {
     "name": "stdout",
     "output_type": "stream",
     "text": [
      "current loss: 0.004928167909383774, current accuracy: 0.3472222222222222\n"
     ]
    },
    {
     "name": "stderr",
     "output_type": "stream",
     "text": [
      "Training Epoch 191/400: 100%|██████████| 36/36 [00:03<00:00, 11.34batch/s, accuracy=89.1, loss=0.00355]\n"
     ]
    },
    {
     "name": "stdout",
     "output_type": "stream",
     "text": [
      "current loss: 0.00493492517206404, current accuracy: 0.3506944444444444\n"
     ]
    },
    {
     "name": "stderr",
     "output_type": "stream",
     "text": [
      "Training Epoch 192/400: 100%|██████████| 36/36 [00:03<00:00, 11.78batch/s, accuracy=87.5, loss=0.00343]\n"
     ]
    },
    {
     "name": "stdout",
     "output_type": "stream",
     "text": [
      "current loss: 0.004939360337124931, current accuracy: 0.3472222222222222\n"
     ]
    },
    {
     "name": "stderr",
     "output_type": "stream",
     "text": [
      "Training Epoch 193/400: 100%|██████████| 36/36 [00:03<00:00, 11.83batch/s, accuracy=89.1, loss=0.00329]\n"
     ]
    },
    {
     "name": "stdout",
     "output_type": "stream",
     "text": [
      "current loss: 0.004895764506525463, current accuracy: 0.3541666666666667\n"
     ]
    },
    {
     "name": "stderr",
     "output_type": "stream",
     "text": [
      "Training Epoch 194/400: 100%|██████████| 36/36 [00:03<00:00, 11.43batch/s, accuracy=89.1, loss=0.00356]\n"
     ]
    },
    {
     "name": "stdout",
     "output_type": "stream",
     "text": [
      "current loss: 0.004980113771226671, current accuracy: 0.3368055555555556\n"
     ]
    },
    {
     "name": "stderr",
     "output_type": "stream",
     "text": [
      "Training Epoch 195/400: 100%|██████████| 36/36 [00:03<00:00, 11.70batch/s, accuracy=85.9, loss=0.00372]\n"
     ]
    },
    {
     "name": "stdout",
     "output_type": "stream",
     "text": [
      "current loss: 0.004970458646615346, current accuracy: 0.3472222222222222\n"
     ]
    },
    {
     "name": "stderr",
     "output_type": "stream",
     "text": [
      "Training Epoch 196/400: 100%|██████████| 36/36 [00:03<00:00, 11.12batch/s, accuracy=87.5, loss=0.00379]\n"
     ]
    },
    {
     "name": "stdout",
     "output_type": "stream",
     "text": [
      "current loss: 0.0049162184198697405, current accuracy: 0.3472222222222222\n"
     ]
    },
    {
     "name": "stderr",
     "output_type": "stream",
     "text": [
      "Training Epoch 197/400: 100%|██████████| 36/36 [00:03<00:00, 10.86batch/s, accuracy=86.7, loss=0.00348]\n"
     ]
    },
    {
     "name": "stdout",
     "output_type": "stream",
     "text": [
      "current loss: 0.004992208547062344, current accuracy: 0.3333333333333333\n"
     ]
    },
    {
     "name": "stderr",
     "output_type": "stream",
     "text": [
      "Training Epoch 198/400: 100%|██████████| 36/36 [00:03<00:00, 11.50batch/s, accuracy=84.4, loss=0.00384]\n"
     ]
    },
    {
     "name": "stdout",
     "output_type": "stream",
     "text": [
      "current loss: 0.004997553096877204, current accuracy: 0.3576388888888889\n"
     ]
    },
    {
     "name": "stderr",
     "output_type": "stream",
     "text": [
      "Training Epoch 199/400: 100%|██████████| 36/36 [00:03<00:00, 11.78batch/s, accuracy=93, loss=0.0029]   \n"
     ]
    },
    {
     "name": "stdout",
     "output_type": "stream",
     "text": [
      "current loss: 0.005048342463043001, current accuracy: 0.3402777777777778\n"
     ]
    },
    {
     "name": "stderr",
     "output_type": "stream",
     "text": [
      "Training Epoch 200/400: 100%|██████████| 36/36 [00:03<00:00, 11.85batch/s, accuracy=90.6, loss=0.00353]\n"
     ]
    },
    {
     "name": "stdout",
     "output_type": "stream",
     "text": [
      "current loss: 0.004959047668510013, current accuracy: 0.3402777777777778\n"
     ]
    },
    {
     "name": "stderr",
     "output_type": "stream",
     "text": [
      "Training Epoch 201/400: 100%|██████████| 36/36 [00:03<00:00, 11.82batch/s, accuracy=90.6, loss=0.00321]\n"
     ]
    },
    {
     "name": "stdout",
     "output_type": "stream",
     "text": [
      "current loss: 0.004904516869121128, current accuracy: 0.3541666666666667\n"
     ]
    },
    {
     "name": "stderr",
     "output_type": "stream",
     "text": [
      "Training Epoch 202/400: 100%|██████████| 36/36 [00:03<00:00, 11.70batch/s, accuracy=85.9, loss=0.00311]\n"
     ]
    },
    {
     "name": "stdout",
     "output_type": "stream",
     "text": [
      "current loss: 0.005013586746321784, current accuracy: 0.34375\n"
     ]
    },
    {
     "name": "stderr",
     "output_type": "stream",
     "text": [
      "Training Epoch 203/400: 100%|██████████| 36/36 [00:02<00:00, 12.41batch/s, accuracy=89.8, loss=0.0035] \n"
     ]
    },
    {
     "name": "stdout",
     "output_type": "stream",
     "text": [
      "current loss: 0.005020764552884632, current accuracy: 0.3333333333333333\n"
     ]
    },
    {
     "name": "stderr",
     "output_type": "stream",
     "text": [
      "Training Epoch 204/400: 100%|██████████| 36/36 [00:02<00:00, 12.39batch/s, accuracy=90.6, loss=0.00306]\n"
     ]
    },
    {
     "name": "stdout",
     "output_type": "stream",
     "text": [
      "current loss: 0.005047544836997986, current accuracy: 0.3333333333333333\n"
     ]
    },
    {
     "name": "stderr",
     "output_type": "stream",
     "text": [
      "Training Epoch 205/400: 100%|██████████| 36/36 [00:02<00:00, 12.36batch/s, accuracy=91.4, loss=0.00304]\n"
     ]
    },
    {
     "name": "stdout",
     "output_type": "stream",
     "text": [
      "current loss: 0.004983237220181359, current accuracy: 0.3506944444444444\n"
     ]
    },
    {
     "name": "stderr",
     "output_type": "stream",
     "text": [
      "Training Epoch 206/400: 100%|██████████| 36/36 [00:02<00:00, 12.24batch/s, accuracy=89.8, loss=0.00314]\n"
     ]
    },
    {
     "name": "stdout",
     "output_type": "stream",
     "text": [
      "current loss: 0.004965418328841527, current accuracy: 0.3541666666666667\n"
     ]
    },
    {
     "name": "stderr",
     "output_type": "stream",
     "text": [
      "Training Epoch 207/400: 100%|██████████| 36/36 [00:03<00:00, 11.82batch/s, accuracy=89.8, loss=0.00331]\n"
     ]
    },
    {
     "name": "stdout",
     "output_type": "stream",
     "text": [
      "current loss: 0.004986334178182814, current accuracy: 0.3506944444444444\n"
     ]
    },
    {
     "name": "stderr",
     "output_type": "stream",
     "text": [
      "Training Epoch 208/400: 100%|██████████| 36/36 [00:03<00:00, 11.46batch/s, accuracy=89.1, loss=0.00302]\n"
     ]
    },
    {
     "name": "stdout",
     "output_type": "stream",
     "text": [
      "current loss: 0.005018665972683165, current accuracy: 0.3368055555555556\n"
     ]
    },
    {
     "name": "stderr",
     "output_type": "stream",
     "text": [
      "Training Epoch 209/400: 100%|██████████| 36/36 [00:03<00:00, 11.63batch/s, accuracy=90.6, loss=0.00314]\n"
     ]
    },
    {
     "name": "stdout",
     "output_type": "stream",
     "text": [
      "current loss: 0.005028617878754933, current accuracy: 0.34375\n"
     ]
    },
    {
     "name": "stderr",
     "output_type": "stream",
     "text": [
      "Training Epoch 210/400: 100%|██████████| 36/36 [00:03<00:00, 11.84batch/s, accuracy=87.5, loss=0.00308]\n"
     ]
    },
    {
     "name": "stdout",
     "output_type": "stream",
     "text": [
      "current loss: 0.004999475346671211, current accuracy: 0.3402777777777778\n"
     ]
    },
    {
     "name": "stderr",
     "output_type": "stream",
     "text": [
      "Training Epoch 211/400: 100%|██████████| 36/36 [00:02<00:00, 12.16batch/s, accuracy=86.7, loss=0.00366]\n"
     ]
    },
    {
     "name": "stdout",
     "output_type": "stream",
     "text": [
      "current loss: 0.005008954140875075, current accuracy: 0.3402777777777778\n"
     ]
    },
    {
     "name": "stderr",
     "output_type": "stream",
     "text": [
      "Training Epoch 212/400: 100%|██████████| 36/36 [00:02<00:00, 12.21batch/s, accuracy=83.6, loss=0.00381]\n"
     ]
    },
    {
     "name": "stdout",
     "output_type": "stream",
     "text": [
      "current loss: 0.005015394753879971, current accuracy: 0.3333333333333333\n"
     ]
    },
    {
     "name": "stderr",
     "output_type": "stream",
     "text": [
      "Training Epoch 213/400: 100%|██████████| 36/36 [00:03<00:00, 12.00batch/s, accuracy=87.5, loss=0.00333]\n"
     ]
    },
    {
     "name": "stdout",
     "output_type": "stream",
     "text": [
      "current loss: 0.005000229924917221, current accuracy: 0.3541666666666667\n"
     ]
    },
    {
     "name": "stderr",
     "output_type": "stream",
     "text": [
      "Training Epoch 214/400: 100%|██████████| 36/36 [00:03<00:00, 10.98batch/s, accuracy=91.4, loss=0.00325]\n"
     ]
    },
    {
     "name": "stdout",
     "output_type": "stream",
     "text": [
      "current loss: 0.004995533161693149, current accuracy: 0.3506944444444444\n"
     ]
    },
    {
     "name": "stderr",
     "output_type": "stream",
     "text": [
      "Training Epoch 215/400: 100%|██████████| 36/36 [00:03<00:00, 11.32batch/s, accuracy=86.7, loss=0.00308]\n"
     ]
    },
    {
     "name": "stdout",
     "output_type": "stream",
     "text": [
      "current loss: 0.005043554637167189, current accuracy: 0.3402777777777778\n"
     ]
    },
    {
     "name": "stderr",
     "output_type": "stream",
     "text": [
      "Training Epoch 216/400: 100%|██████████| 36/36 [00:03<00:00, 11.37batch/s, accuracy=91.4, loss=0.00308]\n"
     ]
    },
    {
     "name": "stdout",
     "output_type": "stream",
     "text": [
      "current loss: 0.005088196446498235, current accuracy: 0.3298611111111111\n"
     ]
    },
    {
     "name": "stderr",
     "output_type": "stream",
     "text": [
      "Training Epoch 217/400: 100%|██████████| 36/36 [00:02<00:00, 12.20batch/s, accuracy=88.3, loss=0.00326]\n"
     ]
    },
    {
     "name": "stdout",
     "output_type": "stream",
     "text": [
      "current loss: 0.005021313826243083, current accuracy: 0.3472222222222222\n"
     ]
    },
    {
     "name": "stderr",
     "output_type": "stream",
     "text": [
      "Training Epoch 218/400: 100%|██████████| 36/36 [00:03<00:00, 11.28batch/s, accuracy=88.3, loss=0.00329]\n"
     ]
    },
    {
     "name": "stdout",
     "output_type": "stream",
     "text": [
      "current loss: 0.004991728812456131, current accuracy: 0.3333333333333333\n"
     ]
    },
    {
     "name": "stderr",
     "output_type": "stream",
     "text": [
      "Training Epoch 219/400: 100%|██████████| 36/36 [00:02<00:00, 12.18batch/s, accuracy=90.6, loss=0.00279]\n"
     ]
    },
    {
     "name": "stdout",
     "output_type": "stream",
     "text": [
      "current loss: 0.005020989312065972, current accuracy: 0.3472222222222222\n"
     ]
    },
    {
     "name": "stderr",
     "output_type": "stream",
     "text": [
      "Training Epoch 220/400: 100%|██████████| 36/36 [00:03<00:00, 11.62batch/s, accuracy=90.6, loss=0.00311]\n"
     ]
    },
    {
     "name": "stdout",
     "output_type": "stream",
     "text": [
      "current loss: 0.005077041685581207, current accuracy: 0.3298611111111111\n"
     ]
    },
    {
     "name": "stderr",
     "output_type": "stream",
     "text": [
      "Training Epoch 221/400: 100%|██████████| 36/36 [00:03<00:00, 11.44batch/s, accuracy=92.2, loss=0.0028] \n"
     ]
    },
    {
     "name": "stdout",
     "output_type": "stream",
     "text": [
      "current loss: 0.004944482611285316, current accuracy: 0.3576388888888889\n"
     ]
    },
    {
     "name": "stderr",
     "output_type": "stream",
     "text": [
      "Training Epoch 222/400: 100%|██████████| 36/36 [00:03<00:00, 11.39batch/s, accuracy=88.3, loss=0.00309]\n"
     ]
    },
    {
     "name": "stdout",
     "output_type": "stream",
     "text": [
      "current loss: 0.004991114139556885, current accuracy: 0.34375\n"
     ]
    },
    {
     "name": "stderr",
     "output_type": "stream",
     "text": [
      "Training Epoch 223/400: 100%|██████████| 36/36 [00:03<00:00, 10.75batch/s, accuracy=85.9, loss=0.00359]\n"
     ]
    },
    {
     "name": "stdout",
     "output_type": "stream",
     "text": [
      "current loss: 0.004991941154003143, current accuracy: 0.3541666666666667\n"
     ]
    },
    {
     "name": "stderr",
     "output_type": "stream",
     "text": [
      "Training Epoch 224/400: 100%|██████████| 36/36 [00:03<00:00, 10.95batch/s, accuracy=94.5, loss=0.0031] \n"
     ]
    },
    {
     "name": "stdout",
     "output_type": "stream",
     "text": [
      "current loss: 0.005014567739433712, current accuracy: 0.3402777777777778\n"
     ]
    },
    {
     "name": "stderr",
     "output_type": "stream",
     "text": [
      "Training Epoch 225/400: 100%|██████████| 36/36 [00:03<00:00, 10.58batch/s, accuracy=94.5, loss=0.00281]\n"
     ]
    },
    {
     "name": "stdout",
     "output_type": "stream",
     "text": [
      "current loss: 0.005052298721339967, current accuracy: 0.3402777777777778\n"
     ]
    },
    {
     "name": "stderr",
     "output_type": "stream",
     "text": [
      "Training Epoch 226/400: 100%|██████████| 36/36 [00:03<00:00, 10.77batch/s, accuracy=88.3, loss=0.0031] \n"
     ]
    },
    {
     "name": "stdout",
     "output_type": "stream",
     "text": [
      "current loss: 0.005042398969332377, current accuracy: 0.3541666666666667\n"
     ]
    },
    {
     "name": "stderr",
     "output_type": "stream",
     "text": [
      "Training Epoch 227/400: 100%|██████████| 36/36 [00:03<00:00, 11.13batch/s, accuracy=92.2, loss=0.003]  \n"
     ]
    },
    {
     "name": "stdout",
     "output_type": "stream",
     "text": [
      "current loss: 0.005080255369345347, current accuracy: 0.3541666666666667\n"
     ]
    },
    {
     "name": "stderr",
     "output_type": "stream",
     "text": [
      "Training Epoch 228/400: 100%|██████████| 36/36 [00:03<00:00, 11.13batch/s, accuracy=84.4, loss=0.00349]\n"
     ]
    },
    {
     "name": "stdout",
     "output_type": "stream",
     "text": [
      "current loss: 0.005088261018196742, current accuracy: 0.34375\n"
     ]
    },
    {
     "name": "stderr",
     "output_type": "stream",
     "text": [
      "Training Epoch 229/400: 100%|██████████| 36/36 [00:03<00:00, 10.59batch/s, accuracy=89.8, loss=0.00315]\n"
     ]
    },
    {
     "name": "stdout",
     "output_type": "stream",
     "text": [
      "current loss: 0.005071388764513863, current accuracy: 0.3402777777777778\n"
     ]
    },
    {
     "name": "stderr",
     "output_type": "stream",
     "text": [
      "Training Epoch 230/400: 100%|██████████| 36/36 [00:03<00:00, 10.54batch/s, accuracy=89.8, loss=0.00309]\n"
     ]
    },
    {
     "name": "stdout",
     "output_type": "stream",
     "text": [
      "current loss: 0.005044269892904494, current accuracy: 0.34375\n"
     ]
    },
    {
     "name": "stderr",
     "output_type": "stream",
     "text": [
      "Training Epoch 231/400: 100%|██████████| 36/36 [00:03<00:00, 10.11batch/s, accuracy=93.8, loss=0.00269]\n"
     ]
    },
    {
     "name": "stdout",
     "output_type": "stream",
     "text": [
      "current loss: 0.005021529479159249, current accuracy: 0.3680555555555556\n"
     ]
    },
    {
     "name": "stderr",
     "output_type": "stream",
     "text": [
      "Training Epoch 232/400: 100%|██████████| 36/36 [00:03<00:00, 10.46batch/s, accuracy=88.3, loss=0.00294]\n"
     ]
    },
    {
     "name": "stdout",
     "output_type": "stream",
     "text": [
      "current loss: 0.005113523867395189, current accuracy: 0.3472222222222222\n"
     ]
    },
    {
     "name": "stderr",
     "output_type": "stream",
     "text": [
      "Training Epoch 233/400: 100%|██████████| 36/36 [00:03<00:00, 10.56batch/s, accuracy=86.7, loss=0.00305]\n"
     ]
    },
    {
     "name": "stdout",
     "output_type": "stream",
     "text": [
      "current loss: 0.00512654541267289, current accuracy: 0.3506944444444444\n"
     ]
    },
    {
     "name": "stderr",
     "output_type": "stream",
     "text": [
      "Training Epoch 234/400: 100%|██████████| 36/36 [00:03<00:00, 10.60batch/s, accuracy=85.2, loss=0.00363]\n"
     ]
    },
    {
     "name": "stdout",
     "output_type": "stream",
     "text": [
      "current loss: 0.005045002119408714, current accuracy: 0.3645833333333333\n"
     ]
    },
    {
     "name": "stderr",
     "output_type": "stream",
     "text": [
      "Training Epoch 235/400: 100%|██████████| 36/36 [00:03<00:00, 10.56batch/s, accuracy=89.8, loss=0.00295]\n"
     ]
    },
    {
     "name": "stdout",
     "output_type": "stream",
     "text": [
      "current loss: 0.005008897847599453, current accuracy: 0.3680555555555556\n"
     ]
    },
    {
     "name": "stderr",
     "output_type": "stream",
     "text": [
      "Training Epoch 236/400: 100%|██████████| 36/36 [00:03<00:00, 10.43batch/s, accuracy=93, loss=0.00287]  \n"
     ]
    },
    {
     "name": "stdout",
     "output_type": "stream",
     "text": [
      "current loss: 0.005208572165833579, current accuracy: 0.3333333333333333\n"
     ]
    },
    {
     "name": "stderr",
     "output_type": "stream",
     "text": [
      "Training Epoch 237/400: 100%|██████████| 36/36 [00:03<00:00, 10.52batch/s, accuracy=90.6, loss=0.00281]\n"
     ]
    },
    {
     "name": "stdout",
     "output_type": "stream",
     "text": [
      "current loss: 0.005011860695150163, current accuracy: 0.3645833333333333\n"
     ]
    },
    {
     "name": "stderr",
     "output_type": "stream",
     "text": [
      "Training Epoch 238/400: 100%|██████████| 36/36 [00:03<00:00, 10.46batch/s, accuracy=91.4, loss=0.00285]\n"
     ]
    },
    {
     "name": "stdout",
     "output_type": "stream",
     "text": [
      "current loss: 0.005033382111125522, current accuracy: 0.3645833333333333\n"
     ]
    },
    {
     "name": "stderr",
     "output_type": "stream",
     "text": [
      "Training Epoch 239/400: 100%|██████████| 36/36 [00:03<00:00, 10.44batch/s, accuracy=94.5, loss=0.00274]\n"
     ]
    },
    {
     "name": "stdout",
     "output_type": "stream",
     "text": [
      "current loss: 0.0050805554621749455, current accuracy: 0.3506944444444444\n"
     ]
    },
    {
     "name": "stderr",
     "output_type": "stream",
     "text": [
      "Training Epoch 240/400: 100%|██████████| 36/36 [00:03<00:00, 10.45batch/s, accuracy=91.4, loss=0.00286]\n"
     ]
    },
    {
     "name": "stdout",
     "output_type": "stream",
     "text": [
      "current loss: 0.005116373714473512, current accuracy: 0.3611111111111111\n"
     ]
    },
    {
     "name": "stderr",
     "output_type": "stream",
     "text": [
      "Training Epoch 241/400: 100%|██████████| 36/36 [00:03<00:00, 10.52batch/s, accuracy=89.8, loss=0.00297]\n"
     ]
    },
    {
     "name": "stdout",
     "output_type": "stream",
     "text": [
      "current loss: 0.0050893475612004595, current accuracy: 0.3506944444444444\n"
     ]
    },
    {
     "name": "stderr",
     "output_type": "stream",
     "text": [
      "Training Epoch 242/400: 100%|██████████| 36/36 [00:03<00:00, 10.62batch/s, accuracy=91.4, loss=0.00271]\n"
     ]
    },
    {
     "name": "stdout",
     "output_type": "stream",
     "text": [
      "current loss: 0.0050821151170465685, current accuracy: 0.3506944444444444\n"
     ]
    },
    {
     "name": "stderr",
     "output_type": "stream",
     "text": [
      "Training Epoch 243/400: 100%|██████████| 36/36 [00:03<00:00, 10.61batch/s, accuracy=92.2, loss=0.00286]\n"
     ]
    },
    {
     "name": "stdout",
     "output_type": "stream",
     "text": [
      "current loss: 0.0050535015761852264, current accuracy: 0.3611111111111111\n"
     ]
    },
    {
     "name": "stderr",
     "output_type": "stream",
     "text": [
      "Training Epoch 244/400: 100%|██████████| 36/36 [00:03<00:00, 10.62batch/s, accuracy=91.4, loss=0.00283]\n"
     ]
    },
    {
     "name": "stdout",
     "output_type": "stream",
     "text": [
      "current loss: 0.005129293849070867, current accuracy: 0.3506944444444444\n"
     ]
    },
    {
     "name": "stderr",
     "output_type": "stream",
     "text": [
      "Training Epoch 245/400: 100%|██████████| 36/36 [00:03<00:00, 10.48batch/s, accuracy=93.8, loss=0.00243]\n"
     ]
    },
    {
     "name": "stdout",
     "output_type": "stream",
     "text": [
      "current loss: 0.005137136826912562, current accuracy: 0.3472222222222222\n"
     ]
    },
    {
     "name": "stderr",
     "output_type": "stream",
     "text": [
      "Training Epoch 246/400: 100%|██████████| 36/36 [00:03<00:00, 10.55batch/s, accuracy=91.4, loss=0.0028] \n"
     ]
    },
    {
     "name": "stdout",
     "output_type": "stream",
     "text": [
      "current loss: 0.005170928521288766, current accuracy: 0.3506944444444444\n"
     ]
    },
    {
     "name": "stderr",
     "output_type": "stream",
     "text": [
      "Training Epoch 247/400: 100%|██████████| 36/36 [00:03<00:00, 10.42batch/s, accuracy=92.2, loss=0.00308]\n"
     ]
    },
    {
     "name": "stdout",
     "output_type": "stream",
     "text": [
      "current loss: 0.005070133341683282, current accuracy: 0.3472222222222222\n"
     ]
    },
    {
     "name": "stderr",
     "output_type": "stream",
     "text": [
      "Training Epoch 248/400: 100%|██████████| 36/36 [00:03<00:00, 10.62batch/s, accuracy=90.6, loss=0.00273]\n"
     ]
    },
    {
     "name": "stdout",
     "output_type": "stream",
     "text": [
      "current loss: 0.0052098847097820705, current accuracy: 0.3472222222222222\n"
     ]
    },
    {
     "name": "stderr",
     "output_type": "stream",
     "text": [
      "Training Epoch 249/400: 100%|██████████| 36/36 [00:03<00:00, 10.28batch/s, accuracy=93, loss=0.00273]  \n"
     ]
    },
    {
     "name": "stdout",
     "output_type": "stream",
     "text": [
      "current loss: 0.0051156145830949145, current accuracy: 0.3611111111111111\n"
     ]
    },
    {
     "name": "stderr",
     "output_type": "stream",
     "text": [
      "Training Epoch 250/400: 100%|██████████| 36/36 [00:03<00:00, 10.20batch/s, accuracy=89.8, loss=0.00298]\n"
     ]
    },
    {
     "name": "stdout",
     "output_type": "stream",
     "text": [
      "current loss: 0.005149203456110424, current accuracy: 0.3541666666666667\n"
     ]
    },
    {
     "name": "stderr",
     "output_type": "stream",
     "text": [
      "Training Epoch 251/400: 100%|██████████| 36/36 [00:03<00:00, 10.75batch/s, accuracy=91.4, loss=0.00275]\n"
     ]
    },
    {
     "name": "stdout",
     "output_type": "stream",
     "text": [
      "current loss: 0.0052833399838871425, current accuracy: 0.3368055555555556\n"
     ]
    },
    {
     "name": "stderr",
     "output_type": "stream",
     "text": [
      "Training Epoch 252/400: 100%|██████████| 36/36 [00:03<00:00, 10.78batch/s, accuracy=89.8, loss=0.0028] \n"
     ]
    },
    {
     "name": "stdout",
     "output_type": "stream",
     "text": [
      "current loss: 0.00512637197971344, current accuracy: 0.3541666666666667\n"
     ]
    },
    {
     "name": "stderr",
     "output_type": "stream",
     "text": [
      "Training Epoch 253/400: 100%|██████████| 36/36 [00:03<00:00, 10.55batch/s, accuracy=93.8, loss=0.0025] \n"
     ]
    },
    {
     "name": "stdout",
     "output_type": "stream",
     "text": [
      "current loss: 0.005146726138061947, current accuracy: 0.3506944444444444\n"
     ]
    },
    {
     "name": "stderr",
     "output_type": "stream",
     "text": [
      "Training Epoch 254/400: 100%|██████████| 36/36 [00:03<00:00, 10.61batch/s, accuracy=87.5, loss=0.00286]\n"
     ]
    },
    {
     "name": "stdout",
     "output_type": "stream",
     "text": [
      "current loss: 0.005189598848422368, current accuracy: 0.3472222222222222\n"
     ]
    },
    {
     "name": "stderr",
     "output_type": "stream",
     "text": [
      "Training Epoch 255/400: 100%|██████████| 36/36 [00:03<00:00, 10.67batch/s, accuracy=89.8, loss=0.00251]\n"
     ]
    },
    {
     "name": "stdout",
     "output_type": "stream",
     "text": [
      "current loss: 0.005186355362335841, current accuracy: 0.3506944444444444\n"
     ]
    },
    {
     "name": "stderr",
     "output_type": "stream",
     "text": [
      "Training Epoch 256/400: 100%|██████████| 36/36 [00:03<00:00, 10.59batch/s, accuracy=91.4, loss=0.00262]\n"
     ]
    },
    {
     "name": "stdout",
     "output_type": "stream",
     "text": [
      "current loss: 0.005182460778289371, current accuracy: 0.3541666666666667\n"
     ]
    },
    {
     "name": "stderr",
     "output_type": "stream",
     "text": [
      "Training Epoch 257/400: 100%|██████████| 36/36 [00:03<00:00, 10.52batch/s, accuracy=89.1, loss=0.00271]\n"
     ]
    },
    {
     "name": "stdout",
     "output_type": "stream",
     "text": [
      "current loss: 0.005108213673035304, current accuracy: 0.3541666666666667\n"
     ]
    },
    {
     "name": "stderr",
     "output_type": "stream",
     "text": [
      "Training Epoch 258/400: 100%|██████████| 36/36 [00:03<00:00, 10.53batch/s, accuracy=89.8, loss=0.00302]\n"
     ]
    },
    {
     "name": "stdout",
     "output_type": "stream",
     "text": [
      "current loss: 0.005104103436072667, current accuracy: 0.3611111111111111\n"
     ]
    },
    {
     "name": "stderr",
     "output_type": "stream",
     "text": [
      "Training Epoch 259/400: 100%|██████████| 36/36 [00:03<00:00, 10.55batch/s, accuracy=93, loss=0.00253]  \n"
     ]
    },
    {
     "name": "stdout",
     "output_type": "stream",
     "text": [
      "current loss: 0.005257395820485221, current accuracy: 0.3402777777777778\n"
     ]
    },
    {
     "name": "stderr",
     "output_type": "stream",
     "text": [
      "Training Epoch 260/400: 100%|██████████| 36/36 [00:03<00:00, 10.72batch/s, accuracy=89.8, loss=0.00281]\n"
     ]
    },
    {
     "name": "stdout",
     "output_type": "stream",
     "text": [
      "current loss: 0.00510901047123803, current accuracy: 0.3611111111111111\n"
     ]
    },
    {
     "name": "stderr",
     "output_type": "stream",
     "text": [
      "Training Epoch 261/400: 100%|██████████| 36/36 [00:03<00:00, 10.46batch/s, accuracy=91.4, loss=0.00247]\n"
     ]
    },
    {
     "name": "stdout",
     "output_type": "stream",
     "text": [
      "current loss: 0.005274008959531784, current accuracy: 0.3402777777777778\n"
     ]
    },
    {
     "name": "stderr",
     "output_type": "stream",
     "text": [
      "Training Epoch 262/400: 100%|██████████| 36/36 [00:03<00:00, 10.24batch/s, accuracy=89.1, loss=0.00289]\n"
     ]
    },
    {
     "name": "stdout",
     "output_type": "stream",
     "text": [
      "current loss: 0.005211186905701955, current accuracy: 0.3472222222222222\n"
     ]
    },
    {
     "name": "stderr",
     "output_type": "stream",
     "text": [
      "Training Epoch 263/400: 100%|██████████| 36/36 [00:03<00:00, 10.54batch/s, accuracy=93.8, loss=0.00263]\n"
     ]
    },
    {
     "name": "stdout",
     "output_type": "stream",
     "text": [
      "current loss: 0.005226885279019673, current accuracy: 0.3541666666666667\n"
     ]
    },
    {
     "name": "stderr",
     "output_type": "stream",
     "text": [
      "Training Epoch 264/400: 100%|██████████| 36/36 [00:03<00:00, 10.27batch/s, accuracy=89.8, loss=0.00266]\n"
     ]
    },
    {
     "name": "stdout",
     "output_type": "stream",
     "text": [
      "current loss: 0.005256214903460609, current accuracy: 0.3402777777777778\n"
     ]
    },
    {
     "name": "stderr",
     "output_type": "stream",
     "text": [
      "Training Epoch 265/400: 100%|██████████| 36/36 [00:03<00:00, 10.06batch/s, accuracy=90.6, loss=0.0028] \n"
     ]
    },
    {
     "name": "stdout",
     "output_type": "stream",
     "text": [
      "current loss: 0.005199941909975476, current accuracy: 0.3368055555555556\n"
     ]
    },
    {
     "name": "stderr",
     "output_type": "stream",
     "text": [
      "Training Epoch 266/400: 100%|██████████| 36/36 [00:03<00:00, 10.54batch/s, accuracy=93, loss=0.00249]  \n"
     ]
    },
    {
     "name": "stdout",
     "output_type": "stream",
     "text": [
      "current loss: 0.005223129358556535, current accuracy: 0.3472222222222222\n"
     ]
    },
    {
     "name": "stderr",
     "output_type": "stream",
     "text": [
      "Training Epoch 267/400: 100%|██████████| 36/36 [00:03<00:00, 10.66batch/s, accuracy=90.6, loss=0.00281]\n"
     ]
    },
    {
     "name": "stdout",
     "output_type": "stream",
     "text": [
      "current loss: 0.005276092638572057, current accuracy: 0.3472222222222222\n"
     ]
    },
    {
     "name": "stderr",
     "output_type": "stream",
     "text": [
      "Training Epoch 268/400: 100%|██████████| 36/36 [00:03<00:00, 10.54batch/s, accuracy=92.2, loss=0.00259]\n"
     ]
    },
    {
     "name": "stdout",
     "output_type": "stream",
     "text": [
      "current loss: 0.0053195709155665506, current accuracy: 0.3402777777777778\n"
     ]
    },
    {
     "name": "stderr",
     "output_type": "stream",
     "text": [
      "Training Epoch 269/400: 100%|██████████| 36/36 [00:03<00:00, 11.09batch/s, accuracy=89.8, loss=0.00291]\n"
     ]
    },
    {
     "name": "stdout",
     "output_type": "stream",
     "text": [
      "current loss: 0.005289222217268414, current accuracy: 0.3298611111111111\n"
     ]
    },
    {
     "name": "stderr",
     "output_type": "stream",
     "text": [
      "Training Epoch 270/400: 100%|██████████| 36/36 [00:03<00:00, 10.82batch/s, accuracy=89.8, loss=0.00287]\n"
     ]
    },
    {
     "name": "stdout",
     "output_type": "stream",
     "text": [
      "current loss: 0.005310222506523132, current accuracy: 0.3229166666666667\n"
     ]
    },
    {
     "name": "stderr",
     "output_type": "stream",
     "text": [
      "Training Epoch 271/400: 100%|██████████| 36/36 [00:03<00:00, 10.61batch/s, accuracy=90.6, loss=0.00279]\n"
     ]
    },
    {
     "name": "stdout",
     "output_type": "stream",
     "text": [
      "current loss: 0.005315330707364612, current accuracy: 0.3229166666666667\n"
     ]
    },
    {
     "name": "stderr",
     "output_type": "stream",
     "text": [
      "Training Epoch 272/400: 100%|██████████| 36/36 [00:03<00:00, 10.59batch/s, accuracy=92.2, loss=0.00284]\n"
     ]
    },
    {
     "name": "stdout",
     "output_type": "stream",
     "text": [
      "current loss: 0.005388541767994563, current accuracy: 0.3333333333333333\n"
     ]
    },
    {
     "name": "stderr",
     "output_type": "stream",
     "text": [
      "Training Epoch 273/400: 100%|██████████| 36/36 [00:03<00:00, 10.61batch/s, accuracy=90.6, loss=0.00252]\n"
     ]
    },
    {
     "name": "stdout",
     "output_type": "stream",
     "text": [
      "current loss: 0.005281094047758315, current accuracy: 0.34375\n"
     ]
    },
    {
     "name": "stderr",
     "output_type": "stream",
     "text": [
      "Training Epoch 274/400: 100%|██████████| 36/36 [00:03<00:00, 10.36batch/s, accuracy=91.4, loss=0.00251]\n"
     ]
    },
    {
     "name": "stdout",
     "output_type": "stream",
     "text": [
      "current loss: 0.005381658673286438, current accuracy: 0.3194444444444444\n"
     ]
    },
    {
     "name": "stderr",
     "output_type": "stream",
     "text": [
      "Training Epoch 275/400: 100%|██████████| 36/36 [00:03<00:00, 10.60batch/s, accuracy=91.4, loss=0.00273]\n"
     ]
    },
    {
     "name": "stdout",
     "output_type": "stream",
     "text": [
      "current loss: 0.00534602047668563, current accuracy: 0.3402777777777778\n"
     ]
    },
    {
     "name": "stderr",
     "output_type": "stream",
     "text": [
      "Training Epoch 276/400: 100%|██████████| 36/36 [00:03<00:00, 10.59batch/s, accuracy=89.8, loss=0.00262]\n"
     ]
    },
    {
     "name": "stdout",
     "output_type": "stream",
     "text": [
      "current loss: 0.005385872804456287, current accuracy: 0.3263888888888889\n"
     ]
    },
    {
     "name": "stderr",
     "output_type": "stream",
     "text": [
      "Training Epoch 277/400: 100%|██████████| 36/36 [00:03<00:00, 10.46batch/s, accuracy=91.4, loss=0.00249]\n"
     ]
    },
    {
     "name": "stdout",
     "output_type": "stream",
     "text": [
      "current loss: 0.005370642575952742, current accuracy: 0.3263888888888889\n"
     ]
    },
    {
     "name": "stderr",
     "output_type": "stream",
     "text": [
      "Training Epoch 278/400: 100%|██████████| 36/36 [00:03<00:00, 10.43batch/s, accuracy=94.5, loss=0.0023] \n"
     ]
    },
    {
     "name": "stdout",
     "output_type": "stream",
     "text": [
      "current loss: 0.005391172236866421, current accuracy: 0.3472222222222222\n"
     ]
    },
    {
     "name": "stderr",
     "output_type": "stream",
     "text": [
      "Training Epoch 279/400: 100%|██████████| 36/36 [00:03<00:00, 10.48batch/s, accuracy=89.1, loss=0.00287]\n"
     ]
    },
    {
     "name": "stdout",
     "output_type": "stream",
     "text": [
      "current loss: 0.0053596289621459115, current accuracy: 0.3472222222222222\n"
     ]
    },
    {
     "name": "stderr",
     "output_type": "stream",
     "text": [
      "Training Epoch 280/400: 100%|██████████| 36/36 [00:03<00:00, 10.47batch/s, accuracy=94.5, loss=0.00225]\n"
     ]
    },
    {
     "name": "stdout",
     "output_type": "stream",
     "text": [
      "current loss: 0.005472405917114682, current accuracy: 0.3229166666666667\n"
     ]
    },
    {
     "name": "stderr",
     "output_type": "stream",
     "text": [
      "Training Epoch 281/400: 100%|██████████| 36/36 [00:03<00:00, 10.07batch/s, accuracy=93, loss=0.00247]  \n"
     ]
    },
    {
     "name": "stdout",
     "output_type": "stream",
     "text": [
      "current loss: 0.005430123872227139, current accuracy: 0.3298611111111111\n"
     ]
    },
    {
     "name": "stderr",
     "output_type": "stream",
     "text": [
      "Training Epoch 282/400: 100%|██████████| 36/36 [00:03<00:00, 10.07batch/s, accuracy=97.7, loss=0.00223]\n"
     ]
    },
    {
     "name": "stdout",
     "output_type": "stream",
     "text": [
      "current loss: 0.005387162168820699, current accuracy: 0.3402777777777778\n"
     ]
    },
    {
     "name": "stderr",
     "output_type": "stream",
     "text": [
      "Training Epoch 283/400: 100%|██████████| 36/36 [00:03<00:00, 10.33batch/s, accuracy=91.4, loss=0.0027] \n"
     ]
    },
    {
     "name": "stdout",
     "output_type": "stream",
     "text": [
      "current loss: 0.005485453953345616, current accuracy: 0.3263888888888889\n"
     ]
    },
    {
     "name": "stderr",
     "output_type": "stream",
     "text": [
      "Training Epoch 284/400: 100%|██████████| 36/36 [00:03<00:00, 10.41batch/s, accuracy=93, loss=0.00234]  \n"
     ]
    },
    {
     "name": "stdout",
     "output_type": "stream",
     "text": [
      "current loss: 0.00548545519510905, current accuracy: 0.3298611111111111\n"
     ]
    },
    {
     "name": "stderr",
     "output_type": "stream",
     "text": [
      "Training Epoch 285/400: 100%|██████████| 36/36 [00:03<00:00, 10.86batch/s, accuracy=90.6, loss=0.00269]\n"
     ]
    },
    {
     "name": "stdout",
     "output_type": "stream",
     "text": [
      "current loss: 0.005327240460448795, current accuracy: 0.3506944444444444\n"
     ]
    },
    {
     "name": "stderr",
     "output_type": "stream",
     "text": [
      "Training Epoch 286/400: 100%|██████████| 36/36 [00:03<00:00, 10.45batch/s, accuracy=93.8, loss=0.00249]\n"
     ]
    },
    {
     "name": "stdout",
     "output_type": "stream",
     "text": [
      "current loss: 0.005457097043593724, current accuracy: 0.3506944444444444\n"
     ]
    },
    {
     "name": "stderr",
     "output_type": "stream",
     "text": [
      "Training Epoch 287/400: 100%|██████████| 36/36 [00:03<00:00, 10.75batch/s, accuracy=91.4, loss=0.00246]\n"
     ]
    },
    {
     "name": "stdout",
     "output_type": "stream",
     "text": [
      "current loss: 0.005527053442266252, current accuracy: 0.3333333333333333\n"
     ]
    },
    {
     "name": "stderr",
     "output_type": "stream",
     "text": [
      "Training Epoch 288/400: 100%|██████████| 36/36 [00:03<00:00, 10.94batch/s, accuracy=94.5, loss=0.00236]\n"
     ]
    },
    {
     "name": "stdout",
     "output_type": "stream",
     "text": [
      "current loss: 0.005508042871952057, current accuracy: 0.3333333333333333\n"
     ]
    },
    {
     "name": "stderr",
     "output_type": "stream",
     "text": [
      "Training Epoch 289/400: 100%|██████████| 36/36 [00:03<00:00, 10.41batch/s, accuracy=89.8, loss=0.0027] \n"
     ]
    },
    {
     "name": "stdout",
     "output_type": "stream",
     "text": [
      "current loss: 0.005554790298144023, current accuracy: 0.3402777777777778\n"
     ]
    },
    {
     "name": "stderr",
     "output_type": "stream",
     "text": [
      "Training Epoch 290/400: 100%|██████████| 36/36 [00:03<00:00, 10.38batch/s, accuracy=92.2, loss=0.00242]\n"
     ]
    },
    {
     "name": "stdout",
     "output_type": "stream",
     "text": [
      "current loss: 0.0054902583360672, current accuracy: 0.3333333333333333\n"
     ]
    },
    {
     "name": "stderr",
     "output_type": "stream",
     "text": [
      "Training Epoch 291/400: 100%|██████████| 36/36 [00:03<00:00, 10.44batch/s, accuracy=92.2, loss=0.0025] \n"
     ]
    },
    {
     "name": "stdout",
     "output_type": "stream",
     "text": [
      "current loss: 0.005547545436355803, current accuracy: 0.3402777777777778\n"
     ]
    },
    {
     "name": "stderr",
     "output_type": "stream",
     "text": [
      "Training Epoch 292/400: 100%|██████████| 36/36 [00:03<00:00, 10.75batch/s, accuracy=92.2, loss=0.00241]\n"
     ]
    },
    {
     "name": "stdout",
     "output_type": "stream",
     "text": [
      "current loss: 0.005552584512366189, current accuracy: 0.3368055555555556\n"
     ]
    },
    {
     "name": "stderr",
     "output_type": "stream",
     "text": [
      "Training Epoch 293/400: 100%|██████████| 36/36 [00:03<00:00, 10.55batch/s, accuracy=93, loss=0.00201]  \n"
     ]
    },
    {
     "name": "stdout",
     "output_type": "stream",
     "text": [
      "current loss: 0.005584936589002609, current accuracy: 0.3229166666666667\n"
     ]
    },
    {
     "name": "stderr",
     "output_type": "stream",
     "text": [
      "Training Epoch 294/400: 100%|██████████| 36/36 [00:03<00:00, 10.24batch/s, accuracy=94.5, loss=0.00235]\n"
     ]
    },
    {
     "name": "stdout",
     "output_type": "stream",
     "text": [
      "current loss: 0.005555495619773865, current accuracy: 0.3368055555555556\n"
     ]
    },
    {
     "name": "stderr",
     "output_type": "stream",
     "text": [
      "Training Epoch 295/400: 100%|██████████| 36/36 [00:03<00:00, 10.21batch/s, accuracy=93, loss=0.00225]  \n"
     ]
    },
    {
     "name": "stdout",
     "output_type": "stream",
     "text": [
      "current loss: 0.005603647480408351, current accuracy: 0.3333333333333333\n"
     ]
    },
    {
     "name": "stderr",
     "output_type": "stream",
     "text": [
      "Training Epoch 296/400: 100%|██████████| 36/36 [00:03<00:00, 10.39batch/s, accuracy=95.3, loss=0.00226]\n"
     ]
    },
    {
     "name": "stdout",
     "output_type": "stream",
     "text": [
      "current loss: 0.005629713336626689, current accuracy: 0.3298611111111111\n"
     ]
    },
    {
     "name": "stderr",
     "output_type": "stream",
     "text": [
      "Training Epoch 297/400: 100%|██████████| 36/36 [00:03<00:00, 10.47batch/s, accuracy=95.3, loss=0.00169]\n"
     ]
    },
    {
     "name": "stdout",
     "output_type": "stream",
     "text": [
      "current loss: 0.0056376395126183825, current accuracy: 0.3229166666666667\n"
     ]
    },
    {
     "name": "stderr",
     "output_type": "stream",
     "text": [
      "Training Epoch 298/400: 100%|██████████| 36/36 [00:03<00:00, 10.25batch/s, accuracy=93, loss=0.0023]   \n"
     ]
    },
    {
     "name": "stdout",
     "output_type": "stream",
     "text": [
      "current loss: 0.005557480785581801, current accuracy: 0.3298611111111111\n"
     ]
    },
    {
     "name": "stderr",
     "output_type": "stream",
     "text": [
      "Training Epoch 299/400: 100%|██████████| 36/36 [00:03<00:00, 10.20batch/s, accuracy=98.4, loss=0.00202]\n"
     ]
    },
    {
     "name": "stdout",
     "output_type": "stream",
     "text": [
      "current loss: 0.0057172150247626835, current accuracy: 0.3333333333333333\n"
     ]
    },
    {
     "name": "stderr",
     "output_type": "stream",
     "text": [
      "Training Epoch 300/400: 100%|██████████| 36/36 [00:03<00:00, 10.28batch/s, accuracy=89.1, loss=0.00247]\n"
     ]
    },
    {
     "name": "stdout",
     "output_type": "stream",
     "text": [
      "current loss: 0.005617411600218879, current accuracy: 0.3263888888888889\n"
     ]
    },
    {
     "name": "stderr",
     "output_type": "stream",
     "text": [
      "Training Epoch 301/400: 100%|██████████| 36/36 [00:03<00:00, 10.51batch/s, accuracy=89.1, loss=0.00268]\n"
     ]
    },
    {
     "name": "stdout",
     "output_type": "stream",
     "text": [
      "current loss: 0.00564525028069814, current accuracy: 0.3263888888888889\n"
     ]
    },
    {
     "name": "stderr",
     "output_type": "stream",
     "text": [
      "Training Epoch 302/400: 100%|██████████| 36/36 [00:03<00:00, 10.71batch/s, accuracy=93.8, loss=0.00215]\n"
     ]
    },
    {
     "name": "stdout",
     "output_type": "stream",
     "text": [
      "current loss: 0.005789991882112291, current accuracy: 0.3194444444444444\n"
     ]
    },
    {
     "name": "stderr",
     "output_type": "stream",
     "text": [
      "Training Epoch 303/400: 100%|██████████| 36/36 [00:03<00:00, 10.46batch/s, accuracy=91.4, loss=0.00251]\n"
     ]
    },
    {
     "name": "stdout",
     "output_type": "stream",
     "text": [
      "current loss: 0.005525469366047118, current accuracy: 0.3368055555555556\n"
     ]
    },
    {
     "name": "stderr",
     "output_type": "stream",
     "text": [
      "Training Epoch 304/400: 100%|██████████| 36/36 [00:03<00:00, 10.29batch/s, accuracy=89.1, loss=0.00263]\n"
     ]
    },
    {
     "name": "stdout",
     "output_type": "stream",
     "text": [
      "current loss: 0.005727599478430218, current accuracy: 0.3263888888888889\n"
     ]
    },
    {
     "name": "stderr",
     "output_type": "stream",
     "text": [
      "Training Epoch 305/400: 100%|██████████| 36/36 [00:03<00:00, 10.71batch/s, accuracy=91.4, loss=0.00241]\n"
     ]
    },
    {
     "name": "stdout",
     "output_type": "stream",
     "text": [
      "current loss: 0.005604027460018794, current accuracy: 0.3333333333333333\n"
     ]
    },
    {
     "name": "stderr",
     "output_type": "stream",
     "text": [
      "Training Epoch 306/400: 100%|██████████| 36/36 [00:03<00:00, 10.26batch/s, accuracy=95.3, loss=0.00228]\n"
     ]
    },
    {
     "name": "stdout",
     "output_type": "stream",
     "text": [
      "current loss: 0.0056637802885638345, current accuracy: 0.3298611111111111\n"
     ]
    },
    {
     "name": "stderr",
     "output_type": "stream",
     "text": [
      "Training Epoch 307/400: 100%|██████████| 36/36 [00:03<00:00, 10.61batch/s, accuracy=95.3, loss=0.00191]\n"
     ]
    },
    {
     "name": "stdout",
     "output_type": "stream",
     "text": [
      "current loss: 0.005651126719183392, current accuracy: 0.3229166666666667\n"
     ]
    },
    {
     "name": "stderr",
     "output_type": "stream",
     "text": [
      "Training Epoch 308/400: 100%|██████████| 36/36 [00:03<00:00, 10.84batch/s, accuracy=89.1, loss=0.00281]\n"
     ]
    },
    {
     "name": "stdout",
     "output_type": "stream",
     "text": [
      "current loss: 0.005574085646205478, current accuracy: 0.3263888888888889\n"
     ]
    },
    {
     "name": "stderr",
     "output_type": "stream",
     "text": [
      "Training Epoch 309/400: 100%|██████████| 36/36 [00:03<00:00, 10.91batch/s, accuracy=93, loss=0.0021]   \n"
     ]
    },
    {
     "name": "stdout",
     "output_type": "stream",
     "text": [
      "current loss: 0.005766516344414817, current accuracy: 0.3263888888888889\n"
     ]
    },
    {
     "name": "stderr",
     "output_type": "stream",
     "text": [
      "Training Epoch 310/400: 100%|██████████| 36/36 [00:03<00:00, 10.75batch/s, accuracy=93.8, loss=0.00215]\n"
     ]
    },
    {
     "name": "stdout",
     "output_type": "stream",
     "text": [
      "current loss: 0.0055869536267386544, current accuracy: 0.34375\n"
     ]
    },
    {
     "name": "stderr",
     "output_type": "stream",
     "text": [
      "Training Epoch 311/400: 100%|██████████| 36/36 [00:03<00:00, 10.39batch/s, accuracy=96.9, loss=0.00204]\n"
     ]
    },
    {
     "name": "stdout",
     "output_type": "stream",
     "text": [
      "current loss: 0.005592907882399029, current accuracy: 0.3298611111111111\n"
     ]
    },
    {
     "name": "stderr",
     "output_type": "stream",
     "text": [
      "Training Epoch 312/400: 100%|██████████| 36/36 [00:03<00:00, 10.25batch/s, accuracy=93.8, loss=0.00236]\n"
     ]
    },
    {
     "name": "stdout",
     "output_type": "stream",
     "text": [
      "current loss: 0.005644613256057103, current accuracy: 0.3402777777777778\n"
     ]
    },
    {
     "name": "stderr",
     "output_type": "stream",
     "text": [
      "Training Epoch 313/400: 100%|██████████| 36/36 [00:03<00:00, 10.02batch/s, accuracy=92.2, loss=0.00248]\n"
     ]
    },
    {
     "name": "stdout",
     "output_type": "stream",
     "text": [
      "current loss: 0.0056636809474892085, current accuracy: 0.3402777777777778\n"
     ]
    },
    {
     "name": "stderr",
     "output_type": "stream",
     "text": [
      "Training Epoch 314/400: 100%|██████████| 36/36 [00:03<00:00, 10.06batch/s, accuracy=94.5, loss=0.00226]\n"
     ]
    },
    {
     "name": "stdout",
     "output_type": "stream",
     "text": [
      "current loss: 0.005563125014305115, current accuracy: 0.3506944444444444\n"
     ]
    },
    {
     "name": "stderr",
     "output_type": "stream",
     "text": [
      "Training Epoch 315/400: 100%|██████████| 36/36 [00:03<00:00, 10.57batch/s, accuracy=93.8, loss=0.00234]\n"
     ]
    },
    {
     "name": "stdout",
     "output_type": "stream",
     "text": [
      "current loss: 0.005727237711350123, current accuracy: 0.3333333333333333\n"
     ]
    },
    {
     "name": "stderr",
     "output_type": "stream",
     "text": [
      "Training Epoch 316/400: 100%|██████████| 36/36 [00:03<00:00, 10.53batch/s, accuracy=95.3, loss=0.00216]\n"
     ]
    },
    {
     "name": "stdout",
     "output_type": "stream",
     "text": [
      "current loss: 0.005738956646786796, current accuracy: 0.3333333333333333\n"
     ]
    },
    {
     "name": "stderr",
     "output_type": "stream",
     "text": [
      "Training Epoch 317/400: 100%|██████████| 36/36 [00:03<00:00, 10.75batch/s, accuracy=94.5, loss=0.00197]\n"
     ]
    },
    {
     "name": "stdout",
     "output_type": "stream",
     "text": [
      "current loss: 0.005567038224803077, current accuracy: 0.3472222222222222\n"
     ]
    },
    {
     "name": "stderr",
     "output_type": "stream",
     "text": [
      "Training Epoch 318/400: 100%|██████████| 36/36 [00:03<00:00, 10.41batch/s, accuracy=94.5, loss=0.00234]\n"
     ]
    },
    {
     "name": "stdout",
     "output_type": "stream",
     "text": [
      "current loss: 0.005738830814758937, current accuracy: 0.3333333333333333\n"
     ]
    },
    {
     "name": "stderr",
     "output_type": "stream",
     "text": [
      "Training Epoch 319/400: 100%|██████████| 36/36 [00:03<00:00, 10.55batch/s, accuracy=93.8, loss=0.00235]\n"
     ]
    },
    {
     "name": "stdout",
     "output_type": "stream",
     "text": [
      "current loss: 0.0056968215439054705, current accuracy: 0.3368055555555556\n"
     ]
    },
    {
     "name": "stderr",
     "output_type": "stream",
     "text": [
      "Training Epoch 320/400: 100%|██████████| 36/36 [00:03<00:00, 10.60batch/s, accuracy=93.8, loss=0.00225]\n"
     ]
    },
    {
     "name": "stdout",
     "output_type": "stream",
     "text": [
      "current loss: 0.005598275197876824, current accuracy: 0.3506944444444444\n"
     ]
    },
    {
     "name": "stderr",
     "output_type": "stream",
     "text": [
      "Training Epoch 321/400: 100%|██████████| 36/36 [00:03<00:00, 10.63batch/s, accuracy=91.4, loss=0.00259]\n"
     ]
    },
    {
     "name": "stdout",
     "output_type": "stream",
     "text": [
      "current loss: 0.0056817854444185896, current accuracy: 0.3541666666666667\n"
     ]
    },
    {
     "name": "stderr",
     "output_type": "stream",
     "text": [
      "Training Epoch 322/400: 100%|██████████| 36/36 [00:03<00:00, 10.73batch/s, accuracy=93, loss=0.00205]  \n"
     ]
    },
    {
     "name": "stdout",
     "output_type": "stream",
     "text": [
      "current loss: 0.005516732318533791, current accuracy: 0.3506944444444444\n"
     ]
    },
    {
     "name": "stderr",
     "output_type": "stream",
     "text": [
      "Training Epoch 323/400: 100%|██████████| 36/36 [00:03<00:00, 10.25batch/s, accuracy=90.6, loss=0.00221]\n"
     ]
    },
    {
     "name": "stdout",
     "output_type": "stream",
     "text": [
      "current loss: 0.005548401425282161, current accuracy: 0.34375\n"
     ]
    },
    {
     "name": "stderr",
     "output_type": "stream",
     "text": [
      "Training Epoch 324/400: 100%|██████████| 36/36 [00:03<00:00, 10.11batch/s, accuracy=93.8, loss=0.00188]\n"
     ]
    },
    {
     "name": "stdout",
     "output_type": "stream",
     "text": [
      "current loss: 0.005745833532677757, current accuracy: 0.3472222222222222\n"
     ]
    },
    {
     "name": "stderr",
     "output_type": "stream",
     "text": [
      "Training Epoch 325/400: 100%|██████████| 36/36 [00:03<00:00, 10.12batch/s, accuracy=96.1, loss=0.00166]\n"
     ]
    },
    {
     "name": "stdout",
     "output_type": "stream",
     "text": [
      "current loss: 0.005487425873676936, current accuracy: 0.3506944444444444\n"
     ]
    },
    {
     "name": "stderr",
     "output_type": "stream",
     "text": [
      "Training Epoch 326/400: 100%|██████████| 36/36 [00:03<00:00, 10.16batch/s, accuracy=96.9, loss=0.00195]\n"
     ]
    },
    {
     "name": "stdout",
     "output_type": "stream",
     "text": [
      "current loss: 0.005475834425952699, current accuracy: 0.34375\n"
     ]
    },
    {
     "name": "stderr",
     "output_type": "stream",
     "text": [
      "Training Epoch 327/400: 100%|██████████| 36/36 [00:03<00:00, 10.18batch/s, accuracy=95.3, loss=0.00224]\n"
     ]
    },
    {
     "name": "stdout",
     "output_type": "stream",
     "text": [
      "current loss: 0.005588932169808282, current accuracy: 0.3506944444444444\n"
     ]
    },
    {
     "name": "stderr",
     "output_type": "stream",
     "text": [
      "Training Epoch 328/400: 100%|██████████| 36/36 [00:03<00:00, 10.39batch/s, accuracy=96.1, loss=0.00196]\n"
     ]
    },
    {
     "name": "stdout",
     "output_type": "stream",
     "text": [
      "current loss: 0.005398227936691708, current accuracy: 0.3506944444444444\n"
     ]
    },
    {
     "name": "stderr",
     "output_type": "stream",
     "text": [
      "Training Epoch 329/400: 100%|██████████| 36/36 [00:03<00:00, 10.57batch/s, accuracy=94.5, loss=0.0022] \n"
     ]
    },
    {
     "name": "stdout",
     "output_type": "stream",
     "text": [
      "current loss: 0.005414421773619122, current accuracy: 0.3611111111111111\n"
     ]
    },
    {
     "name": "stderr",
     "output_type": "stream",
     "text": [
      "Training Epoch 330/400: 100%|██████████| 36/36 [00:03<00:00, 10.71batch/s, accuracy=93, loss=0.00221]  \n"
     ]
    },
    {
     "name": "stdout",
     "output_type": "stream",
     "text": [
      "current loss: 0.005412600934505463, current accuracy: 0.3472222222222222\n"
     ]
    },
    {
     "name": "stderr",
     "output_type": "stream",
     "text": [
      "Training Epoch 331/400: 100%|██████████| 36/36 [00:03<00:00, 10.73batch/s, accuracy=93.8, loss=0.00234]\n"
     ]
    },
    {
     "name": "stdout",
     "output_type": "stream",
     "text": [
      "current loss: 0.005432084616687562, current accuracy: 0.3611111111111111\n"
     ]
    },
    {
     "name": "stderr",
     "output_type": "stream",
     "text": [
      "Training Epoch 332/400: 100%|██████████| 36/36 [00:03<00:00, 10.33batch/s, accuracy=93, loss=0.00226]  \n"
     ]
    },
    {
     "name": "stdout",
     "output_type": "stream",
     "text": [
      "current loss: 0.005354586160845227, current accuracy: 0.3680555555555556\n"
     ]
    },
    {
     "name": "stderr",
     "output_type": "stream",
     "text": [
      "Training Epoch 333/400: 100%|██████████| 36/36 [00:03<00:00, 10.39batch/s, accuracy=94.5, loss=0.00214]\n"
     ]
    },
    {
     "name": "stdout",
     "output_type": "stream",
     "text": [
      "current loss: 0.005522790468401379, current accuracy: 0.3541666666666667\n"
     ]
    },
    {
     "name": "stderr",
     "output_type": "stream",
     "text": [
      "Training Epoch 334/400: 100%|██████████| 36/36 [00:03<00:00, 10.61batch/s, accuracy=94.5, loss=0.00233]\n"
     ]
    },
    {
     "name": "stdout",
     "output_type": "stream",
     "text": [
      "current loss: 0.005369725326697032, current accuracy: 0.3645833333333333\n"
     ]
    },
    {
     "name": "stderr",
     "output_type": "stream",
     "text": [
      "Training Epoch 335/400: 100%|██████████| 36/36 [00:03<00:00, 10.25batch/s, accuracy=98.4, loss=0.00211]\n"
     ]
    },
    {
     "name": "stdout",
     "output_type": "stream",
     "text": [
      "current loss: 0.005394250154495239, current accuracy: 0.3611111111111111\n"
     ]
    },
    {
     "name": "stderr",
     "output_type": "stream",
     "text": [
      "Training Epoch 336/400: 100%|██████████| 36/36 [00:03<00:00, 10.13batch/s, accuracy=93, loss=0.00238]  \n"
     ]
    },
    {
     "name": "stdout",
     "output_type": "stream",
     "text": [
      "current loss: 0.005406609425942103, current accuracy: 0.3645833333333333\n"
     ]
    },
    {
     "name": "stderr",
     "output_type": "stream",
     "text": [
      "Training Epoch 337/400: 100%|██████████| 36/36 [00:03<00:00, 10.06batch/s, accuracy=93.8, loss=0.00231]\n"
     ]
    },
    {
     "name": "stdout",
     "output_type": "stream",
     "text": [
      "current loss: 0.005287548734082116, current accuracy: 0.3680555555555556\n"
     ]
    },
    {
     "name": "stderr",
     "output_type": "stream",
     "text": [
      "Training Epoch 338/400: 100%|██████████| 36/36 [00:03<00:00, 10.07batch/s, accuracy=93.8, loss=0.00239]\n"
     ]
    },
    {
     "name": "stdout",
     "output_type": "stream",
     "text": [
      "current loss: 0.005358248535129759, current accuracy: 0.3680555555555556\n"
     ]
    },
    {
     "name": "stderr",
     "output_type": "stream",
     "text": [
      "Training Epoch 339/400: 100%|██████████| 36/36 [00:03<00:00, 10.17batch/s, accuracy=96.9, loss=0.00213]\n"
     ]
    },
    {
     "name": "stdout",
     "output_type": "stream",
     "text": [
      "current loss: 0.005378417670726776, current accuracy: 0.3715277777777778\n"
     ]
    },
    {
     "name": "stderr",
     "output_type": "stream",
     "text": [
      "Training Epoch 340/400: 100%|██████████| 36/36 [00:03<00:00, 10.23batch/s, accuracy=96.1, loss=0.00206]\n"
     ]
    },
    {
     "name": "stdout",
     "output_type": "stream",
     "text": [
      "current loss: 0.005333712945381801, current accuracy: 0.3819444444444444\n"
     ]
    },
    {
     "name": "stderr",
     "output_type": "stream",
     "text": [
      "Training Epoch 341/400: 100%|██████████| 36/36 [00:03<00:00, 10.08batch/s, accuracy=93, loss=0.00229]  \n"
     ]
    },
    {
     "name": "stdout",
     "output_type": "stream",
     "text": [
      "current loss: 0.00535592602358924, current accuracy: 0.3611111111111111\n"
     ]
    },
    {
     "name": "stderr",
     "output_type": "stream",
     "text": [
      "Training Epoch 342/400: 100%|██████████| 36/36 [00:03<00:00, 10.12batch/s, accuracy=94.5, loss=0.00225]\n"
     ]
    },
    {
     "name": "stdout",
     "output_type": "stream",
     "text": [
      "current loss: 0.005363328175412284, current accuracy: 0.3715277777777778\n"
     ]
    },
    {
     "name": "stderr",
     "output_type": "stream",
     "text": [
      "Training Epoch 343/400: 100%|██████████| 36/36 [00:03<00:00, 10.22batch/s, accuracy=93, loss=0.00201]  \n"
     ]
    },
    {
     "name": "stdout",
     "output_type": "stream",
     "text": [
      "current loss: 0.005393095314502716, current accuracy: 0.3819444444444444\n"
     ]
    },
    {
     "name": "stderr",
     "output_type": "stream",
     "text": [
      "Training Epoch 344/400: 100%|██████████| 36/36 [00:03<00:00, 10.21batch/s, accuracy=89.8, loss=0.00229]\n"
     ]
    },
    {
     "name": "stdout",
     "output_type": "stream",
     "text": [
      "current loss: 0.005400056640307109, current accuracy: 0.3645833333333333\n"
     ]
    },
    {
     "name": "stderr",
     "output_type": "stream",
     "text": [
      "Training Epoch 345/400: 100%|██████████| 36/36 [00:03<00:00, 10.14batch/s, accuracy=95.3, loss=0.00204]\n"
     ]
    },
    {
     "name": "stdout",
     "output_type": "stream",
     "text": [
      "current loss: 0.005354187554783291, current accuracy: 0.3854166666666667\n"
     ]
    },
    {
     "name": "stderr",
     "output_type": "stream",
     "text": [
      "Training Epoch 346/400: 100%|██████████| 36/36 [00:03<00:00, 10.10batch/s, accuracy=97.7, loss=0.0019] \n"
     ]
    },
    {
     "name": "stdout",
     "output_type": "stream",
     "text": [
      "current loss: 0.00541178219848209, current accuracy: 0.3680555555555556\n"
     ]
    },
    {
     "name": "stderr",
     "output_type": "stream",
     "text": [
      "Training Epoch 347/400: 100%|██████████| 36/36 [00:03<00:00, 10.04batch/s, accuracy=93, loss=0.00224]  \n"
     ]
    },
    {
     "name": "stdout",
     "output_type": "stream",
     "text": [
      "current loss: 0.005503322929143906, current accuracy: 0.3506944444444444\n"
     ]
    },
    {
     "name": "stderr",
     "output_type": "stream",
     "text": [
      "Training Epoch 348/400: 100%|██████████| 36/36 [00:03<00:00, 10.20batch/s, accuracy=91.4, loss=0.00243]\n"
     ]
    },
    {
     "name": "stdout",
     "output_type": "stream",
     "text": [
      "current loss: 0.00547440391447809, current accuracy: 0.3576388888888889\n"
     ]
    },
    {
     "name": "stderr",
     "output_type": "stream",
     "text": [
      "Training Epoch 349/400: 100%|██████████| 36/36 [00:03<00:00, 10.14batch/s, accuracy=95.3, loss=0.00223]\n"
     ]
    },
    {
     "name": "stdout",
     "output_type": "stream",
     "text": [
      "current loss: 0.0054748861326111686, current accuracy: 0.3576388888888889\n"
     ]
    },
    {
     "name": "stderr",
     "output_type": "stream",
     "text": [
      "Training Epoch 350/400: 100%|██████████| 36/36 [00:03<00:00, 10.30batch/s, accuracy=96.9, loss=0.00203]\n"
     ]
    },
    {
     "name": "stdout",
     "output_type": "stream",
     "text": [
      "current loss: 0.005544404188791911, current accuracy: 0.3541666666666667\n"
     ]
    },
    {
     "name": "stderr",
     "output_type": "stream",
     "text": [
      "Training Epoch 351/400: 100%|██████████| 36/36 [00:03<00:00, 10.45batch/s, accuracy=93, loss=0.00209]  \n"
     ]
    },
    {
     "name": "stdout",
     "output_type": "stream",
     "text": [
      "current loss: 0.005555704236030579, current accuracy: 0.34375\n"
     ]
    },
    {
     "name": "stderr",
     "output_type": "stream",
     "text": [
      "Training Epoch 352/400: 100%|██████████| 36/36 [00:03<00:00, 10.57batch/s, accuracy=90.6, loss=0.00244]\n"
     ]
    },
    {
     "name": "stdout",
     "output_type": "stream",
     "text": [
      "current loss: 0.005612853086656994, current accuracy: 0.34375\n"
     ]
    },
    {
     "name": "stderr",
     "output_type": "stream",
     "text": [
      "Training Epoch 353/400: 100%|██████████| 36/36 [00:03<00:00, 10.43batch/s, accuracy=89.8, loss=0.00252]\n"
     ]
    },
    {
     "name": "stdout",
     "output_type": "stream",
     "text": [
      "current loss: 0.005643780032793681, current accuracy: 0.3506944444444444\n"
     ]
    },
    {
     "name": "stderr",
     "output_type": "stream",
     "text": [
      "Training Epoch 354/400: 100%|██████████| 36/36 [00:03<00:00, 10.28batch/s, accuracy=93, loss=0.00221]  \n"
     ]
    },
    {
     "name": "stdout",
     "output_type": "stream",
     "text": [
      "current loss: 0.005686946213245392, current accuracy: 0.3472222222222222\n"
     ]
    },
    {
     "name": "stderr",
     "output_type": "stream",
     "text": [
      "Training Epoch 355/400: 100%|██████████| 36/36 [00:03<00:00, 10.16batch/s, accuracy=96.1, loss=0.00172]\n"
     ]
    },
    {
     "name": "stdout",
     "output_type": "stream",
     "text": [
      "current loss: 0.005692784984906514, current accuracy: 0.3368055555555556\n"
     ]
    },
    {
     "name": "stderr",
     "output_type": "stream",
     "text": [
      "Training Epoch 356/400: 100%|██████████| 36/36 [00:03<00:00, 10.16batch/s, accuracy=98.4, loss=0.0018] \n"
     ]
    },
    {
     "name": "stdout",
     "output_type": "stream",
     "text": [
      "current loss: 0.005696836445066664, current accuracy: 0.3333333333333333\n"
     ]
    },
    {
     "name": "stderr",
     "output_type": "stream",
     "text": [
      "Training Epoch 357/400: 100%|██████████| 36/36 [00:03<00:00, 10.15batch/s, accuracy=92.2, loss=0.00211]\n"
     ]
    },
    {
     "name": "stdout",
     "output_type": "stream",
     "text": [
      "current loss: 0.0057157422933313586, current accuracy: 0.3368055555555556\n"
     ]
    },
    {
     "name": "stderr",
     "output_type": "stream",
     "text": [
      "Training Epoch 358/400: 100%|██████████| 36/36 [00:03<00:00, 10.32batch/s, accuracy=93, loss=0.00207]  \n"
     ]
    },
    {
     "name": "stdout",
     "output_type": "stream",
     "text": [
      "current loss: 0.005823253757423825, current accuracy: 0.3333333333333333\n"
     ]
    },
    {
     "name": "stderr",
     "output_type": "stream",
     "text": [
      "Training Epoch 359/400: 100%|██████████| 36/36 [00:03<00:00, 10.67batch/s, accuracy=93, loss=0.00235]  \n"
     ]
    },
    {
     "name": "stdout",
     "output_type": "stream",
     "text": [
      "current loss: 0.005795148511727651, current accuracy: 0.3333333333333333\n"
     ]
    },
    {
     "name": "stderr",
     "output_type": "stream",
     "text": [
      "Training Epoch 360/400: 100%|██████████| 36/36 [00:03<00:00, 10.40batch/s, accuracy=93, loss=0.00201]  \n"
     ]
    },
    {
     "name": "stdout",
     "output_type": "stream",
     "text": [
      "current loss: 0.005782672100596958, current accuracy: 0.3472222222222222\n"
     ]
    },
    {
     "name": "stderr",
     "output_type": "stream",
     "text": [
      "Training Epoch 361/400: 100%|██████████| 36/36 [00:03<00:00, 10.33batch/s, accuracy=96.1, loss=0.00201]\n"
     ]
    },
    {
     "name": "stdout",
     "output_type": "stream",
     "text": [
      "current loss: 0.005862317565414641, current accuracy: 0.3472222222222222\n"
     ]
    },
    {
     "name": "stderr",
     "output_type": "stream",
     "text": [
      "Training Epoch 362/400: 100%|██████████| 36/36 [00:03<00:00, 10.39batch/s, accuracy=94.5, loss=0.00214]\n"
     ]
    },
    {
     "name": "stdout",
     "output_type": "stream",
     "text": [
      "current loss: 0.005988953842057122, current accuracy: 0.3333333333333333\n"
     ]
    },
    {
     "name": "stderr",
     "output_type": "stream",
     "text": [
      "Training Epoch 363/400: 100%|██████████| 36/36 [00:03<00:00, 10.21batch/s, accuracy=89.8, loss=0.00226]\n"
     ]
    },
    {
     "name": "stdout",
     "output_type": "stream",
     "text": [
      "current loss: 0.005905968447526296, current accuracy: 0.34375\n"
     ]
    },
    {
     "name": "stderr",
     "output_type": "stream",
     "text": [
      "Training Epoch 364/400: 100%|██████████| 36/36 [00:03<00:00, 10.36batch/s, accuracy=93.8, loss=0.00224]\n"
     ]
    },
    {
     "name": "stdout",
     "output_type": "stream",
     "text": [
      "current loss: 0.005963402075899972, current accuracy: 0.34375\n"
     ]
    },
    {
     "name": "stderr",
     "output_type": "stream",
     "text": [
      "Training Epoch 365/400: 100%|██████████| 36/36 [00:03<00:00, 10.29batch/s, accuracy=96.1, loss=0.00182]\n"
     ]
    },
    {
     "name": "stdout",
     "output_type": "stream",
     "text": [
      "current loss: 0.006015020112196605, current accuracy: 0.3298611111111111\n"
     ]
    },
    {
     "name": "stderr",
     "output_type": "stream",
     "text": [
      "Training Epoch 366/400: 100%|██████████| 36/36 [00:03<00:00, 10.56batch/s, accuracy=97.7, loss=0.00179]\n"
     ]
    },
    {
     "name": "stdout",
     "output_type": "stream",
     "text": [
      "current loss: 0.0062364521953794695, current accuracy: 0.3194444444444444\n"
     ]
    },
    {
     "name": "stderr",
     "output_type": "stream",
     "text": [
      "Training Epoch 367/400: 100%|██████████| 36/36 [00:03<00:00, 10.18batch/s, accuracy=92.2, loss=0.00232]\n"
     ]
    },
    {
     "name": "stdout",
     "output_type": "stream",
     "text": [
      "current loss: 0.006293075366152657, current accuracy: 0.3194444444444444\n"
     ]
    },
    {
     "name": "stderr",
     "output_type": "stream",
     "text": [
      "Training Epoch 368/400: 100%|██████████| 36/36 [00:03<00:00, 10.09batch/s, accuracy=94.5, loss=0.00201]\n"
     ]
    },
    {
     "name": "stdout",
     "output_type": "stream",
     "text": [
      "current loss: 0.006422000212801827, current accuracy: 0.3055555555555556\n"
     ]
    },
    {
     "name": "stderr",
     "output_type": "stream",
     "text": [
      "Training Epoch 369/400: 100%|██████████| 36/36 [00:03<00:00, 10.32batch/s, accuracy=92.2, loss=0.0021] \n"
     ]
    },
    {
     "name": "stdout",
     "output_type": "stream",
     "text": [
      "current loss: 0.006621631483236949, current accuracy: 0.2986111111111111\n"
     ]
    },
    {
     "name": "stderr",
     "output_type": "stream",
     "text": [
      "Training Epoch 370/400: 100%|██████████| 36/36 [00:03<00:00, 10.24batch/s, accuracy=93.8, loss=0.0018] \n"
     ]
    },
    {
     "name": "stdout",
     "output_type": "stream",
     "text": [
      "current loss: 0.006614120056231816, current accuracy: 0.2847222222222222\n"
     ]
    },
    {
     "name": "stderr",
     "output_type": "stream",
     "text": [
      "Training Epoch 371/400: 100%|██████████| 36/36 [00:03<00:00, 10.28batch/s, accuracy=97.7, loss=0.00199]\n"
     ]
    },
    {
     "name": "stdout",
     "output_type": "stream",
     "text": [
      "current loss: 0.006509494036436081, current accuracy: 0.2951388888888889\n"
     ]
    },
    {
     "name": "stderr",
     "output_type": "stream",
     "text": [
      "Training Epoch 372/400: 100%|██████████| 36/36 [00:03<00:00, 10.28batch/s, accuracy=98.4, loss=0.00185]\n"
     ]
    },
    {
     "name": "stdout",
     "output_type": "stream",
     "text": [
      "current loss: 0.0066310204565525055, current accuracy: 0.2881944444444444\n"
     ]
    },
    {
     "name": "stderr",
     "output_type": "stream",
     "text": [
      "Training Epoch 373/400: 100%|██████████| 36/36 [00:03<00:00, 10.34batch/s, accuracy=90.6, loss=0.00205]\n"
     ]
    },
    {
     "name": "stdout",
     "output_type": "stream",
     "text": [
      "current loss: 0.006686561637454563, current accuracy: 0.2847222222222222\n"
     ]
    },
    {
     "name": "stderr",
     "output_type": "stream",
     "text": [
      "Training Epoch 374/400: 100%|██████████| 36/36 [00:03<00:00, 10.33batch/s, accuracy=96.1, loss=0.00195]\n"
     ]
    },
    {
     "name": "stdout",
     "output_type": "stream",
     "text": [
      "current loss: 0.006566169775194592, current accuracy: 0.2847222222222222\n"
     ]
    },
    {
     "name": "stderr",
     "output_type": "stream",
     "text": [
      "Training Epoch 375/400: 100%|██████████| 36/36 [00:03<00:00, 10.44batch/s, accuracy=96.9, loss=0.00195]\n"
     ]
    },
    {
     "name": "stdout",
     "output_type": "stream",
     "text": [
      "current loss: 0.006452730960316128, current accuracy: 0.3020833333333333\n"
     ]
    },
    {
     "name": "stderr",
     "output_type": "stream",
     "text": [
      "Training Epoch 376/400: 100%|██████████| 36/36 [00:03<00:00, 10.40batch/s, accuracy=94.5, loss=0.00183]\n"
     ]
    },
    {
     "name": "stdout",
     "output_type": "stream",
     "text": [
      "current loss: 0.006413979248868095, current accuracy: 0.3090277777777778\n"
     ]
    },
    {
     "name": "stderr",
     "output_type": "stream",
     "text": [
      "Training Epoch 377/400: 100%|██████████| 36/36 [00:03<00:00, 10.51batch/s, accuracy=96.1, loss=0.00161]\n"
     ]
    },
    {
     "name": "stdout",
     "output_type": "stream",
     "text": [
      "current loss: 0.006418733547131221, current accuracy: 0.3090277777777778\n"
     ]
    },
    {
     "name": "stderr",
     "output_type": "stream",
     "text": [
      "Training Epoch 378/400: 100%|██████████| 36/36 [00:03<00:00, 10.71batch/s, accuracy=95.3, loss=0.00153]\n"
     ]
    },
    {
     "name": "stdout",
     "output_type": "stream",
     "text": [
      "current loss: 0.006254865063561333, current accuracy: 0.3263888888888889\n"
     ]
    },
    {
     "name": "stderr",
     "output_type": "stream",
     "text": [
      "Training Epoch 379/400: 100%|██████████| 36/36 [00:03<00:00, 10.68batch/s, accuracy=93, loss=0.00189]  \n"
     ]
    },
    {
     "name": "stdout",
     "output_type": "stream",
     "text": [
      "current loss: 0.0063005901045269435, current accuracy: 0.3263888888888889\n"
     ]
    },
    {
     "name": "stderr",
     "output_type": "stream",
     "text": [
      "Training Epoch 380/400: 100%|██████████| 36/36 [00:03<00:00, 10.60batch/s, accuracy=96.1, loss=0.00165]\n"
     ]
    },
    {
     "name": "stdout",
     "output_type": "stream",
     "text": [
      "current loss: 0.006044747100936042, current accuracy: 0.3368055555555556\n"
     ]
    },
    {
     "name": "stderr",
     "output_type": "stream",
     "text": [
      "Training Epoch 381/400: 100%|██████████| 36/36 [00:03<00:00, 10.39batch/s, accuracy=96.1, loss=0.00156]\n"
     ]
    },
    {
     "name": "stdout",
     "output_type": "stream",
     "text": [
      "current loss: 0.006044333179791768, current accuracy: 0.3263888888888889\n"
     ]
    },
    {
     "name": "stderr",
     "output_type": "stream",
     "text": [
      "Training Epoch 382/400: 100%|██████████| 36/36 [00:03<00:00, 10.27batch/s, accuracy=93.8, loss=0.00188]\n"
     ]
    },
    {
     "name": "stdout",
     "output_type": "stream",
     "text": [
      "current loss: 0.005941649691926109, current accuracy: 0.3402777777777778\n"
     ]
    },
    {
     "name": "stderr",
     "output_type": "stream",
     "text": [
      "Training Epoch 383/400: 100%|██████████| 36/36 [00:03<00:00, 10.10batch/s, accuracy=96.1, loss=0.00176]\n"
     ]
    },
    {
     "name": "stdout",
     "output_type": "stream",
     "text": [
      "current loss: 0.005888339132070541, current accuracy: 0.3229166666666667\n"
     ]
    },
    {
     "name": "stderr",
     "output_type": "stream",
     "text": [
      "Training Epoch 384/400: 100%|██████████| 36/36 [00:03<00:00, 10.13batch/s, accuracy=93, loss=0.00212]  \n"
     ]
    },
    {
     "name": "stdout",
     "output_type": "stream",
     "text": [
      "current loss: 0.005870029330253601, current accuracy: 0.3159722222222222\n"
     ]
    },
    {
     "name": "stderr",
     "output_type": "stream",
     "text": [
      "Training Epoch 385/400: 100%|██████████| 36/36 [00:03<00:00, 10.02batch/s, accuracy=96.1, loss=0.00163]\n"
     ]
    },
    {
     "name": "stdout",
     "output_type": "stream",
     "text": [
      "current loss: 0.005866791639063094, current accuracy: 0.3125\n"
     ]
    },
    {
     "name": "stderr",
     "output_type": "stream",
     "text": [
      "Training Epoch 386/400: 100%|██████████| 36/36 [00:03<00:00, 10.12batch/s, accuracy=93, loss=0.00204]  \n"
     ]
    },
    {
     "name": "stdout",
     "output_type": "stream",
     "text": [
      "current loss: 0.005889244377613068, current accuracy: 0.3263888888888889\n"
     ]
    },
    {
     "name": "stderr",
     "output_type": "stream",
     "text": [
      "Training Epoch 387/400: 100%|██████████| 36/36 [00:03<00:00, 10.23batch/s, accuracy=95.3, loss=0.0021] \n"
     ]
    },
    {
     "name": "stdout",
     "output_type": "stream",
     "text": [
      "current loss: 0.005663134985499912, current accuracy: 0.3333333333333333\n"
     ]
    },
    {
     "name": "stderr",
     "output_type": "stream",
     "text": [
      "Training Epoch 388/400: 100%|██████████| 36/36 [00:03<00:00, 10.40batch/s, accuracy=96.9, loss=0.00158]\n"
     ]
    },
    {
     "name": "stdout",
     "output_type": "stream",
     "text": [
      "current loss: 0.005679884304602941, current accuracy: 0.3333333333333333\n"
     ]
    },
    {
     "name": "stderr",
     "output_type": "stream",
     "text": [
      "Training Epoch 389/400: 100%|██████████| 36/36 [00:03<00:00, 10.52batch/s, accuracy=96.9, loss=0.00201]\n"
     ]
    },
    {
     "name": "stdout",
     "output_type": "stream",
     "text": [
      "current loss: 0.005642761372857624, current accuracy: 0.3472222222222222\n"
     ]
    },
    {
     "name": "stderr",
     "output_type": "stream",
     "text": [
      "Training Epoch 390/400: 100%|██████████| 36/36 [00:03<00:00, 10.70batch/s, accuracy=96.1, loss=0.00175]\n"
     ]
    },
    {
     "name": "stdout",
     "output_type": "stream",
     "text": [
      "current loss: 0.005595864521132575, current accuracy: 0.3541666666666667\n"
     ]
    },
    {
     "name": "stderr",
     "output_type": "stream",
     "text": [
      "Training Epoch 391/400: 100%|██████████| 36/36 [00:03<00:00, 10.65batch/s, accuracy=97.7, loss=0.00165]\n"
     ]
    },
    {
     "name": "stdout",
     "output_type": "stream",
     "text": [
      "current loss: 0.005612377491262224, current accuracy: 0.3541666666666667\n"
     ]
    },
    {
     "name": "stderr",
     "output_type": "stream",
     "text": [
      "Training Epoch 392/400: 100%|██████████| 36/36 [00:03<00:00, 10.57batch/s, accuracy=96.1, loss=0.00171]\n"
     ]
    },
    {
     "name": "stdout",
     "output_type": "stream",
     "text": [
      "current loss: 0.00555385442243682, current accuracy: 0.3506944444444444\n"
     ]
    },
    {
     "name": "stderr",
     "output_type": "stream",
     "text": [
      "Training Epoch 393/400: 100%|██████████| 36/36 [00:03<00:00, 10.03batch/s, accuracy=96.1, loss=0.00202]\n"
     ]
    },
    {
     "name": "stdout",
     "output_type": "stream",
     "text": [
      "current loss: 0.005554904954300987, current accuracy: 0.3576388888888889\n"
     ]
    },
    {
     "name": "stderr",
     "output_type": "stream",
     "text": [
      "Training Epoch 394/400: 100%|██████████| 36/36 [00:03<00:00, 10.22batch/s, accuracy=95.3, loss=0.00182]\n"
     ]
    },
    {
     "name": "stdout",
     "output_type": "stream",
     "text": [
      "current loss: 0.005566433899932438, current accuracy: 0.3541666666666667\n"
     ]
    },
    {
     "name": "stderr",
     "output_type": "stream",
     "text": [
      "Training Epoch 395/400: 100%|██████████| 36/36 [00:03<00:00, 10.25batch/s, accuracy=96.1, loss=0.00167]\n"
     ]
    },
    {
     "name": "stdout",
     "output_type": "stream",
     "text": [
      "current loss: 0.0056158747110101916, current accuracy: 0.3576388888888889\n"
     ]
    },
    {
     "name": "stderr",
     "output_type": "stream",
     "text": [
      "Training Epoch 396/400: 100%|██████████| 36/36 [00:03<00:00, 10.60batch/s, accuracy=98.4, loss=0.00154]\n"
     ]
    },
    {
     "name": "stdout",
     "output_type": "stream",
     "text": [
      "current loss: 0.0055746253993776106, current accuracy: 0.3506944444444444\n"
     ]
    },
    {
     "name": "stderr",
     "output_type": "stream",
     "text": [
      "Training Epoch 397/400: 100%|██████████| 36/36 [00:03<00:00, 10.69batch/s, accuracy=96.1, loss=0.00196]\n"
     ]
    },
    {
     "name": "stdout",
     "output_type": "stream",
     "text": [
      "current loss: 0.00560525721973843, current accuracy: 0.3541666666666667\n"
     ]
    },
    {
     "name": "stderr",
     "output_type": "stream",
     "text": [
      "Training Epoch 398/400: 100%|██████████| 36/36 [00:03<00:00, 10.44batch/s, accuracy=97.7, loss=0.00172]\n"
     ]
    },
    {
     "name": "stdout",
     "output_type": "stream",
     "text": [
      "current loss: 0.005588191664881176, current accuracy: 0.34375\n"
     ]
    },
    {
     "name": "stderr",
     "output_type": "stream",
     "text": [
      "Training Epoch 399/400: 100%|██████████| 36/36 [00:03<00:00, 10.23batch/s, accuracy=94.5, loss=0.00186]\n"
     ]
    },
    {
     "name": "stdout",
     "output_type": "stream",
     "text": [
      "current loss: 0.005620185285806656, current accuracy: 0.3472222222222222\n"
     ]
    },
    {
     "name": "stderr",
     "output_type": "stream",
     "text": [
      "Training Epoch 400/400: 100%|██████████| 36/36 [00:03<00:00, 10.73batch/s, accuracy=93, loss=0.00197]  "
     ]
    },
    {
     "name": "stdout",
     "output_type": "stream",
     "text": [
      "current loss: 0.005595274269580841, current accuracy: 0.3506944444444444\n"
     ]
    },
    {
     "name": "stderr",
     "output_type": "stream",
     "text": [
      "\n"
     ]
    }
   ],
   "source": [
    "from dataset.matDataset import SI_dataset\n",
    "from torch.utils.data import DataLoader\n",
    "import torch.optim as optim\n",
    "import torch.nn as nn\n",
    "import torch\n",
    "\n",
    "from models import *\n",
    "from trial import *\n",
    "\n",
    "\n",
    "model = AttentionNet(\n",
    "    input_size = (22, 562),\n",
    "    activate_func = nn.ELU,\n",
    "    dropout = 0.9,\n",
    "    kernel_size = 25,\n",
    "    dense_size = 128,\n",
    "    filter_number = 32\n",
    ")\n",
    "\n",
    "\n",
    "optimizer = optim.Adam(\n",
    "    model.parameters(),\n",
    "    lr = 0.00001,\n",
    "    weight_decay = 0.1\n",
    ")\n",
    " \n",
    "train_dataset = SI_dataset()\n",
    "test_dataset = SI_dataset(train = False)\n",
    "\n",
    "train_loader = DataLoader(train_dataset, batch_size = 128)\n",
    "\n",
    "\n",
    "device = torch.device('cuda:0')\n",
    "\n",
    "model, loss_log, accuracy_log = train(model, device, nn.CrossEntropyLoss(), optimizer, 400, train_loader, test_dataset)\n",
    "\n"
   ]
  },
  {
   "cell_type": "code",
   "execution_count": 2,
   "metadata": {},
   "outputs": [
    {
     "name": "stdout",
     "output_type": "stream",
     "text": [
      "Sequential(\n",
      "  (0): Linear(in_features=34980, out_features=128, bias=True)\n",
      "  (1): ELU(alpha=1.0)\n",
      ")\n"
     ]
    },
    {
     "data": {
      "image/png": "[encoded data removed]",
      "text/plain": [
       "<Figure size 432x288 with 2 Axes>"
      ]
     },
     "metadata": {
      "needs_background": "light"
     },
     "output_type": "display_data"
    },
    {
     "data": {
      "image/png": "[encoded data removed]",
      "text/plain": [
       "<Figure size 432x288 with 2 Axes>"
      ]
     },
     "metadata": {
      "needs_background": "light"
     },
     "output_type": "display_data"
    },
    {
     "name": "stdout",
     "output_type": "stream",
     "text": [
      "tensor([0, 1, 0, 0, 0, 0, 1, 3, 1, 3, 0, 2, 2, 2, 1, 2, 3, 2, 3, 0, 0, 3, 2, 3,\n",
      "        1, 1, 1, 1, 2, 2, 1, 3, 0, 1, 0, 1, 0, 2, 0, 0, 3, 2, 0, 0, 3, 0, 0, 0,\n",
      "        0, 1, 2, 0, 2, 1, 0, 3, 1, 3, 0, 0, 1, 0, 0, 0, 0, 0, 0, 2, 0, 0, 2, 2,\n",
      "        2, 2, 0, 0, 2, 1, 1, 0, 1, 2, 2, 2, 0, 3, 2, 2, 1, 1, 0, 1, 3, 0, 3, 0,\n",
      "        0, 1, 3, 1, 0, 3, 1, 3, 0, 2, 0, 3, 2, 1, 1, 0, 3, 2, 2, 2, 0, 3, 0, 2,\n",
      "        0, 0, 0, 0, 1, 2, 0, 0, 2, 2, 3, 1, 3, 3, 2, 0, 3, 1, 0, 1, 1, 0, 0, 1,\n",
      "        3, 2, 1, 1, 1, 3, 1, 3, 0, 3, 0, 0, 2, 0, 0, 2, 0, 0, 0, 2, 0, 0, 0, 1,\n",
      "        2, 0, 0, 0, 0, 1, 0, 1, 2, 0, 1, 0, 2, 3, 0, 0, 2, 1, 2, 1, 2, 0, 0, 0,\n",
      "        0, 1, 0, 1, 0, 1, 0, 2, 0, 1, 1, 1, 0, 2, 0, 2, 2, 0, 1, 3, 3, 0, 2, 3,\n",
      "        1, 1, 0, 1, 1, 2, 2, 0, 1, 3, 0, 0, 0, 3, 0, 1, 0, 3, 3, 0, 0, 0, 0, 0,\n",
      "        0, 0, 2, 3, 2, 1, 0, 0, 1, 1, 3, 0, 1, 2, 2, 2, 2, 0, 0, 1, 1, 3, 2, 2,\n",
      "        3, 0, 1, 1, 0, 0, 3, 2, 3, 0, 0, 1, 1, 1, 2, 3, 0, 2, 3, 0, 0, 3, 0, 2],\n",
      "       device='cuda:0')\n"
     ]
    }
   ],
   "source": [
    "from importlib import reload\n",
    "import utils\n",
    "print(model.FC1)\n",
    "reload(utils)\n",
    "utils.plot_curve(loss_log, 'loss')\n",
    "utils.plot_curve(accuracy_log, 'accuracy')\n",
    "print(torch.argmax(model(test_dataset.data.to(device)), dim = 1))"
   ]
  },
  {
   "cell_type": "markdown",
   "metadata": {},
   "source": [
    "# SI origin dataset "
   ]
  },
  {
   "cell_type": "code",
   "execution_count": 1,
   "metadata": {},
   "outputs": [
    {
     "name": "stdout",
     "output_type": "stream",
     "text": [
      "(2055, 22, 750) (2055,)\n",
      "(273, 22, 750) (273,)\n"
     ]
    },
    {
     "name": "stderr",
     "output_type": "stream",
     "text": [
      "Training Epoch 01/400:   0%|          | 0/17 [00:00<?, ?batch/s]"
     ]
    }
   ],
   "source": [
    "from dataset.npzDataset import SI_dataset\n",
    "from torch.utils.data import DataLoader\n",
    "import torch.optim as optim\n",
    "import torch.nn as nn\n",
    "import torch\n",
    "\n",
    "from models import *\n",
    "from trial import *\n",
    "\n",
    "\n",
    "model = AttentionNet(\n",
    "    input_size = (22, 750),\n",
    "    activate_func = nn.ELU,\n",
    "    dropout = 0.9,\n",
    "    kernel_size = 25,\n",
    "    dense_size = 128,\n",
    "    filter_number = 32\n",
    ")\n",
    "\n",
    "\n",
    "optimizer = optim.Adam(\n",
    "    model.parameters(),\n",
    "    lr = 0.00001,\n",
    "    weight_decay = 0.1\n",
    ")\n",
    "\n",
    "train_dataset = SI_dataset()\n",
    "test_dataset = SI_dataset(train = False)\n",
    "\n",
    "train_loader = DataLoader(train_dataset, batch_size = 128)\n",
    "\n",
    "\n",
    "device = torch.device('cuda:0')\n",
    "\n",
    "model, loss_log, accuracy_log = train(model, device, nn.CrossEntropyLoss(), optimizer, 400, train_loader, test_dataset)\n",
    "\n"
   ]
  },
  {
   "cell_type": "code",
   "execution_count": null,
   "metadata": {},
   "outputs": [],
   "source": [
    "from importlib import reload\n",
    "import utils\n",
    "print(model.FC1)\n",
    "reload(utils)\n",
    "utils.plot_curve(loss_log, 'loss')\n",
    "utils.plot_curve(accuracy_log, 'accuracy')\n",
    "print(torch.argmax(model(test_dataset.data.to(device)), dim = 1))"
   ]
  }
 ],
 "metadata": {
  "interpreter": {
   "hash": "ad2bdc8ecc057115af97d19610ffacc2b4e99fae6737bb82f5d7fb13d2f2c186"
  },
  "kernelspec": {
   "display_name": "Python 3.9.7 ('base')",
   "language": "python",
   "name": "python3"
  },
  "language_info": {
   "codemirror_mode": {
    "name": "ipython",
    "version": 3
   },
   "file_extension": ".py",
   "mimetype": "text/x-python",
   "name": "python",
   "nbconvert_exporter": "python",
   "pygments_lexer": "ipython3",
   "version": "3.9.7"
  },
  "orig_nbformat": 4
 },
 "nbformat": 4,
 "nbformat_minor": 2
}
